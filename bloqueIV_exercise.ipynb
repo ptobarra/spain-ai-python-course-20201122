{
  "nbformat": 4,
  "nbformat_minor": 0,
  "metadata": {
    "colab": {
      "name": "bloqueIV_exercise.ipynb",
      "provenance": [],
      "toc_visible": true,
      "include_colab_link": true
    },
    "kernelspec": {
      "name": "python3",
      "display_name": "Python 3"
    }
  },
  "cells": [
    {
      "cell_type": "markdown",
      "metadata": {
        "id": "view-in-github",
        "colab_type": "text"
      },
      "source": [
        "<a href=\"https://colab.research.google.com/github/ptobarra/spain-ai-python-course-20201122/blob/main/bloqueIV_exercise.ipynb\" target=\"_parent\"><img src=\"https://colab.research.google.com/assets/colab-badge.svg\" alt=\"Open In Colab\"/></a>"
      ]
    },
    {
      "cell_type": "markdown",
      "metadata": {
        "id": "ggHi61N0O2tP"
      },
      "source": [
        "# Ejercicio Bloque IV\n",
        "A continuación os presento el ejercicio del bloque IV, correspondiente a la introducción a la ventana de comandos, librería argparse y subprocess. \n",
        "El siguiente script realiza un modelo de clasificación de uno de los datasets más conocidos para empezar dentro del mundo del Data Science, el dataset iris. Sin entrar en detalle del modelo, este script genera un modelo de clasificación a partir de esos datos muestra la precisión del modelo. Al final del script, se encuentra comentado unas líneas de código de cómo se realizaría una predicción con este modelo. Sin embargo, está fuera del scope de este proyecto y se deja por si queréis ejecutarlas y ver cómo haríamos esta tarea en un proyecto de Data Science.\n",
        "\n",
        "Muchos de estos modelos, tienen una serie de parámetros por defecto que podemos cambiar para generar una predicción diferente. Lo que se suele hacer para no modificar cada vez que queremos hacer una prueba diferente el script, es añadir parámetros que permitan su ejecución desde la ventana de comandos. Esta va a ser nuestra tarea.\n",
        "\n",
        "Para ello, identifica primero en el script las siguientes variables: RANDOM_STATE, TEST_SIZE y N_NEIGHBORS.\n",
        "\n",
        "\n",
        "Lo que vamos a hacer, es utilizar argparse para que podamos modificar estas variables desde la ventana de comandos. \n",
        "- RANDOM_STATE: Con valor por defecto None, tiene que ser entero.\n",
        "- TEST_SIZE: Puede ser valores tipo float de 0 a 1 de 0.1 en 0.1. Por defecto 0.3\n",
        "- N_NEIGHBORS: Por defecto 3, Tiene que ser entero y mayor que 0.\n",
        "\n",
        "A posteriori, cuando tengamos creado este script, lo que haremos será generar otro desde el cual llamaremos a este usando la librería subprocess y hacemos un print del output generado por el modelo usando los parámetros por defecto definidos arriba."
      ]
    },
    {
      "cell_type": "code",
      "metadata": {
        "id": "XAAt0qOFQHK3"
      },
      "source": [
        "%%sh\n",
        "mkdir -p exercise"
      ],
      "execution_count": 87,
      "outputs": []
    },
    {
      "cell_type": "code",
      "metadata": {
        "id": "FKdjpOezQJcN",
        "colab": {
          "base_uri": "https://localhost:8080/"
        },
        "outputId": "01d60a07-7af4-430e-c81c-5ea7349d10fb"
      },
      "source": [
        "%%writefile exercise/model.py\n",
        "#!/usr/bin/env python\n",
        "\n",
        "from sklearn.datasets import load_iris \n",
        "from sklearn.model_selection import train_test_split \n",
        "from sklearn.neighbors import KNeighborsClassifier \n",
        "from sklearn import metrics \n",
        "\n",
        "#### CONVIERTE LAS SIGUIENTES VARIABLES A ARGUMENTOS DE ARGPARSE\n",
        "# RANDOM_STATE=1\n",
        "# TEST_SIZE=0.4\n",
        "# N_NEIGHBORS=3\n",
        "\n",
        "import argparse\n",
        "\n",
        "parser = argparse.ArgumentParser(description=\"Script that trains and test a machine learning model\")\n",
        "\n",
        "def round_float(value):\n",
        "    ivalue = round(float(value),1)\n",
        "    if ((ivalue<0) or (ivalue>1)):\n",
        "        raise argparse.ArgumentTypeError(\"%s is not in the range [0,1]\" % value)\n",
        "    return ivalue\n",
        "\n",
        "def check_positive(value):\n",
        "    ivalue = int(value)\n",
        "    if ivalue <= 0:\n",
        "        raise argparse.ArgumentTypeError(\"%s is an invalid positive int value\" % value)\n",
        "    return ivalue    \n",
        "\n",
        "parser.add_argument(\"--random_state\",\"-random\", type= int,\n",
        "                    help=\"random_state value int, default=None\",\n",
        "                    default=None)\n",
        "\n",
        "parser.add_argument(\"--test_size\",\"-test_size\", type= round_float,\n",
        "                    help=\"test_size value float in the range [0,1] rounded to 1 digit, default=0.3\",\n",
        "                    default=0.3)\n",
        "\n",
        "parser.add_argument(\"--n_neighbors\",\"-n_neighbors\", type= check_positive,\n",
        "                    help=\"number of neighbours value int > 0, default=3\",\n",
        "                    default=3)\n",
        "\n",
        "args= parser.parse_args()\n",
        "\n",
        "RANDOM_STATE=args.random_state\n",
        "TEST_SIZE=args.test_size\n",
        "N_NEIGHBORS=args.n_neighbors\n",
        "\n",
        "# load the iris dataset as an example \n",
        "iris = load_iris() \n",
        "  \n",
        "# store the feature matrix (X) and response vector (y) \n",
        "X = iris.data \n",
        "y = iris.target \n",
        "  \n",
        "# splitting X and y into training and testing sets \n",
        "X_train, X_test, y_train, y_test = train_test_split(X, y, test_size=TEST_SIZE, random_state=RANDOM_STATE) \n",
        "  \n",
        "# training the model on training set \n",
        "knn = KNeighborsClassifier(n_neighbors=N_NEIGHBORS) \n",
        "knn.fit(X_train, y_train) \n",
        "  \n",
        "# making predictions on the testing set \n",
        "y_pred = knn.predict(X_test) \n",
        "  \n",
        "# comparing actual response values (y_test) with predicted response values (y_pred) \n",
        "print(\"model accuracy:\", metrics.accuracy_score(y_test, y_pred)) \n",
        "\n",
        "\n",
        "# making prediction for out of sample data \n",
        "sample = [[3, 5, 4, 2], [2, 3, 5, 4]] \n",
        "preds = knn.predict(sample) \n",
        "pred_species = [iris.target_names[p] for p in preds] \n",
        "print(\"\\nPredictions:\", pred_species) \n"
      ],
      "execution_count": 88,
      "outputs": [
        {
          "output_type": "stream",
          "text": [
            "Overwriting exercise/model.py\n"
          ],
          "name": "stdout"
        }
      ]
    },
    {
      "cell_type": "code",
      "metadata": {
        "id": "LhHtmTx95KZS"
      },
      "source": [
        "%%sh\r\n",
        "chmod +x exercise/model.py"
      ],
      "execution_count": 89,
      "outputs": []
    },
    {
      "cell_type": "code",
      "metadata": {
        "id": "DwFT1DY22F0S",
        "colab": {
          "base_uri": "https://localhost:8080/"
        },
        "outputId": "110aab44-7b9b-4168-c089-724e3f52305a"
      },
      "source": [
        "%%sh\r\n",
        "./exercise/model.py -h"
      ],
      "execution_count": 90,
      "outputs": [
        {
          "output_type": "stream",
          "text": [
            "usage: model.py [-h] [--random_state RANDOM_STATE] [--test_size TEST_SIZE]\n",
            "                [--n_neighbors N_NEIGHBORS]\n",
            "\n",
            "Script that trains and test a machine learning model\n",
            "\n",
            "optional arguments:\n",
            "  -h, --help            show this help message and exit\n",
            "  --random_state RANDOM_STATE, -random RANDOM_STATE\n",
            "                        random_state value int, default=None\n",
            "  --test_size TEST_SIZE, -test_size TEST_SIZE\n",
            "                        test_size value float in the range [0,1] rounded to 1\n",
            "                        digit, default=0.3\n",
            "  --n_neighbors N_NEIGHBORS, -n_neighbors N_NEIGHBORS\n",
            "                        number of neighbours value int > 0, default=3\n"
          ],
          "name": "stdout"
        }
      ]
    },
    {
      "cell_type": "code",
      "metadata": {
        "id": "Sh6DH7UbQorK",
        "colab": {
          "base_uri": "https://localhost:8080/"
        },
        "outputId": "498dfac9-1f03-4542-b2fc-f462809984fa"
      },
      "source": [
        "%%sh\n",
        "python exercise/model.py # -random 1234 -test_size 0.4 -n_neighbors 4"
      ],
      "execution_count": 91,
      "outputs": [
        {
          "output_type": "stream",
          "text": [
            "model accuracy: 1.0\n",
            "\n",
            "Predictions: ['versicolor', 'virginica']\n"
          ],
          "name": "stdout"
        }
      ]
    },
    {
      "cell_type": "code",
      "metadata": {
        "id": "ZRpOfp9Dmqnn",
        "colab": {
          "base_uri": "https://localhost:8080/"
        },
        "outputId": "444d2203-cf25-4c98-dff7-b86d9beec024"
      },
      "source": [
        "%%sh\n",
        "python exercise/model.py -random 1234 -test_size 0.4 -n_neighbors 4"
      ],
      "execution_count": 92,
      "outputs": [
        {
          "output_type": "stream",
          "text": [
            "model accuracy: 0.9666666666666667\n",
            "\n",
            "Predictions: ['versicolor', 'virginica']\n"
          ],
          "name": "stdout"
        }
      ]
    },
    {
      "cell_type": "code",
      "metadata": {
        "colab": {
          "base_uri": "https://localhost:8080/"
        },
        "id": "tR0b8shNDysd",
        "outputId": "80fbaefb-cfbf-4c5b-cd42-7ea90a07463d"
      },
      "source": [
        "%%sh\r\n",
        "python exercise/model.py -random 1234 -test_size 1.15 -n_neighbors 4"
      ],
      "execution_count": 93,
      "outputs": [
        {
          "output_type": "stream",
          "text": [
            "usage: model.py [-h] [--random_state RANDOM_STATE] [--test_size TEST_SIZE]\n",
            "                [--n_neighbors N_NEIGHBORS]\n",
            "model.py: error: argument --test_size/-test_size: 1.15 is not in the range [0,1]\n"
          ],
          "name": "stderr"
        }
      ]
    },
    {
      "cell_type": "code",
      "metadata": {
        "colab": {
          "base_uri": "https://localhost:8080/"
        },
        "id": "dZmOt4vZEFHW",
        "outputId": "c9a9ca66-43ff-4cc2-fbc5-dfc27ef69018"
      },
      "source": [
        "%%sh\r\n",
        "python exercise/model.py -random 1234 -test_size 0.4 -n_neighbors -1"
      ],
      "execution_count": 94,
      "outputs": [
        {
          "output_type": "stream",
          "text": [
            "usage: model.py [-h] [--random_state RANDOM_STATE] [--test_size TEST_SIZE]\n",
            "                [--n_neighbors N_NEIGHBORS]\n",
            "model.py: error: argument --n_neighbors/-n_neighbors: -1 is an invalid positive int value\n"
          ],
          "name": "stderr"
        }
      ]
    },
    {
      "cell_type": "markdown",
      "metadata": {
        "id": "PIrogiBzQjTE"
      },
      "source": [
        "En la segunda parte, usa subprocess para llamar a este script generado"
      ]
    },
    {
      "cell_type": "code",
      "metadata": {
        "id": "5z9SibVaQiKI",
        "colab": {
          "base_uri": "https://localhost:8080/"
        },
        "outputId": "5d505e79-0703-44e2-fa1e-3b3ef9f6a20d"
      },
      "source": [
        "%%writefile exercise/call_model.py\n",
        "#!/usr/bin/env python\n",
        "\n",
        "import subprocess\n",
        "\n",
        "### EJECUTA EL script del modelo y haz un print del output generado con los argumentos por defecto \n",
        "\n",
        "completed = subprocess.run(['python', 'exercise/model.py', '-random', '1234', '-test_size', '0.4', '-n_neighbors', '4'], stdout=subprocess.PIPE)\n",
        "\n",
        "lines = str(completed.stdout).split(\"\\\\n\")\n",
        "line_1 = lines[0][2:]\n",
        "line_2 = lines[2]\n",
        "\n",
        "print(str(completed.stdout))\n",
        "print()\n",
        "print(lines)\n",
        "print('\\n' + line_1)\n",
        "print('\\n' + line_2)"
      ],
      "execution_count": 152,
      "outputs": [
        {
          "output_type": "stream",
          "text": [
            "Overwriting exercise/call_model.py\n"
          ],
          "name": "stdout"
        }
      ]
    },
    {
      "cell_type": "code",
      "metadata": {
        "id": "Iknl-CedmDcI"
      },
      "source": [
        "%%sh\r\n",
        "chmod +x exercise/call_model.py"
      ],
      "execution_count": 153,
      "outputs": []
    },
    {
      "cell_type": "code",
      "metadata": {
        "colab": {
          "base_uri": "https://localhost:8080/"
        },
        "id": "uvM7TSOwloAa",
        "outputId": "64eb8fd9-8884-413e-ae8c-96edbcb0ff85"
      },
      "source": [
        "%%sh\r\n",
        "./exercise/call_model.py"
      ],
      "execution_count": 154,
      "outputs": [
        {
          "output_type": "stream",
          "text": [
            "b\"model accuracy: 0.9666666666666667\\n\\nPredictions: ['versicolor', 'virginica']\\n\"\n",
            "\n",
            "['b\"model accuracy: 0.9666666666666667', '', \"Predictions: ['versicolor', 'virginica']\", '\"']\n",
            "\n",
            "model accuracy: 0.9666666666666667\n",
            "\n",
            "Predictions: ['versicolor', 'virginica']\n"
          ],
          "name": "stdout"
        }
      ]
    }
  ]
}