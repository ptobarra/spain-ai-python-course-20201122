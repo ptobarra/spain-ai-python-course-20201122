{
  "nbformat": 4,
  "nbformat_minor": 0,
  "metadata": {
    "colab": {
      "name": "Condicionales y bucles.ipynb",
      "provenance": [],
      "collapsed_sections": [
        "0-FcAqfcbWC2",
        "2bUfDtg9tGxh",
        "TQD6bDAs3bH1"
      ],
      "toc_visible": true
    },
    "kernelspec": {
      "name": "python3",
      "display_name": "Python 3"
    }
  },
  "cells": [
    {
      "cell_type": "markdown",
      "metadata": {
        "id": "Rdnemy3ClTVb"
      },
      "source": [
        "# Operaciones booleanas, Condicionales y Bucles\n",
        "\n",
        "A continuación, vamos a poner en práctica lo aprendido en esta unidad. En esta unidad trabajaremos con:\n",
        " * Operaciones booleanas\n",
        " * Condicionales\n",
        " * bucles\n",
        "\n",
        "\n",
        "**NOTA para empezar a trabajar con Colaboratory:** \n",
        "\n",
        "Para comenzar a trabajar con el cuaderno, tienes que conectarte al servidor, para ello, tienes que clickar sobre el boton \"conectar\" que puedes ver arriba a la derecha:\n",
        "\n",
        "![ejecutar](https://i.imgur.com/JQHXXw8.gif)\n",
        "\n",
        "Verás que el botón empieza a cambiar de estados hasta que finalmente se muestra el RAM y el disco duro disponible. Esto indica que ya estamos listos para trabajar!.\n",
        "\n",
        "Para ir ejecutando las celdas del notebook, coloca el puntero del ratón sobre la celda como se indica a continuación, veras que cuando pones el cursor encima, aparecen los simbolos de \"play\",  entonces púlsalo para ejecutar la celda. Una vez lo hayas hecho, veras que aparece un número con el número de celdas que has ejecutado en la sesión:\n",
        "\n",
        "![ejecutar](https://i.imgur.com/Qop9iTm.gif)\n",
        "\n",
        "Por último, veras que en celdas de código, también introduzco comentarios. Los comentarios son útiles para facilitar el entendimiento del código. Para crear comentarios, sólo tengo que comenzar una línea usando el `#`, por ejemplo:\n",
        "```python\n",
        "# Hola!, soy un comentario\n",
        "# y soy útil para facilitar el entendimiento del código\n",
        "```\n",
        "\n",
        "\n",
        "---\n",
        "\n"
      ]
    },
    {
      "cell_type": "markdown",
      "metadata": {
        "id": "0-FcAqfcbWC2"
      },
      "source": [
        "## Operaciones booleanas\n",
        "\n",
        "Los operadores como `not`, `and`, `or` se utilizan para realizar operaciones lógicas en Python, y los resultados de las operaciones que los involucran se devuelven en `True` o `False`. \n",
        "\n",
        "El operador `not` tiene la prioridad más alta, seguido por el operador `and`,  finalemente el operador `or` es el más bajo en el orden de prioridad. En Python, el operador `and`, así como el operador `or` son conocidos como operadores de cortocircuito, y por ello se denominan operadores booleanos."
      ]
    },
    {
      "cell_type": "markdown",
      "metadata": {
        "id": "uboCfZtAcY2Z"
      },
      "source": [
        "#### Valores Booleanos\n",
        "\n",
        "Cualquier tipo de objeto de Python (`int`, `float`, `str`, ...) pueden tomar cualquier valor, sin embargo las variables de tipo `Boolean` solo pueden tener uno de los dos valores que son `True` o `False`. \n",
        "\n",
        "En Python como lenguaje de programación, los valores `True` y `False` se representan como una cadena sin encerrarlos entre comillas simples o dobles, y siempre comienzan con la T y F mayúsculas. \n",
        "\n",
        "Por ejemplo:"
      ]
    },
    {
      "cell_type": "code",
      "metadata": {
        "id": "6sLdX4Wgc-HX",
        "colab": {
          "base_uri": "https://localhost:8080/"
        },
        "outputId": "46b6c9dc-3c4e-4941-bec3-bb0428cccbef"
      },
      "source": [
        "# defino la variable a la que le asigno el valor de True\n",
        "var_booleana = True # False\n",
        "\n",
        "print(f\"El valor de la variables es: {var_booleana}\")\n",
        "print(f\"El tipo de la variables es: {type(var_booleana)}\")"
      ],
      "execution_count": 1,
      "outputs": [
        {
          "output_type": "stream",
          "text": [
            "El valor de la variables es: True\n",
            "El tipo de la variables es: <class 'bool'>\n"
          ],
          "name": "stdout"
        }
      ]
    },
    {
      "cell_type": "markdown",
      "metadata": {
        "id": "qKwgsEBFdgjS"
      },
      "source": [
        "En Python, tenemos la función `bool()` que devuelve el valor booleano de un objeto especificado.\n",
        "\n",
        "El objeto siempre devolverá `True`, a menos que:\n",
        "\n",
        " * El objeto está vacío, como `[]`, `()`, `{}`\n",
        " * El objeto es `False`\n",
        " * El objeto es 0\n",
        " * El objeto es `None`\n",
        "\n",
        "Por ejemplo:"
      ]
    },
    {
      "cell_type": "code",
      "metadata": {
        "id": "OevSTbrDdFTe",
        "colab": {
          "base_uri": "https://localhost:8080/"
        },
        "outputId": "dac2e606-3709-43a1-a47b-14c28d655529"
      },
      "source": [
        "print(\"El número 1 devuelve: \", bool(1))\n",
        "print(\"El booleano False devuelve: \", bool(False))\n",
        "print(\"una lista con elementos devuelve: \", bool([1, 23, 4]))\n",
        "print(\"una lista vacia devuelve: \", bool([]))"
      ],
      "execution_count": 3,
      "outputs": [
        {
          "output_type": "stream",
          "text": [
            "El número 1 devuelve:  True\n",
            "El booleano False devuelve:  False\n",
            "una lista con elementos devuelve:  True\n",
            "una lista vacia devuelve:  False\n"
          ],
          "name": "stdout"
        }
      ]
    },
    {
      "cell_type": "markdown",
      "metadata": {
        "id": "PkSgfY0ykbvq"
      },
      "source": [
        "#### Operaciones booleanas\n",
        "\n",
        "Hay seis operadores de comparación como se describe en la siguiente imagen que evalúan la expresión a un valor booleano.\n",
        "![](https://i.imgur.com/Ds0nUTk.png)\n",
        "\n",
        "Veamos algunos ejemplos:"
      ]
    },
    {
      "cell_type": "code",
      "metadata": {
        "id": "ytxUbXZNl30B",
        "colab": {
          "base_uri": "https://localhost:8080/"
        },
        "outputId": "62ee872d-b9b6-4f49-92f9-41d8e06de1d1"
      },
      "source": [
        "# definamos la variable a con valor 1\n",
        "a = 1\n",
        "print(f\"es a igual a 1?: {a == 1}\")\n",
        "print(f\"es a distinto de 10?: {a != 10}\")\n",
        "print(f\"es a distinto de 1?: {a != 1}\")\n",
        "print(f\"es a mayor que 10?: {a >= 10}\")\n",
        "print(f\"es a menor o igual que 12?: {a <= 12}\")\n",
        "print(f\"es a mayor o igual que 1?: {a >= 1}\")\n",
        "print(f\"es a menor o igual que 7?: {a >= 7}\")"
      ],
      "execution_count": 4,
      "outputs": [
        {
          "output_type": "stream",
          "text": [
            "es a igual a 1?: True\n",
            "es a distinto de 10?: True\n",
            "es a distinto de 1?: False\n",
            "es a mayor que 10?: False\n",
            "es a menor o igual que 12?: True\n",
            "es a mayor o igual que 1?: True\n",
            "es a menor o igual que 7?: False\n"
          ],
          "name": "stdout"
        }
      ]
    },
    {
      "cell_type": "markdown",
      "metadata": {
        "id": "o1j6y7sRm_aW"
      },
      "source": [
        "#### Operadores binaria booleanas\n",
        "\n",
        "Estos operadores son los que operan sobre dos valores que son ambos booleanos. El operador `and` y el operador `or` son los dos operadores booleanos binarios que operan con cierta lógica para dar el valor booleano nuevamente. \n",
        "\n",
        "A continuación, incluyo una tabla donde se muestra el resultado booleano final de 2 operaciones booleanas binarias con un operador `and`:\n",
        "\n",
        "![and](https://i.imgur.com/rxBS16p.png)\n",
        "\n",
        "Ahora, mostramos los resultados cuando el operador es `or`:\n",
        "\n",
        "![or](https://i.imgur.com/vLa05GH.png)\n",
        "\n",
        "Veamos el ejemplo:"
      ]
    },
    {
      "cell_type": "code",
      "metadata": {
        "id": "0PDI-HBvmhYy",
        "colab": {
          "base_uri": "https://localhost:8080/"
        },
        "outputId": "cd448252-0afc-4a4b-d89b-3d5c9b431657"
      },
      "source": [
        "# definamos 2 variables, a y b:\n",
        "a = True\n",
        "b = False\n",
        "\n",
        "print(f\"Cual es el resultado de a and b? {a and b}\")\n",
        "print(f\"Cual es el resultado de a or b? {a or b}\")"
      ],
      "execution_count": 5,
      "outputs": [
        {
          "output_type": "stream",
          "text": [
            "Cual es el resultado de a and b? False\n",
            "Cual es el resultado de a or b? True\n"
          ],
          "name": "stdout"
        }
      ]
    },
    {
      "cell_type": "markdown",
      "metadata": {
        "id": "VMiBqDhXqthb"
      },
      "source": [
        "otros ejemplo:"
      ]
    },
    {
      "cell_type": "code",
      "metadata": {
        "id": "hxeQcXcHqss3",
        "colab": {
          "base_uri": "https://localhost:8080/"
        },
        "outputId": "0d048f56-671b-4ecc-dac1-03d62f495878"
      },
      "source": [
        "print(\"¿Cual es el valor booleano de: (-5 > 3) and (7 == 7)?:\", (-5 > 3) and (7 == 7))\n",
        "print(\"¿Cual es el valor booleano de: (-5 > 3) or (7 == 7)?:\", (-5 > 3) or (7 == 7))"
      ],
      "execution_count": 6,
      "outputs": [
        {
          "output_type": "stream",
          "text": [
            "¿Cual es el valor booleano de: (-5 > 3) and (7 == 7)?: False\n",
            "¿Cual es el valor booleano de: (-5 > 3) or (7 == 7)?: True\n"
          ],
          "name": "stdout"
        }
      ]
    },
    {
      "cell_type": "markdown",
      "metadata": {
        "id": "Xp3b7tMSoY6a"
      },
      "source": [
        "#### Operador not\n",
        "\n",
        "El operador `not` es el operador booleano lógico que complementa el valor booleano actual de la variable. \n",
        "Es decir, si el valor es `True`, entonces el operador `not` lo modificará a `Falso` y viceversa. \n",
        "\n",
        "En Python, está representado por la palabra clave `not`.\n",
        "\n",
        "Por ejemplo:"
      ]
    },
    {
      "cell_type": "code",
      "metadata": {
        "id": "FipbnLMEorE0",
        "colab": {
          "base_uri": "https://localhost:8080/"
        },
        "outputId": "7ee32879-e2c7-4a8d-f37f-f8a83a94c79a"
      },
      "source": [
        "# definamos la variable a:\n",
        "a = True\n",
        "\n",
        "print(f\"Cual es el valor booleano de a? {bool(a)}\")\n",
        "print(f\"Cual es el valor booleano de not a? {bool(not a)}\")"
      ],
      "execution_count": 7,
      "outputs": [
        {
          "output_type": "stream",
          "text": [
            "Cual es el valor booleano de a? True\n",
            "Cual es el valor booleano de not a? False\n"
          ],
          "name": "stdout"
        }
      ]
    },
    {
      "cell_type": "markdown",
      "metadata": {
        "id": "LdPVzg4bpHcl"
      },
      "source": [
        "#### Operadores de Pertenencia\n",
        "\n",
        "Los operadores de pertenencia de Python se utilizan para probar si un objeto o valor es miembro de una secuencia o no. Esta secuencia puede ser una lista, tupla o una cadena de texto. \n",
        "\n",
        "Los dos operadores de identificación que se utilizan en Python son `in` y `not in`.\n",
        "\n",
        "Veamos un ejemplo:"
      ]
    },
    {
      "cell_type": "code",
      "metadata": {
        "id": "Lw_qo1Hfo3gV",
        "colab": {
          "base_uri": "https://localhost:8080/"
        },
        "outputId": "c78f0a4a-79f8-40b8-fbe9-82c650ff25dd"
      },
      "source": [
        "# defino una lista y un string: \n",
        "frutas = ['pera', 'manzana', 'platano']\n",
        "texto = 'hola, que tal?'\n",
        "\n",
        "print(f\"Es limon un miembro de frutas? {'limon' in frutas}\")\n",
        "print(f\"No esta pera en frutas? {'pera' not in frutas}\")\n",
        "\n",
        "print(f\"Esta el caracter \\'ola\\' en texto? {'ola' in texto}\")"
      ],
      "execution_count": 8,
      "outputs": [
        {
          "output_type": "stream",
          "text": [
            "Es limon un miembro de frutas? False\n",
            "No esta pera en frutas? False\n",
            "Esta el caracter 'ola' en texto? True\n"
          ],
          "name": "stdout"
        }
      ]
    },
    {
      "cell_type": "markdown",
      "metadata": {
        "id": "0ngNnbD0rMYO"
      },
      "source": [
        "#### Operadores de identidad\n",
        "\n",
        "Los operadores de identidad de Python se utilizan para comparar la ubicación de la memoria de los dos objetos. \n",
        "\n",
        "Los dos operadores identificados que se utilizan en Python son `is` y `not is`.\n",
        "\n",
        "\n",
        "Veamos algún ejemplo:"
      ]
    },
    {
      "cell_type": "code",
      "metadata": {
        "id": "PbJ3zQB6qPb7",
        "colab": {
          "base_uri": "https://localhost:8080/"
        },
        "outputId": "0bf54c6c-e68a-47da-e893-e363380a720f"
      },
      "source": [
        "# definamos un par de variables:\n",
        "a = 10\n",
        "b = 10\n",
        "\n",
        "print(f\"¿Es a igual a b?: {a is b}\")"
      ],
      "execution_count": 9,
      "outputs": [
        {
          "output_type": "stream",
          "text": [
            "¿Es a igual a b?: True\n"
          ],
          "name": "stdout"
        }
      ]
    },
    {
      "cell_type": "code",
      "metadata": {
        "id": "leg_YKXdsE9M",
        "colab": {
          "base_uri": "https://localhost:8080/"
        },
        "outputId": "d743a9ca-b5ef-44b5-9aec-aaeb1b090c27"
      },
      "source": [
        "# definamos un par de variables:\n",
        "a = 10\n",
        "b = \"10\"\n",
        "\n",
        "print(f\"¿Es a igual a b?: {a is b}\")"
      ],
      "execution_count": 10,
      "outputs": [
        {
          "output_type": "stream",
          "text": [
            "¿Es a igual a b?: False\n"
          ],
          "name": "stdout"
        }
      ]
    },
    {
      "cell_type": "markdown",
      "metadata": {
        "id": "2bUfDtg9tGxh"
      },
      "source": [
        "## Condicionales\n",
        "\n",
        "Ahora que ya sabemos como funcionan las operaciones booleanas en Python, ya podemos pasar a incluir condiciones que nos permitan elegir que partes del código queremos ejecutar. Esto lo haremos con las sentencias `if-else`:\n",
        "\n",
        "![if](https://i.imgur.com/isJgbjz.png)\n",
        "\n",
        "Veamos algún ejemplo:"
      ]
    },
    {
      "cell_type": "code",
      "metadata": {
        "id": "gwnZncJJsJBC",
        "colab": {
          "base_uri": "https://localhost:8080/"
        },
        "outputId": "4b70fd66-6525-4613-bfe2-9303dd110fb2"
      },
      "source": [
        "if 5 > 3:\n",
        "    print(\"Como 5 es mayor que 3, pues se ejecuta este bloque de código\")\n",
        "else:\n",
        "    print(\"Como 5 es mayor que 3, este bloque nunca se ejecuta\")"
      ],
      "execution_count": 11,
      "outputs": [
        {
          "output_type": "stream",
          "text": [
            "Como 5 es mayor que 3, pues se ejecuta este bloque de código\n"
          ],
          "name": "stdout"
        }
      ]
    },
    {
      "cell_type": "markdown",
      "metadata": {
        "id": "9_3fOoOlusOW"
      },
      "source": [
        "Veamos otro ejemplo: \n",
        "\n",
        "En este vamos a usar la función `input()` de Python. Al ejecutar esta función el programa se queda a la espera que el usuario introduzca un valor:"
      ]
    },
    {
      "cell_type": "code",
      "metadata": {
        "id": "RrBC32qhuJHA",
        "colab": {
          "base_uri": "https://localhost:8080/"
        },
        "outputId": "1326d8e0-7a44-46c3-b466-f7c21b7e94c6"
      },
      "source": [
        "# definimos la variable edad que es un int del valor que tu introduzcas:\n",
        "edad = int(input(\"¿Cuántos años tiene? \"))\n",
        "\n",
        "if edad < 18:\n",
        "    print(\"Es usted menor de edad\")\n",
        "    print(\"Recuerde que está en la edad de aprender\")\n",
        "else:\n",
        "    print(\"Es usted mayor de edad\")\n",
        "    print(\"Recuerde que debe seguir aprendiendo\")\n",
        "\n",
        "print(\"¡Hasta la próxima!\")"
      ],
      "execution_count": 12,
      "outputs": [
        {
          "output_type": "stream",
          "text": [
            "¿Cuántos años tiene? 43\n",
            "Es usted mayor de edad\n",
            "Recuerde que debe seguir aprendiendo\n",
            "¡Hasta la próxima!\n"
          ],
          "name": "stdout"
        }
      ]
    },
    {
      "cell_type": "markdown",
      "metadata": {
        "id": "lUasyMcvvCc8"
      },
      "source": [
        "¿Entiendes como funciona el código? Basicamente:\n",
        "```python\n",
        "if condicion1:\n",
        "    bloque1\n",
        "else:\n",
        "    bloque2\n",
        "```\n",
        "y tanto en `bloque1` como en `bloque2` somos libres de poner el código que queramos!!\n",
        "\n",
        "Importante, los bloques tienen que ir correctamente indentados, de lo contrario nos dará un error:\n",
        "![ejecutar](https://i.imgur.com/jyA38X8.gif)\n",
        "\n",
        "Veamos otro ejemplo:"
      ]
    },
    {
      "cell_type": "code",
      "metadata": {
        "id": "r0u9cTfDu-5Y",
        "colab": {
          "base_uri": "https://localhost:8080/"
        },
        "outputId": "0cc11d37-c3f3-48b1-f25d-f9dfa3fb41e7"
      },
      "source": [
        "# definimos la variable edad que es un int del valor que tu introduzcas:\n",
        "edad = int(input(\"¿Cuántos años tiene? \"))\n",
        "\n",
        "if edad < 40:\n",
        "    print(\"Recuerde que está en la edad de aprender\")\n",
        "    hermanos = int(input(\"¿Cuántos hermanos tiene? \"))\n",
        "    if hermanos > 0:\n",
        "        print(f\"Tienes {hermanos}\")\n",
        "    else:\n",
        "        print(\"No tienes hermanos!\")\n",
        "else:\n",
        "    print(\"Recuerde que debe seguir aprendiendo\")\n",
        "\n",
        "print(\"¡Hasta la próxima!\")"
      ],
      "execution_count": 14,
      "outputs": [
        {
          "output_type": "stream",
          "text": [
            "¿Cuántos años tiene? 38\n",
            "Recuerde que está en la edad de aprender\n",
            "¿Cuántos hermanos tiene? 0\n",
            "No tienes hermanos!\n",
            "¡Hasta la próxima!\n"
          ],
          "name": "stdout"
        }
      ]
    },
    {
      "cell_type": "markdown",
      "metadata": {
        "id": "DC8VurGf0-IZ"
      },
      "source": [
        "Veamos otro ejemplo:"
      ]
    },
    {
      "cell_type": "code",
      "metadata": {
        "id": "weYhU4GD1AQ8",
        "colab": {
          "base_uri": "https://localhost:8080/"
        },
        "outputId": "ba3cddc8-697b-45a8-af2d-85e4a39a3d0f"
      },
      "source": [
        "numero = int(input(\"Escriba un número: \"))\n",
        "if not numero % 2: # recuerda, en Python el operador % devuelve el resto de una división\n",
        "    print(f\"{numero} es par\")\n",
        "else:\n",
        "    print(f\"{numero} es impar\")"
      ],
      "execution_count": 15,
      "outputs": [
        {
          "output_type": "stream",
          "text": [
            "Escriba un número: 6\n",
            "6 es par\n"
          ],
          "name": "stdout"
        }
      ]
    },
    {
      "cell_type": "markdown",
      "metadata": {
        "id": "68LpNTcmxRMY"
      },
      "source": [
        "También podemos incluir varias condiciones `if` antes de `else`, esto lo hacemos con condiciones `else if` o `elif`, es decir:\n",
        "```python\n",
        "if condicion1:\n",
        "    bloque 1\n",
        "elif condición2:\n",
        "    bloque 2\n",
        "elif condición3:\n",
        "    bloque 3\n",
        "else:\n",
        "    bloque 4\n",
        "```\n",
        "\n",
        "En un diagrama de flujo, podemos ver que es algo así:\n",
        "\n",
        "![elseif](https://i.imgur.com/SKVfTWX.png)\n",
        "\n",
        "veamos el ejemplo, donde te invito a probar distintos números hasta que pases por todos los `ifs` del código."
      ]
    },
    {
      "cell_type": "code",
      "metadata": {
        "id": "OY4yHkoBwlfM",
        "colab": {
          "base_uri": "https://localhost:8080/"
        },
        "outputId": "c9a95279-d089-4e43-9307-60779648562b"
      },
      "source": [
        "# introduce un valor:\n",
        "numero = int(input(\"Introduce un valor entre 0 y 10: \"))\n",
        "\n",
        "if numero == 0:\n",
        "    numero = numero + 100\n",
        "elif numero < 5:\n",
        "    numero = -10\n",
        "elif numero >= 5 and numero < 8:\n",
        "    numero = 'hola'\n",
        "else:\n",
        "    numero = 7\n",
        "\n",
        "print(f\"La variable numero toma el valor: {numero} \")"
      ],
      "execution_count": 16,
      "outputs": [
        {
          "output_type": "stream",
          "text": [
            "Introduce un valor entre 0 y 10: 7\n",
            "La variable numero toma el valor: hola \n"
          ],
          "name": "stdout"
        }
      ]
    },
    {
      "cell_type": "markdown",
      "metadata": {
        "id": "IdlOn2YkysHc"
      },
      "source": [
        "**IMPORTANTE**: Te has dado cuenta que cuando una condición se cumple, ya no se evalua ninguna otra?. Por ejemplo:"
      ]
    },
    {
      "cell_type": "code",
      "metadata": {
        "id": "L8ywRjDeyX7C",
        "outputId": "88c580cb-2aed-4ca5-d244-343904b6211a",
        "colab": {
          "base_uri": "https://localhost:8080/"
        }
      },
      "source": [
        "# defino la variable 10:\n",
        "x = 10\n",
        "\n",
        "if x == 10:\n",
        "    print(\"hola\")\n",
        "elif  x > 0:\n",
        "    print(\"que tal?\") # como puedes ver, aunque esta condición se cumple (x > 0), esta condición no se evalua porque la anterior ha sido True\n",
        "else:\n",
        "    print(\"adios\")"
      ],
      "execution_count": 17,
      "outputs": [
        {
          "output_type": "stream",
          "text": [
            "hola\n"
          ],
          "name": "stdout"
        }
      ]
    },
    {
      "cell_type": "markdown",
      "metadata": {
        "id": "TQD6bDAs3bH1"
      },
      "source": [
        "## Bucles for y while\n",
        "\n",
        "Un bucle permite la repetición de la ejecución de la pieza de código que contiene o bien hasta que una condición deja de cumplirse o cuando se ha terminado de iterar sobre un objeto.\n",
        "\n",
        "En Python, tenemos los bucles `for` que iteran sobre objetos y los bucles `while` que se ejecutan mientras que una condición se cumpla.\n",
        "\n"
      ]
    },
    {
      "cell_type": "markdown",
      "metadata": {
        "id": "viWd7CGa33EL"
      },
      "source": [
        "#### bucle for\n",
        "\n",
        "Los bucles `for` iteran sobre un objeto iterable (una lista, un string, etc).\n",
        "\n",
        "Vamos a crear nuestro primer bucle:"
      ]
    },
    {
      "cell_type": "code",
      "metadata": {
        "id": "84dlRwduzQPD",
        "colab": {
          "base_uri": "https://localhost:8080/"
        },
        "outputId": "45101fe1-3269-4c21-b788-49386773ae45"
      },
      "source": [
        "for x in ['hola', 'adios']:\n",
        "    print(x)"
      ],
      "execution_count": 18,
      "outputs": [
        {
          "output_type": "stream",
          "text": [
            "hola\n",
            "adios\n"
          ],
          "name": "stdout"
        }
      ]
    },
    {
      "cell_type": "markdown",
      "metadata": {
        "id": "rzqZPcaq5gOX"
      },
      "source": [
        "La estructura del bucle for es siempre la misma:\n",
        "\n",
        "![for](https://i.imgur.com/8YiUvJ8.png)"
      ]
    },
    {
      "cell_type": "markdown",
      "metadata": {
        "id": "A6aOmYVIKv5a"
      },
      "source": [
        "#### break\n",
        "\n",
        "`break` es la sentencia que usamos para interrumpir un bucle en cualquier momento, por ejemplo:"
      ]
    },
    {
      "cell_type": "code",
      "metadata": {
        "id": "HMFxTTefK5h2",
        "colab": {
          "base_uri": "https://localhost:8080/"
        },
        "outputId": "c7f3d9eb-5450-4b09-8851-1a4bc8a70dbd"
      },
      "source": [
        "for i in [1, 2, 3, 4, 5]:\n",
        "    if i == 3:\n",
        "        break # cuando i == 3 entonces se detiene el flujo!\n",
        "    print(i)\n",
        "    \n",
        "print('el flujo a terminado!')"
      ],
      "execution_count": 19,
      "outputs": [
        {
          "output_type": "stream",
          "text": [
            "1\n",
            "2\n",
            "el flujo a terminado!\n"
          ],
          "name": "stdout"
        }
      ]
    },
    {
      "cell_type": "markdown",
      "metadata": {
        "id": "kGMcxC0kL449"
      },
      "source": [
        "#### range\n",
        "La función `range()` devuelve una secuencia de números, comenzando desde 0 de forma predeterminada, se incrementa en 1 (de forma predeterminada) y se detiene antes de un número especificado.\n",
        "\n",
        "```python\n",
        "range(start, stop, step)\n",
        "```\n",
        " * start (Opcional). Un número entero que especifica en qué posición comenzar. El valor predeterminado es 0\n",
        " * stop (Obligatorio). Un número entero que especifica en qué posición detenerse (no incluido).\n",
        " * step (Opcional). Un número entero que especifica el incremento. El valor predeterminado es 1\n",
        "\n",
        "\n",
        "\n"
      ]
    },
    {
      "cell_type": "code",
      "metadata": {
        "id": "OBxqozbZMip9",
        "colab": {
          "base_uri": "https://localhost:8080/"
        },
        "outputId": "eba04262-6f96-43a8-b23c-516cce133759"
      },
      "source": [
        "# veamos un ejemplo:\n",
        "for x in range(10, 100, 20):\n",
        "    print(x)"
      ],
      "execution_count": 20,
      "outputs": [
        {
          "output_type": "stream",
          "text": [
            "10\n",
            "30\n",
            "50\n",
            "70\n",
            "90\n"
          ],
          "name": "stdout"
        }
      ]
    },
    {
      "cell_type": "markdown",
      "metadata": {
        "id": "jzoS7ZQjJbjx"
      },
      "source": [
        "Con todo lo que has aprendido, ¿Puedes probar tú ahora?\n",
        "\n",
        "Crea una lista que se llame `paises` y que este vacia y por otro lado, crea un bucle `for` que itere sobre la lista `['Holanda', 'Francia', 'UK']`.\n",
        "En cada iteración, tienes que usar el método `.append()` sobre la lista `paises` para ir añadiendo paises a la lista:"
      ]
    },
    {
      "cell_type": "code",
      "metadata": {
        "id": "mDDyIwui5H0S"
      },
      "source": [
        "# TODO: introduce tu código a continuación\n",
        "paises = []\n",
        "datos = ['Holanda', 'Francia', 'UK']\n",
        "\n",
        "for item in datos:\n",
        "  paises.append(item)\n",
        "\n",
        "# para validar que ha hecho bien las cosas:\n",
        "assert paises == ['Holanda', 'Francia', 'UK']"
      ],
      "execution_count": 21,
      "outputs": []
    },
    {
      "cell_type": "markdown",
      "metadata": {
        "id": "9oMySJOMKiFZ"
      },
      "source": [
        "Vamos a probar otro ejercicio:\n",
        "\n",
        "Dada una lista `lista1 = [12, 15, 32, 42, 55, 75, 122, 132, 150, 180, 200]`, iterarla y en cada iteración, añade a la lista `lista2` aquellos números que son divisibles por 5. En el bucle, si encuentra un número mayor que 150, deten la iteración del ciclo."
      ]
    },
    {
      "cell_type": "code",
      "metadata": {
        "id": "vw0NX0-BLeOS",
        "outputId": "e944cced-b042-4049-bbac-525308b1e76a",
        "colab": {
          "base_uri": "https://localhost:8080/"
        }
      },
      "source": [
        "# TODO: introduce tu código a continuación\n",
        "lista1 = [12, 15, 32, 42, 55, 75, 122, 132, 150, 180, 200]\n",
        "lista2 = []\n",
        "\n",
        "for item in lista1:\n",
        "  if item > 150:\n",
        "    break\n",
        "  elif item % 5 == 0:\n",
        "    lista2.append(item)\n",
        "  \n",
        "print(lista2)\n",
        "\n",
        "# para validar que ha hecho bien las cosas:\n",
        "assert lista2 == [15, 55, 75, 150]"
      ],
      "execution_count": 27,
      "outputs": [
        {
          "output_type": "stream",
          "text": [
            "[15, 55, 75, 150]\n"
          ],
          "name": "stdout"
        }
      ]
    },
    {
      "cell_type": "markdown",
      "metadata": {
        "id": "pJYADuNq3wQH"
      },
      "source": [
        "#### bucle while\n",
        "\n",
        "Los bucles `while` repiten una parte de código siempre y cuando se cumpla una condición.\n",
        "![while](https://i.imgur.com/Izgtp1l.png)\n",
        "\n",
        "Por ejemplo:"
      ]
    },
    {
      "cell_type": "code",
      "metadata": {
        "id": "Yg3oVQJ94-eJ",
        "colab": {
          "base_uri": "https://localhost:8080/"
        },
        "outputId": "bc251f87-a2f0-4907-8349-f9837b3ebc20"
      },
      "source": [
        "# defino mi variable:\n",
        "a = 0\n",
        "\n",
        "while a < 5:\n",
        "    print(f\"la variable a vale: {a}\")\n",
        "    a += 1 # esto es igual que a = a + 1, es decir, asignarle a \"a\" su valor actual + 1\n",
        "\n",
        "print(\"ya hemos salido del bucle while\")"
      ],
      "execution_count": 28,
      "outputs": [
        {
          "output_type": "stream",
          "text": [
            "la variable a vale: 0\n",
            "la variable a vale: 1\n",
            "la variable a vale: 2\n",
            "la variable a vale: 3\n",
            "la variable a vale: 4\n",
            "ya hemos salido del bucle while\n"
          ],
          "name": "stdout"
        }
      ]
    },
    {
      "cell_type": "markdown",
      "metadata": {
        "id": "UlI_1fQ25V3y"
      },
      "source": [
        "Sencillo verdad?, espero que te haya gustado!"
      ]
    },
    {
      "cell_type": "code",
      "metadata": {
        "id": "ZytQ5eUrqrDo"
      },
      "source": [
        ""
      ],
      "execution_count": null,
      "outputs": []
    }
  ]
}