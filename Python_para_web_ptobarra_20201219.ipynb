{
  "nbformat": 4,
  "nbformat_minor": 0,
  "metadata": {
    "colab": {
      "name": "Python_para_web_ptobarra_20201219.ipynb",
      "provenance": [],
      "collapsed_sections": [],
      "include_colab_link": true
    },
    "kernelspec": {
      "name": "python3",
      "display_name": "Python 3"
    }
  },
  "cells": [
    {
      "cell_type": "markdown",
      "metadata": {
        "id": "view-in-github",
        "colab_type": "text"
      },
      "source": [
        "<a href=\"https://colab.research.google.com/github/ptobarra/spain-ai-python-course-20201122/blob/main/Python_para_web_ptobarra_20201219.ipynb\" target=\"_parent\"><img src=\"https://colab.research.google.com/assets/colab-badge.svg\" alt=\"Open In Colab\"/></a>"
      ]
    },
    {
      "cell_type": "code",
      "metadata": {
        "id": "NmwOxFpog8Mx"
      },
      "source": [
        "# YOUTUBE Python para web 23 scraping info requests"
      ],
      "execution_count": null,
      "outputs": []
    },
    {
      "cell_type": "code",
      "metadata": {
        "colab": {
          "base_uri": "https://localhost:8080/"
        },
        "id": "pqy5jwU7H0uQ",
        "outputId": "b1ec3b7c-3d81-49b4-d0c2-309c8483c346"
      },
      "source": [
        "pip install requests"
      ],
      "execution_count": null,
      "outputs": [
        {
          "output_type": "stream",
          "text": [
            "Requirement already satisfied: requests in /usr/local/lib/python3.6/dist-packages (2.23.0)\n",
            "Requirement already satisfied: idna<3,>=2.5 in /usr/local/lib/python3.6/dist-packages (from requests) (2.10)\n",
            "Requirement already satisfied: chardet<4,>=3.0.2 in /usr/local/lib/python3.6/dist-packages (from requests) (3.0.4)\n",
            "Requirement already satisfied: urllib3!=1.25.0,!=1.25.1,<1.26,>=1.21.1 in /usr/local/lib/python3.6/dist-packages (from requests) (1.24.3)\n",
            "Requirement already satisfied: certifi>=2017.4.17 in /usr/local/lib/python3.6/dist-packages (from requests) (2020.12.5)\n"
          ],
          "name": "stdout"
        }
      ]
    },
    {
      "cell_type": "code",
      "metadata": {
        "colab": {
          "base_uri": "https://localhost:8080/"
        },
        "id": "_i_DjXmbIPNG",
        "outputId": "a5e253a9-9789-486a-d6bc-8fc750871426"
      },
      "source": [
        "pip --version"
      ],
      "execution_count": null,
      "outputs": [
        {
          "output_type": "stream",
          "text": [
            "pip 19.3.1 from /usr/local/lib/python3.6/dist-packages/pip (python 3.6)\n"
          ],
          "name": "stdout"
        }
      ]
    },
    {
      "cell_type": "code",
      "metadata": {
        "colab": {
          "base_uri": "https://localhost:8080/"
        },
        "id": "mIC-v63uIYXl",
        "outputId": "98776ad3-9bf6-4501-a910-ef642402087b"
      },
      "source": [
        "import requests  # importamos libreria \r\n",
        "req = requests.get('http://www.spain-ai.com/')  # metemos la url de la pagina para acceder\r\n",
        "print(req)  # una vez q solicitamos esta pagina podemos ver el codigo html"
      ],
      "execution_count": null,
      "outputs": [
        {
          "output_type": "stream",
          "text": [
            "<Response [200]>\n"
          ],
          "name": "stdout"
        }
      ]
    },
    {
      "cell_type": "code",
      "metadata": {
        "id": "LeIM6dZzJHsv"
      },
      "source": [
        "# 200 es el codigo q nos dice q todo ha funcionado de manera correcta\r\n",
        "# en web wikipedia los codigos 2xx son las peticiones correctas y '200 OK - Respuesta estándar para peticiones correctas'\r\n",
        "# 404 Not Found - es un codigo q sale a menudo - nos salio antes cuando intentamos acceder a paginas q no existian\r\n",
        "# a continuacion vamos a instalar el BeautifulSoup"
      ],
      "execution_count": null,
      "outputs": []
    },
    {
      "cell_type": "code",
      "metadata": {
        "colab": {
          "base_uri": "https://localhost:8080/"
        },
        "id": "9i7Atj8gJL4G",
        "outputId": "08aa082b-3c0a-46d3-befc-ef3654918df6"
      },
      "source": [
        "!pip install bs4"
      ],
      "execution_count": null,
      "outputs": [
        {
          "output_type": "stream",
          "text": [
            "Requirement already satisfied: bs4 in /usr/local/lib/python3.6/dist-packages (0.0.1)\n",
            "Requirement already satisfied: beautifulsoup4 in /usr/local/lib/python3.6/dist-packages (from bs4) (4.6.3)\n"
          ],
          "name": "stdout"
        }
      ]
    },
    {
      "cell_type": "code",
      "metadata": {
        "id": "2IaZSOooJ3Ko"
      },
      "source": [
        "# beautiful soup nos va a permitir entender el codigo q ya hemos descargado de las webs de una manera inteligente por asi decirlo.\r\n",
        "# si descargamos el codigo y no lo procesamos de ninguna manera se va a entender como q es como un texto plano pero para nosotros siq tiene determinada estructura.\r\n",
        "# sabemos q hay unas etiquetas q abren, otras etiquetas que cierran, q hay una relacion entre etiquetas, q pueden estar unas dentro de otras como hemos visto en el caso del head, \r\n",
        "# q va dentro del body.\r\n",
        "# y bs4 es la libreria q nos va a permitir acceder de manera muy sencilla al siguiente codigo"
      ],
      "execution_count": null,
      "outputs": []
    },
    {
      "cell_type": "code",
      "metadata": {
        "colab": {
          "base_uri": "https://localhost:8080/"
        },
        "id": "Q92ue3qxagLK",
        "outputId": "36cd11e4-2376-4615-b888-67992d3176ee"
      },
      "source": [
        "from bs4 import BeautifulSoup  # hemos desarrollado un codigo pequeñito importando beautifulSoup\r\n",
        "\r\n",
        "# req es la web q obtuve arriba\r\n",
        "soup = BeautifulSoup(req.text, \"lxml\")  # sobre la info de la web q teniamos antes de spain-ai loq estamos haciendo es procesar el texto q teniamos antes\r\n",
        "\r\n",
        "soup.title  # ahora le decimos q nos saque el titulo\r\n",
        "# <title>Python (programming language) - Wikipedia</title>\r\n",
        "soup.title.name # le decimos q nos saque un nombre q tiene dentro del titulo\r\n",
        "# 'title'\r\n",
        "soup.title.string # le decimos q nos saque un string q tiene dentro del titulo\r\n",
        "# 'Python (programming language) - Wikipedia'\r\n",
        "\r\n",
        "# a continuacion le decimos q nos saque diferentes elementos q puedan estar presentes\r\n",
        "for sub_heading in soup.find_all('h2'):\r\n",
        "  print(sub_heading.text)\r\n",
        "# all the subheadings like Contents, History(edit)...\r\n"
      ],
      "execution_count": null,
      "outputs": [
        {
          "output_type": "stream",
          "text": [
            "Comunidad Spain AI\n",
            "FÃ³rmate con Spain AI\n",
            "Pon en prÃ¡ctica tus conocimientos en el Hackathon de Spain AI 2020\n",
            "PRÃXIMOS WEBINARS\n",
            "Ponentes que hemos tenido\n",
            "Sponsors\n",
            "Partners\n",
            "Nuestro Equipo\n",
            "Â¡Mantente informado!\n",
            "Â¡EscrÃ­benos!\n"
          ],
          "name": "stdout"
        }
      ]
    },
    {
      "cell_type": "code",
      "metadata": {
        "colab": {
          "base_uri": "https://localhost:8080/",
          "height": 35
        },
        "id": "PjwzOeHZfMXP",
        "outputId": "55046146-a1df-416c-cb42-2720b31f280c"
      },
      "source": [
        "# en el caso anterior podemos ver:\r\n",
        "# soup.title -> Comunidad Spain AI\r\n",
        "# soup.title.name -> FÃ³rmate con Spain AI\r\n",
        "# soup.title.string -> PRÃXIMOS WEBINARS\r\n",
        "# for sub_heading in soup.find_all('h2'): print(sub_heading.text)\r\n",
        "\"\"\"\r\n",
        "Ponentes que hemos tenido\r\n",
        "Sponsors\r\n",
        "Partners\r\n",
        "Nuestro Equipo\r\n",
        "Â¡Mantente informado!\r\n",
        "Â¡EscrÃ­benos!\r\n",
        "\"\"\"\r\n",
        "\r\n",
        "# antes nostros no teniamos esta informacion pq era simplemente un texto plano, el q teniamos en req dentro de 'print(req)'"
      ],
      "execution_count": null,
      "outputs": [
        {
          "output_type": "execute_result",
          "data": {
            "application/vnd.google.colaboratory.intrinsic+json": {
              "type": "string"
            },
            "text/plain": [
              "'\\nPonentes que hemos tenido\\nSponsors\\nPartners\\nNuestro Equipo\\nÂ¡Mantente informado!\\nÂ¡EscrÃ\\xadbenos!\\n'"
            ]
          },
          "metadata": {
            "tags": []
          },
          "execution_count": 77
        }
      ]
    },
    {
      "cell_type": "code",
      "metadata": {
        "colab": {
          "base_uri": "https://localhost:8080/",
          "height": 103
        },
        "id": "mkSdV8NLgJy6",
        "outputId": "124c4aa8-baed-458b-9d9a-b9fbe2431da9"
      },
      "source": [
        "req.text"
      ],
      "execution_count": null,
      "outputs": [
        {
          "output_type": "execute_result",
          "data": {
            "application/vnd.google.colaboratory.intrinsic+json": {
              "type": "string"
            },
            "text/plain": [
              "'<!DOCTYPE html>\\n<html lang=\"es\">\\n\\n<head>\\n\\n    <meta charset=\"utf-8\">\\n    <meta http-equiv=\"X-UA-Compatible\" content=\"IE=edge\">\\n    <meta name=\"viewport\" content=\"width=device-width, initial-scale=1\">\\n    <link rel=\"shortcut icon\" href=\"favicon.ico\" />\\n    <meta name=\"description\" content=\"SPAIN AI. Descubre la Inteligencia Artificial Aplicada\">\\n    <meta name=\"author\" content=\"NÃ©stor Ã\\x81lvaro\">\\n\\n    <title>SPAIN AI</title>\\n\\n    <!-- CUSTOM CSS -->\\n    <link href=\"css/custom.css\" rel=\"stylesheet\">\\n\\n    <!-- Bootstrap Core CSS -->\\n    <link href=\"vendor/bootstrap/css/bootstrap.min.css\" rel=\"stylesheet\">\\n\\n    <!-- Theme CSS -->\\n    <link href=\"css/freelancer.css\" rel=\"stylesheet\">\\n\\n    <!-- Custom Fonts -->\\n    <link href=\"vendor/font-awesome/css/font-awesome.min.css\" rel=\"stylesheet\" type=\"text/css\">\\n    <link href=\"https://fonts.googleapis.com/css?family=Montserrat:400,700\" rel=\"stylesheet\" type=\"text/css\">\\n    <link href=\"https://fonts.googleapis.com/css?family=Lato:400,700,400italic,700italic\" rel=\"stylesheet\" type=\"text/css\">\\n\\n    <!-- HTML5 Shim and Respond.js IE8 support of HTML5 elements and media queries -->\\n    <!-- WARNING: Respond.js doesn\\'t work if you view the page via file:// -->\\n    <!--[if lt IE 9]>\\n        <script src=\"https://oss.maxcdn.com/libs/html5shiv/3.7.0/html5shiv.js\"></script>\\n        <script src=\"https://oss.maxcdn.com/libs/respond.js/1.4.2/respond.min.js\"></script>\\n    <![endif]-->\\n\\n    <!-- Global site tag (gtag.js) - Google Analytics -->\\n    <script async src=\"https://www.googletagmanager.com/gtag/js?id=UA-140853963-1\"></script>\\n    <script>\\n      window.dataLayer = window.dataLayer || [];\\n      function gtag(){dataLayer.push(arguments);}\\n      gtag(\\'js\\', new Date());\\n      gtag(\\'config\\', \\'UA-140853963-1\\');\\n    </script>\\n\\n\\n</head>\\n\\n<body id=\"page-top\" class=\"index\">\\n\\n    <!-- Navigation -->\\n    <nav id=\"mainNav\" class=\"navbar navbar-default navbar-fixed-top navbar-custom\">\\n        <div class=\"container\">\\n            <!-- Brand and toggle get grouped for better mobile display -->\\n            <div class=\"navbar-header page-scroll\">\\n                <button type=\"button\" class=\"navbar-toggle\" data-toggle=\"collapse\" data-target=\"#bs-example-navbar-collapse-1\">\\n                    <span class=\"sr-only\">Toggle navigation</span> Menu <i class=\"fa fa-bars\"></i>\\n                </button>\\n\\n            </div>\\n\\n            <!-- Collect the nav links, forms, and other content for toggling -->\\n            <div class=\"collapse navbar-collapse\" id=\"bs-example-navbar-collapse-1\">\\n                <ul class=\"nav navbar-nav navbar-right\">\\n                    <li class=\"hidden\">\\n                        <a href=\"#page-top\"></a>\\n                    </li>\\n                    <li class=\"page-scroll\">\\n                        <a href=\"#page-top\">Inicio</a>\\n                    </li>\\n                    <li class=\"page-scroll\">\\n                        <a href=\"./formacion.html\">FormaciÃ³n</a>\\n                    </li>\\n                    <li class=\"page-scroll\">\\n                        <a href=\"./empleos.html#cabecera\">Empleo</a>\\n                    </li>\\n                    <li class=\"page-scroll\">\\n                        <a href=\"#events\">Eventos</a>\\n                    </li>\\n                    <li class=\"page-scroll\">\\n                        <a href=\"#speakers\">Ponentes</a>\\n                    </li>\\n                    <li class=\"page-scroll\">\\n                        <a href=\"#sponsors\">Sponsors</a>\\n                    </li>\\n                    <li class=\"page-scroll\">\\n                        <a href=\"#partners\">Partners</a>\\n                    </li>\\n                    <li class=\"page-scroll\">\\n                        <a href=\"#team\">Equipo</a>\\n                    </li>\\n                    <li class=\"page-scroll\">\\n                        <a href=\"#contact\">Contacto</a>\\n                    </li>\\n                </ul>\\n            </div>\\n            <!-- /.navbar-collapse -->\\n        </div>\\n        <!-- /.container-fluid -->\\n    </nav>\\n\\n    <!-- Header -->\\n    <header style=\"height: 500px; background:url(images/background.jpg); background-repeat: no-repeat; background-size: 100% 100%;\">\\n        <div class=\"container\">\\n            <div class=\"row\">\\n                <div class=\"col-lg-12\">\\n                    <img class=\"img-responsive\" src=\"\" alt=\"\">\\n                    <!-- This style adds the black border to the letters-->\\n                    <div class=\"intro-text\" style=\"text-shadow: -1px 0 black, 0 1px black, 1px 0 black, 0 -1px black;\">\\n                        <p style=\"font-weight:bold\">Bienvenido a SPAIN <span style=\"color:red;\">AI</span>!</p>\\n                        <h1>DESCUBRE LA INTELIGENCIA ARTIFICIAL APLICADA</1>\\n                        <p>Conecta con Expertos <span style=\"color:red;\">|</span> Descubre Startups <span style=\"color:red;\">|</span> Comparte experiencias</p>\\n                    </div>\\n                </div>\\n            </div>\\n        </div>\\n    </header>\\n\\n\\n    <!-- Events -->\\n    <section id=\"events\">\\n        <div class=\"container\">\\n          <div class=\"row\">\\n              <div class=\"col-lg-12 text-center\">\\n                  <!--\\n                  <p>\\n                      <span class=\"mostrar_ciudad\">Barcelona</span>\\n                      <span class=\"mostrar_ciudad\">Galicia</span>\\n                      <span class=\"mostrar_ciudad\">Granada</span>\\n                      <span class=\"mostrar_ciudad\">Madrid</span>\\n                      <span class=\"mostrar_ciudad\">MÃ¡laga</span>\\n                      <span class=\"mostrar_ciudad\">Zaragoza</span>\\n                  </p>\\n                  -->\\n\\n                  <h2>Comunidad Spain AI</h2><img src=\"./images/spain_ai.png\" class=\"img-responsive\" alt=\"\" style=\"max-width:300px\">\\n                  <p>Haz clic en cada ciudad para conocer las novedades y sus prÃ³ximos eventos</p>\\n                  <h3>\\n                    <a href=\"https://twitter.com/AlbaceteAI\" target=\"_blank\">Albacete AI</a>\\n                    | <a href=\"https://www.meetup.com/es-ES/alicante-artificial-intelligence-spain-ai/\" target=\"_blank\">Alicante AI</a>\\n                    | <a href=\"#\" target=\"_blank\">AlmerÃ\\xada AI</a>\\n                    | <a href=\"https://www.meetup.com/es-ES/asturias-artificial-intelligence-spain-ai/\" target=\"_blank\">Asturias AI</a>\\n                    | <a href=\"https://www.meetup.com/es-ES/barcelona-artificial-intelligence-spain-ai/\" target=\"_blank\">Barcelona AI</a>\\n                    | <a href=\"https://www.meetup.com/es-ES/bilbao-artificial-intelligence-spain-ai/\" target=\"_blank\">Bilbao AI</a>\\n                    | <a href=\"https://www.meetup.com/es-ES/canarias-artificial-intelligence-spain-ai/\" target=\"_blank\">Canarias AI</a>\\n                    | <a href=\"https://www.meetup.com/es-ES/galicia-artificial-intelligence-spain-ai/\" target=\"_blank\">Galicia AI</a>\\n                    | <a href=\"https://www.meetup.com/es-ES/granada-artificial-intelligence-spain-ai/\" target=\"_blank\">Granada AI</a>\\n                    | <a href=\"https://twitter.com/RiojaAI\" target=\"_blank\">Rioja AI</a>\\n                    | <a href=\"https://www.meetup.com/es-ES/madrid-artificial-intelligence-spain-ai/\" target=\"_blank\">Madrid AI</a>\\n                    | <a href=\"https://www.meetup.com/es-ES/malaga-artificial-intelligence-spain-ai/\" target=\"_blank\">MÃ¡laga AI</a>\\n                    | <a href=\"https://www.meetup.com/es-ES/Murcia-artificial-intelligence-spain-ai/\" target=\"_blank\">Murcia AI</a>\\n                    | <a href=\"https://twitter.com/pamplona_ai\" target=\"_blank\">Pamplona AI</a>\\n                    | <a href=\"https://www.meetup.com/es-ES/sevilla-artificial-intelligence-spain-ai/\" target=\"_blank\">Sevilla AI</a>\\n                    | <a href=\"https://www.meetup.com/es-ES/machine-learning-tarragona/\" target=\"_blank\">Tarragona AI</a>\\n                    | <a href=\"https://www.meetup.com/es-ES/toledo-artificial-intelligence-spain-ai/\" target=\"_blank\">Toledo AI</a>\\n                    | <a href=\"https://www.meetup.com/es-ES/valencia-ai-artificial-intelligence-spain-ai/\" target=\"_blank\">Valencia AI</a>\\n                    | <a href=\"https://www.meetup.com/es-ES/zaragoza-artificial-intelligence-spain-ai/\" target=\"_blank\">Zaragoza AI</a>\\n                </h3>\\n\\n                <div class=\"row ciudad\" >\\n                  <div class=\"col-sm-1 portfolio-item\">\\n                    <a href=\"https://anchor.fm/spainai/\" target=\"_blank\"><img src=\"./images/logos/anchor.png\" class=\"img-responsive\" alt=\"\" style=\"max-width:80px\"></a>\\n                  </div>\\n                  <div class=\"col-sm-2 portfolio-item\">\\n                      <a href=\"http://spainai.eventbrite.com\" target=\"_blank\"><img src=\"./images/logos/eventbrite.png\" class=\"img-responsive\" alt=\"\" style=\"max-width:80px\"></a>\\n                    </div>\\n                    <div class=\"col-sm-2 portfolio-item\">\\n                      <a href=\"https://www.facebook.com/Spain-AI-Inteligencia-Artificial-y-ciencia-de-datos-en-espa%C3%B1ol-105339131266231\" target=\"_blank\"><img src=\"./images/logos/facebook.png\" class=\"img-responsive\" alt=\"\" style=\"max-width:100px\"></a>\\n                    </div>\\n                    <div class=\"col-sm-2 portfolio-item\">\\n                      <a href=\"https://github.com/spain-ai\" target=\"_blank\"><img src=\"./images/logos/github.png\" class=\"img-responsive\" alt=\"\" style=\"max-width:80px\"></a>\\n                    </div>\\n                    <div class=\"col-sm-2 portfolio-item\">\\n                      <a href=\"https://www.youtube.com/spainai\" target=\"_blank\"><img src=\"./images/logos/youtube.png\" class=\"img-responsive\" alt=\"\" style=\"max-width:100px\"></a>\\n                    </div>\\n                    <div class=\"col-sm-2 portfolio-item\">\\n                      <a href=\"https://twitter.com/spain_ai_\" target=\"_blank\"><img src=\"./images/logos/twitter.png\" class=\"img-responsive\" alt=\"\" style=\"max-width:100px\"></a>\\n                    </div>\\n                    <div class=\"col-sm-1 portfolio-item\">\\n                      <a href=\"https://www.patreon.com/spainai\" target=\"_blank\"><img src=\"./images/logos/patreon.png\" class=\"img-responsive\" alt=\"\" style=\"max-width:80px\"></a>\\n                    </div>\\n                </div>\\n\\n\\n\\n              </div>\\n          </div>\\n        </div>\\n    </section>\\n\\n\\n\\n    <!-- FormaciÃ³n -->\\n    <section id=\"formacion\">\\n      <!-- PAST SPEAKERS -->\\n      <div class=\"container\">\\n          <div class=\"row\">\\n            <div class=\"col-lg-12 text-center\" style=\"font-size:120%\">\\n              <h2>FÃ³rmate con Spain AI</h2>\\n              <h3>\\n                  <a target=\"_blank\" href=\"./formacion.html\">Una nueva manera de formarse en IA</a>\\n              </h3>\\n              <iframe width=\"560\" height=\"315\" src=\"https://www.youtube.com/embed/9F5-2FTguhA\" frameborder=\"0\" allow=\"accelerometer; autoplay; encrypted-media; gyroscope; picture-in-picture\" allowfullscreen></iframe>\\n              <br/>\\n              <br/>\\n              <p>Adquiere los conocimientos necesarios combinando con Ã©xito <span style=\"font-size:130%; font-weight:bold\">teorÃ\\xada y prÃ¡ctica, siempre acompaÃ±ado</span> por reconocidos profesionales del sector de la Inteligencia Artificial.\\n              <br />\\n              <h3>\\n                <a target=\"_blank\" href=\"./formacion.html\">Â¡Quiero mÃ¡s informaciÃ³n!</a>\\n              </h3>\\n\\n              <h2>Pon en prÃ¡ctica tus conocimientos en el Hackathon de Spain AI 2020</h2>\\n              <h3>\\n                  <a target=\"_blank\" href=\"./hackathon2020.html\">Â¿Eres el mejor Data Scientist?</a>\\n              </h3>\\n              <iframe width=\"560\" height=\"315\" src=\"https://www.youtube.com/embed/DC7btvUxCx0\" frameborder=\"0\" allow=\"accelerometer; autoplay; encrypted-media; gyroscope; picture-in-picture\" allowfullscreen></iframe>\\n              <br/>\\n              \\n              <br/>\\n              <p style=\"font-weight:bold;\">Demuestra tus habilidades como Data Scientist en tres retos: <span style=\"font-size:110%; color:#18BC9C; \">Procesamiento del Lenguaje Natural, VisiÃ³n por Ordenador, y Series temporales</span> donde podrÃ¡s poner a prueba tus mejores habilidades:</p>\\n              <br />\\n              <h3>\\n                <a target=\"_blank\" href=\"./hackathon2020.html\">Â¡Demuestra tus habilidades como Data Scientist!</a>\\n              </h3>\\n              <h3>\\n                <a target=\"_blank\" href=\"https://spainai.typeform.com/to/pK2bBeOd\">Â¡Me apunto!</a>\\n              </h3>\\n\\n            </div>\\n        </div>\\n      </div>\\n    </section>\\n\\n\\n    <!-- Speakers -->\\n    <section id=\"speakers\">\\n      <!-- PAST SPEAKERS -->\\n      <div class=\"container\">\\n          <div class=\"row\">\\n              <div class=\"col-lg-12 text-center\" style=\"font-size:120%\">\\n                  <h2>PRÃ\\x93XIMOS WEBINARS</h2>\\n                  <hr class=\"star-primary\">\\n\\n                  <p>14 de Enero: <b>Justicia Social en la era de los datos Â¡Reto Aceptado!</b> con Paula SantamarÃ\\xada.\\n                    <a target=\"_blank\" href=\"#\">Â¡Â¡ApÃºntate!!</a>\\n                    <br />\\n                    <br />\\n                    <a target=\"_blank\" href=\"#\" class=\"portfolio-link\" >\\n                      <img src=\"./images/carteles/2021_01_14.jpg\" class=\"img-responsive\" style=\"max-width:60%\" alt=\"\">\\n                    </a>\\n                  </p>\\n                  <br />\\n                  <br />\\n                  <!--\\n                  <p>5 de noviembre: <b>Empat-IA: Las personas en el mundo de las mÃ¡quinas</b> con Jenifer Prado.\\n                    <a target=\"_blank\" href=\"https://www.eventbrite.es/e/entradas-webinar-ai-lead-talk-empat-ia-las-personas-en-el-mundo-de-las-maquinas-126241588991\">Â¡Â¡ApÃºntate!!</a>\\n                    <br />\\n                    <br />\\n                    <a target=\"_blank\" href=\"https://www.eventbrite.es/e/entradas-webinar-ai-lead-talk-empat-ia-las-personas-en-el-mundo-de-las-maquinas-126241588991\" class=\"portfolio-link\" >\\n                      <img src=\"./images/carteles/2020_11_05.jpeg\" class=\"img-responsive\" style=\"max-width:60%\" alt=\"\">\\n                    </a>\\n                  </p>\\n                  <br />\\n                  <br />\\n                -->\\n\\n\\n\\n              </div>\\n          </div>\\n          <!--\\n          <div class=\"row ciudad barcelona\">\\n              <div class=\"col-lg-12 text-center\">\\n                  <h3>ClasificaciÃ³n de imÃ¡genes con AI, y aplicaciones COVID-19</h3>\\n                  <h3><a target=\"_blank\" href=\"https://www.eventbrite.es/e/entradas-webinar-gratuito-clasificacion-de-imagenes-con-ai-y-aplicaciones-covid-19-102082427288\">Â¡APÃ\\x9aNTATE!</a></h3>\\n                  <h4>Barcelona AI Webinar</h4>\\n                  <h4>10 - Abril - 2020</h4>\\n              </div>\\n          </div>\\n          <div class=\"row ciudad madrid\">\\n              <div class=\"col-sm-6 portfolio-item\">\\n                <a href=\"https://www.linkedin.com/in/ignasibelda/\" class=\"portfolio-link\" >\\n                    <img src=\"./images/speakers/ignasi_belda.jpeg\" class=\"img-responsive\" alt=\"\">\\n                    <span class=\"portfolio-text\">Ignasi <br/>Belda</span>\\n                    <p class=\"speaker_description\">CEO MiWendo Solutions</p>\\n                </a>\\n              </div>\\n              <div class=\"col-sm-6 portfolio-item\">\\n                <a href=\"https://www.linkedin.com/in/jlrosa/\" class=\"portfolio-link\" >\\n                    <img src=\"./images/equipo/juan_luis_rosa.jpeg\" class=\"img-responsive\" alt=\"\">\\n                    <span class=\"portfolio-text\">Juan Luis <br/>Rosa</span>\\n                    <p class=\"speaker_description\">AI Freelance Engineer</p>\\n                </a>\\n              </div>\\n          </div>\\n\\n          -->\\n        </div> <!-- FIN CONTAINER -->\\n        <br />\\n        <br />\\n        <br />\\n        <br />\\n        <!-- PAST SPEAKERS -->\\n        <div class=\"container\">\\n            <div class=\"row\">\\n                <div class=\"col-lg-12 text-center\">\\n                    <h2>Ponentes que hemos tenido</h2>\\n                    <hr class=\"star-primary\">\\n                </div>\\n            </div>\\n\\n            <div class=\"row ciudad madrid\">\\n                <div class=\"col-lg-12 text-center\">\\n                    <h3>Madrid AI Webinar #21</h3>\\n                    <h4>2020-12-17</h4>\\n                </div>\\n            </div>\\n            <div class=\"row ciudad madrid\">\\n              <div class=\"col-sm-12 portfolio-item\">\\n                <a href=\"https://www.linkedin.com/in/ana-laguna-pradas-771a9a2a/\" class=\"portfolio-link\" >\\n                    <img src=\"./images/speakers/Ana_Laguna.jpeg\" class=\"img-responsive\" alt=\"\">\\n                    <span class=\"portfolio-text\">Ana <br/>Laguna</span>\\n                    <p class=\"speaker_description\">Co-founder & Data Scientist en Zoundream</p>\\n                </a>\\n              </div>\\n            </div>\\n\\n\\n            <div class=\"row ciudad madrid\">\\n                <div class=\"col-lg-12 text-center\">\\n                    <h3>Madrid AI Webinar #20</h3>\\n                    <h4>2020-12-10</h4>\\n                </div>\\n            </div>\\n            <div class=\"row ciudad madrid\">\\n              <div class=\"col-sm-12 portfolio-item\">\\n                <a href=\"https://www.linkedin.com/in/xavierportillaedo/\" class=\"portfolio-link\" >\\n                    <img src=\"./images/speakers/Xavier_Portilla.jpeg\" class=\"img-responsive\" alt=\"\">\\n                    <span class=\"portfolio-text\">Xavier <br/>Portilla</span>\\n                    <p class=\"speaker_description\">R&D Advance Software Engineer en Ericsson</p>\\n                </a>\\n              </div>\\n            </div>\\n\\n\\n            <div class=\"row ciudad pamplona\">\\n                <div class=\"col-lg-12 text-center\">\\n                    <h3>Pamplona AI Webinar #1</h3>\\n                    <h4>2020-12-03</h4>\\n                </div>\\n            </div>\\n            <div class=\"row ciudad pamplona\">\\n              <div class=\"col-sm-12 portfolio-item\">\\n                <a href=\"https://www.linkedin.com/in/diego-saez-trumper-5b24a2aa/\" class=\"portfolio-link\" >\\n                    <img src=\"./images/speakers/Diego_Saez.jpeg\" class=\"img-responsive\" alt=\"\">\\n                    <span class=\"portfolio-text\">Diego <br/>Saez</span>\\n                    <p class=\"speaker_description\">Research Scientist, FundaciÃ³n Wikimedia</p>\\n                </a>\\n              </div>\\n            </div>\\n\\n\\n            <div class=\"row ciudad madrid\">\\n                <div class=\"col-lg-12 text-center\">\\n                    <h3>Madrid AI Webinar #19</h3>\\n                    <h4>2020-11-26</h4>\\n                </div>\\n            </div>\\n            <div class=\"row ciudad madrid\">\\n              <div class=\"col-sm-12 portfolio-item\">\\n                <a href=\"https://www.linkedin.com/in/csrebollo/\" class=\"portfolio-link\" >\\n                    <img src=\"./images/speakers/Cristina_Sanchez.jpeg\" class=\"img-responsive\" alt=\"\">\\n                    <span class=\"portfolio-text\">Cristina <br/>SÃ¡nchez</span>\\n                    <p class=\"speaker_description\">Advanced Analytics Customer Advisory</p>\\n                </a>\\n              </div>\\n            </div>\\n\\n            <div class=\"row ciudad madrid\">\\n                <div class=\"col-lg-12 text-center\">\\n                    <h3>Madrid AI Webinar #18</h3>\\n                    <h4>2020-11-19</h4>\\n                </div>\\n            </div>\\n            <div class=\"row ciudad madrid\">\\n              <div class=\"col-sm-12 portfolio-item\">\\n                <a href=\"https://www.linkedin.com/in/alejandro-vaca-serrano/\" class=\"portfolio-link\" >\\n                    <img src=\"./images/speakers/alejandro_vaca.jpeg\" class=\"img-responsive\" alt=\"\">\\n                    <span class=\"portfolio-text\">Alejandro <br/>Vaca</span>\\n                    <p class=\"speaker_description\">CientÃ\\xadfico de datos en Departamento de IA de Instituto de IngenierÃ\\xada del Conocimiento (IIC)</p>\\n                </a>\\n              </div>\\n            </div>\\n\\n            <div class=\"row ciudad madrid\">\\n                <div class=\"col-lg-12 text-center\">\\n                    <h3>Madrid AI Webinar #17</h3>\\n                    <h4>2020-10-29</h4>\\n                </div>\\n            </div>\\n            <div class=\"row ciudad madrid\">\\n              <div class=\"col-sm-12 portfolio-item\">\\n                <a href=\"https://www.linkedin.com/in/victorianoizquierdo/\" class=\"portfolio-link\" >\\n                    <img src=\"./images/speakers/Victoriano_Izquierdo.jpeg\" class=\"img-responsive\" alt=\"\">\\n                    <span class=\"portfolio-text\">Victoriano <br/> Izquierdo</span>\\n                    <p class=\"speaker_description\">Co-Founder & CEO at Graphext</p>\\n                </a>\\n              </div>\\n            </div>\\n\\n            <div class=\"row ciudad madrid\">\\n                <div class=\"col-lg-12 text-center\">\\n                    <h3>Madrid AI Webinar #16</h3>\\n                    <h4>2020-10-20</h4>\\n                </div>\\n            </div>\\n            <div class=\"row ciudad madrid\">\\n              <div class=\"col-sm-12 portfolio-item\">\\n                <a href=\"https://www.linkedin.com/in/ignacio-h-medrano-08861a46/\" class=\"portfolio-link\" >\\n                    <img src=\"./images/speakers/Ignacio_Medrano.jpeg\" class=\"img-responsive\" alt=\"\">\\n                    <span class=\"portfolio-text\">Ignacio H. <br/> Medrano.</span>\\n                    <p class=\"speaker_description\">NeurÃ³logo. Fundador de Savana y de Mendelian</p>\\n                </a>\\n              </div>\\n            </div>\\n\\n            <div class=\"row ciudad madrid mexico argentina colombia\">\\n                <div class=\"col-lg-12 text-center\">\\n                    <h3>World AI Webinar #1</h3>\\n                    <h4>2020-10-15</h4>\\n                </div>\\n            </div>\\n            <div class=\"row ciudad madrid mexico argentina colombia\">\\n                <div class=\"col-sm-3 portfolio-item\">\\n                  <a href=\"https://www.linkedin.com/in/cristinaaranda-businessdevelopment/\" class=\"portfolio-link\" >\\n                      <img src=\"./images/speakers/Cristina_Aranda.jpeg\" class=\"img-responsive\" alt=\"\">\\n                      <span class=\"portfolio-text\">Cristina <br/>Aranda</span>\\n                      <p class=\"speaker_description\">Business Development EU at Taiger | Innovation | Co-founder of MujeresTech</p>\\n                  </a>\\n                </div>\\n                <div class=\"col-sm-3 portfolio-item\">\\n                  <a href=\"https://www.linkedin.com/in/gabriel-guerrero-ba07a223/\" class=\"portfolio-link\" >\\n                      <img src=\"./images/speakers/Gabriel_Guerrero.jpg\" class=\"img-responsive\" alt=\"\">\\n                      <span class=\"portfolio-text\">Gabriel <br/>Guerrero</span>\\n                      <p class=\"speaker_description\">Socio fundador saxsa</p>\\n                  </a>\\n                </div>\\n                <div class=\"col-sm-3 portfolio-item\">\\n                  <a href=\"https://www.linkedin.com/in/csarraute/\" class=\"portfolio-link\" >\\n                      <img src=\"./images/speakers/Carlos_Sarraute.jpeg\" class=\"img-responsive\" alt=\"\">\\n                      <span class=\"portfolio-text\">Carlos <br/>Sarraute</span>\\n                      <p class=\"speaker_description\">Sr. Data Science Manager en Wildlife Studios</p>\\n                  </a>\\n                </div>\\n                <div class=\"col-sm-3 portfolio-item\">\\n                  <a href=\"https://www.linkedin.com/in/jsneiza/\" class=\"portfolio-link\" >\\n                      <img src=\"./images/speakers/Juan_Neiza.jpeg\" class=\"img-responsive\" alt=\"\">\\n                      <span class=\"portfolio-text\">Juan <br/>Neiza</span>\\n                      <p class=\"speaker_description\">Data Science & Machine Learning Leader for Latam. Co-founder of \"Colombia AI\"</p>\\n                  </a>\\n                </div>\\n            </div>\\n\\n            <div class=\"row ciudad toledo\">\\n                <div class=\"col-lg-12 text-center\">\\n                    <h3>Toledo AI Webinar #1</h3>\\n                    <h4>2020-10-08</h4>\\n                </div>\\n            </div>\\n            <div class=\"row ciudad toledo\">\\n              <div class=\"col-sm-12 portfolio-item\">\\n                <a href=\"https://www.linkedin.com/in/luis-saucedo-mora-39509341/\" class=\"portfolio-link\" >\\n                    <img src=\"./images/speakers/Luis_Saucedo.jpeg\" class=\"img-responsive\" alt=\"\">\\n                    <span class=\"portfolio-text\">Luis <br/>Saucedo</span>\\n                    <p class=\"speaker_description\">CEO and Founder at Dubio Integrity</p>\\n                </a>\\n              </div>\\n            </div>\\n\\n            <div class=\"row ciudad madrid\">\\n                <div class=\"col-lg-12 text-center\">\\n                    <h3>Madrid AI Webinar #15</h3>\\n                    <h4>2020-10-01</h4>\\n                </div>\\n            </div>\\n            <div class=\"row ciudad madrid\">\\n              <div class=\"col-sm-12 portfolio-item\">\\n                <a href=\"https://www.linkedin.com/in/alejandrohall/\" class=\"portfolio-link\" >\\n                    <img src=\"./images/speakers/Alejandro_Polvillo.jpeg\" class=\"img-responsive\" alt=\"\">\\n                    <span class=\"portfolio-text\">Alejandro <br/>Polvillo</span>\\n                    <p class=\"speaker_description\">Data Scientist at CARTO</p>\\n                </a>\\n              </div>\\n            </div>\\n\\n            <div class=\"row ciudad madrid\">\\n                <div class=\"col-lg-12 text-center\">\\n                    <h3>Madrid AI Webinar #14</h3>\\n                    <h4>2020-09-17</h4>\\n                </div>\\n            </div>\\n            <div class=\"row ciudad madrid\">\\n              <div class=\"col-sm-12 portfolio-item\">\\n                <a href=\"https://www.linkedin.com/in/angel-ni%C3%B1o-803b735b/\" class=\"portfolio-link\" >\\n                    <img src=\"./images/speakers/Angel_Nino.jpeg\" class=\"img-responsive\" alt=\"\">\\n                    <span class=\"portfolio-text\">Ã\\x81ngel <br/>NiÃ±o</span>\\n                    <p class=\"speaker_description\">Concejal de InnovaciÃ³n en Madrid</p>\\n                </a>\\n              </div>\\n            </div>\\n\\n\\n            <div class=\"row ciudad argentina-buenosaires\">\\n                <div class=\"col-lg-12 text-center\">\\n                    <h3>Argentina AI Webinar #1</h3>\\n                    <h4>2020-09-10</h4>\\n                </div>\\n            </div>\\n            <div class=\"row ciudad argentina-buenosaires\">\\n              <div class=\"col-sm-12 portfolio-item\">\\n                <a href=\"https://www.linkedin.com/in/csarraute/\" class=\"portfolio-link\" >\\n                    <img src=\"./images/speakers/Carlos_Sarraute.jpeg\" class=\"img-responsive\" alt=\"\">\\n                    <span class=\"portfolio-text\">Carlos <br/>Sarraute</span>\\n                    <p class=\"speaker_description\">Sr. Data Science Manager en Wildlife Studios</p>\\n                </a>\\n              </div>\\n            </div>\\n\\n\\n            <div class=\"row ciudad galicia\">\\n                <div class=\"col-lg-12 text-center\">\\n                    <h3>Galicia AI Webinar #1</h3>\\n                    <h4>2020-08-06</h4>\\n                </div>\\n            </div>\\n            <div class=\"row ciudad galicia\">\\n              <div class=\"col-sm-12 portfolio-item\">\\n                <a href=\"https://www.linkedin.com/in/franciscocarrero/\" class=\"portfolio-link\" >\\n                    <img src=\"./images/speakers/Francisco_Carrero.jpeg\" class=\"img-responsive\" alt=\"\">\\n                    <span class=\"portfolio-text\">Frankie <br/>Carrero</span>\\n                    <p class=\"speaker_description\">Artificial Intelligence Strategy | Machine Learning, Innovation, Digital Product | Podcaster</p>\\n                </a>\\n              </div>\\n            </div>\\n\\n\\n\\n\\n\\n            <div class=\"row ciudad madrid\">\\n                <div class=\"col-lg-12 text-center\">\\n                    <h3>Madrid AI Webinar #13</h3>\\n                    <h4>2020-07-30</h4>\\n                </div>\\n            </div>\\n            <div class=\"row ciudad madrid\">\\n                <div class=\"col-sm-12 portfolio-item\">\\n                  <a href=\"https://www.linkedin.com/in/montse-guardia-guell-09257b3/\" class=\"portfolio-link\" >\\n                      <img src=\"./images/speakers/montse_guardia.jpeg\" class=\"img-responsive\" alt=\"\">\\n                      <span class=\"portfolio-text\">Montse <br/>Guardia</span>\\n                      <p class=\"speaker_description\">General Manager at Alastria Blockchain Ecosystem</p>\\n                  </a>\\n                </div>\\n            </div>\\n\\n\\n            <div class=\"row ciudad madrid\">\\n                <div class=\"col-lg-12 text-center\">\\n                    <h3>Madrid AI Webinar #12</h3>\\n                    <h4>2020-07-23</h4>\\n                </div>\\n            </div>\\n            <div class=\"row ciudad madrid\">\\n                <div class=\"col-sm-12 portfolio-item\">\\n                  <a href=\"https://www.linkedin.com/in/rosa-elvira-lillo-rodr%C3%ADguez-4a12a4123/\" class=\"portfolio-link\" >\\n                      <img src=\"./images/speakers/rosa_lillo.jpeg\" class=\"img-responsive\" alt=\"\">\\n                      <span class=\"portfolio-text\">Rosa <br/>Lillo</span>\\n                      <p class=\"speaker_description\">CatedrÃ¡tica de EstadÃ\\xadstica (uc3m) y directora del IBiDat</p>\\n                  </a>\\n                </div>\\n            </div>\\n\\n\\n            <div class=\"row ciudad madrid\">\\n                <div class=\"col-lg-12 text-center\">\\n                    <h3>Madrid AI Webinar #11</h3>\\n                    <h4>2020-07-16</h4>\\n                </div>\\n            </div>\\n            <div class=\"row ciudad madrid\">\\n                <div class=\"col-sm-12 portfolio-item\">\\n                  <a href=\"https://www.linkedin.com/in/juan-benavente/\" class=\"portfolio-link\" >\\n                      <img src=\"./images/speakers/juan_benavente.jpeg\" class=\"img-responsive\" alt=\"\">\\n                      <span class=\"portfolio-text\">Juan <br/>Benavente</span>\\n                      <p class=\"speaker_description\">Industry 4.0 SME</p>\\n                  </a>\\n                </div>\\n            </div>\\n\\n            <div class=\"row ciudad madrid\">\\n                <div class=\"col-lg-12 text-center\">\\n                    <h3>Madrid AI Webinar #10</h3>\\n                    <h4>2020-07-09</h4>\\n                </div>\\n            </div>\\n            <div class=\"row ciudad madrid\">\\n                <div class=\"col-sm-12 portfolio-item\">\\n                  <a href=\"https://www.linkedin.com/in/adriaciurana/\" class=\"portfolio-link\" >\\n                      <img src=\"./images/speakers/adria_ciurana.jpeg\" class=\"img-responsive\" alt=\"\">\\n                      <span class=\"portfolio-text\">AdriÃ\\xa0 <br/>Ciurana</span>\\n                      <p class=\"speaker_description\">Big Data, Deep Learning & Computer Vision Researcher</p>\\n                  </a>\\n                </div>\\n            </div>\\n\\n            <div class=\"row ciudad madrid\">\\n                <div class=\"col-lg-12 text-center\">\\n                    <h3>Madrid AI Webinar #9</h3>\\n                    <h4>2020-07-02</h4>\\n                </div>\\n            </div>\\n            <div class=\"row ciudad madrid\">\\n                <div class=\"col-sm-12 portfolio-item\">\\n                  <a href=\"https://www.linkedin.com/in/sergiocalde94/\" class=\"portfolio-link\" >\\n                      <img src=\"./images/speakers/sergio_calderon.jpeg\" class=\"img-responsive\" alt=\"\">\\n                      <span class=\"portfolio-text\">Sergio <br/>CalderÃ³n</span>\\n                      <p class=\"speaker_description\">Data Scientist, @Orange</p>\\n                  </a>\\n                </div>\\n            </div>\\n\\n\\n            <div class=\"row ciudad asturias\">\\n                <div class=\"col-lg-12 text-center\">\\n                    <h3>Asturias AI Webinar #1</h3>\\n                    <h4>2020-06-25</h4>\\n                </div>\\n            </div>\\n            <div class=\"row ciudad asturias\">\\n                <div class=\"col-sm-12 portfolio-item\">\\n                  <a href=\"https://www.linkedin.com/in/franciscollanezagonzalez/\" class=\"portfolio-link\" >\\n                      <img src=\"./images/speakers/fran_llaneza.jpeg\" class=\"img-responsive\" alt=\"\">\\n                      <span class=\"portfolio-text\">Fran <br/>Llaneza</span>\\n                      <p class=\"speaker_description\">Senior Data Scientist en Deloitte</p>\\n                  </a>\\n                </div>\\n            </div>\\n\\n\\n            <div class=\"row ciudad madrid\">\\n                <div class=\"col-lg-12 text-center\">\\n                    <h3>Madrid AI Webinar #8</h3>\\n                    <h4>2019-06-23</h4>\\n                </div>\\n            </div>\\n            <div class=\"row ciudad madrid\">\\n                <div class=\"col-sm-3 portfolio-item\">\\n                  <a href=\"https://www.linkedin.com/in/ander-fernandez/\" class=\"portfolio-link\" >\\n                      <img src=\"./images/speakers/ander_fernandez.jpeg\" class=\"img-responsive\" alt=\"\">\\n                      <span class=\"portfolio-text\">Ander <br/>FernÃ¡ndez</span>\\n                      <p class=\"speaker_description\">Data Scientist | LIN3S â\\x89¡ Digital Agency</p>\\n                  </a>\\n                </div>\\n                <div class=\"col-sm-3 portfolio-item\">\\n                  <a href=\"https://www.linkedin.com/in/alexander-seoane/\" class=\"portfolio-link\" >\\n                      <img src=\"./images/speakers/alexander_seoane.jpeg\" class=\"img-responsive\" alt=\"\">\\n                      <span class=\"portfolio-text\">Alexander <br/>Seoane</span>\\n                      <p class=\"speaker_description\">Director Comercial y de Marketing</p>\\n                  </a>\\n                </div>\\n                <div class=\"col-sm-3 portfolio-item\">\\n                  <a href=\"https://www.linkedin.com/in/armando-robles-liberato-452ab3110/\" class=\"portfolio-link\" >\\n                      <img src=\"./images/speakers/armando_robles.jpeg\" class=\"img-responsive\" alt=\"\">\\n                      <span class=\"portfolio-text\">Armando <br/>Robles</span>\\n                      <p class=\"speaker_description\">Data Scientist</p>\\n                  </a>\\n                </div>\\n                <div class=\"col-sm-3 portfolio-item\">\\n                  <a href=\"https://www.linkedin.com/in/alejandro-vaca-serrano/\" class=\"portfolio-link\" >\\n                      <img src=\"./images/speakers/alejandro_vaca.jpeg\" class=\"img-responsive\" alt=\"\">\\n                      <span class=\"portfolio-text\">Alejandro <br/>Vaca</span>\\n                      <p class=\"speaker_description\">CientÃ\\xadfico de datos en Departamento de IA de Instituto de IngenierÃ\\xada del Conocimiento (IIC)</p>\\n                  </a>\\n                </div>\\n            </div>\\n\\n\\n            <div class=\"row ciudad madrid\">\\n                <div class=\"col-lg-12 text-center\">\\n                    <h3>Madrid AI Webinar #7</h3>\\n                    <h4>2020-06-18</h4>\\n                </div>\\n            </div>\\n            <div class=\"row ciudad madrid\">\\n                <div class=\"col-sm-12 portfolio-item\">\\n                  <a href=\"https://www.linkedin.com/in/bartolo-luque-serrano-4994b269/\" class=\"portfolio-link\" >\\n                      <img src=\"./images/speakers/bartolo_luque.jpeg\" class=\"img-responsive\" alt=\"\">\\n                      <span class=\"portfolio-text\">Bartolo <br/>Luque</span>\\n                      <p class=\"speaker_description\">Profesor titular en Escuela TÃ©cnica Superior de IngenierÃ\\xada AeronÃ¡utica y del Espacio UPM</p>\\n                  </a>\\n                </div>\\n            </div>\\n\\n\\n            <div class=\"row ciudad madrid\">\\n                <div class=\"col-lg-12 text-center\">\\n                    <h3>Madrid AI Webinar #6</h3>\\n                    <h4>2020-06-16</h4>\\n                </div>\\n            </div>\\n            <div class=\"row ciudad madrid\">\\n                <div class=\"col-sm-12 portfolio-item\">\\n                  <a href=\"https://www.linkedin.com/in/%C3%A1lvaro-barbero-jim%C3%A9nez-6056005/\" class=\"portfolio-link\" >\\n                      <img src=\"./images/speakers/alvaro_barbero.jpeg\" class=\"img-responsive\" alt=\"\">\\n                      <span class=\"portfolio-text\">Ã\\x81lvaro <br/>Barbero</span>\\n                      <p class=\"speaker_description\">PhD, CientÃ\\xadfico Jefe de Datos en el Instituto de IngenierÃ\\xada del Conocimiento (IIC)</p>\\n                  </a>\\n                </div>\\n            </div>\\n\\n            <div class=\"row ciudad bilbao\">\\n                <div class=\"col-lg-12 text-center\">\\n                    <h3>Bilbao AI Webinar #4</h3>\\n                    <h4>2020-05-26 / 2020-05-28</h4>\\n                </div>\\n            </div>\\n            <div class=\"row ciudad madrid\">\\n              <div class=\"col-sm-6 portfolio-item\">\\n                <a href=\"https://www.linkedin.com/in/alfonsomedela/\" class=\"portfolio-link\" >\\n                    <img src=\"./images/speakers/alfonso_medela.jpeg\" class=\"img-responsive\" alt=\"\">\\n                    <span class=\"portfolio-text\">Alfonso <br/>Medela</span>\\n                    <p class=\"speaker_description\">Computer Vision Data Scientist at Tecnalia Research & Innovation</p>\\n                </a>\\n              </div>\\n\\n              <div class=\"col-sm-6 portfolio-item\">\\n                <a href=\"https://www.linkedin.com/in/mglezsanemeterio/\" class=\"portfolio-link\" >\\n                    <img src=\"./images/speakers/miguel_gonzalez.jpeg\" class=\"img-responsive\" alt=\"\">\\n                    <span class=\"portfolio-text\">Miguel <br/>GonzÃ¡lez</span>\\n                    <p class=\"speaker_description\">Investigador Junior en IA para visiÃ³n artificial</p>\\n                </a>\\n              </div>\\n            </div>\\n\\n\\n            <div class=\"row ciudad bilbao\">\\n                <div class=\"col-lg-12 text-center\">\\n                    <h3>Bilbao AI Webinar #3</h3>\\n                    <h4>2020-05-14 / 2020-05-21</h4>\\n                </div>\\n            </div>\\n            <div class=\"row ciudad madrid\">\\n              <div class=\"col-sm-6 portfolio-item\">\\n                <a href=\"https://www.linkedin.com/in/manuel-m-43b724142/\" class=\"portfolio-link\" >\\n                    <img src=\"./images/speakers/manuel_martin2.jpg\" class=\"img-responsive\" alt=\"\">\\n                    <span class=\"portfolio-text\">Manuel <br/>MartÃ\\xadn</span>\\n                    <p class=\"speaker_description\">AI Engineer</p>\\n                </a>\\n              </div>\\n\\n              <div class=\"col-sm-6 portfolio-item\">\\n                <a href=\"https://www.linkedin.com/in/ccarballolozano/\" class=\"portfolio-link\" >\\n                    <img src=\"./images/speakers/christian_carballo.jpeg\" class=\"img-responsive\" alt=\"\">\\n                    <span class=\"portfolio-text\">Christian <br/>Carballo</span>\\n                    <p class=\"speaker_description\">Machine Learning Engineer at Plain Concepts</p>\\n                </a>\\n              </div>\\n            </div>\\n\\n            <div class=\"row ciudad madrid\">\\n                <div class=\"col-lg-12 text-center\">\\n                    <h3>Madrid AI Webinar #5</h3>\\n                    <h4>2020-05-05</h4>\\n                </div>\\n            </div>\\n            <div class=\"row ciudad madrid\">\\n                <div class=\"col-sm-12 portfolio-item\">\\n                  <a href=\"https://www.linkedin.com/in/sgordillo/\" class=\"portfolio-link\" >\\n                      <img src=\"./images/speakers/sergio_gordillo.jpeg\" class=\"img-responsive\" alt=\"\">\\n                      <span class=\"portfolio-text\">Sergio <br/>Gordillo</span>\\n                      <p class=\"speaker_description\">Cloud Architect at Keepler</p>\\n                  </a>\\n                </div>\\n            </div>\\n\\n\\n            <div class=\"row ciudad madrid\">\\n                <div class=\"col-lg-12 text-center\">\\n                    <h3>Madrid AI Webinar #4</h3>\\n                    <h4>2020-04-30</h4>\\n                </div>\\n            </div>\\n            <div class=\"row ciudad madrid\">\\n                <div class=\"col-sm-12 portfolio-item\">\\n                  <a href=\"https://www.linkedin.com/in/juan-luis-trejo-618a5858/\" class=\"portfolio-link\" >\\n                      <img src=\"./images/speakers/juan_luis_trejo.jpeg\" class=\"img-responsive\" alt=\"\">\\n                      <span class=\"portfolio-text\">Juan Luis <br/>Trejo</span>\\n                      <p class=\"speaker_description\">EMEA Shortcycle Business Leader. Honeywell (HPS)</p>\\n                  </a>\\n                </div>\\n            </div>\\n\\n            <div class=\"row ciudad madrid\">\\n                <div class=\"col-lg-12 text-center\">\\n                    <h3>Madrid AI Webinar #3</h3>\\n                    <h4>2020-04-26</h4>\\n                </div>\\n            </div>\\n            <div class=\"row ciudad madrid\">\\n                <div class=\"col-sm-12 portfolio-item\">\\n                  <a href=\"https://www.linkedin.com/in/jfquesada/\" class=\"portfolio-link\" >\\n                      <img src=\"./images/speakers/jose_quesada.jpeg\" class=\"img-responsive\" alt=\"\">\\n                      <span class=\"portfolio-text\">JosÃ© <br/>Quesada</span>\\n                      <p class=\"speaker_description\">Helping companies and technologists excel at AI</p>\\n                  </a>\\n                </div>\\n            </div>\\n\\n            <div class=\"row ciudad bilbao\">\\n                <div class=\"col-lg-12 text-center\">\\n                    <h3>Bilbao AI Webinar #2</h3>\\n                    <h4>2020-04-23</h4>\\n                </div>\\n            </div>\\n            <div class=\"row ciudad bilbao\">\\n                <div class=\"col-sm-12 portfolio-item\">\\n                  <a href=\"https://www.linkedin.com/\" class=\"portfolio-link\" >\\n                      <img src=\"./images/speakers/santiago_hincapie.jpg\" class=\"img-responsive\" alt=\"\">\\n                      <span class=\"portfolio-text\">Santiago <br/>Hincapie</span>\\n                      <p class=\"speaker_description\">MatemÃ¡tico de la Universidad de Deusto en el equipo Research eVida</p>\\n                  </a>\\n                </div>\\n            </div>\\n\\n            <div class=\"row ciudad bilbao\">\\n                <div class=\"col-lg-12 text-center\">\\n                    <h3>Bilbao AI Webinar #1</h3>\\n                    <h4>2020-04-15</h4>\\n                </div>\\n            </div>\\n            <div class=\"row ciudad bilbao\">\\n                <div class=\"col-sm-12 portfolio-item\">\\n                  <a href=\"https://www.linkedin.com/in/alfonsomedela/\" class=\"portfolio-link\" >\\n                      <img src=\"./images/speakers/alfonso_medela.jpeg\" class=\"img-responsive\" alt=\"\">\\n                      <span class=\"portfolio-text\">Alfonso <br/>Medela</span>\\n                      <p class=\"speaker_description\">Computer Vision Data Scientist at Tecnalia Research & Innovation</p>\\n                  </a>\\n                </div>\\n            </div>\\n\\n            <div class=\"row ciudad madrid\">\\n                <div class=\"col-lg-12 text-center\">\\n                    <h3>Madrid AI Webinar #2</h3>\\n                    <h4>2020-04-13 / 2020-04-20</h4>\\n                </div>\\n            </div>\\n            <div class=\"row ciudad madrid\">\\n                <div class=\"col-sm-12 portfolio-item\">\\n                  <a href=\"https://www.linkedin.com/in/jamal-toutouh/\" class=\"portfolio-link\" >\\n                      <img src=\"./images/speakers/jamal_toutouh.jpeg\" class=\"img-responsive\" alt=\"\">\\n                      <span class=\"portfolio-text\">Jamal <br/>Toutouh</span>\\n                      <p class=\"speaker_description\">Postdoctoral Fellow in Massachusetts Institute of Technology (MIT)</p>\\n                  </a>\\n                </div>\\n            </div>\\n\\n            <div class=\"row ciudad barcelona\">\\n                <div class=\"col-lg-12 text-center\">\\n                    <h3>Barcelona AI Webinar #1</h3>\\n                    <h4>2020-04-10 / 2020-04-17</h4>\\n                </div>\\n            </div>\\n            <div class=\"row ciudad barcelona\">\\n                <div class=\"col-sm-6 portfolio-item\">\\n                  <a href=\"https://www.linkedin.com/in/juanjobeunza/\" class=\"portfolio-link\" >\\n                      <img src=\"./images/speakers/juan_luis_rosa.jpeg\" class=\"img-responsive\" alt=\"\">\\n                      <span class=\"portfolio-text\">Juan Luis <br/>Rosa</span>\\n                      <p class=\"speaker_description\">AI Freelance Engineer</p>\\n                  </a>\\n                </div>\\n\\n                <div class=\"col-sm-6 portfolio-item\">\\n                  <a href=\"https://www.linkedin.com/in/ignasibelda/\" class=\"portfolio-link\" >\\n                      <img src=\"./images/speakers/ignasi_belda.jpeg\" class=\"img-responsive\" alt=\"\">\\n                      <span class=\"portfolio-text\">Ignasi <br/>Belda</span>\\n                      <p class=\"speaker_description\">Pharma Public Affairs Manager</p>\\n                  </a>\\n                </div>\\n\\n            </div>\\n\\n\\n            <div class=\"row ciudad madrid\">\\n                <div class=\"col-lg-12 text-center\">\\n                    <h3>Madrid AI Webinar #1</h3>\\n                    <h4>2020-04-08</h4>\\n                </div>\\n            </div>\\n            <div class=\"row ciudad madrid\">\\n                <div class=\"col-sm-12 portfolio-item\">\\n                  <a href=\"https://www.linkedin.com/in/juanjobeunza/\" class=\"portfolio-link\" >\\n                      <img src=\"./images/speakers/juanjo_beunza.jpeg\" class=\"img-responsive\" alt=\"\">\\n                      <span class=\"portfolio-text\">Juan JosÃ© <br/>Beunza</span>\\n                      <p class=\"speaker_description\">MÃ©dico EpidemiÃ³logo. Director Machine Learning Salud en Universidad Europea</p>\\n                  </a>\\n                </div>\\n            </div>\\n\\n\\n            <div class=\"row ciudad malaga\">\\n                <div class=\"col-lg-12 text-center\">\\n                    <h3>MÃ¡laga AI Webinar #1</h3>\\n                    <h4>Marzo-Abril 2020</h4>\\n                </div>\\n            </div>\\n            <div class=\"row ciudad malaga\">\\n                <div class=\"col-sm-6 portfolio-item\">\\n                  <a href=\"https://www.linkedin.com/in/aimatesanz/\" class=\"portfolio-link\" >\\n                      <img src=\"./images/speakers/andres_matesanz.jpeg\" class=\"img-responsive\" alt=\"\">\\n                      <span class=\"portfolio-text\">AndrÃ©s <br/>Matesanz</span>\\n                      <p class=\"speaker_description\">Computer Vision Developer</p>\\n                  </a>\\n                </div>\\n                <div class=\"col-sm-6 portfolio-item\">\\n                  <a href=\"https://www.linkedin.com/in/quinoterrasa/\" class=\"portfolio-link\" >\\n                      <img src=\"./images/speakers/quino_terrasa.jpeg\" class=\"img-responsive\" alt=\"\">\\n                      <span class=\"portfolio-text\">JoaquÃ\\xadn <br/>Terrasa</span>\\n                      <p class=\"speaker_description\">Data Scientist & Web Developer</p>\\n                  </a>\\n                </div>\\n            </div>\\n\\n            <div class=\"row ciudad malaga\">\\n                <div class=\"col-lg-12 text-center\">\\n                    <h3>MÃ¡laga AI #1</h3>\\n                    <h4>2020-02-26</h4>\\n                </div>\\n            </div>\\n            <div class=\"row ciudad malaga\">\\n                <div class=\"col-sm-12 portfolio-item\">\\n                  <a href=\"https://www.linkedin.com/in/aimatesanz/\" class=\"portfolio-link\" >\\n                      <img src=\"./images/speakers/andres_matesanz.jpeg\" class=\"img-responsive\" alt=\"\">\\n                      <span class=\"portfolio-text\">AndrÃ©s <br/>Matesanz</span>\\n                      <p class=\"speaker_description\">Computer Vision Developer</p>\\n                  </a>\\n                </div>\\n            </div>\\n\\n            <div class=\"row ciudad bilbao\">\\n                <div class=\"col-lg-12 text-center\">\\n                    <h3>Bilbao AI #1</h3>\\n                    <h4>2020-02-21</h4>\\n                </div>\\n            </div>\\n            <div class=\"row ciudad bilbao\">\\n                <div class=\"col-sm-12 portfolio-item\">\\n                  <a href=\"https://www.linkedin.com/in/alfonsomedela/\" class=\"portfolio-link\" >\\n                      <img src=\"./images/speakers/alfonso_medela.jpeg\" class=\"img-responsive\" alt=\"\">\\n                      <span class=\"portfolio-text\">Alfonso <br/>Medela</span>\\n                      <p class=\"speaker_description\">Computer Vision Data Scientist at Tecnalia Research & Innovation</p>\\n                  </a>\\n                </div>\\n            </div>\\n\\n\\n            <div class=\"row ciudad granada\">\\n                <div class=\"col-lg-12 text-center\">\\n                    <h3>Granada AI #8</h3>\\n                    <h4>2020-01-20</h4>\\n                </div>\\n            </div>\\n            <div class=\"row ciudad granada\">\\n                <div class=\"col-sm-12 portfolio-item\">\\n                  <a href=\"https://www.linkedin.com/in/joseluislopezpino/\" class=\"portfolio-link\" >\\n                      <img src=\"./images/speakers/jose_luis_lopez_pino.jpeg\" class=\"img-responsive\" alt=\"\">\\n                      <span class=\"portfolio-text\">JosÃ© Luis <br/>LÃ³pez Pino</span>\\n                      <p class=\"speaker_description\">Data Science & IT Consulting</p>\\n                  </a>\\n                </div>\\n            </div>\\n\\n\\n            <div class=\"row ciudad madrid\">\\n                <div class=\"col-lg-12 text-center\">\\n                    <h3>Madrid AI #11</h3>\\n                    <h4>2019-12-17</h4>\\n                </div>\\n            </div>\\n            <div class=\"row ciudad madrid\">\\n                <div class=\"col-sm-3 portfolio-item\">\\n                  <a href=\"https://www.linkedin.com/in/noacruz/\" class=\"portfolio-link\" >\\n                      <img src=\"./images/speakers/noa_cruz.jpeg\" class=\"img-responsive\" alt=\"\">\\n                      <span class=\"portfolio-text\">Noa <br/>Cruz</span>\\n                      <p class=\"speaker_description\">PhD in NLP and Machine Learning en Bankia</p>\\n                  </a>\\n                </div>\\n                <div class=\"col-sm-3 portfolio-item\">\\n                  <a href=\"https://www.linkedin.com/in/ana-de-prado-navarrete-28752255/\" class=\"portfolio-link\" >\\n                      <img src=\"./images/speakers/ana_prado.jpeg\" class=\"img-responsive\" alt=\"\">\\n                      <span class=\"portfolio-text\">Ana <br/>de Prado</span>\\n                      <p class=\"speaker_description\">Machine Learning, innovaciÃ³n robÃ³tica, impresiÃ³n3D y educaciÃ³n en Terminus7</p>\\n                  </a>\\n                </div>\\n                <div class=\"col-sm-3 portfolio-item\">\\n                  <a href=\"https://www.linkedin.com/in/cristina-casas-sastre/\" class=\"portfolio-link\" >\\n                      <img src=\"./images/speakers/cristina_casas.jpeg\" class=\"img-responsive\" alt=\"\">\\n                      <span class=\"portfolio-text\">Cristina <br/>Casas</span>\\n                      <p class=\"speaker_description\">Technician en BlueTab</p>\\n                  </a>\\n                </div>\\n                <div class=\"col-sm-3 portfolio-item\">\\n                  <a href=\"https://www.linkedin.com/in/samuel-fern%C3%A1ndez-lorenzo-446343170/\" class=\"portfolio-link\" >\\n                      <img src=\"./images/speakers/samuel_fernandez.jpeg\" class=\"img-responsive\" alt=\"\">\\n                      <span class=\"portfolio-text\">Samuel <br/>FernÃ¡ndez</span>\\n                      <p class=\"speaker_description\">R&D in Quantum Finance and AI/Data scientist/PhD in Physics en OpenSistemas</p>\\n                  </a>\\n                </div>\\n            </div>\\n\\n            <div class=\"row ciudad granada\">\\n                <div class=\"col-lg-12 text-center\">\\n                    <h3>Granada AI #7</h3>\\n                    <h4>2019-12-16</h4>\\n                </div>\\n            </div>\\n            <div class=\"row ciudad granada\">\\n                <div class=\"col-sm-12 portfolio-item\">\\n                  <a href=\"https://doctoradoingenieria.udistrital.edu.co/index.php/es/docencia/item/583-juan-carlos-figueroa-garcia\" class=\"portfolio-link\" >\\n                      <img src=\"./images/speakers/juan_carlos_figueroa.jpg\" class=\"img-responsive\" alt=\"\">\\n                      <span class=\"portfolio-text\">Juan Carlos <br/>Figueroa</span>\\n                      <p class=\"speaker_description\">Profesor de la Universidad Distrital en Colombia</p>\\n                  </a>\\n                </div>\\n            </div>\\n\\n            <div class=\"row ciudad granada\">\\n                <div class=\"col-lg-12 text-center\">\\n                    <h3>Granada AI #6</h3>\\n                    <h4>2019-11-18</h4>\\n                </div>\\n            </div>\\n            <div class=\"row ciudad granada\">\\n                <div class=\"col-sm-12 portfolio-item\">\\n                  <a href=\"https://github.com/dmolina\" class=\"portfolio-link\" >\\n                      <img src=\"./images/speakers/daniel_molina.png\" class=\"img-responsive\" alt=\"\">\\n                      <span class=\"portfolio-text\">Daniel <br/>Molina</span>\\n                      <p class=\"speaker_description\">Profesor Doctor en la universidad de Granada</p>\\n                  </a>\\n                </div>\\n            </div>\\n\\n            <div class=\"row ciudad granada\">\\n                <div class=\"col-lg-12 text-center\">\\n                    <h3>Granada AI #5</h3>\\n                    <h4>2019-10-14</h4>\\n                </div>\\n            </div>\\n            <div class=\"row ciudad granada\">\\n                <div class=\"col-sm-12 portfolio-item\">\\n                  <a href=\"https://www.linkedin.com/in/draxus/\" class=\"portfolio-link\" >\\n                      <img src=\"./images/speakers/manuel_martin.jpeg\" class=\"img-responsive\" alt=\"\">\\n                      <span class=\"portfolio-text\">Manuel <br/>MartÃ\\xadn</span>\\n                      <p class=\"speaker_description\">Blink Technologies</p>\\n                  </a>\\n                </div>\\n            </div>\\n\\n\\n            <div class=\"row ciudad granada\">\\n                <div class=\"col-lg-12 text-center\">\\n                    <h3>Granada AI #4</h3>\\n                    <h4>2019-09-23</h4>\\n                </div>\\n            </div>\\n            <div class=\"row ciudad granada\">\\n                <div class=\"col-sm-12 portfolio-item\">\\n                  <a href=\"https://www.linkedin.com/in/luisgjaime/\" class=\"portfolio-link\" >\\n                      <img src=\"./images/speakers/luis_gonzalez_jaime.jpeg\" class=\"img-responsive\" alt=\"\">\\n                      <span class=\"portfolio-text\">Luis <br/>GonzÃ¡lez-Jaime</span>\\n                      <p class=\"speaker_description\">Blink Technologies</p>\\n                  </a>\\n                </div>\\n            </div>\\n\\n\\n            <div class=\"row ciudad madrid\">\\n                <div class=\"col-lg-12 text-center\">\\n                    <h3>Madrid AI #10</h3>\\n                    <h4>2019-09-10</h4>\\n                </div>\\n            </div>\\n            <div class=\"row ciudad madrid\">\\n                <div class=\"col-sm-4 portfolio-item\">\\n                  <a href=\"https://www.linkedin.com/in/pablo-duque-asens-42a1206b/\" class=\"portfolio-link\" >\\n                      <img src=\"./images/speakers/pablo_duque.jpeg\" class=\"img-responsive\" alt=\"\">\\n                      <span class=\"portfolio-text\">Pablo <br/>Duque</span>\\n                      <p class=\"speaker_description\">Data Scientist at TelefÃ³nica</p>\\n                  </a>\\n                </div>\\n                <div class=\"col-sm-4 portfolio-item\">\\n                  <a href=\"https://www.linkedin.com/in/salmeron/\" class=\"portfolio-link\" >\\n                      <img src=\"./images/speakers/jose_salmeron.jpg\" class=\"img-responsive\" alt=\"\">\\n                      <span class=\"portfolio-text\">JosÃ© <br/>SalmerÃ³n</span>\\n                      <p class=\"speaker_description\">Lead Data Scientist (BBVA)</p>\\n                  </a>\\n                </div>\\n                <div class=\"col-sm-4 portfolio-item\">\\n                  <a href=\"https://www.linkedin.com/in/gvalverd/\" class=\"portfolio-link\" >\\n                      <img src=\"./images/speakers/gabriel_valverde.jpeg\" class=\"img-responsive\" alt=\"\">\\n                      <span class=\"portfolio-text\">Gabriel <br/>Valverde</span>\\n                      <p class=\"speaker_description\">CientÃ\\xadfico de Datos en Bankinter </p>\\n                  </a>\\n                </div>\\n            </div>\\n\\n\\n            <div class=\"row ciudad granada\">\\n                <div class=\"col-lg-12 text-center\">\\n                    <h3>Granada AI #3</h3>\\n                    <h4>2019-07-01</h4>\\n                </div>\\n            </div>\\n            <div class=\"row ciudad granada\">\\n                <div class=\"col-sm-12 portfolio-item\">\\n                  <a href=\"https://www.linkedin.com/in/antoniomora/\" class=\"portfolio-link\" >\\n                      <img src=\"./images/speakers/antonio_mora.jpeg\" class=\"img-responsive\" alt=\"\">\\n                      <span class=\"portfolio-text\">Antonio <br/>Mora</span>\\n                      <p class=\"speaker_description\">Dr. Associate Professor at Univ. of Granada</p>\\n                  </a>\\n                </div>\\n            </div>\\n\\n\\n            <div class=\"row ciudad barcelona\">\\n                <div class=\"col-lg-12 text-center\">\\n                    <h3>Barcelona AI #3</h3>\\n                    <h4>2019-27-06</h4>\\n                </div>\\n            </div>\\n            <div class=\"row ciudad barcelona\">\\n                <div class=\"col-sm-3 portfolio-item\">\\n                  <a href=\"https://www.linkedin.com/in/arnault-gombert-37a1a1a0/\" class=\"portfolio-link\" >\\n                      <img src=\"./images/speakers/arnault_gombert.jpeg\" class=\"img-responsive\" alt=\"\">\\n                      <span class=\"portfolio-text\">Arnault <br/>Gombert</span>\\n                      <p class=\"speaker_description\">Data Scientist @IOMED Medical Solutions</p>\\n                  </a>\\n                </div>\\n                <div class=\"col-sm-3 portfolio-item\">\\n                  <a href=\"https://www.linkedin.com/in/dshahrokhian/\" class=\"portfolio-link\" >\\n                      <img src=\"./images/speakers/daniyal_shahrokhian.jpeg\" class=\"img-responsive\" alt=\"\">\\n                      <span class=\"portfolio-text\">Daniyal <br/>Shahrokhian</span>\\n                      <p class=\"speaker_description\">Machine Learning & Deep Learning Engineer at Astroscreen</p>\\n                  </a>\\n                </div>\\n                <div class=\"col-sm-3 portfolio-item\">\\n                  <a href=\"https://www.linkedin.com/in/yolanda-lannquist-80700047/\" class=\"portfolio-link\" >\\n                      <img src=\"./images/speakers/yolanda_lannquist.jpeg\" class=\"img-responsive\" alt=\"\">\\n                      <span class=\"portfolio-text\">Yolanda <br/>Lannquist</span>\\n                      <p class=\"speaker_description\">Senior AI Policy Researcher, The AI-Initiative at The Future Society</p>\\n                  </a>\\n                </div>\\n                <div class=\"col-sm-3 portfolio-item\">\\n                  <a href=\"https://www.linkedin.com/in/harrywilsonprofile/\" class=\"portfolio-link\" >\\n                      <img src=\"./images/speakers/harry_wilson.jpeg\" class=\"img-responsive\" alt=\"\">\\n                      <span class=\"portfolio-text\">Harry <br/>Wilson</span>\\n                      <p class=\"speaker_description\">Chief Product Officer at Citibeats</p>\\n                  </a>\\n                </div>\\n            </div>\\n\\n\\n            <div class=\"row ciudad zaragoza\">\\n                <div class=\"col-lg-12 text-center\">\\n                    <h3>Zaragoza AI #2</h3>\\n                    <h4>2019-06-13</h4>\\n                </div>\\n            </div>\\n            <div class=\"row ciudad zaragoza\">\\n                <div class=\"col-sm-6 portfolio-item\">\\n                  <a href=\"https://www.linkedin.com/in/borja-espejo/\" class=\"portfolio-link\" >\\n                      <img src=\"./images/speakers/borja_espejo.jpeg\" class=\"img-responsive\" alt=\"\">\\n                      <span class=\"portfolio-text\">Borja <br/>Espejo</span>\\n                      <p class=\"speaker_description\">Storyteller</p>\\n                  </a>\\n                </div>\\n                <div class=\"col-sm-6 portfolio-item\">\\n                  <a href=\"https://www.linkedin.com/in/atibaup/?originalSubdomain=es\" class=\"portfolio-link\" >\\n                      <img src=\"./images/speakers/arnau_tibau.jpeg\" class=\"img-responsive\" alt=\"\">\\n                      <span class=\"portfolio-text\">Arnau <br/>Tibau</span>\\n                      <p class=\"speaker_description\">Data Scientist and Engineer</p>\\n                  </a>\\n                </div>\\n            </div>\\n\\n\\n            <div class=\"row ciudad madrid\">\\n                <div class=\"col-lg-12 text-center\">\\n                    <h3>Madrid AI #9</h3>\\n                    <h4>2019-06-05</h4>\\n                </div>\\n            </div>\\n            <div class=\"row ciudad madrid\">\\n                <div class=\"col-sm-4 portfolio-item\">\\n                  <a href=\"https://www.linkedin.com/in/javier-alonso-18a5b08/\" class=\"portfolio-link\" >\\n                      <img src=\"./images/speakers/javier_alonso.jpeg\" class=\"img-responsive\" alt=\"\">\\n                      <span class=\"portfolio-text\">Javier <br/>Alonso</span>\\n                      <p class=\"speaker_description\">Director General @ Rational Touch</p>\\n                  </a>\\n                </div>\\n                <div class=\"col-sm-4 portfolio-item\">\\n                  <a href=\"https://www.linkedin.com/in/jlhidalgo/\" class=\"portfolio-link\" >\\n                      <img src=\"./images/speakers/jose_luis.jpeg\" class=\"img-responsive\" alt=\"\">\\n                      <span class=\"portfolio-text\">Jose Luis <br/>Hidalgo</span>\\n                      <p class=\"speaker_description\">V. P. of Analytics and Data Science en Nextail Labs</p>\\n                  </a>\\n                </div>\\n                <div class=\"col-sm-4 portfolio-item\">\\n                  <a href=\"https://www.linkedin.com/in/ricgu8086/\" class=\"portfolio-link\" >\\n                      <img src=\"./images/speakers/ricardo_guerrero.jpeg\" class=\"img-responsive\" alt=\"\">\\n                      <span class=\"portfolio-text\">Ricardo <br/>Guerrero</span>\\n                      <p class=\"speaker_description\">Lead Data Scientist en BBVA Next Technologies</p>\\n                  </a>\\n                </div>\\n            </div>\\n\\n            <div class=\"row ciudad granada\">\\n                <div class=\"col-lg-12 text-center\">\\n                    <h3>Granada AI #2</h3>\\n                    <h4>2019-05-13</h4>\\n                </div>\\n            </div>\\n            <div class=\"row ciudad granada\">\\n                <div class=\"col-sm-12 portfolio-item\">\\n                  <a href=\"https://www.linkedin.com/in/david-pelta-6164937/\" class=\"portfolio-link\" >\\n                      <img src=\"./images/speakers/david_pelta.jpeg\" class=\"img-responsive\" alt=\"\">\\n                      <span class=\"portfolio-text\">David <br/>Pelta</span>\\n                      <p class=\"speaker_description\">Dr. at Univ. of Granada</p>\\n                  </a>\\n                </div>\\n            </div>\\n\\n\\n            <div class=\"row ciudad barcelona\">\\n                <div class=\"col-lg-12 text-center\">\\n                    <h3>Barcelona AI #2</h3>\\n                    <h4>2019-05-07</h4>\\n                </div>\\n            </div>\\n            <div class=\"row ciudad barcelona\">\\n                <div class=\"col-sm-6 portfolio-item\">\\n                  <a href=\"https://www.linkedin.com/in/christel-paris-bicking/\" class=\"portfolio-link\" >\\n                      <img src=\"./images/speakers/christel_paris.jpeg\" class=\"img-responsive\" alt=\"\">\\n                      <span class=\"portfolio-text\">Christel <br/>Paris-bicking</span>\\n                      <p class=\"speaker_description\">Founder & CEO</p>\\n                  </a>\\n                </div>\\n                <div class=\"col-sm-6 portfolio-item\">\\n                  <a href=\"https://www.linkedin.com/in/ignasibelda/\" class=\"portfolio-link\" >\\n                      <img src=\"./images/speakers/ignasi_belda.jpeg\" class=\"img-responsive\" alt=\"\">\\n                      <span class=\"portfolio-text\">Ignasi <br/>Belda</span>\\n                      <p class=\"speaker_description\">Pharma Public Affairs Manager</p>\\n                  </a>\\n                </div>\\n            </div>\\n\\n\\n            <div class=\"row ciudad zaragoza\">\\n                <div class=\"col-lg-12 text-center\">\\n                    <h3>Zaragoza AI #1</h3>\\n                    <h4>2019-04-09</h4>\\n                </div>\\n            </div>\\n            <div class=\"row ciudad zaragoza\">\\n                <div class=\"col-sm-6 portfolio-item\">\\n                  <a href=\"https://www.linkedin.com/in/javieroruslacort\" class=\"portfolio-link\" >\\n                      <img src=\"./images/speakers/javier_orus.jpeg\" class=\"img-responsive\" alt=\"\">\\n                      <span class=\"portfolio-text\">Javier <br/>OrÃºs</span>\\n                      <p class=\"speaker_description\">Director y Co-Fundador en PredictLand</p>\\n                  </a>\\n                </div>\\n                <div class=\"col-sm-6 portfolio-item\">\\n                  <a href=\"https://www.linkedin.com/in/fernandoconstantino/\" class=\"portfolio-link\" >\\n                      <img src=\"./images/speakers/fernando_constantino.jpeg\" class=\"img-responsive\" alt=\"\">\\n                      <span class=\"portfolio-text\">Fernando <br/>Constantino</span>\\n                      <p class=\"speaker_description\">Co-Fundador & Datascientist @ CleverEcommerce</p>\\n                  </a>\\n                </div>\\n            </div>\\n\\n            <div class=\"row ciudad granada\">\\n                <div class=\"col-lg-12 text-center\">\\n                    <h3>Granada AI #1</h3>\\n                    <h4>2019-04-01</h4>\\n                </div>\\n            </div>\\n            <div class=\"row ciudad granada\">\\n                <div class=\"col-sm-12 portfolio-item\">\\n                  <a href=\"https://www.linkedin.com/in/francisco-barranco-a94289136/\" class=\"portfolio-link\" >\\n                      <img src=\"./images/speakers/fran_barranco.jpeg\" class=\"img-responsive\" alt=\"\">\\n                      <span class=\"portfolio-text\">Fran <br/>Barranco</span>\\n                      <p class=\"speaker_description\">Assistant Professor, University of Granada at University of Granada</p>\\n                  </a>\\n                </div>\\n            </div>\\n\\n            <div class=\"row ciudad madrid\">\\n                <div class=\"col-lg-12 text-center\">\\n                    <h3>Madrid AI #8</h3>\\n                    <h4>2019-03-19</h4>\\n                </div>\\n            </div>\\n            <div class=\"row ciudad madrid\">\\n                <div class=\"col-sm-4 portfolio-item\">\\n                  <a href=\"https://www.linkedin.com/in/david-jim%C3%A9nez-paredes-0a13b6bb/\" class=\"portfolio-link\" >\\n                      <img src=\"./images/speakers/DavidJimenezParedes.jpg\" class=\"img-responsive\" alt=\"\">\\n                      <span class=\"portfolio-text\">David <br/>JimÃ©nez</span>\\n                      <p class=\"speaker_description\">Equipo WorkingData - Universidad de Granada</p>\\n                  </a>\\n                </div>\\n                <div class=\"col-sm-4 portfolio-item\">\\n                  <a href=\"https://www.linkedin.com/in/raul-lopez-jimenez-412789b3/\" class=\"portfolio-link\" >\\n                      <img src=\"./images/speakers/RaulLopezJimenez.png\" class=\"img-responsive\" alt=\"\">\\n                      <span class=\"portfolio-text\">RaÃºl <br/>LÃ³pez</span>\\n                      <p class=\"speaker_description\">Equipo WorkingData - Universidad de Granada</p>\\n                  </a>\\n                </div>\\n                <div class=\"col-sm-4 portfolio-item\">\\n                  <a href=\"https://www.linkedin.com/in/franciscovilcheztorralba/\" class=\"portfolio-link\" >\\n                      <img src=\"./images/speakers/FranciscoJavierVilchezTorralba.png\" class=\"img-responsive\" alt=\"\">\\n                      <span class=\"portfolio-text\">Francisco Javier <br/>Vilchez</span>\\n                      <p class=\"speaker_description\">Equipo WorkingData - Universidad de Granada</p>\\n                  </a>\\n                </div>\\n            </div>\\n            <div class=\"row ciudad madrid\">\\n                <div class=\"col-sm-4 portfolio-item\">\\n                  <a href=\"https://www.linkedin.com/in/alberto-oteo-garc%C3%ADa/\" class=\"portfolio-link\" >\\n                      <img src=\"./images/speakers/alberto_oteo_garcia.jpg\" class=\"img-responsive\" alt=\"\">\\n                      <span class=\"portfolio-text\">Alberto <br/>Oteo</span>\\n                      <p class=\"speaker_description\">Equipo Sense 3 - Universidad de Valencia</p>\\n                  </a>\\n                </div>\\n                <div class=\"col-sm-4 portfolio-item\">\\n                  <a href=\"https://www.linkedin.com/in/julian-bal-gar/\" class=\"portfolio-link\" >\\n                      <img src=\"./images/speakers/julian_ballesteros_garcia.jpg\" class=\"img-responsive\" alt=\"\">\\n                      <span class=\"portfolio-text\">JuliÃ¡n <br/>Ballesteros</span>\\n                      <p class=\"speaker_description\">Equipo Sense 3 - Universidad de Valencia</p>\\n                  </a>\\n                </div>\\n                <div class=\"col-sm-4 portfolio-item\">\\n                  <a href=\"https://www.linkedin.com/in/virilo/\" class=\"portfolio-link\" >\\n                      <img src=\"./images/speakers/ViriloTejedorAguilera.JPG\" class=\"img-responsive\" alt=\"\">\\n                      <span class=\"portfolio-text\">Virilo <br/>Tejedor</span>\\n                      <p class=\"speaker_description\">Responsable de Servicio y Proyectos de Business Intelligence en Colegio de Registradores.</p>\\n                  </a>\\n                </div>\\n            </div>\\n\\n            <div class=\"row ciudad barcelona\">\\n                <div class=\"col-lg-12 text-center\">\\n                    <h3>Barcelona AI #1</h3>\\n                    <h4>2019-01-17</h4>\\n                </div>\\n            </div>\\n            <div class=\"row ciudad barcelona\">\\n                <div class=\"col-sm-3 portfolio-item\">\\n                  <a href=\"https://www.linkedin.com/in/albert-pujol-torras-3a7367/\" class=\"portfolio-link\" >\\n                      <img src=\"./images/speakers/albert_pujol.jpeg\" class=\"img-responsive\" alt=\"\">\\n                      <span class=\"portfolio-text\">Albert <br/>Pujol</span>\\n                      <p class=\"speaker_description\">Expert in machine learning and computer vision</p>\\n                  </a>\\n                </div>\\n                <div class=\"col-sm-3 portfolio-item\">\\n                  <a href=\"https://www.linkedin.com/in/rafa-gim%C3%A9nez-3572511/\" class=\"portfolio-link\" >\\n                      <img src=\"./images/speakers/rafa_gimenez.jpeg\" class=\"img-responsive\" alt=\"\">\\n                      <span class=\"portfolio-text\">Rafa <br/>GimÃ©nez</span>\\n                      <p class=\"speaker_description\">Water 4.0 Research Area Manager at Cetaqua - AGBAR - Suez Environnement</p>\\n                  </a>\\n                </div>\\n                <div class=\"col-sm-3 portfolio-item\">\\n                  <a href=\"https://www.linkedin.com/in/tarekbesold/\" class=\"portfolio-link\" >\\n                      <img src=\"./images/speakers/tarek_r_besold.jpeg\" class=\"img-responsive\" alt=\"\">\\n                      <span class=\"portfolio-text\">Tarek <br/>Besold</span>\\n                      <p class=\"speaker_description\">AI Lead @ Alpha Health</p>\\n                  </a>\\n                </div>\\n                <div class=\"col-sm-3 portfolio-item\">\\n                  <a href=\"https://www.linkedin.com/in/yolanda-lannquist-80700047/\" class=\"portfolio-link\" >\\n                      <img src=\"./images/speakers/yolanda_lannquist.jpeg\" class=\"img-responsive\" alt=\"\">\\n                      <span class=\"portfolio-text\">Yolanda <br/>Lannquist</span>\\n                      <p class=\"speaker_description\">Senior AI Policy Researcher, The AI-Initiative at The Future Society</p>\\n                  </a>\\n                </div>\\n            </div>\\n\\n\\n\\n            <div class=\"row ciudad madrid\">\\n                <div class=\"col-lg-12 text-center\">\\n                    <h3>Madrid AI #7</h3>\\n                    <h4>2018-12-18</h4>\\n                </div>\\n            </div>\\n            <div class=\"row ciudad madrid\">\\n                <div class=\"col-sm-4 portfolio-item\">\\n                  <a href=\"https://twitter.com/pointline_\" class=\"portfolio-link\" >\\n                      <img src=\"./images/speakers/iskra_velitchkova.jpg\" class=\"img-responsive\" alt=\"\">\\n                      <span class=\"portfolio-text\">Iskra <br/>Velitchkova</span>\\n                      <p class=\"speaker_description\">Data Scientist en BBVA Data & Analytics</p>\\n                  </a>\\n                </div>\\n                <div class=\"col-sm-4 portfolio-item\">\\n                  <a href=\"https://www.linkedin.com/in/almo/\" class=\"portfolio-link\" >\\n                      <img src=\"./images/speakers/andres_leonardo.jpeg\" class=\"img-responsive\" alt=\"\">\\n                      <span class=\"portfolio-text\">AndrÃ©s <br/>Leonardo, ALMO</span>\\n                      <p class=\"speaker_description\">Google Cloud Ecosystem en Google</p>\\n                  </a>\\n                </div>\\n                <div class=\"col-sm-4 portfolio-item\">\\n                  <a href=\"https://www.linkedin.com/in/fernandoconstantino/\" class=\"portfolio-link\" >\\n                      <img src=\"./images/speakers/fernando_constantino.jpeg\" class=\"img-responsive\" alt=\"\">\\n                      <span class=\"portfolio-text\">Fernando <br/>Constantino</span>\\n                      <p class=\"speaker_description\">Co-Fundador & Datascientist @ CleverEcommerce</p>\\n                  </a>\\n                </div>\\n            </div>\\n\\n            <div class=\"row ciudad madrid\">\\n                <div class=\"col-lg-12 text-center\">\\n                    <h3>Madrid AI #6</h3>\\n                    <h4>2018-09-05</h4>\\n                </div>\\n            </div>\\n            <div class=\"row ciudad madrid\">\\n                <div class=\"col-sm-3 portfolio-item\">\\n                    <a href=\"https://www.linkedin.com/in/arturo-garc%C3%ADa-rodr%C3%ADguez-25951256/\" class=\"portfolio-link\" >\\n                        <img src=\"./images/speakers/arturo_garcia.png\" class=\"img-responsive\" alt=\"\">\\n                        <span class=\"portfolio-text\">Arturo <br/>GarcÃ\\xada</span>\\n                        <p class=\"speaker_description\">Principal en Rational Touch</p>\\n                    </a>\\n                </div>\\n                <div class=\"col-sm-3 portfolio-item\">\\n                  <a href=\"https://www.linkedin.com/in/mario-passani-1a6401b9/\" class=\"portfolio-link\" >\\n                      <img src=\"./images/speakers/mario_passani.png\" class=\"img-responsive\" alt=\"\">\\n                      <span class=\"portfolio-text\">Mario <br/>Pasani</span>\\n                      <p class=\"speaker_description\">Data scientist en Orange</p>\\n                  </a>\\n                </div>\\n                <div class=\"col-sm-3 portfolio-item\">\\n                  <a href=\"https://www.linkedin.com/in/jesusmartinjimenez/\" class=\"portfolio-link\" >\\n                      <img src=\"./images/speakers/jesus_martin.png\" class=\"img-responsive\" alt=\"\">\\n                      <span class=\"portfolio-text\">JesÃºs <br/>MartÃ\\xadn</span>\\n                      <p class=\"speaker_description\">VUI, UX y diseÃ±ador de producto en BBVA Next Technologies</p>\\n                  </a>\\n                </div>\\n                <div class=\"col-sm-3 portfolio-item\">\\n                  <a href=\"https://www.linkedin.com/in/marianmoldovan/\" class=\"portfolio-link\" >\\n                      <img src=\"./images/speakers/marian_moldovan.jpeg\" class=\"img-responsive\" alt=\"\">\\n                      <span class=\"portfolio-text\">Marian <br/>C. Moldovan</span>\\n                      <p class=\"speaker_description\">Innovation worker en BBVA Next Technologies.</p>\\n                  </a>\\n                </div>\\n            </div>\\n\\n            <div class=\"row ciudad madrid\">\\n                <div class=\"col-lg-12 text-center\">\\n                    <h3>Madrid AI #5</h3>\\n                    <h4>2018-06-18</h4>\\n                </div>\\n            </div>\\n            <div class=\"row ciudad madrid\">\\n                <div class=\"col-sm-4 portfolio-item\">\\n                  <a href=\"https://www.linkedin.com/in/mariaborbones/\" class=\"portfolio-link\" >\\n                      <img src=\"./images/speakers/maria_borbones.jpeg\" class=\"img-responsive\" alt=\"\">\\n                      <span class=\"portfolio-text\">MarÃ\\xada<br/>BorbonÃ©s</span>\\n                      <p class=\"speaker_description\">Especialista IT en Cloud y Data sobre la plataforma IBM Watson</p>\\n                  </a>\\n                </div>\\n                <div class=\"col-sm-4 portfolio-item\">\\n                  <a href=\"https://www.linkedin.com/in/javier-placer-9565028a/\" class=\"portfolio-link\" >\\n                      <img src=\"./images/speakers/javier_placer.jpeg\" class=\"img-responsive\" alt=\"\">\\n                      <span class=\"portfolio-text\">Javier <br/>Placer</span>\\n                      <p class=\"speaker_description\">V&P - Asesor estratÃ©gico del consejo en BigML</p>\\n                  </a>\\n                </div>\\n                <div class=\"col-sm-4 portfolio-item\">\\n                  <a href=\"https://www.linkedin.com/in/%C3%A1lvaro-barbero-jim%C3%A9nez-6056005/\" class=\"portfolio-link\" >\\n                      <img src=\"./images/speakers/alvaro_barbero.jpeg\" class=\"img-responsive\" alt=\"\">\\n                      <span class=\"portfolio-text\">Ã\\x81lvaro <br/>Barbero</span>\\n                      <p class=\"speaker_description\">PhD, PMP, CientÃ\\xadfico Jefe de Datos en el Instituto de IngenierÃ\\xada del Conocimiento (IIC)</p>\\n                  </a>\\n                </div>\\n            </div>\\n\\n            <div class=\"row ciudad madrid\">\\n                <div class=\"col-lg-12 text-center\">\\n                    <h3>Madrid AI #4</h3>\\n                    <h4>2018-04-06</h4>\\n                </div>\\n            </div>\\n            <div class=\"row ciudad madrid\">\\n                <div class=\"col-sm-3 portfolio-item\">\\n                    <a href=\"https://www.linkedin.com/in/pablo-gonz%C3%A1lez-mu%C3%B1oz-b2596115/\" class=\"portfolio-link\" >\\n                        <img src=\"./images/speakers/pablo_gonzalez.jpeg\" class=\"img-responsive\" alt=\"\">\\n                        <span class=\"portfolio-text\">Pablo <br/>GonzÃ¡lez MuÃ±oz</span>\\n                        <p class=\"speaker_description\">Socio / Partner Deloitte Digital</p>\\n                    </a>\\n                </div>\\n                <div class=\"col-sm-3 portfolio-item\">\\n                  <a href=\"https://www.linkedin.com/in/samuelmh/\" class=\"portfolio-link\" >\\n                      <img src=\"./images/speakers/samuel_munoz.jpeg\" class=\"img-responsive\" alt=\"\">\\n                      <span class=\"portfolio-text\">Samuel <br/>MuÃ±oz Hidalgo</span>\\n                      <p class=\"speaker_description\">Ingeniero de InnovaciÃ³n en BEEVA</p>\\n                  </a>\\n                </div>\\n                <div class=\"col-sm-3 portfolio-item\">\\n                  <a href=\"https://www.linkedin.com/in/ana-de-prado-navarrete-28752255/\" class=\"portfolio-link\" >\\n                      <img src=\"./images/speakers/ana_prado.jpeg\" class=\"img-responsive\" alt=\"\">\\n                      <span class=\"portfolio-text\">Ana <br/>de Prado</span>\\n                      <p class=\"speaker_description\">Machine Learning, innovaciÃ³n robÃ³tica, impresiÃ³n3D y educaciÃ³n en Terminus7</p>\\n                  </a>\\n                </div>\\n                <div class=\"col-sm-3 portfolio-item\">\\n                  <a href=\"https://www.linkedin.com/in/gabrielmunozrios/\" class=\"portfolio-link\" >\\n                      <img src=\"./images/speakers/gabriel_munoz.jpeg\" class=\"img-responsive\" alt=\"\">\\n                      <span class=\"portfolio-text\">Gabriel <br/>E. MuÃ±oz</span>\\n                      <p class=\"speaker_description\">Data scientist en Terminus7</p>\\n                  </a>\\n                </div>\\n            </div>\\n\\n            <div class=\"row ciudad madrid\">\\n                <div class=\"col-lg-12 text-center\">\\n                    <h3>Madrid AI #3</h3>\\n                    <h4>2018-02-01</h4>\\n                </div>\\n            </div>\\n            <div class=\"row ciudad madrid\">\\n                <div class=\"col-sm-3 portfolio-item\">\\n                    <a href=\"https://www.linkedin.com/in/ignacio-chaparro-lopez-39918015/\" class=\"portfolio-link\" >\\n                        <img src=\"./images/speakers/ignacio_chaparro.jpg\" class=\"img-responsive\" alt=\"\">\\n                        <span class=\"portfolio-text\">Ignacio <br/>Chaparro Lopez</span>\\n                        <!--<p class=\"speaker_description\">Computer Engineer appasionated to bring closer real value from technology to business. I have had international experience with several innovative projects in spinoffs and startups using new technologies like IoT or predictive concepts. Right now I\\'m working like Solution Knowledge Lider in the Center of Excellence of Cognitive Apps (CDAC) into Everis, were we develop AI assets with the goal to improve and power all kind of industries.</p>-->\\n                        <p class=\"speaker_description\">Market Development Manager en Aplicaciones en InformÃ¡tica Avanzada</p>\\n                    </a>\\n                </div>\\n                <div class=\"col-sm-3 portfolio-item\">\\n                  <a href=\"https://www.linkedin.com/in/gonesbuyo/\" class=\"portfolio-link\" >\\n                      <img src=\"./images/speakers/gonzalo_estran.jpg\" class=\"img-responsive\" alt=\"\">\\n                      <span class=\"portfolio-text\">Gonzalo <br/>EstrÃ¡n Buyo</span>\\n                      <!--<p class=\"speaker_description\">Gonzalo EstrÃ¡n Buyo is a Computer Science and Mathematics student at Universidad PolitÃ©cnica de Madrid, where he combines the studies with research in Deep Learning and Computational Linguistics. Gonzalo also studied piano at the Professional Conservatory for ten years and has experience in music composition and free play.</p>-->\\n                      <p class=\"speaker_description\">Investigador en IA y NLP en la Universidad PolitÃ©cnica de Madrid</p>\\n                  </a>\\n                </div>\\n                <div class=\"col-sm-3 portfolio-item\">\\n                  <a href=\"https://www.linkedin.com/in/ivanderamon/\" class=\"portfolio-link\" >\\n                      <img src=\"./images/speakers/ivan_ramon.png\" class=\"img-responsive\" alt=\"\">\\n                      <span class=\"portfolio-text\">Ivan <br/>de RamÃ³n IbaÃ±ez</span>\\n                      <p class=\"speaker_description\">Desarrollador de negocio con ADN de emprendedor</p>\\n                  </a>\\n                </div>\\n                <div class=\"col-sm-3 portfolio-item\">\\n                  <a href=\"https://www.linkedin.com/in/sergio-novillo/\" class=\"portfolio-link\" >\\n                      <img src=\"./images/speakers/sergio_novillo.jpeg\" class=\"img-responsive\" alt=\"\">\\n                      <span class=\"portfolio-text\">Sergio <br/>Novillo Chinchilla</span>\\n                      <p class=\"speaker_description\">Responsable de desarrollo, Interfaces Conversacionales en Minsait</p>\\n                  </a>\\n                </div>\\n            </div>\\n\\n            <div class=\"row ciudad madrid\">\\n                <div class=\"col-lg-12 text-center\">\\n                    <h3>Madrid AI #2</h3>\\n                    <h4>2017-12-21</h4>\\n                </div>\\n            </div>\\n            <div class=\"row ciudad madrid\">\\n                <div class=\"col-sm-3 portfolio-item\">\\n                    <a href=\"https://www.linkedin.com/in/jgsogo/\" class=\"portfolio-link\" >\\n                        <img src=\"./images/speakers/javier_garcia.jpg\" class=\"img-responsive\" alt=\"\">\\n                        <span class=\"portfolio-text\">Javier <br/>GarcÃ\\xada Sogo</span>\\n                        <!--<p class=\"speaker_description\">Javier GarcÃ\\xada Sogo is an Industrial engineer, and also holds a MsC. degree on AI research. He is currently working as a Quant Developer for BBVA assets valuation, integrating the platform and optimizing response times. Javier also has an interest on Information Retrieval and on Natural Language Processing, contributing to the community as a member of Lingáº\\x85ars.</p>-->\\n                        <p class=\"speaker_description\"> Desarrollador Conan.io @ JFrog | CÃ³digo abierto y comunidad</p>\\n                    </a>\\n                </div>\\n                <div class=\"col-sm-3 portfolio-item\">\\n                  <a href=\"https://www.linkedin.com/in/cristinasantamarina/\" class=\"portfolio-link\" >\\n                      <img src=\"./images/speakers/cristina_santamarina.jpg\" class=\"img-responsive\" alt=\"\">\\n                      <span class=\"portfolio-text\">Cristina <br/>Santamarina</span>\\n                      <!--<p class=\"speaker_description\">Cristina Santamarina is a professional in the world of information and technology with 10 years of international experience. With his latest projects, The Neon Project and Bots4health, she wants to bring the world of technology to everyone through her trainings and her work on conversational interfaces.</p>-->\\n                      <p class=\"speaker_description\">Consultora de TransformaciÃ³n de Negocios</p>\\n                  </a>\\n                </div>\\n                <div class=\"col-sm-3 portfolio-item\">\\n                  <a href=\"https://www.linkedin.com/in/nievesabalosserrano/\" class=\"portfolio-link\" >\\n                      <img src=\"./images/speakers/nieves_abalos.jpg\" class=\"img-responsive\" alt=\"\">\\n                      <span class=\"portfolio-text\">Nieves <br/>Ã\\x81balos</span>\\n                      <!--<p class=\"speaker_description\">Conversational Interfaces Engineer, creating future concepts at monoceros.xyz. Co-Founder of chatbottest.com and naiz.chat. Former Product Manager of an Intelligent Agent powered platform at BEEVA. Researcher on NLP, Dialog Systems (aka Chatbots) since 2009. UGR Alumni.</p>-->\\n                      <p class=\"speaker_description\">Ingeniera de interfaces conversacionales | Gerente de producto</p>\\n                  </a>\\n                </div>\\n                <div class=\"col-sm-3 portfolio-item\">\\n                  <a href=\"https://www.linkedin.com/in/carlosmunozromero/\" class=\"portfolio-link\" >\\n                      <img src=\"./images/speakers/carlos_munoz.jpg\" class=\"img-responsive\" alt=\"\">\\n                      <span class=\"portfolio-text\">Carlos <br/>MuÃ±oz</span>\\n                      <!--<p class=\"speaker_description\">Innovation Strategist and Manager experienced across Product design, Marketing, and Engineering. As former Chief Innovation Officer at BEEVA (a BBVA company), he built from scratch the Innovation Labs at the company.</p>-->\\n                      <p class=\"speaker_description\">Digital product manager y emprendedor</p>\\n                  </a>\\n                </div>\\n            </div>\\n\\n            <div class=\"row ciudad madrid\">\\n                <div class=\"col-lg-12 text-center\">\\n                    <h3>Madrid AI #1</h3>\\n                    <h4>2017-09-08</h4>\\n                </div>\\n            </div>\\n            <div class=\"row ciudad madrid\">\\n                <div class=\"col-sm-6 portfolio-item\">\\n                    <a href=\"https://www.linkedin.com/in/paulvanlorenzo/\" class=\"portfolio-link\" >\\n                        <img src=\"./images/speakers/paul_vanbranteghem.jpg\" class=\"img-responsive\" alt=\"\">\\n                        <span class=\"portfolio-text\">Paul <br/>Van Branteghem</span>\\n                        <!--<p class=\"speaker_description\">Physicists and MsC. on Meteorology and Geophysics holder. Paul is a Data Scientists enthusiast with a special interest on weather forecast challenges.</p>-->\\n                        <p class=\"speaker_description\">FÃ\\xadsico con un mÃ¡ster en meteorologÃ\\xada y geofÃ\\xadsica. Data Scientist</p>\\n                    </a>\\n                </div>\\n                <div class=\"col-sm-6 portfolio-item\">\\n                  <a href=\"https://www.linkedin.com/in/raularrabales/\" class=\"portfolio-link\" >\\n                      <img src=\"./images/speakers/raul_arrabales.jpg\" class=\"img-responsive\" alt=\"\">\\n                      <span class=\"portfolio-text\">RaÃºl <br/>Arrabales</span>\\n                      <!--<p class=\"speaker_description\">Computer Science Engineer, Psychologist, Artificial Intelligence PhD, and MBA holder.</p>-->\\n                      <p class=\"speaker_description\">NeurocientÃ\\xadfico Cognitivo | PsicÃ³logo | Doctor Inteligencia Artificial | MBA</p>\\n                  </a>\\n                </div>\\n            </div>\\n        </div>\\n    </section>\\n\\n    <!-- SPONSORS -->\\n    <section id=\"sponsors\">\\n        <div class=\"container\">\\n            <div class=\"row\">\\n                <div class=\"col-lg-12 text-center\">\\n                    <h2>Sponsors</h2>\\n                    <hr class=\"star-primary\">\\n                </div>\\n            </div>\\n\\n            <div class=\"row\">\\n              <div class=\"col-sm-6 portfolio-item\">\\n                  <a href=\"https://www.oreilly.com/pub/cpc/297978\">\\n                      <img src=\"https://www.oreilly.com/partner_file/oreilly.jpg\" class=\"img-responsive\" alt=\"\" />\\n                      <span class=\"portfolio-text\">Oreilly</span>\\n                      <p class=\"speaker_description\">O\\'Reilly Media - Technology and Business Training.</p>\\n                  </a>\\n              </div>\\n              <div class=\"col-sm-6 portfolio-item\">\\n                  <!--\\n                  <a href=\"https://www.sas.com/es_es/resource-center/do-great-things-from-home.html\" class=\"portfolio-link\" >\\n                      <img src=\"./images/sponsors/SAS/do_great_things.jpg\" class=\"img-responsive\" alt=\"\">\\n                      <span class=\"portfolio-text\">Do Great Things</span>\\n                      <p class=\"speaker_description\">Do Great Things From Home!</p>\\n                  </a>\\n                  -->\\n                  <a href=\"https://www.sas.com/es_es/resource-center/do-great-things-from-home.html\" class=\"portfolio-link\" >\\n                      <img src=\"./images/sponsors/SAS/SAS_download.png\" class=\"img-responsive\" alt=\"\">\\n                      <span class=\"portfolio-text\">SAS</span>\\n                      <p class=\"speaker_description\">Analytics, Artificial Intelligence and Data Management</p>\\n                  </a>\\n              </div>\\n            </div>\\n\\n\\n\\n\\n            <div class=\"row\">\\n              <!--\\n              <div class=\"col-sm-4 portfolio-item\">\\n                  <a href=\"https://www2.deloitte.com/es/es/pages/technology/topics/deloitte-digital.html\" class=\"portfolio-link\" >\\n                      <img src=\"./images/sponsors/Deloitte_Digital.jpg\" class=\"img-responsive\" alt=\"\">\\n                      <span class=\"portfolio-text\">Deloitte Digital</span>\\n                      <p class=\"speaker_description\">Deloitte Digital es la respuesta de Deloitte al proceso de digitalizaciÃ³n en el que estÃ¡ inmerso el sector empresarial.</p>\\n                  </a>\\n              </div>\\n              -->\\n              <!-- CAMBIAR LA CLASE de \"col-sm-6\" (para 2 sponsors) a \"col-sm-4\" cuando aÃ±adamos con 3 sponsors  -->\\n              <div class=\"col-sm-4 portfolio-item\">\\n                  <a href=\"https://keepler.io/\" class=\"portfolio-link\" >\\n                      <img src=\"./images/sponsors/keepler-data-tech-tagline.png\" class=\"img-responsive\" alt=\"\">\\n                      <span class=\"portfolio-text\">Keepler</span>\\n                      <p class=\"speaker_description\">Big Data e Inteligencia Artificial sobre la nube pÃºblica. Ayudamos a empresas a convertirse Cloud Data Driven Company.</p>\\n                  </a>\\n              </div>\\n              <div class=\"col-sm-4 portfolio-item\">\\n                  <a href=\"https://thepowermba.com/\" class=\"portfolio-link\" >\\n                      <img src=\"./images/sponsors/power_mba.png\" class=\"img-responsive\" alt=\"\">\\n                      <span class=\"portfolio-text\">The Power MBA</span>\\n                      <p class=\"speaker_description\">ThePowerMBA | La escuela de negocios que ha cambiado las reglas.</p>\\n                  </a>\\n              </div>\\n              <div class=\"col-sm-4 portfolio-item\">\\n                  <a href=\"https://intelygenz.com/\" class=\"portfolio-link\" >\\n                      <img src=\"./images/sponsors/Intelygenz-Logo.jpg\" class=\"img-responsive\" alt=\"\">\\n                      <span class=\"portfolio-text\">Intelligenz</span>\\n                      <p class=\"speaker_description\">We deliver groundbreaking software solutions and applied AI that propel business growth.</p>\\n                  </a>\\n              </div>\\n            </div>\\n\\n            <!--\\n            <div class=\"row\">\\n              <div class=\"col-sm-6 portfolio-item\">\\n                  <a href=\"https://intelygenz.com/\" class=\"portfolio-link\" >\\n                      <img src=\"./images/sponsors/Intelygenz-Logo.jpg\" class=\"img-responsive\" alt=\"\">\\n                      <span class=\"portfolio-text\">Intelligenz</span>\\n                      <p class=\"speaker_description\">We deliver groundbreaking software solutions and applied AI that propel business growth.</p>\\n                  </a>\\n              </div>\\n              <div class=\"col-sm-6 portfolio-item\">\\n                  <a href=\"https://immune.institute/data-science\" class=\"portfolio-link\" >\\n                      <img src=\"./images/sponsors/immune.jpeg\" class=\"img-responsive\" alt=\"\">\\n                      <span class=\"portfolio-text\">IMMUNE</span>\\n                      <p class=\"speaker_description\">MÃ¡sters y bootcamps tecnolÃ³gicos - IMMUNE Technology Institute</p>\\n                  </a>\\n              </div>\\n            </div>\\n            -->\\n\\n        </div>\\n    </section>\\n\\n    <!-- PARTNERS -->\\n    <section id=\"partners\">\\n        <div class=\"container\">\\n            <div class=\"row\">\\n                <div class=\"col-lg-12 text-center\">\\n                    <h2>Partners</h2>\\n                    <hr class=\"star-primary\">\\n                </div>\\n            </div>\\n            <div class=\"row\">\\n              <div class=\"col-sm-4 portfolio-item\">\\n                <a href=\"https://farmaleaderstalento.com/\" class=\"portfolio-link\" >\\n                    <img src=\"./images/media_partners/FARMALEADERS_IMG_30172.png\" class=\"img-responsive\" alt=\"\">\\n                    <span class=\"portfolio-text\">Farma Leaders Talento</span>\\n                    <p class=\"speaker_description\">Farma Leaders Talento</p>\\n                </a>\\n              </div>\\n              <div class=\"col-sm-4 portfolio-item\">\\n                  <a href=\"https://planetachatbot.com/\" class=\"portfolio-link\" >\\n                      <img src=\"./images/media_partners/planeta_chatbot.png\" class=\"img-responsive\" alt=\"\">\\n                      <span class=\"portfolio-text\">Planeta Chatbot</span>\\n                      <p class=\"speaker_description\">El primer y mayor hub de conocimiento sobre chatbots, inteligencia artificial y machine learning</p>\\n                  </a>\\n                </div>\\n                <div class=\"col-sm-4 portfolio-item\">\\n                  <a href=\"https://www.techthenewera.co.uk/\" class=\"portfolio-link\" >\\n                      <img src=\"./images/media_partners/tech_new_era.jpeg\" class=\"img-responsive\" alt=\"\">\\n                      <span class=\"portfolio-text\">Tech | The New Era</span>\\n                      <p class=\"speaker_description\">A live broadcast tech conference during London Tech Week</p>\\n                  </a>\\n                </div>\\n            </div>\\n            <br />\\n            <br />\\n            <br />\\n\\n            <div class=\"row\">\\n                <div class=\"col-sm-4 portfolio-item\">\\n                  <a href=\"https://jupytercon.com/\" class=\"portfolio-link\" >\\n                      <img src=\"./images/media_partners/jupytercon.png\" class=\"img-responsive\" alt=\"\">\\n                      <span class=\"portfolio-text\">JupyterCon2020</span>\\n                      <p class=\"speaker_description\">JupyterCon focuses on real-world practices and how to successfully implement interactive computation in your workflow and projects.</p>\\n                  </a>\\n                </div>\\n                <div class=\"col-sm-4 portfolio-item\">\\n                  <a href=\"https://odsc.com/europe/partner-odsc-europe/\" class=\"portfolio-link\" >\\n                      <img src=\"./images/media_partners/odsc.png\" class=\"img-responsive\" alt=\"\">\\n                      <span class=\"portfolio-text\">ODSC</span>\\n                      <p class=\"speaker_description\">Open Data Science Conference - Deep Learning & ML, Predictive Analytics, AI</p>\\n                  </a>\\n                </div>\\n                <div class=\"col-sm-4 portfolio-item\">\\n                  <a href=\"https://neo4j.com/nodes-2020/\" class=\"portfolio-link\" >\\n                      <img src=\"./images/media_partners/nodes2020.png\" class=\"img-responsive\" alt=\"\">\\n                      <span class=\"portfolio-text\">NODES 2020</span>\\n                      <p class=\"speaker_description\">Neo4j Online Developer Expo and Summit</p>\\n                  </a>\\n                </div>\\n            </div>\\n            <br />\\n            <br />\\n            <br />\\n\\n            <div class=\"row\">\\n                <div class=\"col-sm-6 portfolio-item\">\\n                  <a href=\"https://mlconf.eu/#sponsors\" class=\"portfolio-link\" >\\n                      <img src=\"./images/media_partners/MLC20_logo.png\" class=\"img-responsive\" alt=\"\">\\n                      <span class=\"portfolio-text\">ML Conf EU</span>\\n                      <p class=\"speaker_description\">The machine learning conference for engineers</p>\\n                  </a>\\n                </div>\\n                <div class=\"col-sm-6 portfolio-item\">\\n                  <a href=\"https://community.codemotion.com/spain-ai\" class=\"portfolio-link\" >\\n                      <img src=\"./images/media_partners/codemotion.png\" class=\"img-responsive\" alt=\"\">\\n                      <span class=\"portfolio-text\">Codemotion</span>\\n                      <p class=\"speaker_description\">We code the future. Together</p>\\n                  </a>\\n                </div>\\n            </div>\\n        </div>\\n    </section>\\n\\n    <!-- TEAM -->\\n    <section id=\"team\">\\n        <div class=\"container\">\\n            <div class=\"row\">\\n                <div class=\"col-lg-12 text-center\">\\n                    <h2>Nuestro Equipo</h2>\\n                    <hr class=\"star-primary\">\\n                </div>\\n            </div>\\n            <div class=\"row team\">\\n                <div class=\"col-sm-3 portfolio-item\">\\n                    <a href=\"https://www.linkedin.com/in/fernandocallealonso/\" class=\"portfolio-link\" >\\n                        <img src=\"./images/equipo/fernando_calle.jpg\" class=\"img-responsive\" alt=\"\">\\n                        <span class=\"portfolio-text\">Fernando <br/> Calle Alonso</span>\\n                        <p class=\"speaker_description\">Fundador Spain AI & Madrid AI</p>\\n                    </a>\\n                </div>\\n                <div class=\"col-sm-3 portfolio-item\">\\n                  <a href=\"https://www.linkedin.com/in/nestor-alvaro-phd-92474147/\" class=\"portfolio-link\" >\\n                      <img src=\"./images/equipo/nestor.png\" class=\"img-responsive\" alt=\"\">\\n                      <span class=\"portfolio-text\">NÃ©stor <br/>Ã\\x81lvaro</span>\\n                      <p class=\"speaker_description\">Fundador Spain AI & Madrid AI</p>\\n                  </a>\\n                </div>\\n                <div class=\"col-sm-3 portfolio-item\">\\n                  <a href=\"https://www.linkedin.com/in/paulvanlorenzo/\" class=\"portfolio-link\" >\\n                      <img src=\"./images/equipo/paul_vanbranteghem.jpg\" class=\"img-responsive\" alt=\"\">\\n                      <span class=\"portfolio-text\">Paul <br/>Van Branteghem</span>\\n                      <p class=\"speaker_description\">Fundador Spain AI & Madrid AI</p>\\n                  </a>\\n                </div>\\n                <div class=\"col-sm-3 portfolio-item\">\\n                  <a href=\"https://www.linkedin.com\" class=\"portfolio-link\" >\\n                      <img src=\"./images/equipo/alba.jpg\" class=\"img-responsive\" alt=\"\">\\n                      <span class=\"portfolio-text\">Alba <br/>PÃ©rez</span>\\n                      <p class=\"speaker_description\">Community Manager Spain AI & Fundadora Podcast Spain AI</p>\\n                  </a>\\n                </div>\\n            </div>\\n\\n            <div class=\"row team\">\\n                <div class=\"col-sm-4 portfolio-item\">\\n                  <a href=\"https://www.linkedin.com/in/jlrosa/\" class=\"portfolio-link\" >\\n                      <img src=\"./images/equipo/juan_luis_rosa.jpeg\" class=\"img-responsive\" alt=\"\">\\n                      <span class=\"portfolio-text\">Juan Luis <br/>Rosa</span>\\n                      <p class=\"speaker_description\">Fundador Barcelona AI</p>\\n                  </a>\\n              </div>\\n              <div class=\"col-sm-4 portfolio-item\">\\n                <a href=\"https://www.linkedin.com/in/adrianmelic/\" class=\"portfolio-link\" >\\n                    <img src=\"./images/equipo/adrian_melic.jpeg\" class=\"img-responsive\" alt=\"\">\\n                    <span class=\"portfolio-text\">AdriÃ¡n <br/>Melic</span>\\n                    <p class=\"speaker_description\">Fundador Zaragoza AI</p>\\n                </a>\\n              </div>\\n              <div class=\"col-sm-4 portfolio-item\">\\n                <a href=\"https://www.linkedin.com/in/juan-j-merelo-0815/\" class=\"portfolio-link\" >\\n                    <img src=\"./images/equipo/juan_j_merelo.jpeg\" class=\"img-responsive\" alt=\"\">\\n                    <span class=\"portfolio-text\">Juan <br/>J. Merelo</span>\\n                    <p class=\"speaker_description\">Fundador Granada AI</p>\\n                </a>\\n              </div>\\n            </div>\\n\\n            <div class=\"row team\">\\n              <div class=\"col-sm-4 portfolio-item\">\\n                <a href=\"https://www.linkedin.com/in/karen-troiano/\" class=\"portfolio-link\" >\\n                    <img src=\"./images/equipo/karen_troiano.jpeg\" class=\"img-responsive\" alt=\"\">\\n                    <span class=\"portfolio-text\">Karen <br/>Troiano</span>\\n                    <p class=\"speaker_description\">Fundadora Bilbao AI & Fundadora Podcast Spain AI</p>\\n                </a>\\n              </div>\\n              <div class=\"col-sm-4 portfolio-item\">\\n                <a href=\"https://www.linkedin.com/in/aimatesanz/\" class=\"portfolio-link\" >\\n                    <img src=\"./images/equipo/andres_matesanz.jpeg\" class=\"img-responsive\" alt=\"\">\\n                    <span class=\"portfolio-text\">AndrÃ©s <br/>Matesanz</span>\\n                    <p class=\"speaker_description\">Fundador MÃ¡laga AI</p>\\n                </a>\\n              </div>\\n              <div class=\"col-sm-4 portfolio-item\">\\n                <a href=\"https://www.linkedin.com/in/quinoterrasa/\" class=\"portfolio-link\" >\\n                    <img src=\"./images/equipo/quino_terrasa.jpeg\" class=\"img-responsive\" alt=\"\">\\n                    <span class=\"portfolio-text\">JoaquÃ\\xadn <br/>Terrasa</span>\\n                    <p class=\"speaker_description\">Fundador MÃ¡laga AI</p>\\n                </a>\\n              </div>\\n            </div>\\n            <div class=\"row team\">\\n              <div class=\"col-sm-4 portfolio-item\">\\n                <a href=\"https://www.linkedin.com/in/maragon5/\" class=\"portfolio-link\" >\\n                    <img src=\"./images/equipo/Miguel_Angel_Aragon.jpeg\" class=\"img-responsive\" alt=\"\">\\n                    <span class=\"portfolio-text\">Miguel Angel <br/>AragÃ³n</span>\\n                    <p class=\"speaker_description\">Fundador Sevilla AI</p>\\n                </a>\\n              </div>\\n              <div class=\"col-sm-4 portfolio-item\">\\n                <a href=\"https://www.linkedin.com/in/placido-domenech-esp%C3%AD-43169012/\" class=\"portfolio-link\" >\\n                    <img src=\"./images/equipo/Placido_Domenech.jpeg\" class=\"img-responsive\" alt=\"\">\\n                    <span class=\"portfolio-text\">Placido <br/>Domenech</span>\\n                    <p class=\"speaker_description\">Fundador Alicante AI</p>\\n                </a>\\n              </div>\\n              <div class=\"col-sm-4 portfolio-item\">\\n                <a href=\"https://www.linkedin.com/in/franciscocarrero/\" class=\"portfolio-link\" >\\n                    <img src=\"./images/equipo/Francisco_Carrero.jpeg\" class=\"img-responsive\" alt=\"\">\\n                    <span class=\"portfolio-text\">Frankie <br/>Carrero</span>\\n                    <p class=\"speaker_description\">Fundador Galicia AI</p>\\n                </a>\\n              </div>\\n            </div>\\n            <div class=\"row team\">\\n              <div class=\"col-sm-4 portfolio-item\">\\n                <a href=\"https://www.linkedin.com/in/franciscollanezagonzalez/\" class=\"portfolio-link\" >\\n                    <img src=\"./images/equipo/Francisco_LLaneza.jpeg\" class=\"img-responsive\" alt=\"\">\\n                    <span class=\"portfolio-text\">Francisco <br/>LLaneza</span>\\n                    <p class=\"speaker_description\">Fundador Asturias AI</p>\\n                </a>\\n              </div>\\n              <div class=\"col-sm-4 portfolio-item\">\\n                <a href=\"https://www.linkedin.com/in/pablogesteban/\" class=\"portfolio-link\" >\\n                    <img src=\"./images/equipo/Pablo_Gomez.jpeg\" class=\"img-responsive\" alt=\"\">\\n                    <span class=\"portfolio-text\">Pablo <br/>Gomez</span>\\n                    <p class=\"speaker_description\">Impulsor Madrid AI</p>\\n                </a>\\n              </div>\\n              <div class=\"col-sm-4 portfolio-item\">\\n                <a href=\"https://www.linkedin.com/in/jos%C3%A9-antonio-s%C3%A1nchez-gonz%C3%A1lez-a81a4b19/\" class=\"portfolio-link\" >\\n                    <img src=\"./images/equipo/Jose_Antonio_Sanchez.jpeg\" class=\"img-responsive\" alt=\"\">\\n                    <span class=\"portfolio-text\">Jose Antonio <br/>SÃ¡nchez</span>\\n                    <p class=\"speaker_description\">Fundador Sevilla AI</p>\\n                </a>\\n              </div>\\n            </div>\\n            <div class=\"row team\">\\n              <div class=\"col-sm-4 portfolio-item\">\\n                <a href=\"https://www.linkedin.com/in/carlos-villarrubia-salcedo-7ab583151\" class=\"portfolio-link\" >\\n                    <img src=\"./images/equipo/Carlos_Villarrubia_Salcedo.jpeg\" class=\"img-responsive\" alt=\"\">\\n                    <span class=\"portfolio-text\">Carlos <br/>Villarrubia</span>\\n                    <p class=\"speaker_description\">Fundador Toledo AI</p>\\n                </a>\\n              </div>\\n              <div class=\"col-sm-4 portfolio-item\">\\n                  <a href=\"https://www.linkedin.com/in/v%C3%ADctor-g%C3%B3mez-tavira-barbero/\" class=\"portfolio-link\" >\\n                      <img src=\"./images/equipo/Victor_Gomez-Tavira.jpeg\" class=\"img-responsive\" alt=\"\">\\n                      <span class=\"portfolio-text\">VÃ\\xadctor <br/>GÃ³mez-Tavira</span>\\n                      <p class=\"speaker_description\">Fundador Toledo AI</p>\\n                  </a>\\n                </div>\\n              <div class=\"col-sm-4 portfolio-item\">\\n                <a href=\"https://www.linkedin.com/in/pedro-ramos-4a5a41135/\" class=\"portfolio-link\" >\\n                    <img src=\"./images/equipo/Pedro_Ramos.jpeg\" class=\"img-responsive\" alt=\"\">\\n                    <span class=\"portfolio-text\">Pedro <br/>Ramos</span>\\n                    <p class=\"speaker_description\">Fundador Canarias AI</p>\\n                </a>\\n              </div>\\n            </div>\\n\\n            <div class=\"row team\">\\n              <div class=\"col-sm-4 portfolio-item\">\\n                <a href=\"https://www.linkedin.com/in/javier-abell%C3%A1n-abenza-942b8ba5/\" class=\"portfolio-link\" >\\n                    <img src=\"./images/equipo/javier_abellan.jpeg\" class=\"img-responsive\" alt=\"\">\\n                    <span class=\"portfolio-text\">Javier <br/>AbellÃ¡n</span>\\n                    <p class=\"speaker_description\">Fundador Murcia AI</p>\\n                </a>\\n              </div>\\n              <div class=\"col-sm-4 portfolio-item\">\\n                <a href=\"https://www.linkedin.com/in/jose-miguel-bolarin-97343759\" class=\"portfolio-link\" >\\n                    <img src=\"./images/equipo/jose_miguel_bolarin.jpeg\" class=\"img-responsive\" alt=\"\">\\n                    <span class=\"portfolio-text\">Jose Miguel <br/>Bolarin</span>\\n                    <p class=\"speaker_description\">Fundador Murcia AI</p>\\n                </a>\\n              </div>\\n              <div class=\"col-sm-4 portfolio-item\">\\n                <a href=\"https://www.linkedin.com/in/victornaldacastellet/\" class=\"portfolio-link\" >\\n                    <img src=\"./images/equipo/victor_nalda.jpeg\" class=\"img-responsive\" alt=\"\">\\n                    <span class=\"portfolio-text\">VÃ\\xadctor <br/>Nalda</span>\\n                    <p class=\"speaker_description\">Fundador Rioja AI</p>\\n                </a>\\n              </div>\\n            </div>\\n\\n            <div class=\"row team\">\\n              <div class=\"col-sm-4 portfolio-item\">\\n                <a href=\"#\" class=\"portfolio-link\" >\\n                  <img src=\"./images/equipo/rogelio_najera.jpg\" class=\"img-responsive\" alt=\"\">\\n                  <span class=\"portfolio-text\">Rogelio <br/>NÃ¡jera</span>\\n                  <p class=\"speaker_description\">Impulsor del Acelerador de Talento</p>\\n                </a>\\n              </div>\\n              <div class=\"col-sm-4 portfolio-item\">\\n                <a href=\"https://www.linkedin.com/in/karina-serrano-485b92171\" class=\"portfolio-link\" >\\n                  <img src=\"./images/equipo/karina_serrano.jpeg\" class=\"img-responsive\" alt=\"\">\\n                  <span class=\"portfolio-text\">Karina <br/>Serrano</span>\\n                  <p class=\"speaker_description\">Impulsora del Acelerador de Talento</p>\\n                </a>\\n              </div>\\n              <div class=\"col-sm-4 portfolio-item\">\\n                <a href=\"https://www.linkedin.com/in/adriaciurana\" class=\"portfolio-link\" >\\n                    <img src=\"./images/equipo/adria_ciurana.jpeg\" class=\"img-responsive\" alt=\"\">\\n                    <span class=\"portfolio-text\">AdriÃ\\xa0 <br/>Ciurana</span>\\n                    <p class=\"speaker_description\">Impulsor Barcelona AI</p>\\n                </a>\\n              </div>\\n            </div>\\n\\n            <div class=\"row team\">\\n              <div class=\"col-sm-4 portfolio-item\">\\n                  <a href=\"https://www.linkedin.com/in/ismael-garc%C3%ADa-varea-a586b8151/\" class=\"portfolio-link\" >\\n                      <img src=\"./images/equipo/ismael_garcia.jpeg\" class=\"img-responsive\" alt=\"\">\\n                      <span class=\"portfolio-text\">Ismael <br/>GarcÃ\\xada</span>\\n                      <p class=\"speaker_description\">Fundador Albacete AI</p>\\n                  </a>\\n              </div>\\n              <div class=\"col-sm-4 portfolio-item\">\\n                  <a href=\"https://www.linkedin.com/in/iker-gÃ³mez-garcÃ\\xada\" class=\"portfolio-link\" >\\n                      <img src=\"./images/equipo/iker_gomez.jpeg\" class=\"img-responsive\" alt=\"\">\\n                      <span class=\"portfolio-text\">Iker <br/>GÃ³mez</span>\\n                      <p class=\"speaker_description\">Fundador Pamplona AI & Fundador Podcast Spain AI</p>\\n                  </a>\\n              </div>\\n              <div class=\"col-sm-4 portfolio-item\">\\n                <a href=\"https://www.linkedin.com/in/albertojulian/\" class=\"portfolio-link\" >\\n                    <img src=\"./images/equipo/alberto_julian.jpeg\" class=\"img-responsive\" alt=\"\">\\n                    <span class=\"portfolio-text\">Alberto <br/>JuliÃ¡n</span>\\n                    <p class=\"speaker_description\">Fundador Podcast Spain AI</p>\\n                </a>\\n              </div>\\n            </div>\\n\\n            <div class=\"row team\">\\n              <div class=\"col-sm-4 portfolio-item\">\\n                  <a href=\"https://www.linkedin.com/in/pabloromeroquinteros/\" class=\"portfolio-link\" >\\n                      <img src=\"./images/equipo/Pablo_Romero.jpg\" class=\"img-responsive\" alt=\"\">\\n                      <span class=\"portfolio-text\">Pablo <br/>Romero</span>\\n                      <p class=\"speaker_description\">Fundador Tarragona AI</p>\\n                  </a>\\n              </div>\\n              <div class=\"col-sm-4 portfolio-item\">\\n                  <a href=\"https://www.linkedin.com/in/patriciaacebestamargo/\" class=\"portfolio-link\" >\\n                      <img src=\"./images/equipo/Patricia_Acebes.jpeg\" class=\"img-responsive\" alt=\"\">\\n                      <span class=\"portfolio-text\">Patricia <br/>Acebes</span>\\n                      <p class=\"speaker_description\">Impulsora Asturias AI</p>\\n                  </a>\\n              </div>\\n              <div class=\"col-sm-4 portfolio-item\">\\n                  <a href=\"https://www.linkedin.com/in/joaquin-fernandez-ba0044107\" class=\"portfolio-link\" >\\n                      <img src=\"./images/equipo/Joaquin_Fernandez.jpeg\" class=\"img-responsive\" alt=\"\">\\n                      <span class=\"portfolio-text\">Joaquin <br/>Fernandez</span>\\n                      <p class=\"speaker_description\">Fundador AlmerÃ\\xada AI</p>\\n                  </a>\\n              </div>\\n            </div>\\n\\n            <div class=\"row team\">\\n              <div class=\"col-sm-3 portfolio-item\">\\n                  <a href=\"https://www.linkedin.com/in/miguelcoronadoch/\" class=\"portfolio-link\" >\\n                      <img src=\"./images/equipo/Miguel_Coronado.jpeg\" class=\"img-responsive\" alt=\"\">\\n                      <span class=\"portfolio-text\">Miguel <br/>Coronado</span>\\n                      <p class=\"speaker_description\">Impulsor Sevilla AI</p>\\n                  </a>\\n              </div>\\n              <div class=\"col-sm-3 portfolio-item\">\\n                  <a href=\"https://es.linkedin.com/in/daniel-romero-del-hombrebueno-71b51655\" class=\"portfolio-link\" >\\n                      <img src=\"./images/equipo/Daniel_Romero.jpeg\" class=\"img-responsive\" alt=\"\">\\n                      <span class=\"portfolio-text\">Daniel <br/>Romero</span>\\n                      <p class=\"speaker_description\">Fundador Guadalajara AI</p>\\n                  </a>\\n              </div>\\n              <div class=\"col-sm-3 portfolio-item\">\\n                  <a href=\"https://www.linkedin.com/in/marcosmartinhernandez/\" class=\"portfolio-link\" >\\n                      <img src=\"./images/equipo/Marcos_Martin.jpeg\" class=\"img-responsive\" alt=\"\">\\n                      <span class=\"portfolio-text\">Marcos <br/>Martin</span>\\n                      <p class=\"speaker_description\">Impulsor Madrid AI</p>\\n                  </a>\\n              </div>\\n\\n              <div class=\"col-sm-3 portfolio-item\">\\n                  <a href=\"https://www.linkedin.com/in/joel-ansiporovich-7b14a8123/\" class=\"portfolio-link\" >\\n                      <img src=\"./images/equipo/Joel_Ansiporovich.jpeg\" class=\"img-responsive\" alt=\"\">\\n                      <span class=\"portfolio-text\">Joel <br/>Ansiporovich</span>\\n                      <p class=\"speaker_description\">Fundador CÃ¡ceres AI</p>\\n                  </a>\\n              </div>\\n\\n            </div>\\n\\n            <br />\\n          </div>\\n\\n        </div>\\n    </section>\\n\\n\\n\\n\\n\\n    <!-- Contact Section -->\\n    <section id=\"contact\">\\n      <div class=\"container\">\\n          <div class=\"row\">\\n              <div class=\"col-lg-12 text-center\">\\n                  <h2>Â¡Mantente informado!</h2>\\n                  <hr class=\"star-primary\">\\n              </div>\\n          </div>\\n          <div class=\"row\">\\n            <!-- Begin Mailchimp Signup Form -->\\n            <link href=\"//cdn-images.mailchimp.com/embedcode/horizontal-slim-10_7.css\" rel=\"stylesheet\" type=\"text/css\">\\n            <style type=\"text/css\">\\n            #mc_embed_signup{background:#fff; clear:left; font:14px Helvetica,Arial,sans-serif; width:100%;}\\n            /* Add your own Mailchimp form style overrides in your site stylesheet or in this style block.\\n               We recommend moving this block and the preceding CSS link to the HEAD of your HTML file. */\\n            </style>\\n            <div id=\"mc_embed_signup\">\\n            <form action=\"https://city.us19.list-manage.com/subscribe/post?u=f69cf9894aaec9f579dbea3c2&amp;id=24c9895501\" method=\"post\" id=\"mc-embedded-subscribe-form\" name=\"mc-embedded-subscribe-form\" class=\"validate\" target=\"_blank\" novalidate>\\n              <div id=\"mc_embed_signup_scroll\">\\n            <label for=\"mce-EMAIL\">Ã\\x9anete a nuestra lista de correo para estar informado de todas las novedades</label>\\n            <input type=\"email\" value=\"\" name=\"EMAIL\" class=\"email\" id=\"mce-EMAIL\" placeholder=\"email address\" required>\\n              <!-- real people should not fill this in and expect good things - do not remove this or risk form bot signups-->\\n              <div style=\"position: absolute; left: -5000px;\" aria-hidden=\"true\"><input type=\"text\" name=\"b_f69cf9894aaec9f579dbea3c2_24c9895501\" tabindex=\"-1\" value=\"\"></div>\\n              <div class=\"clear\"><input type=\"submit\" value=\"Subscribe\" name=\"subscribe\" id=\"mc-embedded-subscribe\" class=\"button\"></div>\\n              </div>\\n            </form>\\n            </div>\\n            <!--End mc_embed_signup-->\\n          </div>\\n      </div>\\n      <br /><br /><br /><br /><br /><br />\\n\\n\\n\\n      <div class=\"container\">\\n          <div class=\"row\">\\n              <div class=\"col-lg-12 text-center\">\\n                  <h2>Â¡EscrÃ\\xadbenos!</h2>\\n                  <hr class=\"star-primary\">\\n              </div>\\n          </div>\\n          <div class=\"row\">\\n              <div class=\"col-lg-8 col-lg-offset-2\">\\n                  <!-- To configure the contact form email address, go to mail/contact_me.php and update the email address in the PHP file on line 19. -->\\n                  <!-- The form should work on most web servers, but if the form is not working you may need to configure your web server differently. -->\\n                  <form name=\"sentMessage\" id=\"contactForm\" novalidate>\\n                      <div class=\"row control-group\">\\n                          <div class=\"form-group col-xs-12 floating-label-form-group controls\">\\n                              <label>Nombre</label>\\n                              <input type=\"text\" class=\"form-control\" placeholder=\"Nombre\" id=\"name\" required data-validation-required-message=\"Introduce aquÃ\\xad tu nombre.\">\\n                              <p class=\"help-block text-danger\"></p>\\n                          </div>\\n                      </div>\\n                      <div class=\"row control-group\">\\n                          <div class=\"form-group col-xs-12 floating-label-form-group controls\">\\n                              <label>DirecciÃ³n de Email</label>\\n                              <input type=\"email\" class=\"form-control\" placeholder=\"Email\" id=\"email\" required data-validation-required-message=\"Introduce aquÃ\\xad tu e-email.\">\\n                              <p class=\"help-block text-danger\"></p>\\n                          </div>\\n                      </div>\\n                      <!--\\n                      <div class=\"row control-group\">\\n                          <div class=\"form-group col-xs-12 floating-label-form-group controls\">\\n                              <label>Phone Number</label>\\n                              <input type=\"tel\" class=\"form-control\" placeholder=\"Phone Number\" id=\"phone\" required data-validation-required-message=\"Please enter your phone number.\">\\n                              <p class=\"help-block text-danger\"></p>\\n                          </div>\\n                      </div>\\n                      -->\\n                      <div class=\"row control-group\">\\n                          <div class=\"form-group col-xs-12 floating-label-form-group controls\">\\n                              <label>Mensaje</label>\\n                              <textarea rows=\"5\" class=\"form-control\" placeholder=\"Mensaje\" id=\"message\" required data-validation-required-message=\"Introduce aquÃ\\xad tu mensaje.\"></textarea>\\n                              <p class=\"help-block text-danger\"></p>\\n                          </div>\\n                      </div>\\n                      <br>\\n                      <div id=\"success\"></div>\\n                      <div class=\"row\">\\n                          <div class=\"form-group col-xs-12\">\\n                              <button type=\"submit\" class=\"btn btn-success btn-lg\">Enviar</button>\\n                          </div>\\n                      </div>\\n                  </form>\\n              </div>\\n          </div>\\n      </div>\\n    </section>\\n\\n    <!-- Footer -->\\n    <footer class=\"text-center\">\\n        <div class=\"footer-below\">\\n            <div class=\"container\">\\n                <div class=\"row\">\\n                    <div class=\"col-lg-12\">\\n                        Copyright 2017-2020 &copy; Spain AI\\n                    </div>\\n                </div>\\n            </div>\\n        </div>\\n    </footer>\\n\\n    <!-- Scroll to Top Button (Only visible on small and extra-small screen sizes) -->\\n    <div class=\"scroll-top page-scroll hidden-sm hidden-xs hidden-lg hidden-md\">\\n        <a class=\"btn btn-primary\" href=\"#page-top\">\\n            <i class=\"fa fa-chevron-up\"></i>\\n        </a>\\n    </div>\\n\\n\\n    <!-- jQuery -->\\n    <script src=\"vendor/jquery/jquery.min.js\"></script>\\n\\n    <!-- Bootstrap Core JavaScript -->\\n    <script src=\"vendor/bootstrap/js/bootstrap.min.js\"></script>\\n\\n    <!-- Plugin JavaScript -->\\n    <script src=\"js/jquery.easing.min.js\"></script>\\n\\n    <!-- Contact Form JavaScript -->\\n    <script src=\"js/jqBootstrapValidation.js\"></script>\\n    <script src=\"js/contact_me.js\"></script>\\n\\n    <!-- Theme JavaScript -->\\n    <script src=\"js/freelancer.min.js\"></script>\\n\\n    <!-- Custom JavaScript -->\\n    <script src=\"js/custom_spain_ai.js\"></script>\\n\\n</body>\\n\\n</html>\\n'"
            ]
          },
          "metadata": {
            "tags": []
          },
          "execution_count": 78
        }
      ]
    },
    {
      "cell_type": "code",
      "metadata": {
        "id": "HlNKIfoQgLE2"
      },
      "source": [
        "# loq estabamos viendo con req.text era toda la info puesta en codigo como texto plano.\r\n",
        "# gracias a la libreria beautiful soup pues ahora ya tiene cierto significado y podemos procesarlo como si fuera una pagina web. q es al final loq nostros estabamos intentando obtener."
      ],
      "execution_count": null,
      "outputs": []
    },
    {
      "cell_type": "code",
      "metadata": {
        "colab": {
          "base_uri": "https://localhost:8080/",
          "height": 35
        },
        "id": "YyDO1fqYgu8_",
        "outputId": "ed71be31-ed16-4408-eecf-036153d018ce"
      },
      "source": [
        "\"\"\"\r\n",
        "FÃ³rmate con Spain AI\r\n",
        "PRÃXIMOS WEBINARS\r\n",
        "\"\"\""
      ],
      "execution_count": null,
      "outputs": [
        {
          "output_type": "execute_result",
          "data": {
            "application/vnd.google.colaboratory.intrinsic+json": {
              "type": "string"
            },
            "text/plain": [
              "'\\nFÃ³rmate con Spain AI\\nPRÃ\\x93XIMOS WEBINARS\\n'"
            ]
          },
          "metadata": {
            "tags": []
          },
          "execution_count": 80
        }
      ]
    },
    {
      "cell_type": "code",
      "metadata": {
        "id": "UoU3j6orgwlt"
      },
      "source": [
        "# puede q el encoding no sea correcto pero sí q vemos q estamos obteniendo la info de una manera bastante amigable."
      ],
      "execution_count": null,
      "outputs": []
    },
    {
      "cell_type": "code",
      "metadata": {
        "id": "alwcctNshLrU"
      },
      "source": [
        "# Para ver correctamente los nombres, se recomienda usar \"req.content\", de esta manera:\r\n",
        "\r\n",
        "soup=BeautifulSoup(req.content,\"lxml\")"
      ],
      "execution_count": null,
      "outputs": []
    },
    {
      "cell_type": "code",
      "metadata": {
        "colab": {
          "base_uri": "https://localhost:8080/"
        },
        "id": "RCP053zOhQxF",
        "outputId": "da6d2723-7215-49fc-a092-00cf6cddd433"
      },
      "source": [
        "soup.title  \r\n",
        "# <title>Python (programming language) - Wikipedia</title>\r\n",
        "soup.title.name \r\n",
        "# 'title'\r\n",
        "soup.title.string \r\n",
        "# 'Python (programming language) - Wikipedia'\r\n",
        "\r\n",
        "for sub_heading in soup.find_all('h2'):\r\n",
        "  print(sub_heading.text)\r\n",
        "# all the subheadings like Contents, History(edit)...\r\n"
      ],
      "execution_count": null,
      "outputs": [
        {
          "output_type": "stream",
          "text": [
            "Comunidad Spain AI\n",
            "Fórmate con Spain AI\n",
            "Pon en práctica tus conocimientos en el Hackathon de Spain AI 2020\n",
            "PRÓXIMOS WEBINARS\n",
            "Ponentes que hemos tenido\n",
            "Sponsors\n",
            "Partners\n",
            "Nuestro Equipo\n",
            "¡Mantente informado!\n",
            "¡Escríbenos!\n"
          ],
          "name": "stdout"
        }
      ]
    },
    {
      "cell_type": "code",
      "metadata": {
        "colab": {
          "base_uri": "https://localhost:8080/",
          "height": 35
        },
        "id": "Se7SxUPIhcrA",
        "outputId": "320bc53a-5b82-4bfe-80c7-ef482cf59333"
      },
      "source": [
        "\"\"\"\r\n",
        "Si tenéis curiosidad por entender el detalle de este comportamiento os dejo este enlace, donde podéis encontrar información adicional: https://stackoverflow.com/a/36833440/3745085\r\n",
        "\"\"\""
      ],
      "execution_count": null,
      "outputs": [
        {
          "output_type": "execute_result",
          "data": {
            "application/vnd.google.colaboratory.intrinsic+json": {
              "type": "string"
            },
            "text/plain": [
              "'\\nSi tenéis curiosidad por entender el detalle de este comportamiento os dejo este enlace, donde podéis encontrar información adicional: https://stackoverflow.com/a/36833440/3745085\\n'"
            ]
          },
          "metadata": {
            "tags": []
          },
          "execution_count": 84
        }
      ]
    },
    {
      "cell_type": "code",
      "metadata": {
        "id": "ka_bDP3QhjZT"
      },
      "source": [
        "# YOUTUBE: PYTHON PARA WEB 24 EJERCICIO SCRAPING WEB"
      ],
      "execution_count": null,
      "outputs": []
    },
    {
      "cell_type": "code",
      "metadata": {
        "colab": {
          "base_uri": "https://localhost:8080/",
          "height": 69
        },
        "id": "c_JX2E2T3yuP",
        "outputId": "944231a6-94cb-4dbf-f81e-5994baafac65"
      },
      "source": [
        "# en el ejericio anterio veiamos como obtener los h2 q es una etiqueta de header de 2o tamaño, h1 es el mas importante. h2 es un poco mas pequeño, obtuvimos todos los elementos de tipo h2 q\r\n",
        "# realmente son elementos q estabamos obteniendo pero no nos estaban aportando demasiado valor. \r\n",
        "\r\n",
        "# como ejercicio ahora loq nos interesa es poder decir, si yo quiero sacar los nombres de los city leaders, el equipo de spain ai, ¿como puedo obtener el nombre de estos city leaders?\r\n",
        "# city leaders son las personas q salen cuando das al link de 'equipo' en la web de spain ai. tendriamos q entender como sacar los nombres de todas las personas q están ahí.\r\n",
        "\r\n",
        "# lo interesante es ver como podemos sacar esta info. con el boton de cuadro-flecha arriba izquierda empezamos a ver las clases q tienen los elementos del equipo de spain-ai y parece q por ahí \r\n",
        "# podríamos obtener la info. i.e. mirando los elementos q tengan estas clases:\r\n",
        "\"\"\"\r\n",
        "              <div class=\"col-sm-4 portfolio-item\">\r\n",
        "                <a href=\"https://www.linkedin.com/in/karen-troiano/\" class=\"portfolio-link\">\r\n",
        "                    <img src=\"./images/equipo/karen_troiano.jpeg\" class=\"img-responsive\" alt=\"\">\r\n",
        "                    <span class=\"portfolio-text\">Karen <br>Troiano</span>\r\n",
        "                    <p class=\"speaker_description\">Fundadora Bilbao AI &amp; Fundadora Podcast Spain AI</p>\r\n",
        "                </a>\r\n",
        "              </div> \r\n",
        "\"\"\"\r\n",
        "\r\n",
        "# 1-obtener todos los 'div' de clase 'portfolio-item', dentro de la seccion con ID 'team'\r\n",
        "# 2-estraer el nombre de esos elementos\r\n",
        "\r\n",
        "# para hacer esto lo 1o q tenemos q hacer es irnos a la parte del 'team'"
      ],
      "execution_count": null,
      "outputs": [
        {
          "output_type": "execute_result",
          "data": {
            "application/vnd.google.colaboratory.intrinsic+json": {
              "type": "string"
            },
            "text/plain": [
              "'\\n              <div class=\"col-sm-4 portfolio-item\">\\n                <a href=\"https://www.linkedin.com/in/karen-troiano/\" class=\"portfolio-link\">\\n                    <img src=\"./images/equipo/karen_troiano.jpeg\" class=\"img-responsive\" alt=\"\">\\n                    <span class=\"portfolio-text\">Karen <br>Troiano</span>\\n                    <p class=\"speaker_description\">Fundadora Bilbao AI &amp; Fundadora Podcast Spain AI</p>\\n                </a>\\n              </div> \\n'"
            ]
          },
          "metadata": {
            "tags": []
          },
          "execution_count": 86
        }
      ]
    },
    {
      "cell_type": "code",
      "metadata": {
        "colab": {
          "base_uri": "https://localhost:8080/",
          "height": 103
        },
        "id": "3OkKNDH67LAV",
        "outputId": "d71bef9d-766f-46ee-d7a3-b44fe1b02a01"
      },
      "source": [
        "\"\"\"\r\n",
        "<section id=\"team\">\r\n",
        "        <div class=\"container\">\r\n",
        "            <div class=\"row\">\r\n",
        "                <div class=\"col-lg-12 text-center\">\r\n",
        "                    <h2>Nuestro Equipo</h2>\r\n",
        "                    <hr class=\"star-primary\">\r\n",
        "                </div>\r\n",
        "            </div>\r\n",
        "            <div class=\"row team\">\r\n",
        "                <div class=\"col-sm-3 portfolio-item\">\r\n",
        "                    <a href=\"https://www.linkedin.com/in/fernandocallealonso/\" class=\"portfolio-link\">\r\n",
        "                        <img src=\"./images/equipo/fernando_calle.jpg\" class=\"img-responsive\" alt=\"\">\r\n",
        "                        <span class=\"portfolio-text\">Fernando <br> Calle Alonso</span>\r\n",
        "                        <p class=\"speaker_description\">Fundador Spain AI &amp; Madrid AI</p>\r\n",
        "                    </a>\r\n",
        "          </div>\r\n",
        "...\r\n",
        "...        \r\n",
        "    </section>\r\n",
        "\"\"\""
      ],
      "execution_count": null,
      "outputs": [
        {
          "output_type": "execute_result",
          "data": {
            "application/vnd.google.colaboratory.intrinsic+json": {
              "type": "string"
            },
            "text/plain": [
              "'\\n<section id=\"team\">\\n        <div class=\"container\">\\n            <div class=\"row\">\\n                <div class=\"col-lg-12 text-center\">\\n                    <h2>Nuestro Equipo</h2>\\n                    <hr class=\"star-primary\">\\n                </div>\\n            </div>\\n            <div class=\"row team\">\\n                <div class=\"col-sm-3 portfolio-item\">\\n                    <a href=\"https://www.linkedin.com/in/fernandocallealonso/\" class=\"portfolio-link\">\\n                        <img src=\"./images/equipo/fernando_calle.jpg\" class=\"img-responsive\" alt=\"\">\\n                        <span class=\"portfolio-text\">Fernando <br> Calle Alonso</span>\\n                        <p class=\"speaker_description\">Fundador Spain AI &amp; Madrid AI</p>\\n                    </a>\\n          </div>\\n...\\n...        \\n    </section>\\n'"
            ]
          },
          "metadata": {
            "tags": []
          },
          "execution_count": 87
        }
      ]
    },
    {
      "cell_type": "code",
      "metadata": {
        "id": "k1AbtcsD7z-e"
      },
      "source": [
        "# si en html vamos subiendo por los elementos del team podemos ver q la seccion entera <section id=\"team\"> tiene la id=team\r\n",
        "# es decir nosotros ya estamos diciendo en la pagina cual es el area o cual es la zona q nos interesa y podemos ver q empieza en <section id=\"team\">\r\n",
        "# ademas en la web al seleccionar <section id=\"team\"> vemos q la parte por ENCIMA de esa seccion es verde y nuestra seccion con los ponentes es azul. \r\n",
        "# e igualmente en la web al seleccionar <section id=\"team\"> vemos q la parte por DEBAJO de esa seccion es verde y nuestra seccion con los ponentes es azul. \r\n",
        "\r\n",
        "# por tanto usando el id=team podemos sacar la seccion q queremos escrapear\r\n",
        "\r\n",
        "# como en siguiente bloque de codigo ya teniamos recogida la pagina en soup solamente tenemos q ejecutar el codigo del siguiente bloque para obtener la seccion"
      ],
      "execution_count": null,
      "outputs": []
    },
    {
      "cell_type": "code",
      "metadata": {
        "colab": {
          "base_uri": "https://localhost:8080/"
        },
        "id": "xlGjBm_57v1M",
        "outputId": "52e557cb-f91c-4c92-aeb3-845a82ea5da9"
      },
      "source": [
        "# encuentro la sección Team\r\n",
        "team = soup.find(id=\"team\")\r\n",
        "print(team)"
      ],
      "execution_count": null,
      "outputs": [
        {
          "output_type": "stream",
          "text": [
            "<section id=\"team\">\n",
            "<div class=\"container\">\n",
            "<div class=\"row\">\n",
            "<div class=\"col-lg-12 text-center\">\n",
            "<h2>Nuestro Equipo</h2>\n",
            "<hr class=\"star-primary\"/>\n",
            "</div>\n",
            "</div>\n",
            "<div class=\"row team\">\n",
            "<div class=\"col-sm-3 portfolio-item\">\n",
            "<a class=\"portfolio-link\" href=\"https://www.linkedin.com/in/fernandocallealonso/\">\n",
            "<img alt=\"\" class=\"img-responsive\" src=\"./images/equipo/fernando_calle.jpg\"/>\n",
            "<span class=\"portfolio-text\">Fernando <br/> Calle Alonso</span>\n",
            "<p class=\"speaker_description\">Fundador Spain AI &amp; Madrid AI</p>\n",
            "</a>\n",
            "</div>\n",
            "<div class=\"col-sm-3 portfolio-item\">\n",
            "<a class=\"portfolio-link\" href=\"https://www.linkedin.com/in/nestor-alvaro-phd-92474147/\">\n",
            "<img alt=\"\" class=\"img-responsive\" src=\"./images/equipo/nestor.png\"/>\n",
            "<span class=\"portfolio-text\">Néstor <br/>Álvaro</span>\n",
            "<p class=\"speaker_description\">Fundador Spain AI &amp; Madrid AI</p>\n",
            "</a>\n",
            "</div>\n",
            "<div class=\"col-sm-3 portfolio-item\">\n",
            "<a class=\"portfolio-link\" href=\"https://www.linkedin.com/in/paulvanlorenzo/\">\n",
            "<img alt=\"\" class=\"img-responsive\" src=\"./images/equipo/paul_vanbranteghem.jpg\"/>\n",
            "<span class=\"portfolio-text\">Paul <br/>Van Branteghem</span>\n",
            "<p class=\"speaker_description\">Fundador Spain AI &amp; Madrid AI</p>\n",
            "</a>\n",
            "</div>\n",
            "<div class=\"col-sm-3 portfolio-item\">\n",
            "<a class=\"portfolio-link\" href=\"https://www.linkedin.com\">\n",
            "<img alt=\"\" class=\"img-responsive\" src=\"./images/equipo/alba.jpg\"/>\n",
            "<span class=\"portfolio-text\">Alba <br/>Pérez</span>\n",
            "<p class=\"speaker_description\">Community Manager Spain AI &amp; Fundadora Podcast Spain AI</p>\n",
            "</a>\n",
            "</div>\n",
            "</div>\n",
            "<div class=\"row team\">\n",
            "<div class=\"col-sm-4 portfolio-item\">\n",
            "<a class=\"portfolio-link\" href=\"https://www.linkedin.com/in/jlrosa/\">\n",
            "<img alt=\"\" class=\"img-responsive\" src=\"./images/equipo/juan_luis_rosa.jpeg\"/>\n",
            "<span class=\"portfolio-text\">Juan Luis <br/>Rosa</span>\n",
            "<p class=\"speaker_description\">Fundador Barcelona AI</p>\n",
            "</a>\n",
            "</div>\n",
            "<div class=\"col-sm-4 portfolio-item\">\n",
            "<a class=\"portfolio-link\" href=\"https://www.linkedin.com/in/adrianmelic/\">\n",
            "<img alt=\"\" class=\"img-responsive\" src=\"./images/equipo/adrian_melic.jpeg\"/>\n",
            "<span class=\"portfolio-text\">Adrián <br/>Melic</span>\n",
            "<p class=\"speaker_description\">Fundador Zaragoza AI</p>\n",
            "</a>\n",
            "</div>\n",
            "<div class=\"col-sm-4 portfolio-item\">\n",
            "<a class=\"portfolio-link\" href=\"https://www.linkedin.com/in/juan-j-merelo-0815/\">\n",
            "<img alt=\"\" class=\"img-responsive\" src=\"./images/equipo/juan_j_merelo.jpeg\"/>\n",
            "<span class=\"portfolio-text\">Juan <br/>J. Merelo</span>\n",
            "<p class=\"speaker_description\">Fundador Granada AI</p>\n",
            "</a>\n",
            "</div>\n",
            "</div>\n",
            "<div class=\"row team\">\n",
            "<div class=\"col-sm-4 portfolio-item\">\n",
            "<a class=\"portfolio-link\" href=\"https://www.linkedin.com/in/karen-troiano/\">\n",
            "<img alt=\"\" class=\"img-responsive\" src=\"./images/equipo/karen_troiano.jpeg\"/>\n",
            "<span class=\"portfolio-text\">Karen <br/>Troiano</span>\n",
            "<p class=\"speaker_description\">Fundadora Bilbao AI &amp; Fundadora Podcast Spain AI</p>\n",
            "</a>\n",
            "</div>\n",
            "<div class=\"col-sm-4 portfolio-item\">\n",
            "<a class=\"portfolio-link\" href=\"https://www.linkedin.com/in/aimatesanz/\">\n",
            "<img alt=\"\" class=\"img-responsive\" src=\"./images/equipo/andres_matesanz.jpeg\"/>\n",
            "<span class=\"portfolio-text\">Andrés <br/>Matesanz</span>\n",
            "<p class=\"speaker_description\">Fundador Málaga AI</p>\n",
            "</a>\n",
            "</div>\n",
            "<div class=\"col-sm-4 portfolio-item\">\n",
            "<a class=\"portfolio-link\" href=\"https://www.linkedin.com/in/quinoterrasa/\">\n",
            "<img alt=\"\" class=\"img-responsive\" src=\"./images/equipo/quino_terrasa.jpeg\"/>\n",
            "<span class=\"portfolio-text\">Joaquín <br/>Terrasa</span>\n",
            "<p class=\"speaker_description\">Fundador Málaga AI</p>\n",
            "</a>\n",
            "</div>\n",
            "</div>\n",
            "<div class=\"row team\">\n",
            "<div class=\"col-sm-4 portfolio-item\">\n",
            "<a class=\"portfolio-link\" href=\"https://www.linkedin.com/in/maragon5/\">\n",
            "<img alt=\"\" class=\"img-responsive\" src=\"./images/equipo/Miguel_Angel_Aragon.jpeg\"/>\n",
            "<span class=\"portfolio-text\">Miguel Angel <br/>Aragón</span>\n",
            "<p class=\"speaker_description\">Fundador Sevilla AI</p>\n",
            "</a>\n",
            "</div>\n",
            "<div class=\"col-sm-4 portfolio-item\">\n",
            "<a class=\"portfolio-link\" href=\"https://www.linkedin.com/in/placido-domenech-esp%C3%AD-43169012/\">\n",
            "<img alt=\"\" class=\"img-responsive\" src=\"./images/equipo/Placido_Domenech.jpeg\"/>\n",
            "<span class=\"portfolio-text\">Placido <br/>Domenech</span>\n",
            "<p class=\"speaker_description\">Fundador Alicante AI</p>\n",
            "</a>\n",
            "</div>\n",
            "<div class=\"col-sm-4 portfolio-item\">\n",
            "<a class=\"portfolio-link\" href=\"https://www.linkedin.com/in/franciscocarrero/\">\n",
            "<img alt=\"\" class=\"img-responsive\" src=\"./images/equipo/Francisco_Carrero.jpeg\"/>\n",
            "<span class=\"portfolio-text\">Frankie <br/>Carrero</span>\n",
            "<p class=\"speaker_description\">Fundador Galicia AI</p>\n",
            "</a>\n",
            "</div>\n",
            "</div>\n",
            "<div class=\"row team\">\n",
            "<div class=\"col-sm-4 portfolio-item\">\n",
            "<a class=\"portfolio-link\" href=\"https://www.linkedin.com/in/franciscollanezagonzalez/\">\n",
            "<img alt=\"\" class=\"img-responsive\" src=\"./images/equipo/Francisco_LLaneza.jpeg\"/>\n",
            "<span class=\"portfolio-text\">Francisco <br/>LLaneza</span>\n",
            "<p class=\"speaker_description\">Fundador Asturias AI</p>\n",
            "</a>\n",
            "</div>\n",
            "<div class=\"col-sm-4 portfolio-item\">\n",
            "<a class=\"portfolio-link\" href=\"https://www.linkedin.com/in/pablogesteban/\">\n",
            "<img alt=\"\" class=\"img-responsive\" src=\"./images/equipo/Pablo_Gomez.jpeg\"/>\n",
            "<span class=\"portfolio-text\">Pablo <br/>Gomez</span>\n",
            "<p class=\"speaker_description\">Impulsor Madrid AI</p>\n",
            "</a>\n",
            "</div>\n",
            "<div class=\"col-sm-4 portfolio-item\">\n",
            "<a class=\"portfolio-link\" href=\"https://www.linkedin.com/in/jos%C3%A9-antonio-s%C3%A1nchez-gonz%C3%A1lez-a81a4b19/\">\n",
            "<img alt=\"\" class=\"img-responsive\" src=\"./images/equipo/Jose_Antonio_Sanchez.jpeg\"/>\n",
            "<span class=\"portfolio-text\">Jose Antonio <br/>Sánchez</span>\n",
            "<p class=\"speaker_description\">Fundador Sevilla AI</p>\n",
            "</a>\n",
            "</div>\n",
            "</div>\n",
            "<div class=\"row team\">\n",
            "<div class=\"col-sm-4 portfolio-item\">\n",
            "<a class=\"portfolio-link\" href=\"https://www.linkedin.com/in/carlos-villarrubia-salcedo-7ab583151\">\n",
            "<img alt=\"\" class=\"img-responsive\" src=\"./images/equipo/Carlos_Villarrubia_Salcedo.jpeg\"/>\n",
            "<span class=\"portfolio-text\">Carlos <br/>Villarrubia</span>\n",
            "<p class=\"speaker_description\">Fundador Toledo AI</p>\n",
            "</a>\n",
            "</div>\n",
            "<div class=\"col-sm-4 portfolio-item\">\n",
            "<a class=\"portfolio-link\" href=\"https://www.linkedin.com/in/v%C3%ADctor-g%C3%B3mez-tavira-barbero/\">\n",
            "<img alt=\"\" class=\"img-responsive\" src=\"./images/equipo/Victor_Gomez-Tavira.jpeg\"/>\n",
            "<span class=\"portfolio-text\">Víctor <br/>Gómez-Tavira</span>\n",
            "<p class=\"speaker_description\">Fundador Toledo AI</p>\n",
            "</a>\n",
            "</div>\n",
            "<div class=\"col-sm-4 portfolio-item\">\n",
            "<a class=\"portfolio-link\" href=\"https://www.linkedin.com/in/pedro-ramos-4a5a41135/\">\n",
            "<img alt=\"\" class=\"img-responsive\" src=\"./images/equipo/Pedro_Ramos.jpeg\"/>\n",
            "<span class=\"portfolio-text\">Pedro <br/>Ramos</span>\n",
            "<p class=\"speaker_description\">Fundador Canarias AI</p>\n",
            "</a>\n",
            "</div>\n",
            "</div>\n",
            "<div class=\"row team\">\n",
            "<div class=\"col-sm-4 portfolio-item\">\n",
            "<a class=\"portfolio-link\" href=\"https://www.linkedin.com/in/javier-abell%C3%A1n-abenza-942b8ba5/\">\n",
            "<img alt=\"\" class=\"img-responsive\" src=\"./images/equipo/javier_abellan.jpeg\"/>\n",
            "<span class=\"portfolio-text\">Javier <br/>Abellán</span>\n",
            "<p class=\"speaker_description\">Fundador Murcia AI</p>\n",
            "</a>\n",
            "</div>\n",
            "<div class=\"col-sm-4 portfolio-item\">\n",
            "<a class=\"portfolio-link\" href=\"https://www.linkedin.com/in/jose-miguel-bolarin-97343759\">\n",
            "<img alt=\"\" class=\"img-responsive\" src=\"./images/equipo/jose_miguel_bolarin.jpeg\"/>\n",
            "<span class=\"portfolio-text\">Jose Miguel <br/>Bolarin</span>\n",
            "<p class=\"speaker_description\">Fundador Murcia AI</p>\n",
            "</a>\n",
            "</div>\n",
            "<div class=\"col-sm-4 portfolio-item\">\n",
            "<a class=\"portfolio-link\" href=\"https://www.linkedin.com/in/victornaldacastellet/\">\n",
            "<img alt=\"\" class=\"img-responsive\" src=\"./images/equipo/victor_nalda.jpeg\"/>\n",
            "<span class=\"portfolio-text\">Víctor <br/>Nalda</span>\n",
            "<p class=\"speaker_description\">Fundador Rioja AI</p>\n",
            "</a>\n",
            "</div>\n",
            "</div>\n",
            "<div class=\"row team\">\n",
            "<div class=\"col-sm-4 portfolio-item\">\n",
            "<a class=\"portfolio-link\" href=\"#\">\n",
            "<img alt=\"\" class=\"img-responsive\" src=\"./images/equipo/rogelio_najera.jpg\"/>\n",
            "<span class=\"portfolio-text\">Rogelio <br/>Nájera</span>\n",
            "<p class=\"speaker_description\">Impulsor del Acelerador de Talento</p>\n",
            "</a>\n",
            "</div>\n",
            "<div class=\"col-sm-4 portfolio-item\">\n",
            "<a class=\"portfolio-link\" href=\"https://www.linkedin.com/in/karina-serrano-485b92171\">\n",
            "<img alt=\"\" class=\"img-responsive\" src=\"./images/equipo/karina_serrano.jpeg\"/>\n",
            "<span class=\"portfolio-text\">Karina <br/>Serrano</span>\n",
            "<p class=\"speaker_description\">Impulsora del Acelerador de Talento</p>\n",
            "</a>\n",
            "</div>\n",
            "<div class=\"col-sm-4 portfolio-item\">\n",
            "<a class=\"portfolio-link\" href=\"https://www.linkedin.com/in/adriaciurana\">\n",
            "<img alt=\"\" class=\"img-responsive\" src=\"./images/equipo/adria_ciurana.jpeg\"/>\n",
            "<span class=\"portfolio-text\">Adrià <br/>Ciurana</span>\n",
            "<p class=\"speaker_description\">Impulsor Barcelona AI</p>\n",
            "</a>\n",
            "</div>\n",
            "</div>\n",
            "<div class=\"row team\">\n",
            "<div class=\"col-sm-4 portfolio-item\">\n",
            "<a class=\"portfolio-link\" href=\"https://www.linkedin.com/in/ismael-garc%C3%ADa-varea-a586b8151/\">\n",
            "<img alt=\"\" class=\"img-responsive\" src=\"./images/equipo/ismael_garcia.jpeg\"/>\n",
            "<span class=\"portfolio-text\">Ismael <br/>García</span>\n",
            "<p class=\"speaker_description\">Fundador Albacete AI</p>\n",
            "</a>\n",
            "</div>\n",
            "<div class=\"col-sm-4 portfolio-item\">\n",
            "<a class=\"portfolio-link\" href=\"https://www.linkedin.com/in/iker-gómez-garcía\">\n",
            "<img alt=\"\" class=\"img-responsive\" src=\"./images/equipo/iker_gomez.jpeg\"/>\n",
            "<span class=\"portfolio-text\">Iker <br/>Gómez</span>\n",
            "<p class=\"speaker_description\">Fundador Pamplona AI &amp; Fundador Podcast Spain AI</p>\n",
            "</a>\n",
            "</div>\n",
            "<div class=\"col-sm-4 portfolio-item\">\n",
            "<a class=\"portfolio-link\" href=\"https://www.linkedin.com/in/albertojulian/\">\n",
            "<img alt=\"\" class=\"img-responsive\" src=\"./images/equipo/alberto_julian.jpeg\"/>\n",
            "<span class=\"portfolio-text\">Alberto <br/>Julián</span>\n",
            "<p class=\"speaker_description\">Fundador Podcast Spain AI</p>\n",
            "</a>\n",
            "</div>\n",
            "</div>\n",
            "<div class=\"row team\">\n",
            "<div class=\"col-sm-4 portfolio-item\">\n",
            "<a class=\"portfolio-link\" href=\"https://www.linkedin.com/in/pabloromeroquinteros/\">\n",
            "<img alt=\"\" class=\"img-responsive\" src=\"./images/equipo/Pablo_Romero.jpg\"/>\n",
            "<span class=\"portfolio-text\">Pablo <br/>Romero</span>\n",
            "<p class=\"speaker_description\">Fundador Tarragona AI</p>\n",
            "</a>\n",
            "</div>\n",
            "<div class=\"col-sm-4 portfolio-item\">\n",
            "<a class=\"portfolio-link\" href=\"https://www.linkedin.com/in/patriciaacebestamargo/\">\n",
            "<img alt=\"\" class=\"img-responsive\" src=\"./images/equipo/Patricia_Acebes.jpeg\"/>\n",
            "<span class=\"portfolio-text\">Patricia <br/>Acebes</span>\n",
            "<p class=\"speaker_description\">Impulsora Asturias AI</p>\n",
            "</a>\n",
            "</div>\n",
            "<div class=\"col-sm-4 portfolio-item\">\n",
            "<a class=\"portfolio-link\" href=\"https://www.linkedin.com/in/joaquin-fernandez-ba0044107\">\n",
            "<img alt=\"\" class=\"img-responsive\" src=\"./images/equipo/Joaquin_Fernandez.jpeg\"/>\n",
            "<span class=\"portfolio-text\">Joaquin <br/>Fernandez</span>\n",
            "<p class=\"speaker_description\">Fundador Almería AI</p>\n",
            "</a>\n",
            "</div>\n",
            "</div>\n",
            "<div class=\"row team\">\n",
            "<div class=\"col-sm-3 portfolio-item\">\n",
            "<a class=\"portfolio-link\" href=\"https://www.linkedin.com/in/miguelcoronadoch/\">\n",
            "<img alt=\"\" class=\"img-responsive\" src=\"./images/equipo/Miguel_Coronado.jpeg\"/>\n",
            "<span class=\"portfolio-text\">Miguel <br/>Coronado</span>\n",
            "<p class=\"speaker_description\">Impulsor Sevilla AI</p>\n",
            "</a>\n",
            "</div>\n",
            "<div class=\"col-sm-3 portfolio-item\">\n",
            "<a class=\"portfolio-link\" href=\"https://es.linkedin.com/in/daniel-romero-del-hombrebueno-71b51655\">\n",
            "<img alt=\"\" class=\"img-responsive\" src=\"./images/equipo/Daniel_Romero.jpeg\"/>\n",
            "<span class=\"portfolio-text\">Daniel <br/>Romero</span>\n",
            "<p class=\"speaker_description\">Fundador Guadalajara AI</p>\n",
            "</a>\n",
            "</div>\n",
            "<div class=\"col-sm-3 portfolio-item\">\n",
            "<a class=\"portfolio-link\" href=\"https://www.linkedin.com/in/marcosmartinhernandez/\">\n",
            "<img alt=\"\" class=\"img-responsive\" src=\"./images/equipo/Marcos_Martin.jpeg\"/>\n",
            "<span class=\"portfolio-text\">Marcos <br/>Martin</span>\n",
            "<p class=\"speaker_description\">Impulsor Madrid AI</p>\n",
            "</a>\n",
            "</div>\n",
            "<div class=\"col-sm-3 portfolio-item\">\n",
            "<a class=\"portfolio-link\" href=\"https://www.linkedin.com/in/joel-ansiporovich-7b14a8123/\">\n",
            "<img alt=\"\" class=\"img-responsive\" src=\"./images/equipo/Joel_Ansiporovich.jpeg\"/>\n",
            "<span class=\"portfolio-text\">Joel <br/>Ansiporovich</span>\n",
            "<p class=\"speaker_description\">Fundador Cáceres AI</p>\n",
            "</a>\n",
            "</div>\n",
            "</div>\n",
            "<br/>\n",
            "</div>\n",
            "</section>\n"
          ],
          "name": "stdout"
        }
      ]
    },
    {
      "cell_type": "code",
      "metadata": {
        "colab": {
          "base_uri": "https://localhost:8080/",
          "height": 35
        },
        "id": "62TZJs3o7xdN",
        "outputId": "f7a7981a-789f-4f9f-b5cf-25f4915e3ac6"
      },
      "source": [
        "# esta seccion tiene los enlaces a todas las personas q estan formando parte del equipo de spain-ai: fernado, nestor, paul (q fueron los fundadores) (tb esta alba la community manager).\r\n",
        "# y al final de la seccion podemos ver a marcos y a joel.\r\n",
        "\r\n",
        "# otra cosa esq la pagina no tenga toda la info para ver todas las personas pero sí q vemos q hemos cogido toda la info de manera correcta.\r\n",
        "\r\n",
        "# una vez q tenemos toda la info de la celda anterior loq tenemos q hacer es identificar dentro del div con el find_all q es el metodo q tiene cada uno de los elementos q tenemos en team.\r\n",
        "# en la celda anterior teniamos el # team = soup.find(id=\"team\") # q era la seccion dde team q nos daba el resultado de la celda anterior.\r\n",
        "# y dentro de team loq hacemos en siguiente celda es: quiero identificar dentro de esa seccion todos los div cuya clase sea \"portfolio-item\"\r\n",
        "# team.find_all(\"div\", class_=\"portfolio-item\")\r\n",
        "# elegimos div y la clase poprtfolio-item pq nosotros en codigo html podemos ver q dentro de la seccion team, todas las personas tienen portfolio-item <div class=\"col-sm-4 portfolio-item\">\r\n",
        "\r\n",
        "# y no cogemos \"col-sm-4 portfolio-item\" pq en algunos casos el idenificador es diferente como \"col-sm-6 portfolio-item\" o \"col-sm-3 portfolio-item\" como en el caso de néstor álvaro.\r\n",
        "# en el caso de néstor álvaro podemos ver q tenemos el col-sm6 y en otros casos tenemos col-sm4.\r\n",
        "# importante tener esto en cuenta pq en ocasiones podemos pensar q estamos usando los selectores correctos cuando en realidad estamos usando de más (sm-4) y a lo mejor no obtenemos la info \r\n",
        "# adecuada pq hay elementos q tienen por ej sm-3 q se nos hubieran quedado fuera. \r\n",
        "\r\n",
        "# si cogemos el porfolio-item esto nos va a permitir recoger todos los elementos q tengan esa clase; y dentro de estos elementos nos estamos fijando en el div <div class=\"col-sm-4 portfolio-item\">\r\n",
        "# q es elq decimos q empieza con <div> y acaba con </div>: <div class=\"col-sm-4 portfolio-item\">_</div>\r\n",
        "\"\"\"\r\n",
        "<div class=\"col-sm-4 portfolio-item\">\r\n",
        "<a class=\"portfolio-link\" href=\"https://www.linkedin.com/in/joaquin-fernandez-ba0044107\">\r\n",
        "<img alt=\"\" class=\"img-responsive\" src=\"./images/equipo/Joaquin_Fernandez.jpeg\"/>\r\n",
        "<span class=\"portfolio-text\">Joaquin <br/>Fernandez</span>\r\n",
        "<p class=\"speaker_description\">Fundador Almería AI</p>\r\n",
        "</a>\r\n",
        "</div>\r\n",
        "\"\"\"\r\n",
        "\r\n",
        "# los elementos <div> dentro del html tienen una funcion en concreto pero en este caso no nos vamos a preocupar demasiado por entender como funcionan estos elementos sin unicamente por saber q el \r\n",
        "# div es el tipo de elemento q queremos recuperar y q dentro de este conjunto de elementos <div class=\"col-sm-4 portfolio-item\">_</div> q puede haber muchos dentro de la seccion team queremos losq\r\n",
        "# tengan la clase porfolio-item\r\n",
        "\r\n",
        "# esto a beautiful soup se lo inidicamos como se indica en la siguiente celda:\r\n",
        "# dentro del 'team', q era loq habiamos obtenido arriba, 'find_all' identificame todos los elementos con el metodo 'find_all' q sean de tipo \"div\" \r\n",
        "# pero ademas q tengan la clase class_=\"portfolio-item\" --> team.find_all(\"div\", class_=\"portfolio-item\") y sacaremos ese comando en una lista 'leader'\r\n",
        "# leader = team.find_all(\"div\", class_=\"portfolio-item\")\r\n",
        "# y la lista la vamos a iterar: para cada uno de los elementos en la lista imprimeme el texto\r\n",
        "\"\"\"\r\n",
        "for l in leader:\r\n",
        "  print(l.text)\r\n",
        "\"\"\"\r\n",
        "# el texto es simplemente la parte textual q aparezca dentro de cada uno de los divs. en la web vemos q va a ser el nombre y va a ser una pequeña descripción de enq ciudad está \r\n",
        "# (Javier Abellán, Fundador Murcia AI)"
      ],
      "execution_count": null,
      "outputs": [
        {
          "output_type": "execute_result",
          "data": {
            "application/vnd.google.colaboratory.intrinsic+json": {
              "type": "string"
            },
            "text/plain": [
              "'\\nfor l in leader:\\n  print(l.text)\\n'"
            ]
          },
          "metadata": {
            "tags": []
          },
          "execution_count": 90
        }
      ]
    },
    {
      "cell_type": "code",
      "metadata": {
        "colab": {
          "base_uri": "https://localhost:8080/"
        },
        "id": "AAxNXlrlTTGI",
        "outputId": "6c780665-6b57-4b3a-d333-7dfab0b14a8f"
      },
      "source": [
        "# solo imprimo los elementos de clase porfolio-item\r\n",
        "leader = team.find_all(\"div\", class_=\"portfolio-item\")\r\n",
        "for l in leader:\r\n",
        "  print(l.text)"
      ],
      "execution_count": null,
      "outputs": [
        {
          "output_type": "stream",
          "text": [
            "\n",
            "\n",
            "\n",
            "Fernando  Calle Alonso\n",
            "Fundador Spain AI & Madrid AI\n",
            "\n",
            "\n",
            "\n",
            "\n",
            "\n",
            "Néstor Álvaro\n",
            "Fundador Spain AI & Madrid AI\n",
            "\n",
            "\n",
            "\n",
            "\n",
            "\n",
            "Paul Van Branteghem\n",
            "Fundador Spain AI & Madrid AI\n",
            "\n",
            "\n",
            "\n",
            "\n",
            "\n",
            "Alba Pérez\n",
            "Community Manager Spain AI & Fundadora Podcast Spain AI\n",
            "\n",
            "\n",
            "\n",
            "\n",
            "\n",
            "Juan Luis Rosa\n",
            "Fundador Barcelona AI\n",
            "\n",
            "\n",
            "\n",
            "\n",
            "\n",
            "Adrián Melic\n",
            "Fundador Zaragoza AI\n",
            "\n",
            "\n",
            "\n",
            "\n",
            "\n",
            "Juan J. Merelo\n",
            "Fundador Granada AI\n",
            "\n",
            "\n",
            "\n",
            "\n",
            "\n",
            "Karen Troiano\n",
            "Fundadora Bilbao AI & Fundadora Podcast Spain AI\n",
            "\n",
            "\n",
            "\n",
            "\n",
            "\n",
            "Andrés Matesanz\n",
            "Fundador Málaga AI\n",
            "\n",
            "\n",
            "\n",
            "\n",
            "\n",
            "Joaquín Terrasa\n",
            "Fundador Málaga AI\n",
            "\n",
            "\n",
            "\n",
            "\n",
            "\n",
            "Miguel Angel Aragón\n",
            "Fundador Sevilla AI\n",
            "\n",
            "\n",
            "\n",
            "\n",
            "\n",
            "Placido Domenech\n",
            "Fundador Alicante AI\n",
            "\n",
            "\n",
            "\n",
            "\n",
            "\n",
            "Frankie Carrero\n",
            "Fundador Galicia AI\n",
            "\n",
            "\n",
            "\n",
            "\n",
            "\n",
            "Francisco LLaneza\n",
            "Fundador Asturias AI\n",
            "\n",
            "\n",
            "\n",
            "\n",
            "\n",
            "Pablo Gomez\n",
            "Impulsor Madrid AI\n",
            "\n",
            "\n",
            "\n",
            "\n",
            "\n",
            "Jose Antonio Sánchez\n",
            "Fundador Sevilla AI\n",
            "\n",
            "\n",
            "\n",
            "\n",
            "\n",
            "Carlos Villarrubia\n",
            "Fundador Toledo AI\n",
            "\n",
            "\n",
            "\n",
            "\n",
            "\n",
            "Víctor Gómez-Tavira\n",
            "Fundador Toledo AI\n",
            "\n",
            "\n",
            "\n",
            "\n",
            "\n",
            "Pedro Ramos\n",
            "Fundador Canarias AI\n",
            "\n",
            "\n",
            "\n",
            "\n",
            "\n",
            "Javier Abellán\n",
            "Fundador Murcia AI\n",
            "\n",
            "\n",
            "\n",
            "\n",
            "\n",
            "Jose Miguel Bolarin\n",
            "Fundador Murcia AI\n",
            "\n",
            "\n",
            "\n",
            "\n",
            "\n",
            "Víctor Nalda\n",
            "Fundador Rioja AI\n",
            "\n",
            "\n",
            "\n",
            "\n",
            "\n",
            "Rogelio Nájera\n",
            "Impulsor del Acelerador de Talento\n",
            "\n",
            "\n",
            "\n",
            "\n",
            "\n",
            "Karina Serrano\n",
            "Impulsora del Acelerador de Talento\n",
            "\n",
            "\n",
            "\n",
            "\n",
            "\n",
            "Adrià Ciurana\n",
            "Impulsor Barcelona AI\n",
            "\n",
            "\n",
            "\n",
            "\n",
            "\n",
            "Ismael García\n",
            "Fundador Albacete AI\n",
            "\n",
            "\n",
            "\n",
            "\n",
            "\n",
            "Iker Gómez\n",
            "Fundador Pamplona AI & Fundador Podcast Spain AI\n",
            "\n",
            "\n",
            "\n",
            "\n",
            "\n",
            "Alberto Julián\n",
            "Fundador Podcast Spain AI\n",
            "\n",
            "\n",
            "\n",
            "\n",
            "\n",
            "Pablo Romero\n",
            "Fundador Tarragona AI\n",
            "\n",
            "\n",
            "\n",
            "\n",
            "\n",
            "Patricia Acebes\n",
            "Impulsora Asturias AI\n",
            "\n",
            "\n",
            "\n",
            "\n",
            "\n",
            "Joaquin Fernandez\n",
            "Fundador Almería AI\n",
            "\n",
            "\n",
            "\n",
            "\n",
            "\n",
            "Miguel Coronado\n",
            "Impulsor Sevilla AI\n",
            "\n",
            "\n",
            "\n",
            "\n",
            "\n",
            "Daniel Romero\n",
            "Fundador Guadalajara AI\n",
            "\n",
            "\n",
            "\n",
            "\n",
            "\n",
            "Marcos Martin\n",
            "Impulsor Madrid AI\n",
            "\n",
            "\n",
            "\n",
            "\n",
            "\n",
            "Joel Ansiporovich\n",
            "Fundador Cáceres AI\n",
            "\n",
            "\n"
          ],
          "name": "stdout"
        }
      ]
    },
    {
      "cell_type": "code",
      "metadata": {
        "id": "_qval9apVkmq"
      },
      "source": [
        "# todos los nombres de todas las personas aparecen ahí listados"
      ],
      "execution_count": null,
      "outputs": []
    },
    {
      "cell_type": "code",
      "metadata": {
        "id": "AHRiozeWXIpB"
      },
      "source": [
        "# YOUTUBE: PYTHON PARA WEB 30 SELENIUM"
      ],
      "execution_count": null,
      "outputs": []
    },
    {
      "cell_type": "code",
      "metadata": {
        "colab": {
          "base_uri": "https://localhost:8080/"
        },
        "id": "MebdwYq-9Wou",
        "outputId": "8f51b22c-d147-4153-9014-5869da205ce8"
      },
      "source": [
        "# hay muchisimas paginas q no se pueden procesar ni usar de la forma q hemos visto antes pq tienen una serie de medidas para ver si la peticion q se esta haciendo la esta realizando una persona con\r\n",
        "# un navegador. desde los metodos request podemos simular q estamos enviando una peticion no desde python sino como si fuesemos un navegador; simulando algunas cabeceras y algunos codigos con lo\r\n",
        "# cual podemos hacer en simulacion y muchas veces podemos hacernos pasar por una persona normal aunq lo estemos usando desde un codigo python para evitar q parezca q la navegacion se esta haciendo\r\n",
        "# de una manera programatica.\r\n",
        "\r\n",
        "# tb hay otra opcion muy buena q es la de realmente utilizar un navegador, automatizar todas las acciones de busqueda de elementos, de descarga de contenidos desde el propio navegador usando python.\r\n",
        "# para ello lo q tenemos q hacer es 1o descargarnos el modulo q permite conectar a la libreria de python con el propio navegador, en el caso del profe el va a usar chrome\r\n",
        "# accedemos a https://sites.google.com/a/chromium.org/chromedriver/downloads y descargarme la version q corresponda del driver correspondiente \r\n",
        "# (en mi caso 20201220 Versión 87.0.4280.88 (Build oficial) (64 bits))\r\n",
        "\r\n",
        "# para ver version navegador chrome clicar en los 3 puntitos arriba derecha --> ayuda --> informacion de google chrome.\r\n",
        "# y me la descargo para windows 'chromedriver_win32.zip' y lo coloco en 'C:\\Users\\Pedro\\Google Drive\\6_intro_python_para_web\\windows-chrome' y lo deswinzipeo y esta seria la version del driver q yo\r\n",
        "# quiero usar: 'chromedriver.exe'\r\n",
        "\r\n",
        "# una vez q tenemos el driver loq tenemos q hacer es instalar la libreria q nos va a permitir invocarlo.\r\n",
        "\r\n",
        "# en este caso la libreria es selenium\r\n",
        "\r\n",
        "!pip install selenium"
      ],
      "execution_count": null,
      "outputs": [
        {
          "output_type": "stream",
          "text": [
            "Requirement already satisfied: selenium in /usr/local/lib/python3.6/dist-packages (3.141.0)\n",
            "Requirement already satisfied: urllib3 in /usr/local/lib/python3.6/dist-packages (from selenium) (1.24.3)\n"
          ],
          "name": "stdout"
        }
      ]
    },
    {
      "cell_type": "code",
      "metadata": {
        "id": "5jZaux7oCkqf",
        "colab": {
          "base_uri": "https://localhost:8080/",
          "height": 35
        },
        "outputId": "6813eab1-d964-46e7-c1c0-3220e48eb003"
      },
      "source": [
        "# aqui no vamos a usar colaboratory pq loq vamos a hacer es abrir un navegador nuestro local y dentro de colaboratory no podriamos hacerlo. en colab no hay nungun navegador instalado asiq tenemos q\r\n",
        "# hacerlo en local.\r\n",
        "# es por ello q vamos a trabajar con los ficheros py q tenemos en 'C:\\Users\\Pedro\\Google Drive\\6_intro_python_para_web'\r\n",
        "\r\n",
        "# profe ya se ha preparado automatizado.py q tiene todo el codigo y nos lo va a ir explicando \r\n",
        "\r\n",
        "# lo 1o de todo usar los dos siguientes imports de selenium q es la libreria q nos hemos descargado antes:\r\n",
        "\"\"\"\r\n",
        "from selenium import webdriver\r\n",
        "from selenium.webdriver.common.keys import Keys\r\n",
        "\"\"\"\r\n",
        "# vamos a importar webdriver q es loq nos va permitir conectar la libreria de python con el propio navegador web\r\n",
        "# vamos a importar Keys q es para simular unas teclas expeciales como por ej puede ser el ENTER\r\n",
        "# importamos keys directamente en nuestro codigo local. profe usa el Atom y yo uso el Pycharm\r\n",
        "# me creo un metodo main para poder invocarlo/lanzarlo.\r\n",
        "\"\"\"\r\n",
        "if __name__ == '__main__':\r\n",
        "\"\"\"\r\n",
        "    # a continuacion usamos el webdriver q queremos y vamos a usar chrome y tenemos q ponerle la url, la direccion local donde tenemos instalado el driver para invocarlo\r\n",
        "\"\"\"\r\n",
        "    driver = webdriver.Chrome(\"/home/ptobarra/myGoogleDrive/6_intro_python_para_web/linux-chrome/chromedriver\")\r\n",
        "\"\"\"\r\n",
        "    # en la siguiente linea decimos como lo voy a utilizar. en este caso accediendo a la web de python.org q e el ejemplo q se suele poner generalmente.\r\n",
        "    # python.org es una web q tiene diferentes elementos y arriba a la derecha tiene un buscador.\r\n",
        "\"\"\"\r\n",
        "    # el metodo driver.get\" navega a la pagina indicada mediante la URL\r\n",
        "    driver.get(\"http://python.org\")\r\n",
        "\"\"\"\r\n",
        "    # lo siguiente q va a hacer profe dentro de esa web va a ser lanzar la busqueda hacia el elemento find_element_by_name(\"q\")\r\n",
        "    # le pone l \"q\" pq al inspeccionar la pagina el elemento de la caja de busqueda tiene por nombre name=\"q\" como se puede ver en el siguiente extraacto de codigo html:\r\n",
        "\"\"\"\r\n",
        "    <input id=\"id-search-field\" name=\"q\" type=\"search\" role=\"textbox\" class=\"search-field\" placeholder=\"Search\" value=\"\" tabindex=\"1\">\r\n",
        "\"\"\"\r\n",
        "    # es decir es loq estamos buscando. esa cajita de busqueda. buscamos la cajita pq es el elemento con elq vamos a trabajar.\r\n",
        "\"\"\"\r\n",
        "    # WebDriver ofrece diferentes formas de encontrar elementos, como por ejemplo los metodos find_element_by_name\r\n",
        "    elem = driver.find_element_by_name(\"q\")\r\n",
        "\"\"\"\r\n",
        "    # y lo 1o q hacemos con ese elemento es limpiarlo.\r\n",
        "\"\"\"\r\n",
        "    # limpiamos el buscador\r\n",
        "    elem.clear()\r\n",
        "\"\"\"\r\n",
        "    # hacer el clear lo unico q significa es q si nosotros ponemos en el cuadro de busqueda una cadena de texto 'zzzzz' la vamos a limpiar\r\n",
        "    # lo siguiente q vamos a hacer va a ser escribir las keys \"pycon\", i.e. metemos el texto pycon en la caja de busqueda\r\n",
        "\"\"\"\r\n",
        "    # introducimos texto como si lo hiciesemos con el teclado\r\n",
        "    elem.send_keys(\"pycon\")\r\n",
        "\"\"\"\r\n",
        "    # a continuacion vamos a simular la pulsacion de la tecla enter q es como si le diesemos al 'GO' q es loq va a disparar la busqueda \r\n",
        "\"\"\"\r\n",
        "    # \"pulsamos\" enter\r\n",
        "    elem.send_keys(Keys.RETURN)\r\n",
        "\"\"\"\r\n",
        "    # y ya podriamos trabajar si quisiemos con los contenidos\r\n",
        "    # pero en la siguiente linea no vamos a trabajar con contenidos sino q vamos a cerrar el navegador\r\n",
        "\"\"\"\r\n",
        "    # si usamos \"quit\" cerramos todo el navegador, no solo la pagina actual\r\n",
        "    driver.close()\r\n",
        "\"\"\""
      ],
      "execution_count": null,
      "outputs": [
        {
          "output_type": "execute_result",
          "data": {
            "application/vnd.google.colaboratory.intrinsic+json": {
              "type": "string"
            },
            "text/plain": [
              "'\\n    # si usamos \"quit\" cerramos todo el navegador, no solo la pagina actual\\n    driver.close()\\n'"
            ]
          },
          "metadata": {
            "tags": []
          },
          "execution_count": 95
        }
      ]
    },
    {
      "cell_type": "code",
      "metadata": {
        "id": "2DD4ifTeIsSE"
      },
      "source": [
        "# a continuacion cerramos la web python.org\n",
        "# llamamos al script desde el terminal '$ python automatizado.py' se nos abre un navegador q realiza todo loq le hemmos dicho\n",
        "# no lo hemos visto muy bien pq tb le hemos dicho q cierre el navegador al final del programa\n",
        "# pero podemos repetir la operacion comentando la ultima linea para ver q sucede.\n",
        "\n",
        "# se abre un navegador normal y corriente como elq teniamos nosotros antes y donde teniamos todos los contenidos.\n",
        "# i.e. estamos simulando una navegacion\n",
        "\n",
        "# incluso podriamos continuar y decir q una vez q he llegado a la pagina de resultados si quiero pulsar en '1' ¿como lo puedo hacer?\n",
        "# y si luego de esos resultados quiero inlcuso descargarme contenidos sabemos q con 'request' lo podriamo hacer.\n",
        "\n",
        "# esto permite muchas posibilidades incluso automatizar tareas como reservar entradas o ver precios de algo q nos pueda interesar"
      ],
      "execution_count": null,
      "outputs": []
    },
    {
      "cell_type": "code",
      "metadata": {
        "id": "MrkReVWRWlw_"
      },
      "source": [
        "# YOUTUBE: PYTHON PARA QEB 40 EJERCICIOS PLANTEAMIENTO"
      ],
      "execution_count": null,
      "outputs": []
    },
    {
      "cell_type": "code",
      "metadata": {
        "id": "IA-0FfbMGRHT"
      },
      "source": [
        "# EJERCICIO 1\n",
        "\n",
        "# en el 1er ejercicio se solicita descargar los datos de lluvia llovera/no llovera en la ciudad de vigo durante los proximos 15 dias\n",
        "# para ello se recomienda usar un scraper atacando la siguiente web:\n",
        "# https://weather.com/es-ES/tiempo/10dias/l/00ccd4421ffb1e3dc4099c5ca8e692f62fc49bac107a6eec4f1cefc008ac50d8\n",
        "\n",
        "# y de esta web podemos sacar la info de si va a llover o no va a llover --> en los dibujos de nubes tenemos diferentes indicadores, tenemos imagenes, tenemos %s de lluvia,\n",
        "# se deja abierta la solucion paraq cada persona plantee la mejor aproximacion \n",
        "\n",
        "# a continuacion el profe va a dar pistas de como lo ha resuelto él."
      ],
      "execution_count": null,
      "outputs": []
    },
    {
      "cell_type": "code",
      "metadata": {
        "colab": {
          "base_uri": "https://localhost:8080/",
          "height": 35
        },
        "id": "H0dqpbxkhPXV",
        "outputId": "15e42c71-f576-4a91-8929-40d6c87fbcb9"
      },
      "source": [
        "import requests\n",
        "from bs4 import BeautifulSoup\n",
        "url = 'https://weather.com/es-ES/tiempo/10dias/l/00ccd4421ffb1e3dc4099c5ca8e692f62fc49bac107a6eec4f1cefc008ac50d8'\n",
        "\n",
        "\"\"\"\n",
        "profe recomienda usar la libreria requests y tembien beutifulSoup para trabajar con la web de la url\n",
        "la url anterior es laq queremos descargar y procesar con beautifulSoup\n",
        "\"\"\"\n",
        "\n",
        "# tenemos q obtener la pagina web con requests\n",
        "\n",
        "\"\"\"evaluamos el codigo http: para validar y confirmar q todo son 200 y q funciona correctamente\"\"\"\n",
        "# imprimimos el codigo http de request para ver si obtuve la pagina\n",
        "# el codigo detectado debe ser 200\n",
        "\n",
        "# usamos beautifulSoup para procesar la info obtenida con request\n",
        "\n",
        "# obtener la informacion de dias\n",
        "\"\"\"\n",
        "ya sabemos q tendriamos q buscar cuales son los elementos q contienen esta informacion diaria --> tenemos q acceder e inspeccionar el\n",
        "codigo para obtener esa informacion. cada una de las cajas con un dia en la web es un dia. \n",
        "\"\"\"\n",
        "\n",
        "# obtengo los dias \n",
        "\"\"\"obtendremos todos los dias como un listado\"\"\"\n",
        "# posible solucion: obtener los elementos de tipo 'details' con clase \"_-_components-src-atom-Disclosure-Disclosure--themeList--1Dz21\"\n",
        "\"\"\"profe en la linea anterior nos deja unos indicadores q podemos consultar si tenemos problemas en resolucion de ejercicio\"\"\"\n",
        "\n",
        "\n",
        "\"\"\"como obtendremos todos los dias como un listado debemos hacer un bucle for para obtener la informacion de dentro de un dia\"\"\"\n",
        "# bucle \"for\" para ir procesando cada uno de los dias obtenidos\n",
        "\n",
        "# para cada dia, identificar si llueve o no llueve\n",
        "\"\"\"para cada dia indentificar dentro de su informacion si llueve o no llueve\"\"\"\n",
        "\"\"\"si tenemos problemas para identificar en un dia si llueve o no llueve podemos usar las dos siguientes lineas q nos ha dado el profe\"\"\"\n",
        "\"\"\"pero si podemos usar la info de otra manera o trabajar de otra manera puede ser tambien muy interesante\"\"\"\n",
        "# posible solucion: obtener los elementos de tipo \"span\" con clase \"_-_components-src-molecule-DaypartDetails-DailyContent-DailyContent--value--1Jers\"\n",
        "\"\"\"y con la ultima linea finalmente decir si va a llover o no va a llover\"\"\"\n",
        "# si optamos por esta solucion, la informacion de si llovera o no, la informacion esta en el primer elemento de la lista (indice \"0\")"
      ],
      "execution_count": null,
      "outputs": [
        {
          "output_type": "execute_result",
          "data": {
            "application/vnd.google.colaboratory.intrinsic+json": {
              "type": "string"
            },
            "text/plain": [
              "'y con la ultima linea finalmente decir si va a llover o no va a llover'"
            ]
          },
          "metadata": {
            "tags": []
          },
          "execution_count": 99
        }
      ]
    },
    {
      "cell_type": "code",
      "metadata": {
        "colab": {
          "base_uri": "https://localhost:8080/",
          "height": 35
        },
        "id": "U_uQSJzrhURJ",
        "outputId": "c745130e-c7e6-4a4f-d845-52702d290093"
      },
      "source": [
        "# EJERCICIO 2\n",
        "# vete a la web https://www.eltiempo.es/\n",
        "# usando selenium, rellena la caja de busqueda para coger el listado de ciudades que sale al hacer la busqueda con la cadena de texto \"vigo\"\n",
        "\n",
        "\"\"\"\n",
        "es decir nos quedamos en la web q sale al hacer la busqueda del string 'vigo' que es una lista de ciudades --> con llegar a esa web seria suficiente para dar por \n",
        "completado el ejercicio.\n",
        "\"\"\""
      ],
      "execution_count": null,
      "outputs": [
        {
          "output_type": "execute_result",
          "data": {
            "application/vnd.google.colaboratory.intrinsic+json": {
              "type": "string"
            },
            "text/plain": [
              "\"\\nes decir nos quedamos en la web q sale al hacer la busqueda del string 'vigo' que es una lista de ciudades --> con llegar a esa web seria suficiente para dar por \\ncompletado el ejercicio.\\n\""
            ]
          },
          "metadata": {
            "tags": []
          },
          "execution_count": 100
        }
      ]
    },
    {
      "cell_type": "code",
      "metadata": {
        "colab": {
          "base_uri": "https://localhost:8080/",
          "height": 35
        },
        "id": "DES5rx-PrY5f",
        "outputId": "1aa959e9-0f0e-4390-b7e0-0e8be812021d"
      },
      "source": [
        "\"\"\"a continuacion el profe da pistas sobre como hacer el ejercicio\"\"\"\n",
        "\n",
        "from selenium import webdriver\n",
        "from selenium.webdriver.common.keys import Keys\n",
        "\"\"\"hacemos los imports de selenium como haciamos antes cuando usabamos selenium\"\"\"\n",
        "\n",
        "# Para poder esperar cuando crea conveniente\n",
        "import time\n",
        "\n",
        "URL = \"https://www.eltiempo.es\"\n",
        "\"\"\"cargamos la url. fijemonos q no tiene ningun parametro.\"\"\"\n",
        "\n",
        "# Carga el driver correspondiente (Chrome, Firefox,...)\n",
        "\"\"\"cargamos el driver como haciamos antes. en este caso seria chrome\"\"\"\n",
        "\n",
        "# El método “driver.get” navega a la página indicada\n",
        "\n",
        "# Simulo una espera de 3 segundos\n",
        "\n",
        "# Elegimos el botón de \"ACEPTAR\" la información de cookies\n",
        "\n",
        "# Enviamos la tecla, como su pulsásemos \"Return\"\n",
        "\n",
        "# Obtén la caja de búsqueda\n",
        "\n",
        "# Borra el texto de la caja de búsqueda\n",
        "\n",
        "# Introducimos texto como si lo hiciésemos con el teclado\n",
        "\n",
        "# “Pulsamos” enter\n",
        "\n",
        "# Usamos el método \"close\" para cerrar la página actual\n",
        "\"\"\"con close cerramos el driver\"\"\""
      ],
      "execution_count": null,
      "outputs": [
        {
          "output_type": "execute_result",
          "data": {
            "application/vnd.google.colaboratory.intrinsic+json": {
              "type": "string"
            },
            "text/plain": [
              "'con close cerramos el driver'"
            ]
          },
          "metadata": {
            "tags": []
          },
          "execution_count": 101
        }
      ]
    },
    {
      "cell_type": "code",
      "metadata": {
        "colab": {
          "base_uri": "https://localhost:8080/",
          "height": 103
        },
        "id": "X0vvSOVkul2c",
        "outputId": "01aea8ab-7d33-49f4-95bb-275d05c55aa4"
      },
      "source": [
        "# EJERCICIO 3\n",
        "# Usando la página web https://www.eltiempo.es/vigo.html?q=vigo\n",
        "# Obtén la información de lluvia para Vigo\n",
        "\n",
        "\"\"\"\n",
        "en la pagina de antes pero ya metiendole por parametro lo de la ciudad de vigo, obtener la info de lluvia. ie ahora ya entramos directamiente a la pagina de info de la\n",
        "propia ciudad de vigo.\n",
        "parecido a 1er ejercicio usando request y beautifulSoup obtener informacion de lluvia para vigo. tendremos q procesar los dias (en columnas) y ver si durante el dia va a\n",
        "llover o no va a llover.\n",
        "en esta pagina la info esta por columnas y en la pagina de antes estaba puesta por filas. entonces la tendremos q tratar de una manera diferente.\n",
        "\n",
        "con el fin de ver como podria ser una solucion el profe ha creado los codigos de los 3 ejercicios:\n",
        "en el 1o veremos algo parecido a lo q nos enseña profe, no tiene pq ser igual como resultado:\n",
        "$ python ejercicio_1.py\n",
        "<Response [200]>\n",
        "40%\n",
        "60%\n",
        "90%\n",
        "40%\n",
        "60%\n",
        "90%\n",
        "50%\n",
        "20%\n",
        "20%\n",
        "10%\n",
        "10%\n",
        "20%\n",
        "20%\n",
        "20%\n",
        "40%\n",
        "\n",
        "vemos el codigo 200 para validar q tdod funciona bien. y luego estamos viendo el % de lluvia.\n",
        "en este caso podriamos decir q si el % es mayor q 0 q siq se entiende q va a llover.\n",
        "nestor ha decidido sacar los %s y nosotros lo podemos plantear de otra manera si queremos.\n",
        "\n",
        "en el ejercicio 2 vamos a usar selenium y de loq se trata esd acceder a la pagina, y realizar la busqueda.\n",
        "en este caso vamos a ver q como se abre un navegador nuevo q no tiene ni cookies ni nada pues nos va a pedir aceptar las cookies de la propia web de eltiempo.es cuando\n",
        "navegamos por ella.\n",
        "por eso es por loq teniamos q esperar 3 segundos paraq se cargue toda la info, pulsar el boton de aceptar y luego ya sí entraremos a ver la web como la veíamos nosotros.\n",
        "$ python ejercicio_2.py\n",
        "\n",
        "el resultado esperado esq se abre un navegador, se nos va a sacar el mensaje (de las cookies), pulsamos en aceptar, escribimos en caja busqueda 'vigo', pulsamos 'enter' y ya\n",
        "nos sale los resultdos de busqueda de 'vigo'.\n",
        "ese es el resultado qse espera del ejercicio numero2\n",
        "\n",
        "\n",
        "como ejercicio3 buscamos en web https://www.eltiempo.es/vigo.html?q=vigo ya entrando directamente a la ciudad de vigo la informacion q quiero.\n",
        "en este caso la informacion es un poco diferente pq antes teniamos %s y ahora vamos a tener los milimetros como info de los dias q va a haber lluvia q vemos q es un parametro\n",
        "presente en cada una de las columnas y, por tanto, todos los parametros forman una fila.\n",
        "\n",
        "$ python ejercicio_3.py\n",
        "<Response [200]>\n",
        "2.1 mm\n",
        "7 mm\n",
        "3.2 mm\n",
        "5.1 mm\n",
        "16.2 mm\n",
        "31.7 mm\n",
        "0.3 mm\n",
        "0 mm\n",
        "0 mm\n",
        "0.2 mm\n",
        "0.2 mm\n",
        "0 mm\n",
        "0 mm\n",
        "0 mm\n",
        "\n",
        "profe dice q podemos igualmente usar los iconitos de las nubes o trabajar de otra manera diferente.\n",
        "al final si obtenemos un resultado similar pues va a ser un buen resultado del ejercicio\n",
        "\"\"\""
      ],
      "execution_count": null,
      "outputs": [
        {
          "output_type": "execute_result",
          "data": {
            "application/vnd.google.colaboratory.intrinsic+json": {
              "type": "string"
            },
            "text/plain": [
              "\"\\nen la pagina de antes pero ya metiendole por parametro lo de la ciudad de vigo, obtener la info de lluvia. ie ahora ya entramos directamiente a la pagina de info de la\\npropia ciudad de vigo.\\nparecido a 1er ejercicio usando request y beautifulSoup obtener informacion de lluvia para vigo. tendremos q procesar los dias (en columnas) y ver si durante el dia va a\\nllover o no va a llover.\\nen esta pagina la info esta por columnas y en la pagina de antes estaba puesta por filas. entonces la tendremos q tratar de una manera diferente.\\n\\ncon el fin de ver como podria ser una solucion el profe ha creado los codigos de los 3 ejercicios:\\nen el 1o veremos algo parecido a lo q nos enseña profe, no tiene pq ser igual como resultado:\\n$ python ejercicio_1.py\\n<Response [200]>\\n40%\\n60%\\n90%\\n40%\\n60%\\n90%\\n50%\\n20%\\n20%\\n10%\\n10%\\n20%\\n20%\\n20%\\n40%\\n\\nvemos el codigo 200 para validar q tdod funciona bien. y luego estamos viendo el % de lluvia.\\nen este caso podriamos decir q si el % es mayor q 0 q siq se entiende q va a llover.\\nnestor ha decidido sacar los %s y nosotros lo podemos plantear de otra manera si queremos.\\n\\nen el ejercicio 2 vamos a usar selenium y de loq se trata esd acceder a la pagina, y realizar la busqueda.\\nen este caso vamos a ver q como se abre un navegador nuevo q no tiene ni cookies ni nada pues nos va a pedir aceptar las cookies de la propia web de eltiempo.es cuando\\nnavegamos por ella.\\npor eso es por loq teniamos q esperar 3 segundos paraq se cargue toda la info, pulsar el boton de aceptar y luego ya sí entraremos a ver la web como la veíamos nosotros.\\n$ python ejercicio_2.py\\n\\nel resultado esperado esq se abre un navegador, se nos va a sacar el mensaje (de las cookies), pulsamos en aceptar, escribimos en caja busqueda 'vigo', pulsamos 'enter' y ya\\nnos sale los resultdos de busqueda de 'vigo'.\\nese es el resultado qse espera del ejercicio numero2\\n\\n\\ncomo ejercicio3 buscamos en web https://www.eltiempo.es/vigo.html?q=vigo ya entrando directamente a la ciudad de vigo la informacion q quiero.\\nen este caso la informacion es un poco diferente pq antes teniamos %s y ahora vamos a tener los milimetros como info de los dias q va a haber lluvia q vemos q es un parametro\\npresente en cada una de las columnas y, por tanto, todos los parametros forman una fila.\\n\\n$ python ejercicio_3.py\\n<Response [200]>\\n2.1 mm\\n7 mm\\n3.2 mm\\n5.1 mm\\n16.2 mm\\n31.7 mm\\n0.3 mm\\n0 mm\\n0 mm\\n0.2 mm\\n0.2 mm\\n0 mm\\n0 mm\\n0 mm\\n\\nprofe dice q podemos igualmente usar los iconitos de las nubes o trabajar de otra manera diferente.\\nal final si obtenemos un resultado similar pues va a ser un buen resultado del ejercicio\\n\""
            ]
          },
          "metadata": {
            "tags": []
          },
          "execution_count": 104
        }
      ]
    }
  ]
}