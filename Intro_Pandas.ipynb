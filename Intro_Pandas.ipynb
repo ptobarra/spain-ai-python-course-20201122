{
  "nbformat": 4,
  "nbformat_minor": 0,
  "metadata": {
    "colab": {
      "name": "Intro_Pandas.ipynb",
      "provenance": [],
      "collapsed_sections": [],
      "toc_visible": true,
      "include_colab_link": true
    },
    "kernelspec": {
      "name": "python3",
      "display_name": "Python 3"
    }
  },
  "cells": [
    {
      "cell_type": "markdown",
      "metadata": {
        "id": "view-in-github",
        "colab_type": "text"
      },
      "source": [
        "<a href=\"https://colab.research.google.com/github/ptobarra/spain-ai-python-course-20201122/blob/main/Intro_Pandas.ipynb\" target=\"_parent\"><img src=\"https://colab.research.google.com/assets/colab-badge.svg\" alt=\"Open In Colab\"/></a>"
      ]
    },
    {
      "cell_type": "markdown",
      "metadata": {
        "id": "BV5CPyTCohIX"
      },
      "source": [
        "# Titanic Dataset\n",
        "\n",
        "\n",
        "A lo largo de esta práctica analizaremos el set de datos del Titanic. \n",
        "\n",
        "El objetivo de la práctica será responder a la pregunta: **¿Qué factores influyeron en la supervivencia de los pasajeros?**\n",
        "\n",
        "La práctica constará de las siguientes fases:\n",
        " 1. Primeros pasos con el dataset\n",
        " 2. Exploración del dataset y generación de estadísticas\n",
        " 3. Presentación de resultados\n",
        " \n",
        " Y si tenemos tiempo para más, construiremos un modelo en base a nuestras conclusiones para predecir la supervivencia. Compararemos nuestro modelo con un árbol de decisión que generaremos a partir del dataset.\n",
        " \n",
        "**IMPORTANTE**: este documento esta escrito utilizando notación markdown. Aquí teneis un buen [manual](https://daringfireball.net/projects/markdown/syntax)\n",
        "\n",
        "**IMPORTANTE2**: aquí teneis unas cuantas Cheat Sheets que te haran la vida más fácil en estos primeros pasos con Pandas:\n",
        "\n",
        "\n",
        "*   [Pandas cheat sheet 1](https://drive.google.com/file/d/1RZSVTOOevBay4rkMNrIv7CADwyfUE0lE/view?usp=sharing)\n",
        "*   [Pandas cheat sheet 2](https://drive.google.com/file/d/1nSaiyHOqY5CF2FbfrgVNOb1xRrmT4l9U/view?usp=sharing)\n",
        "*   [Pandas cheat sheet 3](https://drive.google.com/file/d/1GhqAKE9qfimIfqO7o2__bwyi5pvud68a/view?usp=sharing)\n",
        "\n"
      ]
    },
    {
      "cell_type": "markdown",
      "metadata": {
        "id": "6evpberTohIZ"
      },
      "source": [
        "### Primeros pasos con el dataset:\n",
        "El objetivo de esta sección es que nos familiarizemos con Pandas y seamos capaces de manipular el dataset a nuestro interés.\n",
        "\n",
        "Lo primero que tendremos cargar son nuestros datos, en este caso en formato ```csv``` en un dataset. [Pandas gestiona múltiples inputs/outputs](http://pandas.pydata.org/pandas-docs/stable/io.html) con lo cual tendremos que usar el específico para este caso: [read_csv](http://pandas.pydata.org/pandas-docs/stable/generated/pandas.read_csv.html#pandas.read_csv) donde definiremos el separador y el path del fichero (el resto de parámetros no será necesario tocarlos en este caso):"
      ]
    },
    {
      "cell_type": "code",
      "metadata": {
        "id": "hCkVXoo4ohIZ"
      },
      "source": [
        "import pandas\n",
        "\n",
        "# nos vamos a traer los datos de esta url: http://web.stanford.edu/class/archive/cs/cs109/cs109.1166/problem12.html\n",
        "\n",
        "url_datos_titanic = 'http://web.stanford.edu/class/archive/cs/cs109/cs109.1166/stuff/titanic.csv'\n",
        "separador = \",\"\n",
        "dataset = pandas.read_csv(filepath_or_buffer=url_datos_titanic, sep=separador)"
      ],
      "execution_count": 68,
      "outputs": []
    },
    {
      "cell_type": "code",
      "metadata": {
        "id": "YSyxfGrQ-bMB",
        "colab": {
          "base_uri": "https://localhost:8080/"
        },
        "outputId": "a1d5147b-da51-42dc-9caa-07f59d9c5744"
      },
      "source": [
        "dataset.shape"
      ],
      "execution_count": 69,
      "outputs": [
        {
          "output_type": "execute_result",
          "data": {
            "text/plain": [
              "(887, 8)"
            ]
          },
          "metadata": {
            "tags": []
          },
          "execution_count": 69
        }
      ]
    },
    {
      "cell_type": "code",
      "metadata": {
        "id": "OfzqbARsWFoz",
        "colab": {
          "base_uri": "https://localhost:8080/"
        },
        "outputId": "ba03bae2-62f2-4622-bcc6-800a7572ef96"
      },
      "source": [
        "pandas"
      ],
      "execution_count": 70,
      "outputs": [
        {
          "output_type": "execute_result",
          "data": {
            "text/plain": [
              "<module 'pandas' from '/usr/local/lib/python3.6/dist-packages/pandas/__init__.py'>"
            ]
          },
          "metadata": {
            "tags": []
          },
          "execution_count": 70
        }
      ]
    },
    {
      "cell_type": "code",
      "metadata": {
        "id": "fdOTYIBAV5hA"
      },
      "source": [
        "pandas.DataFrame.head?"
      ],
      "execution_count": 71,
      "outputs": []
    },
    {
      "cell_type": "code",
      "metadata": {
        "id": "Bi31j7SfVzA7",
        "colab": {
          "base_uri": "https://localhost:8080/",
          "height": 238
        },
        "outputId": "211b21f1-f8c9-4d4f-95f9-6491cd110f43"
      },
      "source": [
        "dataset.head(6)"
      ],
      "execution_count": 72,
      "outputs": [
        {
          "output_type": "execute_result",
          "data": {
            "text/html": [
              "<div>\n",
              "<style scoped>\n",
              "    .dataframe tbody tr th:only-of-type {\n",
              "        vertical-align: middle;\n",
              "    }\n",
              "\n",
              "    .dataframe tbody tr th {\n",
              "        vertical-align: top;\n",
              "    }\n",
              "\n",
              "    .dataframe thead th {\n",
              "        text-align: right;\n",
              "    }\n",
              "</style>\n",
              "<table border=\"1\" class=\"dataframe\">\n",
              "  <thead>\n",
              "    <tr style=\"text-align: right;\">\n",
              "      <th></th>\n",
              "      <th>Survived</th>\n",
              "      <th>Pclass</th>\n",
              "      <th>Name</th>\n",
              "      <th>Sex</th>\n",
              "      <th>Age</th>\n",
              "      <th>Siblings/Spouses Aboard</th>\n",
              "      <th>Parents/Children Aboard</th>\n",
              "      <th>Fare</th>\n",
              "    </tr>\n",
              "  </thead>\n",
              "  <tbody>\n",
              "    <tr>\n",
              "      <th>0</th>\n",
              "      <td>0</td>\n",
              "      <td>3</td>\n",
              "      <td>Mr. Owen Harris Braund</td>\n",
              "      <td>male</td>\n",
              "      <td>22.0</td>\n",
              "      <td>1</td>\n",
              "      <td>0</td>\n",
              "      <td>7.2500</td>\n",
              "    </tr>\n",
              "    <tr>\n",
              "      <th>1</th>\n",
              "      <td>1</td>\n",
              "      <td>1</td>\n",
              "      <td>Mrs. John Bradley (Florence Briggs Thayer) Cum...</td>\n",
              "      <td>female</td>\n",
              "      <td>38.0</td>\n",
              "      <td>1</td>\n",
              "      <td>0</td>\n",
              "      <td>71.2833</td>\n",
              "    </tr>\n",
              "    <tr>\n",
              "      <th>2</th>\n",
              "      <td>1</td>\n",
              "      <td>3</td>\n",
              "      <td>Miss. Laina Heikkinen</td>\n",
              "      <td>female</td>\n",
              "      <td>26.0</td>\n",
              "      <td>0</td>\n",
              "      <td>0</td>\n",
              "      <td>7.9250</td>\n",
              "    </tr>\n",
              "    <tr>\n",
              "      <th>3</th>\n",
              "      <td>1</td>\n",
              "      <td>1</td>\n",
              "      <td>Mrs. Jacques Heath (Lily May Peel) Futrelle</td>\n",
              "      <td>female</td>\n",
              "      <td>35.0</td>\n",
              "      <td>1</td>\n",
              "      <td>0</td>\n",
              "      <td>53.1000</td>\n",
              "    </tr>\n",
              "    <tr>\n",
              "      <th>4</th>\n",
              "      <td>0</td>\n",
              "      <td>3</td>\n",
              "      <td>Mr. William Henry Allen</td>\n",
              "      <td>male</td>\n",
              "      <td>35.0</td>\n",
              "      <td>0</td>\n",
              "      <td>0</td>\n",
              "      <td>8.0500</td>\n",
              "    </tr>\n",
              "    <tr>\n",
              "      <th>5</th>\n",
              "      <td>0</td>\n",
              "      <td>3</td>\n",
              "      <td>Mr. James Moran</td>\n",
              "      <td>male</td>\n",
              "      <td>27.0</td>\n",
              "      <td>0</td>\n",
              "      <td>0</td>\n",
              "      <td>8.4583</td>\n",
              "    </tr>\n",
              "  </tbody>\n",
              "</table>\n",
              "</div>"
            ],
            "text/plain": [
              "   Survived  Pclass                                               Name  \\\n",
              "0         0       3                             Mr. Owen Harris Braund   \n",
              "1         1       1  Mrs. John Bradley (Florence Briggs Thayer) Cum...   \n",
              "2         1       3                              Miss. Laina Heikkinen   \n",
              "3         1       1        Mrs. Jacques Heath (Lily May Peel) Futrelle   \n",
              "4         0       3                            Mr. William Henry Allen   \n",
              "5         0       3                                    Mr. James Moran   \n",
              "\n",
              "      Sex   Age  Siblings/Spouses Aboard  Parents/Children Aboard     Fare  \n",
              "0    male  22.0                        1                        0   7.2500  \n",
              "1  female  38.0                        1                        0  71.2833  \n",
              "2  female  26.0                        0                        0   7.9250  \n",
              "3  female  35.0                        1                        0  53.1000  \n",
              "4    male  35.0                        0                        0   8.0500  \n",
              "5    male  27.0                        0                        0   8.4583  "
            ]
          },
          "metadata": {
            "tags": []
          },
          "execution_count": 72
        }
      ]
    },
    {
      "cell_type": "markdown",
      "metadata": {
        "id": "YFO72RhiohIe"
      },
      "source": [
        "Ya tenemos nuestra variable ```dataset``` con todo el dataset cargado en memoria. Para empezar a explorar nuestro dataset vamos a utilizar algunos [procesos de Pandas](http://pandas.pydata.org/pandas-docs/stable/getting_started/basics.html). Por ejemplo, respondamos a las siguientes preguntas:\n",
        " * ¿Cuantas filas y columnas contiene el dataset?\n",
        " * ¿Cual es el nombre de las columnas que incluye el dataset?\n",
        " * ¿Qué información contiene la primera fila del dataset?¿Y la última?\n",
        " Para contestar a estas preguntas utilizaremos las funciones ```.shape```, ```.columns```, ```.head()``` y ```.tail()```"
      ]
    },
    {
      "cell_type": "code",
      "metadata": {
        "id": "1aXTEyEnohIe",
        "colab": {
          "base_uri": "https://localhost:8080/"
        },
        "outputId": "9c728362-a282-491b-bc38-8593ab3df416"
      },
      "source": [
        "print(\"El numero de filas y columnas que incluye el dataset es: \",dataset.shape)\n",
        "print(\"\\nLos nombres de las columnas son: \\n\",dataset.columns)\n",
        "print(\"\\nLa primera fila del dataset es: \\n\",dataset.head(1))\n",
        "print(\"\\nLa última fila del dataset es: \\n\",dataset.tail(1))"
      ],
      "execution_count": 73,
      "outputs": [
        {
          "output_type": "stream",
          "text": [
            "El numero de filas y columnas que incluye el dataset es:  (887, 8)\n",
            "\n",
            "Los nombres de las columnas son: \n",
            " Index(['Survived', 'Pclass', 'Name', 'Sex', 'Age', 'Siblings/Spouses Aboard',\n",
            "       'Parents/Children Aboard', 'Fare'],\n",
            "      dtype='object')\n",
            "\n",
            "La primera fila del dataset es: \n",
            "    Survived  Pclass                    Name   Sex   Age  \\\n",
            "0         0       3  Mr. Owen Harris Braund  male  22.0   \n",
            "\n",
            "   Siblings/Spouses Aboard  Parents/Children Aboard  Fare  \n",
            "0                        1                        0  7.25  \n",
            "\n",
            "La última fila del dataset es: \n",
            "      Survived  Pclass                Name   Sex   Age  \\\n",
            "886         0       3  Mr. Patrick Dooley  male  32.0   \n",
            "\n",
            "     Siblings/Spouses Aboard  Parents/Children Aboard  Fare  \n",
            "886                        0                        0  7.75  \n"
          ],
          "name": "stdout"
        }
      ]
    },
    {
      "cell_type": "markdown",
      "metadata": {
        "id": "CAVbMX5mohIh"
      },
      "source": [
        "A continuación una descripción de las distintas columnas obtenida de la web de [Stanford](http://web.stanford.edu/class/archive/cs/cs109/cs109.1166/problem12.html)"
      ]
    },
    {
      "cell_type": "markdown",
      "metadata": {
        "id": "6Ox5Yo6Gq7Rs"
      },
      "source": [
        "![Titanic&Python](https://i.imgur.com/CKN4TeO.png)"
      ]
    },
    {
      "cell_type": "markdown",
      "metadata": {
        "id": "lqtPjq0PohIk"
      },
      "source": [
        "Ahora vamos a aprender a manejarnos con nuestro dataset, para ello vamos a utilizar distintas técnicas que se describen perfectamente en la [documentación](http://pandas.pydata.org/pandas-docs/stable/user_guide/indexing.html). "
      ]
    },
    {
      "cell_type": "markdown",
      "metadata": {
        "id": "l9OGFoBpohIw"
      },
      "source": [
        "En esta primera parte utilizaremos las funciones ```.loc``` para seleccionar subconjuntos de nuestro dataset. "
      ]
    },
    {
      "cell_type": "markdown",
      "metadata": {
        "id": "FS02lw7SohJD"
      },
      "source": [
        "Ahora que tenemos claro el uso de ```.loc``` , vamos a operar con nuestro dataset. Por ejemplo vamos a seleccionar las columnas: Name, Sex, Age y las filas de la 3 a la 5 (recordar que en nuestro dataset la primera fila tiene asociado el índice 1 y así sucesivamente:"
      ]
    },
    {
      "cell_type": "code",
      "metadata": {
        "id": "F7U6KMbrohJE",
        "colab": {
          "base_uri": "https://localhost:8080/"
        },
        "outputId": "5a944ee0-948e-4783-806a-ae2ef3d5da1b"
      },
      "source": [
        "print(\"Imprimir las filas 3 a 5 y columnas Name, Sex, Age\\n\", \\\n",
        "      dataset.loc[3:5, ['Name', 'Sex', 'Age']])"
      ],
      "execution_count": 74,
      "outputs": [
        {
          "output_type": "stream",
          "text": [
            "Imprimir las filas 3 a 5 y columnas Name, Sex, Age\n",
            "                                           Name     Sex   Age\n",
            "3  Mrs. Jacques Heath (Lily May Peel) Futrelle  female  35.0\n",
            "4                      Mr. William Henry Allen    male  35.0\n",
            "5                              Mr. James Moran    male  27.0\n"
          ],
          "name": "stdout"
        }
      ]
    },
    {
      "cell_type": "code",
      "metadata": {
        "id": "1ezn1FX5Yb2F",
        "colab": {
          "base_uri": "https://localhost:8080/",
          "height": 143
        },
        "outputId": "39786dd4-4a01-41b4-b497-66ff3e907b44"
      },
      "source": [
        "dataset.loc[[10, 100, 800], ['Age', 'Survived']]"
      ],
      "execution_count": 75,
      "outputs": [
        {
          "output_type": "execute_result",
          "data": {
            "text/html": [
              "<div>\n",
              "<style scoped>\n",
              "    .dataframe tbody tr th:only-of-type {\n",
              "        vertical-align: middle;\n",
              "    }\n",
              "\n",
              "    .dataframe tbody tr th {\n",
              "        vertical-align: top;\n",
              "    }\n",
              "\n",
              "    .dataframe thead th {\n",
              "        text-align: right;\n",
              "    }\n",
              "</style>\n",
              "<table border=\"1\" class=\"dataframe\">\n",
              "  <thead>\n",
              "    <tr style=\"text-align: right;\">\n",
              "      <th></th>\n",
              "      <th>Age</th>\n",
              "      <th>Survived</th>\n",
              "    </tr>\n",
              "  </thead>\n",
              "  <tbody>\n",
              "    <tr>\n",
              "      <th>10</th>\n",
              "      <td>4.0</td>\n",
              "      <td>1</td>\n",
              "    </tr>\n",
              "    <tr>\n",
              "      <th>100</th>\n",
              "      <td>29.0</td>\n",
              "      <td>0</td>\n",
              "    </tr>\n",
              "    <tr>\n",
              "      <th>800</th>\n",
              "      <td>27.0</td>\n",
              "      <td>1</td>\n",
              "    </tr>\n",
              "  </tbody>\n",
              "</table>\n",
              "</div>"
            ],
            "text/plain": [
              "      Age  Survived\n",
              "10    4.0         1\n",
              "100  29.0         0\n",
              "800  27.0         1"
            ]
          },
          "metadata": {
            "tags": []
          },
          "execution_count": 75
        }
      ]
    },
    {
      "cell_type": "markdown",
      "metadata": {
        "id": "tfVCmfUBohJG"
      },
      "source": [
        "Sin embargo, ahora quiero seleccionar las 4 primeras filas del dataset y la tercera y cuarta columnas:"
      ]
    },
    {
      "cell_type": "code",
      "metadata": {
        "id": "nQ8E1-N1ohJH",
        "colab": {
          "base_uri": "https://localhost:8080/"
        },
        "outputId": "139ca0ad-d474-4c5c-ec83-e9576f3ca11c"
      },
      "source": [
        "print(\"Imprimir las 4 primeras filas y columnas tercera y cuarta\\n\", \\\n",
        "      dataset.loc[:3, ['Name', 'Sex']])"
      ],
      "execution_count": 76,
      "outputs": [
        {
          "output_type": "stream",
          "text": [
            "Imprimir las 4 primeras filas y columnas tercera y cuarta\n",
            "                                                 Name     Sex\n",
            "0                             Mr. Owen Harris Braund    male\n",
            "1  Mrs. John Bradley (Florence Briggs Thayer) Cum...  female\n",
            "2                              Miss. Laina Heikkinen  female\n",
            "3        Mrs. Jacques Heath (Lily May Peel) Futrelle  female\n"
          ],
          "name": "stdout"
        }
      ]
    },
    {
      "cell_type": "code",
      "metadata": {
        "colab": {
          "base_uri": "https://localhost:8080/",
          "height": 175
        },
        "id": "ZM3-Pp3XrcgK",
        "outputId": "0fe6667d-1b9e-43d7-fb39-0e259289ebbd"
      },
      "source": [
        "dataset.loc[:3, ['Name', 'Sex']]"
      ],
      "execution_count": 77,
      "outputs": [
        {
          "output_type": "execute_result",
          "data": {
            "text/html": [
              "<div>\n",
              "<style scoped>\n",
              "    .dataframe tbody tr th:only-of-type {\n",
              "        vertical-align: middle;\n",
              "    }\n",
              "\n",
              "    .dataframe tbody tr th {\n",
              "        vertical-align: top;\n",
              "    }\n",
              "\n",
              "    .dataframe thead th {\n",
              "        text-align: right;\n",
              "    }\n",
              "</style>\n",
              "<table border=\"1\" class=\"dataframe\">\n",
              "  <thead>\n",
              "    <tr style=\"text-align: right;\">\n",
              "      <th></th>\n",
              "      <th>Name</th>\n",
              "      <th>Sex</th>\n",
              "    </tr>\n",
              "  </thead>\n",
              "  <tbody>\n",
              "    <tr>\n",
              "      <th>0</th>\n",
              "      <td>Mr. Owen Harris Braund</td>\n",
              "      <td>male</td>\n",
              "    </tr>\n",
              "    <tr>\n",
              "      <th>1</th>\n",
              "      <td>Mrs. John Bradley (Florence Briggs Thayer) Cum...</td>\n",
              "      <td>female</td>\n",
              "    </tr>\n",
              "    <tr>\n",
              "      <th>2</th>\n",
              "      <td>Miss. Laina Heikkinen</td>\n",
              "      <td>female</td>\n",
              "    </tr>\n",
              "    <tr>\n",
              "      <th>3</th>\n",
              "      <td>Mrs. Jacques Heath (Lily May Peel) Futrelle</td>\n",
              "      <td>female</td>\n",
              "    </tr>\n",
              "  </tbody>\n",
              "</table>\n",
              "</div>"
            ],
            "text/plain": [
              "                                                Name     Sex\n",
              "0                             Mr. Owen Harris Braund    male\n",
              "1  Mrs. John Bradley (Florence Briggs Thayer) Cum...  female\n",
              "2                              Miss. Laina Heikkinen  female\n",
              "3        Mrs. Jacques Heath (Lily May Peel) Futrelle  female"
            ]
          },
          "metadata": {
            "tags": []
          },
          "execution_count": 77
        }
      ]
    },
    {
      "cell_type": "code",
      "metadata": {
        "id": "JlfHYVi5B2vl",
        "colab": {
          "base_uri": "https://localhost:8080/"
        },
        "outputId": "1d1ef18c-0d2d-4700-c05a-c4473017daba"
      },
      "source": [
        "# te imprime todos losvalores distintos de Sex en dataset\n",
        "dataset.loc[:, 'Sex'].unique()"
      ],
      "execution_count": 78,
      "outputs": [
        {
          "output_type": "execute_result",
          "data": {
            "text/plain": [
              "array(['male', 'female'], dtype=object)"
            ]
          },
          "metadata": {
            "tags": []
          },
          "execution_count": 78
        }
      ]
    },
    {
      "cell_type": "code",
      "metadata": {
        "id": "U6yIn1d-ZDYp",
        "colab": {
          "base_uri": "https://localhost:8080/"
        },
        "outputId": "8b4b88e7-9986-4565-cfd5-ac6da7a5149d"
      },
      "source": [
        "# te dice cuantas veces se repite cada uno de los valores que puede tomar la variable\n",
        "dataset.loc[:, 'Sex'].value_counts()"
      ],
      "execution_count": 79,
      "outputs": [
        {
          "output_type": "execute_result",
          "data": {
            "text/plain": [
              "male      573\n",
              "female    314\n",
              "Name: Sex, dtype: int64"
            ]
          },
          "metadata": {
            "tags": []
          },
          "execution_count": 79
        }
      ]
    },
    {
      "cell_type": "code",
      "metadata": {
        "colab": {
          "base_uri": "https://localhost:8080/",
          "height": 143
        },
        "id": "nYWklXCqSz6_",
        "outputId": "749794b4-d0da-410d-a5c0-d1e06168c9db"
      },
      "source": [
        "# sacamos el nombre y la edad de los pasajeros mayores de 70 años y que van en 1a clase\n",
        "dataset.loc[(dataset['Age']>70)&(dataset['Pclass']==1),['Name', 'Age']]"
      ],
      "execution_count": 80,
      "outputs": [
        {
          "output_type": "execute_result",
          "data": {
            "text/html": [
              "<div>\n",
              "<style scoped>\n",
              "    .dataframe tbody tr th:only-of-type {\n",
              "        vertical-align: middle;\n",
              "    }\n",
              "\n",
              "    .dataframe tbody tr th {\n",
              "        vertical-align: top;\n",
              "    }\n",
              "\n",
              "    .dataframe thead th {\n",
              "        text-align: right;\n",
              "    }\n",
              "</style>\n",
              "<table border=\"1\" class=\"dataframe\">\n",
              "  <thead>\n",
              "    <tr style=\"text-align: right;\">\n",
              "      <th></th>\n",
              "      <th>Name</th>\n",
              "      <th>Age</th>\n",
              "    </tr>\n",
              "  </thead>\n",
              "  <tbody>\n",
              "    <tr>\n",
              "      <th>95</th>\n",
              "      <td>Mr. George B Goldschmidt</td>\n",
              "      <td>71.0</td>\n",
              "    </tr>\n",
              "    <tr>\n",
              "      <th>490</th>\n",
              "      <td>Mr. Ramon Artagaveytia</td>\n",
              "      <td>71.0</td>\n",
              "    </tr>\n",
              "    <tr>\n",
              "      <th>627</th>\n",
              "      <td>Mr. Algernon Henry Wilson Barkworth</td>\n",
              "      <td>80.0</td>\n",
              "    </tr>\n",
              "  </tbody>\n",
              "</table>\n",
              "</div>"
            ],
            "text/plain": [
              "                                    Name   Age\n",
              "95              Mr. George B Goldschmidt  71.0\n",
              "490               Mr. Ramon Artagaveytia  71.0\n",
              "627  Mr. Algernon Henry Wilson Barkworth  80.0"
            ]
          },
          "metadata": {
            "tags": []
          },
          "execution_count": 80
        }
      ]
    },
    {
      "cell_type": "markdown",
      "metadata": {
        "id": "xBuMkdGeohJL"
      },
      "source": [
        "Perfecto!, ya sabemos seleccionar filas y columnas!, ahora el objetivo es hacer modificaciones. Por ejemplo cambiemos a Allen, Mr. William Henry su edad (actualmente 35 años) por 260. Para ello tendremos que seleccionar la fila en la que la columna 'Name' sea igual a 'Allen, Mr. William Henry', de la siguiente manera:"
      ]
    },
    {
      "cell_type": "code",
      "metadata": {
        "id": "B_A03EuAohJM",
        "colab": {
          "base_uri": "https://localhost:8080/"
        },
        "outputId": "55a33b79-c136-46ff-9bfd-11ab9193e6b1"
      },
      "source": [
        "print(\"Edad de Allen, Mr. William Henry:\\n \", \\\n",
        "      dataset.loc[dataset['Name']=='Mr. William Henry Allen','Age'])"
      ],
      "execution_count": 81,
      "outputs": [
        {
          "output_type": "stream",
          "text": [
            "Edad de Allen, Mr. William Henry:\n",
            "  4    35.0\n",
            "Name: Age, dtype: float64\n"
          ],
          "name": "stdout"
        }
      ]
    },
    {
      "cell_type": "markdown",
      "metadata": {
        "id": "qOEiQyy2ohJQ"
      },
      "source": [
        "Para modificar este valor, tendremos que asignarle el que queremos (260):"
      ]
    },
    {
      "cell_type": "code",
      "metadata": {
        "id": "6BS3ARfGohJS"
      },
      "source": [
        "# Asignar nueva edad al pobre Allen:\n",
        "dataset.loc[dataset['Name']=='Mr. William Henry Allen','Age'] = 260"
      ],
      "execution_count": 82,
      "outputs": []
    },
    {
      "cell_type": "markdown",
      "metadata": {
        "id": "93Wax5yDohJa"
      },
      "source": [
        "¿Cual es ahora la edad de Allen?"
      ]
    },
    {
      "cell_type": "code",
      "metadata": {
        "id": "JVjaH7ZiohJb",
        "colab": {
          "base_uri": "https://localhost:8080/"
        },
        "outputId": "f79bafc6-cd46-42d2-c7bf-70922165ef9b"
      },
      "source": [
        "print(\"La nueva edad de Allen, Mr. William Henry:\\n \", dataset.loc[dataset['Name']=='Mr. William Henry Allen','Age'])"
      ],
      "execution_count": 83,
      "outputs": [
        {
          "output_type": "stream",
          "text": [
            "La nueva edad de Allen, Mr. William Henry:\n",
            "  4    260.0\n",
            "Name: Age, dtype: float64\n"
          ],
          "name": "stdout"
        }
      ]
    },
    {
      "cell_type": "code",
      "metadata": {
        "id": "tW2VIrhVClEc"
      },
      "source": [
        "# Asignar nueva edad al pobre Allen:\n",
        "dataset.loc[dataset['Name']=='Mr. William Henry Allen','Age'] = 35"
      ],
      "execution_count": 84,
      "outputs": []
    },
    {
      "cell_type": "markdown",
      "metadata": {
        "id": "ea__C6ZZohJf"
      },
      "source": [
        "Como vemos, ya hemos editado su edad!. Aunque le devolveremos a los 54 años, a estas alturas ya sabemos seleccionar subsets de datos y editarlos si lo necesitamos."
      ]
    },
    {
      "cell_type": "code",
      "metadata": {
        "id": "5uQwTRHVohJf"
      },
      "source": [
        "# Devolvamos a Allen su edad:\n",
        "dataset.loc[dataset['Name']=='Mr. William Henry Allen','Age'] = 54"
      ],
      "execution_count": 85,
      "outputs": []
    },
    {
      "cell_type": "code",
      "metadata": {
        "colab": {
          "base_uri": "https://localhost:8080/"
        },
        "id": "0HdK8CmRwBZq",
        "outputId": "3b719f9b-3e88-4f68-9f31-e20ec0ace597"
      },
      "source": [
        "print(\"La nueva edad de Allen, Mr. William Henry:\\n \", dataset.loc[dataset['Name']=='Mr. William Henry Allen','Age'])"
      ],
      "execution_count": 86,
      "outputs": [
        {
          "output_type": "stream",
          "text": [
            "La nueva edad de Allen, Mr. William Henry:\n",
            "  4    54.0\n",
            "Name: Age, dtype: float64\n"
          ],
          "name": "stdout"
        }
      ]
    },
    {
      "cell_type": "markdown",
      "metadata": {
        "id": "1uzzqHcVohJi"
      },
      "source": [
        "### Exploración del dataset y generación de estadísticas\n",
        "¿Qué sabemos por ahora de nuestros datos? Practicamente nada!. Vamos a utilizar una serie de funciones que se incluyen en Pandas para obtener facilmente valiosa información de los mismos. \n",
        "\n",
        "El primera información que se ha de obtener cuando por primera vez se trabaja con un dataset es la cantidad de ```NAN``` incluidos en el mismo, para ello utilizaremos la función ```.info()``` de Pandas:"
      ]
    },
    {
      "cell_type": "code",
      "metadata": {
        "id": "tQ1AwCrSohJj",
        "colab": {
          "base_uri": "https://localhost:8080/"
        },
        "outputId": "c6d33d6f-82f2-438b-8e78-b22786298d84"
      },
      "source": [
        "# Obtener información sobre el número de valores NAN que se incluyen en el dataset:\n",
        "print(dataset.info())"
      ],
      "execution_count": 87,
      "outputs": [
        {
          "output_type": "stream",
          "text": [
            "<class 'pandas.core.frame.DataFrame'>\n",
            "RangeIndex: 887 entries, 0 to 886\n",
            "Data columns (total 8 columns):\n",
            " #   Column                   Non-Null Count  Dtype  \n",
            "---  ------                   --------------  -----  \n",
            " 0   Survived                 887 non-null    int64  \n",
            " 1   Pclass                   887 non-null    int64  \n",
            " 2   Name                     887 non-null    object \n",
            " 3   Sex                      887 non-null    object \n",
            " 4   Age                      887 non-null    float64\n",
            " 5   Siblings/Spouses Aboard  887 non-null    int64  \n",
            " 6   Parents/Children Aboard  887 non-null    int64  \n",
            " 7   Fare                     887 non-null    float64\n",
            "dtypes: float64(2), int64(4), object(2)\n",
            "memory usage: 55.6+ KB\n",
            "None\n"
          ],
          "name": "stdout"
        }
      ]
    },
    {
      "cell_type": "markdown",
      "metadata": {
        "id": "EPZ871E4ohJn"
      },
      "source": [
        "Como podemos ver el dataset es bastante completo y no se incluyen valores a ```NAN``` en este caso. Para vuestra referencia, Pandas incluye valiosa [documentación](http://pandas.pydata.org/pandas-docs/stable/user_guide/missing_data.html) para manejar ```NAN```. Aquí no vamos a entrar a manejar estos valores, pero tener en cuenta esta información!."
      ]
    },
    {
      "cell_type": "markdown",
      "metadata": {
        "id": "Yd6tRi8CohJo"
      },
      "source": [
        "Bien, ya sabemos que el dataset esta limpio de ```NAN```, pero volvemos a la pregunta de antes: **¿Qué sabemos de la información que contiene el dataset?** Seguimos igual, practicamente nada!"
      ]
    },
    {
      "cell_type": "markdown",
      "metadata": {
        "id": "TsLqizpnohJp"
      },
      "source": [
        "Pues bien, Pandas incluye la función ```.describe()``` la cual permite obtener estadísticas básicas sobre las distintas columans del dataset: "
      ]
    },
    {
      "cell_type": "code",
      "metadata": {
        "id": "pTuzfVfNaWJ4"
      },
      "source": [
        "pandas.set_option('display.max_columns', 10)"
      ],
      "execution_count": 88,
      "outputs": []
    },
    {
      "cell_type": "code",
      "metadata": {
        "id": "lOh2aoNPohJr",
        "colab": {
          "base_uri": "https://localhost:8080/"
        },
        "outputId": "c84dbbc5-0217-4eeb-8b75-36fba3f44a32"
      },
      "source": [
        "print(\"Imprimir estadísticas básicas del dataset: \\n\", dataset.describe())"
      ],
      "execution_count": 89,
      "outputs": [
        {
          "output_type": "stream",
          "text": [
            "Imprimir estadísticas básicas del dataset: \n",
            "          Survived      Pclass         Age  Siblings/Spouses Aboard  \\\n",
            "count  887.000000  887.000000  887.000000               887.000000   \n",
            "mean     0.385569    2.305524   29.492864                 0.525366   \n",
            "std      0.487004    0.836662   14.144695                 1.104669   \n",
            "min      0.000000    1.000000    0.420000                 0.000000   \n",
            "25%      0.000000    2.000000   20.250000                 0.000000   \n",
            "50%      0.000000    3.000000   28.000000                 0.000000   \n",
            "75%      1.000000    3.000000   38.000000                 1.000000   \n",
            "max      1.000000    3.000000   80.000000                 8.000000   \n",
            "\n",
            "       Parents/Children Aboard       Fare  \n",
            "count               887.000000  887.00000  \n",
            "mean                  0.383315   32.30542  \n",
            "std                   0.807466   49.78204  \n",
            "min                   0.000000    0.00000  \n",
            "25%                   0.000000    7.92500  \n",
            "50%                   0.000000   14.45420  \n",
            "75%                   0.000000   31.13750  \n",
            "max                   6.000000  512.32920  \n"
          ],
          "name": "stdout"
        }
      ]
    },
    {
      "cell_type": "markdown",
      "metadata": {
        "id": "UBXIBEHdohJw"
      },
      "source": [
        "¿Qué información incluye ```.describe()``` para cada columna? \n",
        " * Número de valores (count)\n",
        " * Media (mean)\n",
        " * Desviacion Estandar (std)\n",
        " * Valor mínimo (min)\n",
        " * Valor máximo (max)\n",
        " * Primer percentil (25%)\n",
        " * Mediana (50%)\n",
        " * Tercer percentil (75%)"
      ]
    },
    {
      "cell_type": "markdown",
      "metadata": {
        "id": "QjVjISEPohJx"
      },
      "source": [
        "Aquí ya tenemos información útil!!!, ya podemos responder a las siguientes preguntas:\n",
        " * ¿Qué porcentaje de supervivientes hubo? \n",
        " * ¿Cual era la media de edad? \n",
        " * ¿Cual fue el ticket (Fare) más caro pagado?¿Y el que menos?  y \n",
        " * ¿Cuantas clases (Pclass) incluye el barco?"
      ]
    },
    {
      "cell_type": "markdown",
      "metadata": {
        "id": "CveYOqzPohJy"
      },
      "source": [
        "No echais de menos una columna? 'Sex' no esta incluida en este análisis, porque? Si os fijais en la información de ```.describe()``` aquí solo se han incluido las columnas numéricas (float o int64). vamos a echar un vistazo a 'Sex' para entender el formato que tiene:"
      ]
    },
    {
      "cell_type": "code",
      "metadata": {
        "id": "aURFf_r0ohJz",
        "colab": {
          "base_uri": "https://localhost:8080/"
        },
        "outputId": "1b533c63-fa8d-40c4-a023-5397c398d0a5"
      },
      "source": [
        "print(dataset.loc[:, 'Sex'].head())"
      ],
      "execution_count": 90,
      "outputs": [
        {
          "output_type": "stream",
          "text": [
            "0      male\n",
            "1    female\n",
            "2    female\n",
            "3    female\n",
            "4      male\n",
            "Name: Sex, dtype: object\n"
          ],
          "name": "stdout"
        }
      ]
    },
    {
      "cell_type": "markdown",
      "metadata": {
        "id": "tD_Rv3NKohKC"
      },
      "source": [
        "Como vemos \"male\" y \"female\" son los valores incluidos, comprobemos que estos son los únicos valores que se incluyen para todo el dataset"
      ]
    },
    {
      "cell_type": "code",
      "metadata": {
        "id": "LJcGBniEohKD",
        "colab": {
          "base_uri": "https://localhost:8080/"
        },
        "outputId": "e21b84a6-76c8-4673-eafa-0a92c8e0dc52"
      },
      "source": [
        "# Imprimimos todos los valores de Sex en el dataset:\n",
        "print(dataset.loc[:, 'Sex'].unique())"
      ],
      "execution_count": 91,
      "outputs": [
        {
          "output_type": "stream",
          "text": [
            "['male' 'female']\n"
          ],
          "name": "stdout"
        }
      ]
    },
    {
      "cell_type": "code",
      "metadata": {
        "id": "zDpOCvCrOanQ",
        "colab": {
          "base_uri": "https://localhost:8080/"
        },
        "outputId": "cbfa4906-dc53-4288-d550-cff34050175b"
      },
      "source": [
        "# ¿Cuantos hombres y mujeres hay en el dataset?:\n",
        "print(dataset.loc[:, 'Sex'].value_counts(normalize=True))"
      ],
      "execution_count": 92,
      "outputs": [
        {
          "output_type": "stream",
          "text": [
            "male      0.645998\n",
            "female    0.354002\n",
            "Name: Sex, dtype: float64\n"
          ],
          "name": "stdout"
        }
      ]
    },
    {
      "cell_type": "markdown",
      "metadata": {
        "id": "M3uT0T1_ohKH"
      },
      "source": [
        "Como este formato nos impide trabajar con la función ```.describe()```, vamos a transformar esta columna en otros valores que nos sean de más utilidad. Para ello definiremos una función en python que asigne 1 a 'female' y 0 a 'male', después utilizaremos la función [Apply](http://pandas.pydata.org/pandas-docs/stable/generated/pandas.DataFrame.apply.html) de Pandas para modificar estos valores en el dataset:"
      ]
    },
    {
      "cell_type": "code",
      "metadata": {
        "id": "IehynBProhKI"
      },
      "source": [
        "# definir functión que haga el cambio:\n",
        "def gender_number(gender):\n",
        "    if gender == 'male': return 0.\n",
        "    return 1.\n",
        "\n",
        "# Aplicar el cambio a todas las filas con la función Apply:\n",
        "# dataset.Sex = dataset.Sex.apply(gender_number) # <- seria lo mismo que la linea de abajo!\n",
        "dataset.Sex = dataset.loc[:, 'Sex'].apply(lambda x: 0 if x == 'male' else 1)"
      ],
      "execution_count": 93,
      "outputs": []
    },
    {
      "cell_type": "markdown",
      "metadata": {
        "id": "E-cODlRnCtXA"
      },
      "source": [
        "Fijate que hemos usado una función lambda dentro del apply de Pandas. Las funciones lambda son maneras sencillas de definir funciones y siguen la siguiente estructura:\n",
        "\n",
        "![texto alternativo](https://i.imgur.com/MBrWFCF.jpg)"
      ]
    },
    {
      "cell_type": "markdown",
      "metadata": {
        "id": "D-AcmeHcohKK"
      },
      "source": [
        "¿Que aspecto tiene ahora 'Sex'?"
      ]
    },
    {
      "cell_type": "code",
      "metadata": {
        "id": "v0V7PoMYohKL",
        "colab": {
          "base_uri": "https://localhost:8080/"
        },
        "outputId": "d13bbb76-0df3-40e7-8884-2ede17345b7c"
      },
      "source": [
        "# Imprimimos todos los valores de Sex en el dataset:\n",
        "print(dataset.loc[:, 'Sex'].unique())"
      ],
      "execution_count": 94,
      "outputs": [
        {
          "output_type": "stream",
          "text": [
            "[0 1]\n"
          ],
          "name": "stdout"
        }
      ]
    },
    {
      "cell_type": "markdown",
      "metadata": {
        "id": "MnQHJJY8ohKO"
      },
      "source": [
        "Bien!, ejecutemos ahora ```.describe()``` de nuevo sobre la columna 'Sex'"
      ]
    },
    {
      "cell_type": "code",
      "metadata": {
        "id": "A0K1PjF8ohKO",
        "colab": {
          "base_uri": "https://localhost:8080/"
        },
        "outputId": "112ee87d-1bd0-422a-9301-d8d470ef780a"
      },
      "source": [
        "# Obtengamos estadísticas de 'Sex'\n",
        "print(dataset.loc[:, 'Sex'].describe())"
      ],
      "execution_count": 95,
      "outputs": [
        {
          "output_type": "stream",
          "text": [
            "count    887.000000\n",
            "mean       0.354002\n",
            "std        0.478480\n",
            "min        0.000000\n",
            "25%        0.000000\n",
            "50%        0.000000\n",
            "75%        1.000000\n",
            "max        1.000000\n",
            "Name: Sex, dtype: float64\n"
          ],
          "name": "stdout"
        }
      ]
    },
    {
      "cell_type": "code",
      "metadata": {
        "id": "c1cgJJrDcVQf",
        "colab": {
          "base_uri": "https://localhost:8080/"
        },
        "outputId": "7ad43cdb-e79c-4293-da4a-e19abf15b2e9"
      },
      "source": [
        "#vemos el % de pasajeros que habia en cada una de las 3 clases\n",
        "dataset.loc[:, 'Pclass'].value_counts(normalize=True)"
      ],
      "execution_count": 96,
      "outputs": [
        {
          "output_type": "execute_result",
          "data": {
            "text/plain": [
              "3    0.549042\n",
              "1    0.243517\n",
              "2    0.207441\n",
              "Name: Pclass, dtype: float64"
            ]
          },
          "metadata": {
            "tags": []
          },
          "execution_count": 96
        }
      ]
    },
    {
      "cell_type": "markdown",
      "metadata": {
        "id": "CVY4ylbmohKQ"
      },
      "source": [
        "Vaya, parece que no ayuda a entender como están distribuidos los sexos? Parece que no. Probemos algo nuevo: [Agregaciones con Pandas!](http://pandas.pydata.org/pandas-docs/stable/groupby.html). Como ejemplo realizaré una agregación para comprobar cuantos hombre y mujeres había en el barco:"
      ]
    },
    {
      "cell_type": "code",
      "metadata": {
        "id": "tDEZZEBPohKR",
        "colab": {
          "base_uri": "https://localhost:8080/"
        },
        "outputId": "b3d75287-5dd7-4493-a49c-eacd72cba3a0"
      },
      "source": [
        "# Obtener el recuento de hombres y mujeres en el barco:\n",
        "print(dataset.groupby(['Sex']).count().iloc[:,1])"
      ],
      "execution_count": 97,
      "outputs": [
        {
          "output_type": "stream",
          "text": [
            "Sex\n",
            "0    573\n",
            "1    314\n",
            "Name: Pclass, dtype: int64\n"
          ],
          "name": "stdout"
        }
      ]
    },
    {
      "cell_type": "markdown",
      "metadata": {
        "id": "siY_6cNMohKT"
      },
      "source": [
        "¿Cuantos hombres y mujeres había? "
      ]
    },
    {
      "cell_type": "markdown",
      "metadata": {
        "id": "g6DgAgRGohKT"
      },
      "source": [
        "Hagamos una cosa ahora, con el objetivo de entender como están distribuidos los pasajeros por edades vamos a crear una nueva columna llamada 'Age_ranges' que incluya el rango de edad a la que cada pasajero corresponde. El objetivo será obtener cuantos pasajeros hay en el rango [0-10), [10,20) .... "
      ]
    },
    {
      "cell_type": "code",
      "metadata": {
        "id": "_naLqFC0c1or"
      },
      "source": [
        "dataset['Age_ranges'] = pandas.cut(dataset['Age'], [0, 10, 50, 90], labels=['niño', 'adulto', 'senior'])"
      ],
      "execution_count": 98,
      "outputs": []
    },
    {
      "cell_type": "code",
      "metadata": {
        "colab": {
          "base_uri": "https://localhost:8080/",
          "height": 424
        },
        "id": "dqB5HRmOV6rC",
        "outputId": "03a805fe-71b4-4b15-e0c9-2e4915573c4b"
      },
      "source": [
        "dataset.loc[dataset['Age_ranges']=='senior', ['Age_ranges', 'Age']]"
      ],
      "execution_count": 99,
      "outputs": [
        {
          "output_type": "execute_result",
          "data": {
            "text/html": [
              "<div>\n",
              "<style scoped>\n",
              "    .dataframe tbody tr th:only-of-type {\n",
              "        vertical-align: middle;\n",
              "    }\n",
              "\n",
              "    .dataframe tbody tr th {\n",
              "        vertical-align: top;\n",
              "    }\n",
              "\n",
              "    .dataframe thead th {\n",
              "        text-align: right;\n",
              "    }\n",
              "</style>\n",
              "<table border=\"1\" class=\"dataframe\">\n",
              "  <thead>\n",
              "    <tr style=\"text-align: right;\">\n",
              "      <th></th>\n",
              "      <th>Age_ranges</th>\n",
              "      <th>Age</th>\n",
              "    </tr>\n",
              "  </thead>\n",
              "  <tbody>\n",
              "    <tr>\n",
              "      <th>4</th>\n",
              "      <td>senior</td>\n",
              "      <td>54.0</td>\n",
              "    </tr>\n",
              "    <tr>\n",
              "      <th>6</th>\n",
              "      <td>senior</td>\n",
              "      <td>54.0</td>\n",
              "    </tr>\n",
              "    <tr>\n",
              "      <th>11</th>\n",
              "      <td>senior</td>\n",
              "      <td>58.0</td>\n",
              "    </tr>\n",
              "    <tr>\n",
              "      <th>15</th>\n",
              "      <td>senior</td>\n",
              "      <td>55.0</td>\n",
              "    </tr>\n",
              "    <tr>\n",
              "      <th>33</th>\n",
              "      <td>senior</td>\n",
              "      <td>66.0</td>\n",
              "    </tr>\n",
              "    <tr>\n",
              "      <th>...</th>\n",
              "      <td>...</td>\n",
              "      <td>...</td>\n",
              "    </tr>\n",
              "    <tr>\n",
              "      <th>816</th>\n",
              "      <td>senior</td>\n",
              "      <td>52.0</td>\n",
              "    </tr>\n",
              "    <tr>\n",
              "      <th>825</th>\n",
              "      <td>senior</td>\n",
              "      <td>62.0</td>\n",
              "    </tr>\n",
              "    <tr>\n",
              "      <th>847</th>\n",
              "      <td>senior</td>\n",
              "      <td>74.0</td>\n",
              "    </tr>\n",
              "    <tr>\n",
              "      <th>853</th>\n",
              "      <td>senior</td>\n",
              "      <td>51.0</td>\n",
              "    </tr>\n",
              "    <tr>\n",
              "      <th>875</th>\n",
              "      <td>senior</td>\n",
              "      <td>56.0</td>\n",
              "    </tr>\n",
              "  </tbody>\n",
              "</table>\n",
              "<p>73 rows × 2 columns</p>\n",
              "</div>"
            ],
            "text/plain": [
              "    Age_ranges   Age\n",
              "4       senior  54.0\n",
              "6       senior  54.0\n",
              "11      senior  58.0\n",
              "15      senior  55.0\n",
              "33      senior  66.0\n",
              "..         ...   ...\n",
              "816     senior  52.0\n",
              "825     senior  62.0\n",
              "847     senior  74.0\n",
              "853     senior  51.0\n",
              "875     senior  56.0\n",
              "\n",
              "[73 rows x 2 columns]"
            ]
          },
          "metadata": {
            "tags": []
          },
          "execution_count": 99
        }
      ]
    },
    {
      "cell_type": "code",
      "metadata": {
        "id": "0vCBl-8HeCUi"
      },
      "source": [
        "# hacemos tambien rangos para precios\n",
        "dataset['Fare_ranges'] = pandas.cut(dataset['Fare'], [0, 15, 32, 100, 550], labels=['low', 'middle', 'high', 'very high'])"
      ],
      "execution_count": 100,
      "outputs": []
    },
    {
      "cell_type": "code",
      "metadata": {
        "id": "SD9wb4ioelOH",
        "colab": {
          "base_uri": "https://localhost:8080/"
        },
        "outputId": "6f9038de-2f21-4287-e082-5e8d6f055151"
      },
      "source": [
        "dataset['Fare_ranges'].value_counts()"
      ],
      "execution_count": 101,
      "outputs": [
        {
          "output_type": "execute_result",
          "data": {
            "text/plain": [
              "low          440\n",
              "middle       221\n",
              "high         158\n",
              "very high     53\n",
              "Name: Fare_ranges, dtype: int64"
            ]
          },
          "metadata": {
            "tags": []
          },
          "execution_count": 101
        }
      ]
    },
    {
      "cell_type": "code",
      "metadata": {
        "id": "H3WXfOXfeuuK",
        "colab": {
          "base_uri": "https://localhost:8080/"
        },
        "outputId": "1c7ac220-f795-4662-d93a-aeac969ae84f"
      },
      "source": [
        "# vemos cuantas filas y cuantas columnas tiene el dataset con 'Fare' > 32\n",
        "dataset.loc[dataset['Fare']>32].shape"
      ],
      "execution_count": 102,
      "outputs": [
        {
          "output_type": "execute_result",
          "data": {
            "text/plain": [
              "(211, 10)"
            ]
          },
          "metadata": {
            "tags": []
          },
          "execution_count": 102
        }
      ]
    },
    {
      "cell_type": "markdown",
      "metadata": {
        "id": "d5gE_VCZohKW"
      },
      "source": [
        "¿Cómo están distribuidos los pasajeros por rangos de edad en el barco?"
      ]
    },
    {
      "cell_type": "code",
      "metadata": {
        "id": "XNnmFkHAohKX",
        "colab": {
          "base_uri": "https://localhost:8080/"
        },
        "outputId": "60d6b8bc-2b42-48b2-f0f3-bb96351f8929"
      },
      "source": [
        "# Imprimir distribución de rangos de edad en el barco:\n",
        "print(dataset.groupby('Age_ranges').count().iloc[:,1])"
      ],
      "execution_count": 103,
      "outputs": [
        {
          "output_type": "stream",
          "text": [
            "Age_ranges\n",
            "niño       73\n",
            "adulto    741\n",
            "senior     73\n",
            "Name: Pclass, dtype: int64\n"
          ],
          "name": "stdout"
        }
      ]
    },
    {
      "cell_type": "code",
      "metadata": {
        "colab": {
          "base_uri": "https://localhost:8080/"
        },
        "id": "EJX_X-xlWZ9i",
        "outputId": "4a7430b4-3137-40de-f4cf-3e1ef6984ed5"
      },
      "source": [
        "# esta instruccion hace lo mismo que la anterior\n",
        "dataset['Age_ranges'].value_counts()"
      ],
      "execution_count": 104,
      "outputs": [
        {
          "output_type": "execute_result",
          "data": {
            "text/plain": [
              "adulto    741\n",
              "senior     73\n",
              "niño       73\n",
              "Name: Age_ranges, dtype: int64"
            ]
          },
          "metadata": {
            "tags": []
          },
          "execution_count": 104
        }
      ]
    },
    {
      "cell_type": "markdown",
      "metadata": {
        "id": "cp5foQltohKZ"
      },
      "source": [
        "¿Cuantos niños menores de 10 años hay incluidos? \n",
        "\n",
        "Y ahora... ¿Quien sabría decir como están distribuidos los pasajeros por edades y sexos?"
      ]
    },
    {
      "cell_type": "code",
      "metadata": {
        "id": "8jxSR9i6ohKa",
        "colab": {
          "base_uri": "https://localhost:8080/"
        },
        "outputId": "6f4f31b5-dd51-412e-f8c7-5e5a212ca496"
      },
      "source": [
        "# Imprimir distribución de rangos de edad en el barco por sexo:\n",
        "print(dataset.groupby(['Sex','Age_ranges']).count().iloc[:,1])"
      ],
      "execution_count": 105,
      "outputs": [
        {
          "output_type": "stream",
          "text": [
            "Sex  Age_ranges\n",
            "0    niño           37\n",
            "     adulto        481\n",
            "     senior         55\n",
            "1    niño           36\n",
            "     adulto        260\n",
            "     senior         18\n",
            "Name: Pclass, dtype: int64\n"
          ],
          "name": "stdout"
        }
      ]
    },
    {
      "cell_type": "markdown",
      "metadata": {
        "id": "81Tk8QLrohKc"
      },
      "source": [
        "Creo que llegados a este punto, ya no deberíamos tener problemas en poder sacar los factores que influyeron en la supervivencia de los pasajeros en el Titanic. Por ejemplo, ¿como se distribuyen los supervivientes por sexo?, ¿y por edades, clase, precio del billete, etc?"
      ]
    },
    {
      "cell_type": "code",
      "metadata": {
        "id": "LokaizLpohKe",
        "colab": {
          "base_uri": "https://localhost:8080/"
        },
        "outputId": "b5e394d2-0073-4537-be27-7f319d41bc94"
      },
      "source": [
        "# Distribución de supervivientes por edades:\n",
        "print(dataset.groupby(['Age_ranges', 'Survived']).count().iloc[:,1])\n",
        "print('\\n')\n",
        "\n",
        "# Distribución de supervivientes por sexo:\n",
        "print(dataset.groupby(['Sex', 'Survived']).count().iloc[:,1])\n",
        "print('\\n')\n",
        "\n",
        "# Distribución de supervivientes por clase:\n",
        "print(dataset.groupby(['Pclass', 'Survived']).count().iloc[:,1])\n",
        "print('\\n')\n",
        "\n",
        "# Distribucion de supervivientes por sexo y clase\n",
        "print(dataset.groupby(['Sex', 'Pclass', 'Survived']).count().iloc[:,1])"
      ],
      "execution_count": 106,
      "outputs": [
        {
          "output_type": "stream",
          "text": [
            "Age_ranges  Survived\n",
            "niño        0            32\n",
            "            1            41\n",
            "adulto      0           462\n",
            "            1           279\n",
            "senior      0            51\n",
            "            1            22\n",
            "Name: Name, dtype: int64\n",
            "\n",
            "\n",
            "Sex  Survived\n",
            "0    0           464\n",
            "     1           109\n",
            "1    0            81\n",
            "     1           233\n",
            "Name: Name, dtype: int64\n",
            "\n",
            "\n",
            "Pclass  Survived\n",
            "1       0            80\n",
            "        1           136\n",
            "2       0            97\n",
            "        1            87\n",
            "3       0           368\n",
            "        1           119\n",
            "Name: Sex, dtype: int64\n",
            "\n",
            "\n",
            "Sex  Pclass  Survived\n",
            "0    1       0            77\n",
            "             1            45\n",
            "     2       0            91\n",
            "             1            17\n",
            "     3       0           296\n",
            "             1            47\n",
            "1    1       0             3\n",
            "             1            91\n",
            "     2       0             6\n",
            "             1            70\n",
            "     3       0            72\n",
            "             1            72\n",
            "Name: Age, dtype: int64\n"
          ],
          "name": "stdout"
        }
      ]
    },
    {
      "cell_type": "markdown",
      "metadata": {
        "id": "4WCvQZJCohKm"
      },
      "source": [
        "Bueno, ya tenemos el número de pasajeros que sobrevivieron por edad, sexo y clase, pero lo ideal (y esperado) es tener el porcentage de supervivencia por edad, sexo, clase, etc. \n",
        "\n",
        "Por ejemplo, el porcentaje de superviviencia por edades lo podemos calcular de la siguiente manera:\n",
        "\n",
        "Un pasajero que sobrevive tiene valor 1 y uno que no sobrevive toma el valor 0, con lo cual, si sobreviven 5 pasajeros de 10, la media será igual al porcentaje de supervivencia."
      ]
    },
    {
      "cell_type": "code",
      "metadata": {
        "id": "8v9x3oVWohKo",
        "colab": {
          "base_uri": "https://localhost:8080/"
        },
        "outputId": "2f270dcb-bcd9-4dd4-d60e-1cf781de9c1a"
      },
      "source": [
        "# Porcentaje de supervivientes por edad:\n",
        "print(dataset.groupby('Age_ranges').mean().loc[:,'Survived'])"
      ],
      "execution_count": 107,
      "outputs": [
        {
          "output_type": "stream",
          "text": [
            "Age_ranges\n",
            "niño      0.561644\n",
            "adulto    0.376518\n",
            "senior    0.301370\n",
            "Name: Survived, dtype: float64\n"
          ],
          "name": "stdout"
        }
      ]
    },
    {
      "cell_type": "markdown",
      "metadata": {
        "id": "icvHyck-ohKx"
      },
      "source": [
        "OK, ¿Cuales son los porcentajes de superviviencia por edades, edades y sexos, y demás combinaciones que se te ocurran? "
      ]
    },
    {
      "cell_type": "code",
      "metadata": {
        "id": "8PvCfmHCohKy",
        "colab": {
          "base_uri": "https://localhost:8080/"
        },
        "outputId": "7937a001-7698-406f-c4f2-50c0b9cae3ac"
      },
      "source": [
        "# Porcentaje de supervivientes por Sexo:\n",
        "print(dataset.groupby(['Sex']).mean().loc[:,'Survived'])\n",
        "print('\\n')\n",
        "\n",
        "# Porcentaje de supervivientes por Pclass:\n",
        "print(dataset.groupby(['Pclass']).mean().loc[:,'Survived'])\n",
        "print('\\n')\n",
        "\n",
        "# Porcentaje de supervivientes por Sexo y edad:\n",
        "print(dataset.groupby(['Sex', 'Age_ranges']).mean().loc[:,'Survived'])\n",
        "print('\\n')\n",
        "\n",
        "# Porcentaje de supervivientes por Sexo y Pclass:\n",
        "print(dataset.groupby(['Sex', 'Pclass']).mean().loc[:,'Survived'])"
      ],
      "execution_count": 108,
      "outputs": [
        {
          "output_type": "stream",
          "text": [
            "Sex\n",
            "0    0.190227\n",
            "1    0.742038\n",
            "Name: Survived, dtype: float64\n",
            "\n",
            "\n",
            "Pclass\n",
            "1    0.629630\n",
            "2    0.472826\n",
            "3    0.244353\n",
            "Name: Survived, dtype: float64\n",
            "\n",
            "\n",
            "Sex  Age_ranges\n",
            "0    niño          0.567568\n",
            "     adulto        0.170478\n",
            "     senior        0.109091\n",
            "1    niño          0.555556\n",
            "     adulto        0.757692\n",
            "     senior        0.888889\n",
            "Name: Survived, dtype: float64\n",
            "\n",
            "\n",
            "Sex  Pclass\n",
            "0    1         0.368852\n",
            "     2         0.157407\n",
            "     3         0.137026\n",
            "1    1         0.968085\n",
            "     2         0.921053\n",
            "     3         0.500000\n",
            "Name: Survived, dtype: float64\n"
          ],
          "name": "stdout"
        }
      ]
    },
    {
      "cell_type": "code",
      "metadata": {
        "id": "CsQDmJRVQAQU",
        "colab": {
          "base_uri": "https://localhost:8080/"
        },
        "outputId": "aa707acb-7734-4acc-a5a0-61671dc99137"
      },
      "source": [
        "# % de hombres que sobrevivieron agurpados por sexo y clase\n",
        "print(dataset.loc[dataset['Sex']==0, :].groupby(['Age_ranges', 'Pclass']).mean().loc[:,'Survived'])"
      ],
      "execution_count": 109,
      "outputs": [
        {
          "output_type": "stream",
          "text": [
            "Age_ranges  Pclass\n",
            "niño        1         1.000000\n",
            "            2         1.000000\n",
            "            3         0.384615\n",
            "adulto      1         0.417582\n",
            "            2         0.080460\n",
            "            3         0.122112\n",
            "senior      1         0.172414\n",
            "            2         0.083333\n",
            "            3         0.000000\n",
            "Name: Survived, dtype: float64\n"
          ],
          "name": "stdout"
        }
      ]
    },
    {
      "cell_type": "code",
      "metadata": {
        "id": "R4CX5pfQQSFt",
        "colab": {
          "base_uri": "https://localhost:8080/",
          "height": 206
        },
        "outputId": "6200a39c-ae1d-4b30-a65e-cb3444c2ba38"
      },
      "source": [
        "dataset.head()"
      ],
      "execution_count": 110,
      "outputs": [
        {
          "output_type": "execute_result",
          "data": {
            "text/html": [
              "<div>\n",
              "<style scoped>\n",
              "    .dataframe tbody tr th:only-of-type {\n",
              "        vertical-align: middle;\n",
              "    }\n",
              "\n",
              "    .dataframe tbody tr th {\n",
              "        vertical-align: top;\n",
              "    }\n",
              "\n",
              "    .dataframe thead th {\n",
              "        text-align: right;\n",
              "    }\n",
              "</style>\n",
              "<table border=\"1\" class=\"dataframe\">\n",
              "  <thead>\n",
              "    <tr style=\"text-align: right;\">\n",
              "      <th></th>\n",
              "      <th>Survived</th>\n",
              "      <th>Pclass</th>\n",
              "      <th>Name</th>\n",
              "      <th>Sex</th>\n",
              "      <th>Age</th>\n",
              "      <th>Siblings/Spouses Aboard</th>\n",
              "      <th>Parents/Children Aboard</th>\n",
              "      <th>Fare</th>\n",
              "      <th>Age_ranges</th>\n",
              "      <th>Fare_ranges</th>\n",
              "    </tr>\n",
              "  </thead>\n",
              "  <tbody>\n",
              "    <tr>\n",
              "      <th>0</th>\n",
              "      <td>0</td>\n",
              "      <td>3</td>\n",
              "      <td>Mr. Owen Harris Braund</td>\n",
              "      <td>0</td>\n",
              "      <td>22.0</td>\n",
              "      <td>1</td>\n",
              "      <td>0</td>\n",
              "      <td>7.2500</td>\n",
              "      <td>adulto</td>\n",
              "      <td>low</td>\n",
              "    </tr>\n",
              "    <tr>\n",
              "      <th>1</th>\n",
              "      <td>1</td>\n",
              "      <td>1</td>\n",
              "      <td>Mrs. John Bradley (Florence Briggs Thayer) Cum...</td>\n",
              "      <td>1</td>\n",
              "      <td>38.0</td>\n",
              "      <td>1</td>\n",
              "      <td>0</td>\n",
              "      <td>71.2833</td>\n",
              "      <td>adulto</td>\n",
              "      <td>high</td>\n",
              "    </tr>\n",
              "    <tr>\n",
              "      <th>2</th>\n",
              "      <td>1</td>\n",
              "      <td>3</td>\n",
              "      <td>Miss. Laina Heikkinen</td>\n",
              "      <td>1</td>\n",
              "      <td>26.0</td>\n",
              "      <td>0</td>\n",
              "      <td>0</td>\n",
              "      <td>7.9250</td>\n",
              "      <td>adulto</td>\n",
              "      <td>low</td>\n",
              "    </tr>\n",
              "    <tr>\n",
              "      <th>3</th>\n",
              "      <td>1</td>\n",
              "      <td>1</td>\n",
              "      <td>Mrs. Jacques Heath (Lily May Peel) Futrelle</td>\n",
              "      <td>1</td>\n",
              "      <td>35.0</td>\n",
              "      <td>1</td>\n",
              "      <td>0</td>\n",
              "      <td>53.1000</td>\n",
              "      <td>adulto</td>\n",
              "      <td>high</td>\n",
              "    </tr>\n",
              "    <tr>\n",
              "      <th>4</th>\n",
              "      <td>0</td>\n",
              "      <td>3</td>\n",
              "      <td>Mr. William Henry Allen</td>\n",
              "      <td>0</td>\n",
              "      <td>54.0</td>\n",
              "      <td>0</td>\n",
              "      <td>0</td>\n",
              "      <td>8.0500</td>\n",
              "      <td>senior</td>\n",
              "      <td>low</td>\n",
              "    </tr>\n",
              "  </tbody>\n",
              "</table>\n",
              "</div>"
            ],
            "text/plain": [
              "   Survived  Pclass                                               Name  Sex  \\\n",
              "0         0       3                             Mr. Owen Harris Braund    0   \n",
              "1         1       1  Mrs. John Bradley (Florence Briggs Thayer) Cum...    1   \n",
              "2         1       3                              Miss. Laina Heikkinen    1   \n",
              "3         1       1        Mrs. Jacques Heath (Lily May Peel) Futrelle    1   \n",
              "4         0       3                            Mr. William Henry Allen    0   \n",
              "\n",
              "    Age  Siblings/Spouses Aboard  Parents/Children Aboard     Fare Age_ranges  \\\n",
              "0  22.0                        1                        0   7.2500     adulto   \n",
              "1  38.0                        1                        0  71.2833     adulto   \n",
              "2  26.0                        0                        0   7.9250     adulto   \n",
              "3  35.0                        1                        0  53.1000     adulto   \n",
              "4  54.0                        0                        0   8.0500     senior   \n",
              "\n",
              "  Fare_ranges  \n",
              "0         low  \n",
              "1        high  \n",
              "2         low  \n",
              "3        high  \n",
              "4         low  "
            ]
          },
          "metadata": {
            "tags": []
          },
          "execution_count": 110
        }
      ]
    },
    {
      "cell_type": "markdown",
      "metadata": {
        "id": "JN_vslDSohK3"
      },
      "source": [
        "Ahora si!, ¿Que factores influyeron principalmente en la supervivencia de los pasajeros?\n",
        "* Género\n",
        "* Clase\n",
        "* Edad"
      ]
    },
    {
      "cell_type": "markdown",
      "metadata": {
        "id": "pasFXAjaohK6"
      },
      "source": [
        "### Presentación de resultados\n",
        "Cuando se trabaja en ciencia de datos, es muy importante no sólo saber analizar los datos con los que se trabaja y obtener conclusiones, sino también **comunicar de una manera efectiva y clara los resultados** al resto de participantes para que estos puedan entender las conclusiones y el trabajo realizado. Por esta razón, vamos a generar una serie de gráficas que sirvan para representar de una manera clara y contundente los resultados de nuestro analisis.\n",
        "\n",
        "El primer tipo de gráficas que vamos a generar van a ser para describir las variables que incluye el dataset, por ejemplo representar como se distribuyen los pasajeros por clases, por sexos, por edades....\n",
        "\n",
        "[Pandas y Matplotlib](http://pandas.pydata.org/pandas-docs/stable/user_guide/visualization.html) permiten generar gráficas a partir de los [dataframes](http://pandas.pydata.org/pandas-docs/stable/reference/api/pandas.DataFrame.plot.html) con los que hemos estado trabajando.\n",
        "\n",
        "Por ejemplo, a continuación se muestra una representación con [boxplots](http://pandas.pydata.org/pandas-docs/stable/reference/api/pandas.DataFrame.boxplot.html) donde podemos ver una información similar a la que la función ```.describe()``` ofrece:"
      ]
    },
    {
      "cell_type": "code",
      "metadata": {
        "id": "S5n0ga7VohK6"
      },
      "source": [
        "# definir functión que haga el cambio:\n",
        "def numbertogender(gender):\n",
        "    if gender == 0.: return 'male'\n",
        "    return 'female'\n",
        "\n",
        "# Aplicar el cambio a todas las filas con la función Apply:\n",
        "dataset.loc[:, 'Sex'] = dataset.loc[:, 'Sex'].apply(numbertogender)"
      ],
      "execution_count": 111,
      "outputs": []
    },
    {
      "cell_type": "code",
      "metadata": {
        "id": "IBQk-PsTohK9",
        "colab": {
          "base_uri": "https://localhost:8080/",
          "height": 269
        },
        "outputId": "dcb19642-b91a-4373-d6f9-138349f85a1d"
      },
      "source": [
        "import matplotlib.pyplot as plt\n",
        "%matplotlib inline\n",
        "\n",
        "# Seleccionamos el estilo de las gráficas:\n",
        "plt.style.use('ggplot')\n",
        "\n",
        "# Generamos el Boxplot:\n",
        "dataset.boxplot(return_type='axes')\n",
        "\n",
        "# Representamos la gráfica:\n",
        "plt.ylim([0, 100])\n",
        "plt.show()\n",
        "\n",
        "\n"
      ],
      "execution_count": 112,
      "outputs": [
        {
          "output_type": "display_data",
          "data": {
            "image/png": "[encoded data removed]",
            "text/plain": [
              "<Figure size 432x288 with 1 Axes>"
            ]
          },
          "metadata": {
            "tags": []
          }
        }
      ]
    },
    {
      "cell_type": "markdown",
      "metadata": {
        "collapsed": true,
        "id": "0aJrC7n-ohLA"
      },
      "source": [
        "No parece gran cosa, vamos a mejorar el estilo de la gráfica:\n"
      ]
    },
    {
      "cell_type": "code",
      "metadata": {
        "id": "zzzd7SHXohLB",
        "colab": {
          "base_uri": "https://localhost:8080/",
          "height": 299
        },
        "outputId": "0c0250ec-659a-4d3b-82eb-9286b763742f"
      },
      "source": [
        "# Generamos el Boxplot, quitando la columna 'PassengerId','Survived','Pclass','SibSp','Parch':\n",
        "dataset.loc[:,~dataset.columns.isin(['PassengerId','Survived','Pclass','Siblings/Spouses Aboard','Parents/Children Aboard'])].boxplot(return_type='axes')\n",
        "\n",
        "# Añadimos título y etiquetas:\n",
        "plt.title('Variables del dataset Titanic')\n",
        "plt.xlabel('Variables')\n",
        "plt.ylim([0,100])\n",
        "\n",
        "# Representamos la gráfica:\n",
        "plt.show()"
      ],
      "execution_count": 113,
      "outputs": [
        {
          "output_type": "display_data",
          "data": {
            "image/png": "[encoded data removed]",
            "text/plain": [
              "<Figure size 432x288 with 1 Axes>"
            ]
          },
          "metadata": {
            "tags": []
          }
        }
      ]
    },
    {
      "cell_type": "markdown",
      "metadata": {
        "id": "ubxwRV3FohLF"
      },
      "source": [
        "¿Qué podemos conclusiones podemos sacar a partir de esta representación?\n",
        "* Mediana (rojo)\n",
        "* Primer y tercer quartil"
      ]
    },
    {
      "cell_type": "markdown",
      "metadata": {
        "id": "cFTBMw7xohLF"
      },
      "source": [
        "¿Cómo se genera un histograma de cualquier variable?, A continuación muestro como se genera el histograma de la columna 'Age':"
      ]
    },
    {
      "cell_type": "code",
      "metadata": {
        "id": "Tq6crTPXohLG",
        "colab": {
          "base_uri": "https://localhost:8080/",
          "height": 299
        },
        "outputId": "cd853148-9cf8-4158-a1fd-ad4f3608f784"
      },
      "source": [
        "# Generamos el histograma de Age:\n",
        "dataset.loc[:,'Age'].hist(bins=15)\n",
        "\n",
        "# Añadimos título y etiquetas:\n",
        "plt.title('Distribucion de Edades en el Titanic')\n",
        "plt.xlabel('Edades')\n",
        "plt.ylabel('Frecuencias')\n",
        "\n",
        "# Representamos la gráfica:\n",
        "plt.show()"
      ],
      "execution_count": 114,
      "outputs": [
        {
          "output_type": "display_data",
          "data": {
            "image/png": "[encoded data removed]",
            "text/plain": [
              "<Figure size 432x288 with 1 Axes>"
            ]
          },
          "metadata": {
            "tags": []
          }
        }
      ]
    },
    {
      "cell_type": "markdown",
      "metadata": {
        "id": "cNUHp8PDohLH"
      },
      "source": [
        "¿Podrías generar un histograma para la columna ```Fare```?"
      ]
    },
    {
      "cell_type": "code",
      "metadata": {
        "id": "JUq2QZtAohLI",
        "colab": {
          "base_uri": "https://localhost:8080/",
          "height": 299
        },
        "outputId": "49b2588b-17fe-4631-d890-d3b4dd61baac"
      },
      "source": [
        "# Generamos el histograma de Fare:\n",
        "dataset.loc[:,'Fare'].hist(bins=200)\n",
        "\n",
        "# Añadimos título y etiquetas:\n",
        "plt.title('Distribucion de Precios en el Titanic')\n",
        "plt.xlabel('Fare')\n",
        "plt.ylabel('Frecuencias')\n",
        "\n",
        "# Representamos la gráfica:\n",
        "plt.show()\n"
      ],
      "execution_count": 115,
      "outputs": [
        {
          "output_type": "display_data",
          "data": {
            "image/png": "[encoded data removed]",
            "text/plain": [
              "<Figure size 432x288 with 1 Axes>"
            ]
          },
          "metadata": {
            "tags": []
          }
        }
      ]
    },
    {
      "cell_type": "markdown",
      "metadata": {
        "id": "g7uOdzkdohLK"
      },
      "source": [
        "¿Podriamos ver como se distribuyen los pasajeros por edades y por otra variable (género, supervivencia, clase....)? Echale un vistazo a la documentación!"
      ]
    },
    {
      "cell_type": "code",
      "metadata": {
        "id": "tlVxt1oyohLL",
        "colab": {
          "base_uri": "https://localhost:8080/",
          "height": 301
        },
        "outputId": "a2ea928a-c3e0-4042-ae98-7c71c0322536"
      },
      "source": [
        "# Generamos el histograma de Age por Sex:\n",
        "dataset.loc[:,['Age','Sex']].hist(bins=15,by='Sex',sharey=True, sharex=True)\n",
        "\n",
        "plt.ylabel('Frecuencias')\n",
        "plt.xlabel('Edad')\n",
        "\n",
        "# Representamos la gráfica:\n",
        "plt.show()"
      ],
      "execution_count": 116,
      "outputs": [
        {
          "output_type": "display_data",
          "data": {
            "image/png": "[encoded data removed]",
            "text/plain": [
              "<Figure size 432x288 with 2 Axes>"
            ]
          },
          "metadata": {
            "tags": []
          }
        }
      ]
    },
    {
      "cell_type": "markdown",
      "metadata": {
        "id": "hzRjl2nWohLN"
      },
      "source": [
        "Otra opción es:"
      ]
    },
    {
      "cell_type": "code",
      "metadata": {
        "id": "0hOu1LhUohLO",
        "colab": {
          "base_uri": "https://localhost:8080/",
          "height": 299
        },
        "outputId": "b836b270-aa69-43c9-a1a6-2c74a99b0e83"
      },
      "source": [
        "# Generamos el histograma de Age por Sex:\n",
        "dataset.loc[dataset.Sex=='male','Age'].hist(bins=15,color='blue',alpha=0.5,label='male')\n",
        "dataset.loc[dataset.Sex=='female','Age'].hist(bins=15,color='red',alpha=0.5,label='female')\n",
        "\n",
        "# Añadimos título y etiquetas:\n",
        "plt.title('Distribucion de Edades por Sexo en el Titanic')\n",
        "plt.xlabel('Edades')\n",
        "plt.ylabel('Frecuencias')\n",
        "plt.legend()\n",
        "\n",
        "# Representamos la gráfica:\n",
        "plt.show()"
      ],
      "execution_count": 117,
      "outputs": [
        {
          "output_type": "display_data",
          "data": {
            "image/png": "[encoded data removed]",
            "text/plain": [
              "<Figure size 432x288 with 1 Axes>"
            ]
          },
          "metadata": {
            "tags": []
          }
        }
      ]
    },
    {
      "cell_type": "markdown",
      "metadata": {
        "id": "onhullHFohLR"
      },
      "source": [
        "¿Cómo se distribuyen los pasajeros por edad y por clase? (selecciones [colores](http://html-color-codes.info/) para cada una de las clases)"
      ]
    },
    {
      "cell_type": "code",
      "metadata": {
        "id": "b5Tm5PZaohLT",
        "colab": {
          "base_uri": "https://localhost:8080/",
          "height": 299
        },
        "outputId": "84618528-ec7a-4c49-9275-d737ab2d950e"
      },
      "source": [
        "# Generamos el histograma de Age por clase:\n",
        "dataset.loc[dataset.Pclass==3,'Age'].hist(bins=15,color='#40FF00',alpha=0.5,label='Tercera')\n",
        "#dataset.loc[dataset.Pclass==2,'Age'].hist(bins=15,color='#00FFFF',alpha=0.5,label='Segunda')\n",
        "dataset.loc[dataset.Pclass==1,'Age'].hist(bins=15,color='#610B5E',alpha=0.5,label='Primera')\n",
        "\n",
        "# Añadimos título y etiquetas:\n",
        "plt.title('Distribucion de Edades por Clases en el Titanic')\n",
        "plt.xlabel('Edades')\n",
        "plt.ylabel('Frecuencias')\n",
        "plt.legend()\n",
        "\n",
        "# Representamos la gráfica:\n",
        "plt.show()"
      ],
      "execution_count": 118,
      "outputs": [
        {
          "output_type": "display_data",
          "data": {
            "image/png": "[encoded data removed]",
            "text/plain": [
              "<Figure size 432x288 with 1 Axes>"
            ]
          },
          "metadata": {
            "tags": []
          }
        }
      ]
    },
    {
      "cell_type": "markdown",
      "metadata": {
        "id": "GT9qS0YaohLW"
      },
      "source": [
        "Ahora vamos a empezar a generar gráficas para demostrar como se distribuyen los supervivientes por Sexo, Clase y Edad. Antes vimos que esta información la obteniamos haciendo agrupaciones sobre el dataset. En este caso repetiremos el proceso y lo representaremos, por ejemplo el siguiente proceso muestra como se distribuyen los pasajeros por sexo y los porcentajes de superviviencia asociados a los mismos:"
      ]
    },
    {
      "cell_type": "code",
      "metadata": {
        "id": "iz_e1c9vv01F"
      },
      "source": [
        "# crear una función para representar variables categóricas:\n",
        "\n",
        "def plot_categorical(df, var_name, target_name, width=7, height=5, color='#13A844'):\n",
        "   proporcion_target =  pandas.DataFrame((df[target_name]).groupby(df[var_name]).mean())\n",
        "   distribucion_categoria = pandas.DataFrame((df[target_name]).groupby(df[var_name]).count())\n",
        "\n",
        "   fig = plt.figure(figsize=(width, height))\n",
        "   ax = distribucion_categoria[target_name].plot(kind='bar', color=color)\n",
        "   ax.set_ylabel('Numero de samples', color=color)\n",
        "   ax2 = ax.twinx()\n",
        "   ax2.grid(False)\n",
        "   ax2.plot(proporcion_target[target_name].values, color='r', linestyle='-', alpha=0.9, marker = '.', markeredgewidth = 2, linewidth=1.0)\n",
        "   ax2.set_ylabel('ratio target', color='r')\n",
        "   plt.title('Descripción de variable ' + var_name)\n",
        "   plt.show()"
      ],
      "execution_count": 119,
      "outputs": []
    },
    {
      "cell_type": "code",
      "metadata": {
        "id": "brd3YcW7wjnG",
        "colab": {
          "base_uri": "https://localhost:8080/",
          "height": 379
        },
        "outputId": "81c300d7-8523-4a7d-f967-92654b23ea04"
      },
      "source": [
        "plot_categorical(dataset, 'Sex', 'Survived')"
      ],
      "execution_count": 120,
      "outputs": [
        {
          "output_type": "display_data",
          "data": {
            "image/png": "[encoded data removed]",
            "text/plain": [
              "<Figure size 504x360 with 2 Axes>"
            ]
          },
          "metadata": {
            "tags": []
          }
        }
      ]
    },
    {
      "cell_type": "markdown",
      "metadata": {
        "id": "vhKMUhUgohLd"
      },
      "source": [
        "¿Podriamos hacer lo mismo con 'Age_ranges' o 'Pclass'?"
      ]
    },
    {
      "cell_type": "code",
      "metadata": {
        "id": "JPYMshH0ohLe",
        "colab": {
          "base_uri": "https://localhost:8080/",
          "height": 351
        },
        "outputId": "053642d9-b6fe-4f00-ff70-98a351659631"
      },
      "source": [
        "# Age_ranges\n",
        "plot_categorical(dataset, 'Pclass', 'Survived')"
      ],
      "execution_count": 121,
      "outputs": [
        {
          "output_type": "display_data",
          "data": {
            "image/png": "[encoded data removed]",
            "text/plain": [
              "<Figure size 504x360 with 2 Axes>"
            ]
          },
          "metadata": {
            "tags": []
          }
        }
      ]
    },
    {
      "cell_type": "code",
      "metadata": {
        "id": "_CFp11lxohLh",
        "colab": {
          "base_uri": "https://localhost:8080/",
          "height": 376
        },
        "outputId": "6a98bd5a-2c2a-46ec-d50f-dba989c72206"
      },
      "source": [
        "# Age_ranges\n",
        "plot_categorical(dataset, 'Age_ranges', 'Survived')\n"
      ],
      "execution_count": 122,
      "outputs": [
        {
          "output_type": "display_data",
          "data": {
            "image/png": "[encoded data removed]",
            "text/plain": [
              "<Figure size 504x360 with 2 Axes>"
            ]
          },
          "metadata": {
            "tags": []
          }
        }
      ]
    },
    {
      "cell_type": "markdown",
      "metadata": {
        "id": "la7xeI6cohLj"
      },
      "source": [
        "Por último, vamos a comprobar como se distribuye la probabilidad de supervivencia por Sexo y por Clase, para ello, vamos a utilizar la función [pivot](http://pandas.pydata.org/pandas-docs/stable/generated/pandas.DataFrame.pivot.html)."
      ]
    },
    {
      "cell_type": "code",
      "metadata": {
        "id": "GN8-jqWSohLk",
        "colab": {
          "base_uri": "https://localhost:8080/"
        },
        "outputId": "f8e2f3fd-58c7-4a7d-88f0-71ffb22c0cb7"
      },
      "source": [
        "# Este es el dataframe que vamos a representar:\n",
        "print(dataset.groupby(['Sex','Pclass']).mean().reset_index().pivot(index='Pclass',columns='Sex',values='Survived'))"
      ],
      "execution_count": 123,
      "outputs": [
        {
          "output_type": "stream",
          "text": [
            "Sex       female      male\n",
            "Pclass                    \n",
            "1       0.968085  0.368852\n",
            "2       0.921053  0.157407\n",
            "3       0.500000  0.137026\n"
          ],
          "name": "stdout"
        }
      ]
    },
    {
      "cell_type": "code",
      "metadata": {
        "id": "jEfNwUANohLm",
        "colab": {
          "base_uri": "https://localhost:8080/",
          "height": 350
        },
        "outputId": "efc4cbe3-bfb7-411e-cbbc-da0e5af91df5"
      },
      "source": [
        "dataset.groupby(['Sex','Pclass']).mean().reset_index().pivot(\n",
        "    index='Pclass',columns='Sex',values='Survived').plot.bar(color=['red','blue'],alpha=0.5)\n",
        "\n",
        "# Añadimos título y etiquetas:\n",
        "plt.title('Probabilidad de supervivencia\\n por Sexo y Clases en el Titanic')\n",
        "plt.xlabel('Clase')\n",
        "plt.ylabel('Prob. de Supervivencia')\n",
        "plt.xticks(range(3), ['Primera', 'Segunda', 'Tercera'], color='black')\n",
        "plt.legend()\n",
        "\n",
        "plt.show()"
      ],
      "execution_count": 124,
      "outputs": [
        {
          "output_type": "display_data",
          "data": {
            "image/png": "[encoded data removed]",
            "text/plain": [
              "<Figure size 432x288 with 1 Axes>"
            ]
          },
          "metadata": {
            "tags": []
          }
        }
      ]
    },
    {
      "cell_type": "markdown",
      "metadata": {
        "id": "qReJAzJDohLo"
      },
      "source": [
        "Felicidades!, llegados a este punto ya hemos representado visualemente las conclusiones que obtuvimos en un primer momento. Hemos demostrado que la probabilidad de superviviencia viene mayormente determinada por el Sexo, Clase y en menor medida por la Edad (y probablemente sea también factor de otras variables que no hemos analizado en este ejercicio. Podriamos crear un modelo que nos sirviera para saber si un pasajero sobrevive o no?"
      ]
    },
    {
      "cell_type": "code",
      "metadata": {
        "id": "m4RwPNPHhhss"
      },
      "source": [
        ""
      ],
      "execution_count": null,
      "outputs": []
    }
  ]
}