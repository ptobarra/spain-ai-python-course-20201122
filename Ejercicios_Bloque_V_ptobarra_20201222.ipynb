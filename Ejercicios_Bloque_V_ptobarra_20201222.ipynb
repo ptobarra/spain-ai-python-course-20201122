{
  "nbformat": 4,
  "nbformat_minor": 0,
  "metadata": {
    "colab": {
      "name": "Ejercicios_Bloque_V_ptobarra_20201222.ipynb",
      "provenance": [],
      "collapsed_sections": []
    },
    "kernelspec": {
      "name": "python3",
      "display_name": "Python 3"
    }
  },
  "cells": [
    {
      "cell_type": "markdown",
      "metadata": {
        "id": "JclU3uF8YoRV"
      },
      "source": [
        "# Ejercicio de bloque\n",
        "\n",
        "## Datos de Lluvia\n",
        "\n",
        "### Ejercicio 1\n",
        "\n",
        "Descarga los datos de lluvia (lloverá, o no lloverá) en la ciudad de Vigo, durante los próximos 15 días, para lo que se usará un scraper sobre la web https://weather.com/es-ES/tiempo/10dias/l/00ccd4421ffb1e3dc4099c5ca8e692f62fc49bac107a6eec4f1cefc008ac50d8\n",
        "\n",
        "\n"
      ]
    },
    {
      "cell_type": "code",
      "metadata": {
        "colab": {
          "base_uri": "https://localhost:8080/"
        },
        "id": "oLeytqc59w9S",
        "outputId": "d48882ef-f963-4eb3-a788-cfbe6e6203ab"
      },
      "source": [
        "!pip install requests"
      ],
      "execution_count": 23,
      "outputs": [
        {
          "output_type": "stream",
          "text": [
            "Requirement already satisfied: requests in /usr/local/lib/python3.6/dist-packages (2.23.0)\n",
            "Requirement already satisfied: certifi>=2017.4.17 in /usr/local/lib/python3.6/dist-packages (from requests) (2020.12.5)\n",
            "Requirement already satisfied: idna<3,>=2.5 in /usr/local/lib/python3.6/dist-packages (from requests) (2.10)\n",
            "Requirement already satisfied: urllib3!=1.25.0,!=1.25.1,<1.26,>=1.21.1 in /usr/local/lib/python3.6/dist-packages (from requests) (1.24.3)\n",
            "Requirement already satisfied: chardet<4,>=3.0.2 in /usr/local/lib/python3.6/dist-packages (from requests) (3.0.4)\n"
          ],
          "name": "stdout"
        }
      ]
    },
    {
      "cell_type": "code",
      "metadata": {
        "colab": {
          "base_uri": "https://localhost:8080/"
        },
        "id": "cv10b9VK_IgB",
        "outputId": "31a6dbcf-663c-4b37-c040-ef29ba22cef7"
      },
      "source": [
        "!pip install bs4"
      ],
      "execution_count": 24,
      "outputs": [
        {
          "output_type": "stream",
          "text": [
            "Requirement already satisfied: bs4 in /usr/local/lib/python3.6/dist-packages (0.0.1)\n",
            "Requirement already satisfied: beautifulsoup4 in /usr/local/lib/python3.6/dist-packages (from bs4) (4.6.3)\n"
          ],
          "name": "stdout"
        }
      ]
    },
    {
      "cell_type": "code",
      "metadata": {
        "id": "DvceX42IChNg",
        "colab": {
          "base_uri": "https://localhost:8080/"
        },
        "outputId": "082281e9-1e44-4311-e775-b0fc53b776be"
      },
      "source": [
        "import requests\n",
        "from bs4 import BeautifulSoup\n",
        "url = 'https://weather.com/es-ES/tiempo/10dias/l/00ccd4421ffb1e3dc4099c5ca8e692f62fc49bac107a6eec4f1cefc008ac50d8'\n",
        "\n",
        "# Tenemos que obtener la página con requests\n",
        "req = requests.get(url)\n",
        "\n",
        "# Imprimimos el código HTTP de request para ver si obtuve la página\n",
        "# El código obtenido debe ser 200\n",
        "print(req)\n",
        "\n",
        "print()\n",
        "\n",
        "# Usamos beautifulsoup para procesar la información obtenida de requests\n",
        "soup = BeautifulSoup(req.content, 'lxml')\n",
        "\n",
        "# Obtengo los días\n",
        "# Posible solución: obtener elementos de tipo \"div\" con clase \"_2ARnx\"\n",
        "\n",
        "days = soup.find_all(\"div\", class_=\"DetailsSummary--precip--2ARnx\")\n",
        "\n",
        "# la info de lluvia viene ordenada por dias, por loq sacando la info de lluvias ya sabemos q es para los siguientes dias\n",
        "\n",
        "# Bucle \"for\" para ir procesando cada uno de los días obtenidos\n",
        "\n",
        "\n",
        "# Para cada día, identificar si llueve o no llueve\n",
        "# Posible solución en 3 pasos: \n",
        "#   a) obtener el texto usando \"getText()\" sobre cada elemento\n",
        "#   b) Eliminar el último caracter (el signo de \"%\") de la cadena de texto obtenida \n",
        "#   c) Ver si el número que queda es mayor que cero (lo que indica que lloverá), y en caso de lluvia imprimir el resultado.\n",
        "\n",
        "for item in days:\n",
        "  lluvia = int(item.getText()[:-1])  # 5\n",
        "  if lluvia > 0:\n",
        "    print('Lloverá: ' + str(lluvia) + ' %')\n",
        "  else: print('No lloverá: ' + str(lluvia) + ' %')\n"
      ],
      "execution_count": 25,
      "outputs": [
        {
          "output_type": "stream",
          "text": [
            "<Response [200]>\n",
            "\n",
            "No lloverá: 0 %\n",
            "Lloverá: 5 %\n",
            "Lloverá: 85 %\n",
            "Lloverá: 90 %\n",
            "Lloverá: 70 %\n",
            "Lloverá: 65 %\n",
            "Lloverá: 75 %\n",
            "Lloverá: 65 %\n",
            "Lloverá: 55 %\n",
            "Lloverá: 60 %\n",
            "Lloverá: 60 %\n",
            "Lloverá: 60 %\n",
            "Lloverá: 60 %\n",
            "Lloverá: 55 %\n",
            "Lloverá: 60 %\n"
          ],
          "name": "stdout"
        }
      ]
    },
    {
      "cell_type": "code",
      "metadata": {
        "colab": {
          "base_uri": "https://localhost:8080/"
        },
        "id": "nLeIwymhmyox",
        "outputId": "88f820f9-833e-44c7-af38-ebb9e5707d94"
      },
      "source": [
        "# OTRO PLANTEAMIENTO\n",
        "\n",
        "# [Nestor Alvaro] en mi solucion lo que hago es buscar el elemento con valor \"Precip\" para el atributo \"data-testid\"\n",
        "# stack overflow: how find specific data attribute from html tag in beautifulSoup4?\n",
        "# print[item[\"data-testid\"] for item in soup.find_all() if \"data-testid\" in item.attrs]\n",
        "\n",
        "for item in soup.find_all():\n",
        "  if (\"data-testid\" in item.attrs) and (item[\"data-testid\"] == \"Precip\"):\n",
        "    # print(item[\"data-testid\"])  # Precip\n",
        "    # print(item.getText()[:-1])  # 5  \n",
        "    lluvia = int(item.text[:-1])  # 5\n",
        "    if lluvia > 0:\n",
        "      print('Lloverá: ' + str(lluvia) + ' %')\n",
        "    else: print('No lloverá: ' + str(lluvia) + ' %')\n"
      ],
      "execution_count": 26,
      "outputs": [
        {
          "output_type": "stream",
          "text": [
            "No lloverá: 0 %\n",
            "Lloverá: 5 %\n",
            "Lloverá: 85 %\n",
            "Lloverá: 90 %\n",
            "Lloverá: 70 %\n",
            "Lloverá: 65 %\n",
            "Lloverá: 75 %\n",
            "Lloverá: 65 %\n",
            "Lloverá: 55 %\n",
            "Lloverá: 60 %\n",
            "Lloverá: 60 %\n",
            "Lloverá: 60 %\n",
            "Lloverá: 60 %\n",
            "Lloverá: 55 %\n",
            "Lloverá: 60 %\n"
          ],
          "name": "stdout"
        }
      ]
    },
    {
      "cell_type": "markdown",
      "metadata": {
        "id": "Ne1KZeZuFGDL"
      },
      "source": [
        "## Ejercicio 2\n",
        "\n",
        "Vete a la web https://www.eltiempo.es/\n",
        "\n",
        "Usando selenium, rellena la caja de búsqueda para coger el listado de ciudades que sale al hacer la búsqueda con la cadena de texto \"vigo\"\n"
      ]
    },
    {
      "cell_type": "code",
      "metadata": {
        "colab": {
          "base_uri": "https://localhost:8080/"
        },
        "id": "5N6NTA6jVWJC",
        "outputId": "b0f8fe37-62f9-40ec-b11b-701f003edeb9"
      },
      "source": [
        "!pip install selenium"
      ],
      "execution_count": 27,
      "outputs": [
        {
          "output_type": "stream",
          "text": [
            "Requirement already satisfied: selenium in /usr/local/lib/python3.6/dist-packages (3.141.0)\n",
            "Requirement already satisfied: urllib3 in /usr/local/lib/python3.6/dist-packages (from selenium) (1.24.3)\n"
          ],
          "name": "stdout"
        }
      ]
    },
    {
      "cell_type": "code",
      "metadata": {
        "id": "rKArycdgFSRa"
      },
      "source": [
        "# CONTENIDO DEL ARCHIVO 'Ejercicios_Bloque_V_ejercicio_2.py' EJECUTADO EN LOCAL\n",
        "\n",
        "from selenium import webdriver\n",
        "from selenium.webdriver.common.keys import Keys\n",
        "\n",
        "# Para poder esperar cuando crea conveniente\n",
        "import time\n",
        "\n",
        "URL = \"https://www.eltiempo.es\"\n",
        "\n",
        "if __name__ == '__main__':\n",
        "    # Utilizo el objeto options y le añado el argumento '--start-maximized' para que chrome inicie con la ventana \\\n",
        "    # maximizada para que salga en la pagina la caja de búsqueda\n",
        "    options = webdriver.ChromeOptions()\n",
        "    options.add_argument(\"--start-maximized\")\n",
        "\n",
        "    # Carga el driver correspondiente (Chrome, Firefox,...)\n",
        "    driver = webdriver.Chrome(\"/home/ptobarra/myGoogleDrive/6_intro_python_para_web/linux-chrome/chromedriver\",\n",
        "                              options=options)\n",
        "\n",
        "    # El método “driver.get” navega a la página indicada\n",
        "    driver.get(URL)\n",
        "\n",
        "    # Simulo una espera de 3 segundos\n",
        "    time.sleep(3)\n",
        "\n",
        "    # Elegimos el botón de \"ACEPTAR\" la información de cookies\n",
        "    elem = driver.find_element_by_id('didomi-notice-agree-button')\n",
        "\n",
        "    # Enviamos la tecla, como su pulsásemos \"Return\"\n",
        "    elem.send_keys(Keys.RETURN)\n",
        "\n",
        "    # Obtén la caja de búsqueda\n",
        "    elem = driver.find_element_by_name(\"inputSearch\")\n",
        "\n",
        "    # Borra el texto de la caja de búsqueda\n",
        "    elem.clear()\n",
        "\n",
        "    # Introducimos texto como si lo hiciésemos con el teclado\n",
        "    elem.send_keys(\"vigo\")\n",
        "\n",
        "    # “Pulsamos” enter\n",
        "    elem.send_keys(Keys.RETURN)\n",
        "\n",
        "    # Simulo una espera de 5 segundos\n",
        "    time.sleep(5)\n",
        "\n",
        "    # Usamos el método \"close\" para cerrar la página actual\n",
        "    driver.close()\n"
      ],
      "execution_count": null,
      "outputs": []
    },
    {
      "cell_type": "code",
      "metadata": {
        "colab": {
          "base_uri": "https://localhost:8080/",
          "height": 35
        },
        "id": "LUKxbBSIu8je",
        "outputId": "f594b1df-88df-483c-e2d3-ac73f5e55b8a"
      },
      "source": [
        "# RESULTADO DE EJECUCION DEL EJERCICIO EL 25/12/2020\n",
        "\"\"\"\n",
        "/usr/bin/python3.8 /home/ptobarra/myGoogleDrive/6_intro_python_para_web/Ejercicios_Bloque_V_ejercicio_2.py\n",
        "\n",
        "Process finished with exit code 0\n",
        "\"\"\""
      ],
      "execution_count": 28,
      "outputs": [
        {
          "output_type": "execute_result",
          "data": {
            "application/vnd.google.colaboratory.intrinsic+json": {
              "type": "string"
            },
            "text/plain": [
              "'\\n/usr/bin/python3.8 /home/ptobarra/myGoogleDrive/6_intro_python_para_web/Ejercicios_Bloque_V_ejercicio_2.py\\n\\nProcess finished with exit code 0\\n'"
            ]
          },
          "metadata": {
            "tags": []
          },
          "execution_count": 28
        }
      ]
    },
    {
      "cell_type": "markdown",
      "metadata": {
        "id": "yaBu7iv8Ef7B"
      },
      "source": [
        "### Ejercicio 3\n",
        "Usando la página web https://www.eltiempo.es/vigo.html?q=vigo\n",
        "\n",
        "Obtén la información de lluvia para Vigo"
      ]
    },
    {
      "cell_type": "code",
      "metadata": {
        "colab": {
          "base_uri": "https://localhost:8080/"
        },
        "id": "9aBVIkqPtLlO",
        "outputId": "3f700855-300c-4aac-84bb-3b8b4d57d9b0"
      },
      "source": [
        "!pip install selenium"
      ],
      "execution_count": 29,
      "outputs": [
        {
          "output_type": "stream",
          "text": [
            "Requirement already satisfied: selenium in /usr/local/lib/python3.6/dist-packages (3.141.0)\n",
            "Requirement already satisfied: urllib3 in /usr/local/lib/python3.6/dist-packages (from selenium) (1.24.3)\n"
          ],
          "name": "stdout"
        }
      ]
    },
    {
      "cell_type": "code",
      "metadata": {
        "id": "lWMFp6DktMaw"
      },
      "source": [
        "# CONTENIDO DEL ARCHIVO 'Ejercicios_Bloque_V_ejercicio_3.py' EJECUTADO EN LOCAL\n",
        "\n",
        "# Para poder esperar cuando crea conveniente\n",
        "import time\n",
        "\n",
        "from typing import List\n",
        "\n",
        "from selenium import webdriver\n",
        "from selenium.webdriver.common.keys import Keys\n",
        "from selenium.webdriver.remote.webelement import WebElement\n",
        "\n",
        "URL = \"https://www.eltiempo.es\"\n",
        "\n",
        "if __name__ == '__main__':\n",
        "    # Utilizo el objeto options y le añado el argumento '--start-maximized' para que chrome inicie con la ventana \\\n",
        "    # maximizada para que salga en la pagina la caja de búsqueda\n",
        "    options = webdriver.ChromeOptions()\n",
        "    options.add_argument(\"--start-maximized\")\n",
        "\n",
        "    # Carga el driver correspondiente (Chrome, Firefox,...)\n",
        "    driver = webdriver.Chrome(\"/home/ptobarra/myGoogleDrive/6_intro_python_para_web/linux-chrome/chromedriver\",\n",
        "                              options=options)\n",
        "\n",
        "    # El método “driver.get” navega a la página indicada\n",
        "    driver.get(URL)\n",
        "\n",
        "    # Simulo una espera de 3 segundos\n",
        "    time.sleep(3)\n",
        "\n",
        "    # Elegimos el botón de \"ACEPTAR\" la información de cookies\n",
        "    elem = driver.find_element_by_id('didomi-notice-agree-button')\n",
        "\n",
        "    # Enviamos la tecla, como su pulsásemos \"Return\"\n",
        "    elem.send_keys(Keys.RETURN)\n",
        "\n",
        "    # Obtén la caja de búsqueda\n",
        "    elem = driver.find_element_by_name(\"inputSearch\")\n",
        "\n",
        "    # Borra el texto de la caja de búsqueda\n",
        "    elem.clear()\n",
        "\n",
        "    # Introducimos texto como si lo hiciésemos con el teclado\n",
        "    elem.send_keys(\"vigo\")\n",
        "\n",
        "    # “Pulsamos” enter\n",
        "    elem.send_keys(Keys.RETURN)\n",
        "\n",
        "    # Elegimos el boton de 'Vigo, Pontevedra'\n",
        "    url2 = \"https://www.eltiempo.es/vigo.html?q=vigo\"\n",
        "    elem = driver.find_element_by_xpath('//a[@href=\"' + url2 + '\"]')\n",
        "\n",
        "    # “Pulsamos” enter\n",
        "    elem.send_keys(Keys.RETURN)\n",
        "\n",
        "    # Simulo una espera de 3 segundos para que de tiempo a que se cargue a pagina\n",
        "    time.sleep(3)\n",
        "\n",
        "    # Obtengo los días\n",
        "    days: List[WebElement] = \\\n",
        "        driver.find_elements_by_xpath(\"//div[contains(@class, 'm_table_weather_day_child m_table_weather_day_rain')]\")\n",
        "\n",
        "    # Bucle \"for\" para ir procesando cada uno de los días obtenidos\n",
        "    for index, value in enumerate(days):\n",
        "        if value.text:  # chequeamos si el string esta vacio\n",
        "            lluvia: float = float(value.text[:-3])\n",
        "            # Para cada día, identificar si llueve o no llueve\n",
        "            if lluvia > 0.0:\n",
        "                print('SÍ lloverá: {0} mm'.format(str(lluvia)))\n",
        "            else:\n",
        "                print('NO lloverá: {0} mm'.format(str(lluvia)))\n",
        "\n",
        "    # Usamos el método \"close\" para cerrar la página actual\n",
        "    driver.close()\n"
      ],
      "execution_count": null,
      "outputs": []
    },
    {
      "cell_type": "code",
      "metadata": {
        "colab": {
          "base_uri": "https://localhost:8080/",
          "height": 52
        },
        "id": "xvsWYwzhuoa5",
        "outputId": "ab6fc989-1aa8-4886-aff8-b3b2999db97b"
      },
      "source": [
        "# RESULTADO DE EJECUCION DEL EJERCICIO EL 25/12/2020\n",
        "\"\"\"\n",
        "/usr/bin/python3.8 /home/ptobarra/myGoogleDrive/6_intro_python_para_web/Ejercicios_Bloque_V_ejercicio_3.py\n",
        "NO lloverá: 0.0 mm\n",
        "NO lloverá: 0.0 mm\n",
        "SÍ lloverá: 8.6 mm\n",
        "SÍ lloverá: 26.7 mm\n",
        "SÍ lloverá: 15.0 mm\n",
        "SÍ lloverá: 0.4 mm\n",
        "SÍ lloverá: 10.8 mm\n",
        "\n",
        "Process finished with exit code 0\n",
        "\"\"\""
      ],
      "execution_count": 30,
      "outputs": [
        {
          "output_type": "execute_result",
          "data": {
            "application/vnd.google.colaboratory.intrinsic+json": {
              "type": "string"
            },
            "text/plain": [
              "'\\n/usr/bin/python3.8 /home/ptobarra/myGoogleDrive/6_intro_python_para_web/Ejercicios_Bloque_V_ejercicio_3.py\\nNO lloverá: 0.0 mm\\nNO lloverá: 0.0 mm\\nSÍ lloverá: 8.6 mm\\nSÍ lloverá: 26.7 mm\\nSÍ lloverá: 15.0 mm\\nSÍ lloverá: 0.4 mm\\nSÍ lloverá: 10.8 mm\\n\\nProcess finished with exit code 0\\n'"
            ]
          },
          "metadata": {
            "tags": []
          },
          "execution_count": 30
        }
      ]
    },
    {
      "cell_type": "code",
      "metadata": {
        "colab": {
          "base_uri": "https://localhost:8080/"
        },
        "id": "TNpzjy4EJHZo",
        "outputId": "eca9db47-7dcf-4595-dd9b-7e912a1779ec"
      },
      "source": [
        "!pip install requests"
      ],
      "execution_count": 31,
      "outputs": [
        {
          "output_type": "stream",
          "text": [
            "Requirement already satisfied: requests in /usr/local/lib/python3.6/dist-packages (2.23.0)\n",
            "Requirement already satisfied: certifi>=2017.4.17 in /usr/local/lib/python3.6/dist-packages (from requests) (2020.12.5)\n",
            "Requirement already satisfied: idna<3,>=2.5 in /usr/local/lib/python3.6/dist-packages (from requests) (2.10)\n",
            "Requirement already satisfied: urllib3!=1.25.0,!=1.25.1,<1.26,>=1.21.1 in /usr/local/lib/python3.6/dist-packages (from requests) (1.24.3)\n",
            "Requirement already satisfied: chardet<4,>=3.0.2 in /usr/local/lib/python3.6/dist-packages (from requests) (3.0.4)\n"
          ],
          "name": "stdout"
        }
      ]
    },
    {
      "cell_type": "code",
      "metadata": {
        "colab": {
          "base_uri": "https://localhost:8080/"
        },
        "id": "n-iXHsutJOUj",
        "outputId": "5c5e5ba7-3356-4663-c012-62a2b28f3f62"
      },
      "source": [
        "!pip install bs4"
      ],
      "execution_count": 32,
      "outputs": [
        {
          "output_type": "stream",
          "text": [
            "Requirement already satisfied: bs4 in /usr/local/lib/python3.6/dist-packages (0.0.1)\n",
            "Requirement already satisfied: beautifulsoup4 in /usr/local/lib/python3.6/dist-packages (from bs4) (4.6.3)\n"
          ],
          "name": "stdout"
        }
      ]
    },
    {
      "cell_type": "code",
      "metadata": {
        "id": "m_CqYjIuExWz"
      },
      "source": [
        "# PLANTILLA DE EJERCICIO 3 NO UTILIZADA\n",
        "\n",
        "import requests\n",
        "from bs4 import BeautifulSoup\n",
        "url = 'https://www.eltiempo.es/vigo.html?q=vigo'\n",
        "\n",
        "# Tenemos que obtener la página con requests\n",
        "\n",
        "# Imprimimos el código HTTP de request para ver si obtuve la página\n",
        "# El código obtenido debe ser 200\n",
        "\n",
        "\n",
        "# Usamos beautifulsoup para procesar la información obtenida de requests\n",
        "\n",
        "# Obtengo los días\n",
        "\n",
        "# Bucle \"for\" para ir procesando cada uno de los días obtenidos\n",
        "\n",
        "\n",
        "# Para cada día, identificar si llueve o no llueve"
      ],
      "execution_count": 33,
      "outputs": []
    },
    {
      "cell_type": "code",
      "metadata": {
        "id": "pdGpgDQfwGZK"
      },
      "source": [
        ""
      ],
      "execution_count": null,
      "outputs": []
    }
  ]
}