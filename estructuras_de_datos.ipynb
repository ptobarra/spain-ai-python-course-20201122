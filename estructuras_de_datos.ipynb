{
  "nbformat": 4,
  "nbformat_minor": 0,
  "metadata": {
    "colab": {
      "name": "estructuras_de_datos.ipynb",
      "provenance": [],
      "collapsed_sections": [
        "Rdnemy3ClTVb",
        "nBUZOdWFtIvm",
        "i8awgUy9Ntd_",
        "o-OlQEuJNy_X",
        "ttUUa4FaNzF8"
      ],
      "toc_visible": true
    },
    "kernelspec": {
      "name": "python3",
      "display_name": "Python 3"
    }
  },
  "cells": [
    {
      "cell_type": "markdown",
      "metadata": {
        "id": "Rdnemy3ClTVb"
      },
      "source": [
        "# Estructuras de Datos\n",
        "\n",
        "A continuación, vamos a poner en práctica lo aprendido en esta unidad. En esta unidad trabajaremos con:\n",
        " * listas\n",
        " * diccionarios\n",
        " * tuplas\n",
        " * sets\n",
        "\n",
        "**NOTA para empezar a trabajar con Colaboratory:** \n",
        "\n",
        "**NOTA para empezar a trabajar con Colaboratory:** \n",
        "\n",
        "Para comenzar a trabajar con el cuaderno, tienes que conectarte al servidor, para ello, tienes que clickar sobre el boton \"conectar\" que puedes ver arriba a la derecha:\n",
        "\n",
        "![ejecutar](https://i.imgur.com/JQHXXw8.gif)\n",
        "\n",
        "Verás que el botón empieza a cambiar de estados hasta que finalmente se muestra el RAM y el disco duro disponible. Esto indica que ya estamos listos para trabajar!.\n",
        "\n",
        "Para ir ejecutando las celdas del notebook, coloca el puntero del ratón sobre la celda como se indica a continuación, veras que cuando pones el cursor encima, aparecen los simbolos de \"play\",  entonces púlsalo para ejecutar la celda. Una vez lo hayas hecho, veras que aparece un número con el número de celdas que has ejecutado en la sesión:\n",
        "\n",
        "![ejecutar](https://i.imgur.com/Qop9iTm.gif)\n",
        "\n",
        "Por último, veras que en celdas de código, también introduzco comentarios. Los comentarios son útiles para facilitar el entendimiento del código. Para crear comentarios, sólo tengo que comenzar una línea usando el `#`, por ejemplo:\n",
        "```python\n",
        "# Hola!, soy un comentario\n",
        "# y soy útil para facilitar el entendimiento del código\n",
        "```"
      ]
    },
    {
      "cell_type": "markdown",
      "metadata": {
        "id": "nBUZOdWFtIvm"
      },
      "source": [
        "## Listas:\n",
        "\n",
        "A continuación, vamos a definir nuestra primera lista. Pero antes de ello, recuerda que las listas cumplen estos requisitos:\n",
        "![lista](https://i.imgur.com/V7BNdt4.png)\n",
        "\n",
        "Vamos a comenzar definiendo una variable `dias_de_la_semana` que sea una lista que contenga los dias de la semana:"
      ]
    },
    {
      "cell_type": "code",
      "metadata": {
        "id": "Jl91icHztJFn"
      },
      "source": [
        "dias_de_la_semana = ['Lunes', 'Martes', 'Miercoles', 'Jueves', 'Viernes', 'Sábado', 'Domingo']"
      ],
      "execution_count": 2,
      "outputs": []
    },
    {
      "cell_type": "markdown",
      "metadata": {
        "id": "Anj5tUnlveMs"
      },
      "source": [
        "Recuerda que en las listas, cada elemento tiene una posición asociada:\n",
        "![posiciones](https://i.imgur.com/aAXO2cM.png)"
      ]
    },
    {
      "cell_type": "markdown",
      "metadata": {
        "id": "C_naV-8WujhF"
      },
      "source": [
        "Ahora, voy a imprimir algunas propiedades de la misma:"
      ]
    },
    {
      "cell_type": "code",
      "metadata": {
        "id": "hpTcQ9IFunRH",
        "outputId": "252bbeb7-a5d6-4140-d8c1-6ed6efa4d847",
        "colab": {
          "base_uri": "https://localhost:8080/"
        }
      },
      "source": [
        "print(f\"Cuantos elementos continene la lista?: {len(dias_de_la_semana)}\")\n",
        "print(f\"El segundo elemento: {dias_de_la_semana[1]}\")\n",
        "print(f\"El último elemento: {dias_de_la_semana[-1]}\")\n",
        "print(f\"Del tercer al quinto elemento: {dias_de_la_semana[2:5]}\")"
      ],
      "execution_count": 6,
      "outputs": [
        {
          "output_type": "stream",
          "text": [
            "Cuantos elementos continene la lista?: 7\n",
            "El segundo elemento: Martes\n",
            "El último elemento: Domingo\n",
            "Del tercer al quinto elemento: ['Miercoles', 'Jueves', 'Viernes']\n"
          ],
          "name": "stdout"
        }
      ]
    },
    {
      "cell_type": "markdown",
      "metadata": {
        "id": "FpFi4Q2doGJ5"
      },
      "source": [
        "Especial atención hay que prestar a como he seleccionado los elementos de la lista, por ejemplo:\n",
        "\n",
        "\n",
        "*   `[3]` devuelve el elemento que está en la posición 3 empezando por la izquierda (recuerda que la primera posición en python corresponde a 0)\n",
        "*   `[3:6]` devuelve los elementos que están en la posición 3, 4 y 5\n",
        "*   `[:6]` devuelve los elementos que están en la posición 0, 1, 2, 3, 4 y 5\n",
        "*   `[3:]` devuelve los elementos que están en la posición 3, 4, 5, 6.... hasta ultimo elemento de la lista\n",
        "*   `[:]` devuelve todos los elementos de la lista\n",
        "*   `[-3:]` devuelve los 3 últimos elementos de la lista\n",
        "*   `[-2]` devuelve el penúltimo elemento de la lista\n",
        "\n"
      ]
    },
    {
      "cell_type": "markdown",
      "metadata": {
        "id": "YItkjo7W-LQJ"
      },
      "source": [
        "Por ejemplo:\n"
      ]
    },
    {
      "cell_type": "code",
      "metadata": {
        "id": "E_4MSa-W-M-e",
        "outputId": "b87bbf51-8f16-4fff-d16e-6dff8d50b063",
        "colab": {
          "base_uri": "https://localhost:8080/"
        }
      },
      "source": [
        "# ahora voy a definir una nueva lista:\n",
        "modelos_coches = ['mercedes', 'ferrari', 'bmw', 'fiat', 'opel', 'citroen', 'ford', 'mustang']\n",
        "\n",
        "print(modelos_coches[3])\n",
        "print(modelos_coches[3:6])\n",
        "print(modelos_coches[:6])\n",
        "print(modelos_coches[3:])\n",
        "print(modelos_coches[:])\n",
        "print(modelos_coches[-3:])\n",
        "print(modelos_coches[-2])"
      ],
      "execution_count": 7,
      "outputs": [
        {
          "output_type": "stream",
          "text": [
            "fiat\n",
            "['fiat', 'opel', 'citroen']\n",
            "['mercedes', 'ferrari', 'bmw', 'fiat', 'opel', 'citroen']\n",
            "['fiat', 'opel', 'citroen', 'ford', 'mustang']\n",
            "['mercedes', 'ferrari', 'bmw', 'fiat', 'opel', 'citroen', 'ford', 'mustang']\n",
            "['citroen', 'ford', 'mustang']\n",
            "ford\n"
          ],
          "name": "stdout"
        }
      ]
    },
    {
      "cell_type": "markdown",
      "metadata": {
        "id": "E94kXvSqwB7a"
      },
      "source": [
        "Ahora, voy a consumir algunos métodos que tengo disponibles para las listas. Estos métodos me sirven para llevar a cabo operaciones sobre las listas.\n",
        "\n",
        "Los métodos de las listas que están disponibles, los podemos encontrar en la [documentación de Python](https://docs.python.org/es/3/tutorial/datastructures.html). \n",
        "\n",
        "Por ejemplo, si quiero eliminar el último elemento de la lista `dias_de_la_semana`, utilizaré el método `.pop()`:\n",
        "\n",
        "![pop](https://i.imgur.com/sGJvo6q.png)"
      ]
    },
    {
      "cell_type": "code",
      "metadata": {
        "id": "ui-nanPRck81",
        "outputId": "600712b9-e064-4a95-95b2-7a9c1de36ad6",
        "colab": {
          "base_uri": "https://localhost:8080/",
          "height": 36
        }
      },
      "source": [
        "dias_de_la_semana.pop(6)"
      ],
      "execution_count": 8,
      "outputs": [
        {
          "output_type": "execute_result",
          "data": {
            "application/vnd.google.colaboratory.intrinsic+json": {
              "type": "string"
            },
            "text/plain": [
              "'Domingo'"
            ]
          },
          "metadata": {
            "tags": []
          },
          "execution_count": 8
        }
      ]
    },
    {
      "cell_type": "markdown",
      "metadata": {
        "id": "UtmtLDWtdVgk"
      },
      "source": [
        "Ahora, puedo comprobar que `dias_de_la_semana` ya no contiene el `domingo`:"
      ]
    },
    {
      "cell_type": "code",
      "metadata": {
        "id": "FC-3SMMjdUPN",
        "outputId": "9b836570-872a-478f-f4f8-e84c4a687b8a",
        "colab": {
          "base_uri": "https://localhost:8080/"
        }
      },
      "source": [
        "dias_de_la_semana"
      ],
      "execution_count": 9,
      "outputs": [
        {
          "output_type": "execute_result",
          "data": {
            "text/plain": [
              "['Lunes', 'Martes', 'Miercoles', 'Jueves', 'Viernes', 'Sábado']"
            ]
          },
          "metadata": {
            "tags": []
          },
          "execution_count": 9
        }
      ]
    },
    {
      "cell_type": "markdown",
      "metadata": {
        "id": "zBsIZ29qdqaE"
      },
      "source": [
        "Otro método que le puedo aplicar es `.reverse()`:\n",
        "\n",
        "![reverse](https://i.imgur.com/f8JUqnn.png)"
      ]
    },
    {
      "cell_type": "code",
      "metadata": {
        "id": "O-pfAru7dckF"
      },
      "source": [
        "dias_de_la_semana.reverse()"
      ],
      "execution_count": 10,
      "outputs": []
    },
    {
      "cell_type": "markdown",
      "metadata": {
        "id": "OBAWmTVVKKES"
      },
      "source": [
        "y ahora, puedo comprobar que `dias_de_la_semana` esta al reves:"
      ]
    },
    {
      "cell_type": "code",
      "metadata": {
        "id": "RTahgHESd2Im",
        "outputId": "3b7e49e1-7387-47f6-a9ab-b781755da50c",
        "colab": {
          "base_uri": "https://localhost:8080/"
        }
      },
      "source": [
        "dias_de_la_semana"
      ],
      "execution_count": 11,
      "outputs": [
        {
          "output_type": "execute_result",
          "data": {
            "text/plain": [
              "['Sábado', 'Viernes', 'Jueves', 'Miercoles', 'Martes', 'Lunes']"
            ]
          },
          "metadata": {
            "tags": []
          },
          "execution_count": 11
        }
      ]
    },
    {
      "cell_type": "markdown",
      "metadata": {
        "id": "Sn2Ej39qLC4Z"
      },
      "source": [
        "Por último, vamos a generar una lista a partir de un objeto `str` utilizando el método [`.split()`](https://docs.python.org/es/3/library/stdtypes.html#str.split):\n",
        "![split](https://i.imgur.com/EJosVp0.png)\n",
        "\n"
      ]
    },
    {
      "cell_type": "code",
      "metadata": {
        "id": "AucNrBmld4mG"
      },
      "source": [
        "frase = \"hola, que tal estas?. Yo estoy bien!\""
      ],
      "execution_count": 12,
      "outputs": []
    },
    {
      "cell_type": "code",
      "metadata": {
        "id": "UeGMGCoAOzqm",
        "outputId": "72ac2661-d626-471a-c49f-9e462921599e",
        "colab": {
          "base_uri": "https://localhost:8080/"
        }
      },
      "source": [
        "type(frase)"
      ],
      "execution_count": 13,
      "outputs": [
        {
          "output_type": "execute_result",
          "data": {
            "text/plain": [
              "str"
            ]
          },
          "metadata": {
            "tags": []
          },
          "execution_count": 13
        }
      ]
    },
    {
      "cell_type": "code",
      "metadata": {
        "id": "UA8diqr-MAUv",
        "outputId": "64873d50-7803-4bf4-9b90-9a868b308cc4",
        "colab": {
          "base_uri": "https://localhost:8080/"
        }
      },
      "source": [
        "print(f\"Esta es la lista que obtengo si separo usando la ',' como separador: {frase.split(',')}\")\n",
        "print(f\"Esta es la lista que obtengo si separo usando el ' ' como separador: {frase.split(' ')}\")\n",
        "print(f\"Esta es la lista que obtengo si separo usando el '?.' como separador: {frase.split('?.')}\")"
      ],
      "execution_count": 14,
      "outputs": [
        {
          "output_type": "stream",
          "text": [
            "Esta es la lista que obtengo si separo usando la ',' como separador: ['hola', ' que tal estas?. Yo estoy bien!']\n",
            "Esta es la lista que obtengo si separo usando el ' ' como separador: ['hola,', 'que', 'tal', 'estas?.', 'Yo', 'estoy', 'bien!']\n",
            "Esta es la lista que obtengo si separo usando el '?.' como separador: ['hola, que tal estas', ' Yo estoy bien!']\n"
          ],
          "name": "stdout"
        }
      ]
    },
    {
      "cell_type": "markdown",
      "metadata": {
        "id": "PV3XXz43vvdE"
      },
      "source": [
        "Venga, ahora te toca practicar. \n",
        "\n",
        "¿podrías crear una lista que se llame `frutas` de 2 elementos: `'manzana'` y `'pera'`?\n",
        "\n",
        "Después, usa el método `.append()` para añadir el elemento `'melon'` (sin acento) al final de la lista:"
      ]
    },
    {
      "cell_type": "code",
      "metadata": {
        "id": "JoKVjGugwFHV"
      },
      "source": [
        "# TODO: introduce tu código a continuación:\n",
        "frutas = ['manzana', 'pera']\n",
        "frutas.append('melon')\n",
        "\n",
        "# este código que incluyo a continuación es para verifica que lo has hecho bien:\n",
        "# si al ejecutar esta celda sale algún error, entonces es que lo has hecho mal\n",
        "assert frutas == ['manzana', 'pera', 'melon']"
      ],
      "execution_count": 18,
      "outputs": []
    },
    {
      "cell_type": "code",
      "metadata": {
        "id": "WWJSpraAl5c3",
        "outputId": "23a9a209-b2e0-41fe-9d28-b50628abe527",
        "colab": {
          "base_uri": "https://localhost:8080/"
        }
      },
      "source": [
        "#con dir sacas todos los metodos que se pueden usar con la variable frutas\n",
        "dir(frutas)"
      ],
      "execution_count": 20,
      "outputs": [
        {
          "output_type": "execute_result",
          "data": {
            "text/plain": [
              "['__add__',\n",
              " '__class__',\n",
              " '__contains__',\n",
              " '__delattr__',\n",
              " '__delitem__',\n",
              " '__dir__',\n",
              " '__doc__',\n",
              " '__eq__',\n",
              " '__format__',\n",
              " '__ge__',\n",
              " '__getattribute__',\n",
              " '__getitem__',\n",
              " '__gt__',\n",
              " '__hash__',\n",
              " '__iadd__',\n",
              " '__imul__',\n",
              " '__init__',\n",
              " '__init_subclass__',\n",
              " '__iter__',\n",
              " '__le__',\n",
              " '__len__',\n",
              " '__lt__',\n",
              " '__mul__',\n",
              " '__ne__',\n",
              " '__new__',\n",
              " '__reduce__',\n",
              " '__reduce_ex__',\n",
              " '__repr__',\n",
              " '__reversed__',\n",
              " '__rmul__',\n",
              " '__setattr__',\n",
              " '__setitem__',\n",
              " '__sizeof__',\n",
              " '__str__',\n",
              " '__subclasshook__',\n",
              " 'append',\n",
              " 'clear',\n",
              " 'copy',\n",
              " 'count',\n",
              " 'extend',\n",
              " 'index',\n",
              " 'insert',\n",
              " 'pop',\n",
              " 'remove',\n",
              " 'reverse',\n",
              " 'sort']"
            ]
          },
          "metadata": {
            "tags": []
          },
          "execution_count": 20
        }
      ]
    },
    {
      "cell_type": "markdown",
      "metadata": {
        "id": "i8awgUy9Ntd_"
      },
      "source": [
        "## diccionarios\n",
        "\n",
        "Ahora, vamos a trabajar con los diccionarios. Los diccionarios almacenan elementos que siguen el patrón de (clave-valor), por ejemplo:\n",
        "![dict](https://i.imgur.com/40mLR0L.png)"
      ]
    },
    {
      "cell_type": "markdown",
      "metadata": {
        "id": "im78uIvjehPv"
      },
      "source": [
        "Por ejemplo, ahora voy a definir mi propio diccionario que contiene:\n",
        " * `name` como key y valor asociado el texto: `'Jack'`\n",
        " * `age` como key y valor asociado el número: `26`\n",
        " * `name` como key y valor asociado la lista: `['ford', 'seat']`\n",
        "\n",
        "NOTA: A diferencia de las listas, los diccionarios no siguen un orden!"
      ]
    },
    {
      "cell_type": "markdown",
      "metadata": {
        "id": "HZfu4gfYfRfG"
      },
      "source": [
        "Por supuesto, los diccionarios son objetos con sus própios métodos, los cuales puedes consultar en la [documentación de Python](https://docs.python.org/es/3/tutorial/datastructures.html#dictionaries) y acceder a ellos usando el `\".\"`.\n",
        "\n",
        "![dict](https://i.imgur.com/aeBBVdJ.gif)"
      ]
    },
    {
      "cell_type": "code",
      "metadata": {
        "id": "dSbyri_VKQP_"
      },
      "source": [
        "# define un diccionario:\n",
        "my_dict = {'name': 'Jack', 'age': 26, 'cars': ['ford', 'seat']}"
      ],
      "execution_count": 21,
      "outputs": []
    },
    {
      "cell_type": "code",
      "metadata": {
        "id": "Y9LYMsnYflDQ",
        "outputId": "eaec75f4-3eb8-4cdc-db5b-dd4d1b8dbf09",
        "colab": {
          "base_uri": "https://localhost:8080/"
        }
      },
      "source": [
        "# obten algunos resultados:\n",
        "\n",
        "print(f\"Obtener todos los valores del diccionario: {my_dict.values()}\")\n",
        "print(f\"Obtener todas las claves del diccionario: {my_dict.keys()}\")\n",
        "print(f\"Obtener todos los pares de clave-valor del diccionario: {my_dict.items()}\")"
      ],
      "execution_count": 22,
      "outputs": [
        {
          "output_type": "stream",
          "text": [
            "Obtener todos los valores del diccionario: dict_values(['Jack', 26, ['ford', 'seat']])\n",
            "Obtener todas las claves del diccionario: dict_keys(['name', 'age', 'cars'])\n",
            "Obtener todos los pares de clave-valor del diccionario: dict_items([('name', 'Jack'), ('age', 26), ('cars', ['ford', 'seat'])])\n"
          ],
          "name": "stdout"
        }
      ]
    },
    {
      "cell_type": "markdown",
      "metadata": {
        "id": "Z_jjt0bqg9EQ"
      },
      "source": [
        "Para crear un nuevo par de clave-valor en el diccionario, solo tengo que definirlo de la siguiente forma:"
      ]
    },
    {
      "cell_type": "code",
      "metadata": {
        "id": "gDhHtWBEgBy3"
      },
      "source": [
        "my_dict['location'] = 'Madrid'"
      ],
      "execution_count": 23,
      "outputs": []
    },
    {
      "cell_type": "code",
      "metadata": {
        "id": "iRqpC7nXhHST",
        "outputId": "bea76a02-ea09-46b0-e9cf-c3ab56fd01a3",
        "colab": {
          "base_uri": "https://localhost:8080/"
        }
      },
      "source": [
        "my_dict"
      ],
      "execution_count": 24,
      "outputs": [
        {
          "output_type": "execute_result",
          "data": {
            "text/plain": [
              "{'age': 26, 'cars': ['ford', 'seat'], 'location': 'Madrid', 'name': 'Jack'}"
            ]
          },
          "metadata": {
            "tags": []
          },
          "execution_count": 24
        }
      ]
    },
    {
      "cell_type": "markdown",
      "metadata": {
        "id": "5AR1EbvJhKKa"
      },
      "source": [
        "Fijate que el orden de los elementos ha cambiado, como hemos dicho antes, los diccionarios no siguen un order preestablecido como si lo hacen las listas."
      ]
    },
    {
      "cell_type": "markdown",
      "metadata": {
        "id": "xKHkGF0ZwVMT"
      },
      "source": [
        "Venga, ahora te toca practicar. \n",
        "\n",
        "¿podrías crear un dicccionario que se llame `coches` de 2 elementos que tenga como keys: `'mercedes'`, `'bmw'` y como valores `'s3'` y `'x1'` respectivamente?\n",
        "\n",
        "Después, usa añade el elemento `'pontiac'` con valor asociado: `'xrf'`"
      ]
    },
    {
      "cell_type": "code",
      "metadata": {
        "id": "IblpXhmIwVMV"
      },
      "source": [
        "# TODO: introduce tu código a continuación:\n",
        "coches = {'mercedes': 's3', 'bmw': 'x1'}\n",
        "coches['pontiac']='xrf'\n",
        "\n",
        "# este código que incluyo a continuación es para verifica que lo has hecho bien:\n",
        "# si al ejecutar esta celda sale algún error, entonces es que lo has hecho mal\n",
        "assert coches == {'mercedes':'s3', 'bmw':'x1', 'pontiac':'xrf'}"
      ],
      "execution_count": 25,
      "outputs": []
    },
    {
      "cell_type": "markdown",
      "metadata": {
        "id": "o-OlQEuJNy_X"
      },
      "source": [
        "## tuplas\n",
        "\n",
        "Las tuplas son objetos de tipo secuencia, específicamente es un tipo de dato lista inmutable. Esta no puede modificarse de ningún modo después de su creación."
      ]
    },
    {
      "cell_type": "code",
      "metadata": {
        "id": "S4iIToe2moOp"
      },
      "source": [
        "x = (\"apple\", \"banana\", \"cherry\")"
      ],
      "execution_count": 26,
      "outputs": []
    },
    {
      "cell_type": "markdown",
      "metadata": {
        "id": "Z9YCqMRwnZ3Y"
      },
      "source": [
        "Podemos ver que `x` es una tupla:"
      ]
    },
    {
      "cell_type": "code",
      "metadata": {
        "id": "CTv6MtzdnduN",
        "outputId": "431cee17-76f4-41a8-88d0-6c2d06b97357",
        "colab": {
          "base_uri": "https://localhost:8080/"
        }
      },
      "source": [
        "type(x)"
      ],
      "execution_count": 27,
      "outputs": [
        {
          "output_type": "execute_result",
          "data": {
            "text/plain": [
              "tuple"
            ]
          },
          "metadata": {
            "tags": []
          },
          "execution_count": 27
        }
      ]
    },
    {
      "cell_type": "markdown",
      "metadata": {
        "id": "vhBa4scznkrT"
      },
      "source": [
        "Una vez definida una tupla, no podemos ni eliminarle ni añadirle datos, así como tampoco podemos actualizar/modificar los existentes.\n",
        "\n",
        "Lo que si que podemos hacer es seleccionar valores como hacemos con las listas, por ejemplo:"
      ]
    },
    {
      "cell_type": "code",
      "metadata": {
        "id": "fs-G3MEhn1NY",
        "outputId": "3f91eca6-4c24-4e89-a646-486c05ac0065",
        "colab": {
          "base_uri": "https://localhost:8080/"
        }
      },
      "source": [
        "print(f\"Imprimir el primer valor: {x[0]}\")\n",
        "print(f\"Imprimir el primer y el segundo valor: {x[:2]}\")"
      ],
      "execution_count": 28,
      "outputs": [
        {
          "output_type": "stream",
          "text": [
            "Imprimir el primer valor: apple\n",
            "Imprimir el primer y el segundo valor: ('apple', 'banana')\n"
          ],
          "name": "stdout"
        }
      ]
    },
    {
      "cell_type": "markdown",
      "metadata": {
        "id": "fGEDamwPpOq1"
      },
      "source": [
        ""
      ]
    },
    {
      "cell_type": "markdown",
      "metadata": {
        "id": "Z0d_DHMspOoq"
      },
      "source": [
        "Por último, puedes crear una tupla a partir de una lista usando el método `tuple`:"
      ]
    },
    {
      "cell_type": "code",
      "metadata": {
        "id": "1eV_iOn5pmFC",
        "outputId": "59622762-b37e-424d-f9c3-737c3e4c2310",
        "colab": {
          "base_uri": "https://localhost:8080/"
        }
      },
      "source": [
        "coches = ['ford', 'renault']\n",
        "\n",
        "# crear tupla:\n",
        "coches_tupla = tuple(coches)\n",
        "\n",
        "print(f'tipo de coches_tupla: {type(coches_tupla)}')"
      ],
      "execution_count": 30,
      "outputs": [
        {
          "output_type": "stream",
          "text": [
            "tipo de coches_tupla: <class 'tuple'>\n"
          ],
          "name": "stdout"
        }
      ]
    },
    {
      "cell_type": "markdown",
      "metadata": {
        "id": "ttUUa4FaNzF8"
      },
      "source": [
        "## Sets (conjuntos)\n",
        "\n",
        "Un conjunto es una colección desordenada de elementos. Cada elemento del conjunto es único (sin duplicados) y debe ser inmutable (no se puede cambiar).\n",
        "\n",
        "#### Objeto mutable\n",
        "Los objetos mutables son objetos cuyo valor se puede cambiar después de su creación. En Python, `list`, `set` y `dict` son mutables.\n",
        "\n",
        "#### Objeto inmutable\n",
        "Los objetos inmutables son objetos cuyo valor no se puede cambiar ni modificar después de su creación. En Python, `int`, `float`, `bool`, `string`, `Unicode`, `tuple` son objetos inmutables.\n",
        "\n",
        "![mutables](https://i.imgur.com/ysSz0Pr.png)\n",
        "\n",
        "Nota: Puedes aprender más sobre estas diferencias en este [interesante link](https://danyelvillalba7.medium.com/mutable-immutable-everything-is-object-21d598f0ac0d).\n",
        "\n",
        "Sin embargo, un conjunto en sí mismo es mutable. Podemos agregarle o quitarle elementos.\n",
        "\n",
        "Los conjuntos también se pueden utilizar para realizar operaciones de conjuntos matemáticos como unión, intersección, diferencia simétrica, etc.\n",
        "\n",
        "![conjuntos](https://i.imgur.com/RVnYghC.png)"
      ]
    },
    {
      "cell_type": "code",
      "metadata": {
        "id": "PVEeyXMzqP7d"
      },
      "source": [
        "my_set = {1.0, \"Hello\", (1, 2, 3)}"
      ],
      "execution_count": 31,
      "outputs": []
    },
    {
      "cell_type": "markdown",
      "metadata": {
        "id": "FU0nqi3f_nGp"
      },
      "source": [
        "Por supuesto, al ser un objeto mutable, puedes llevar a acabo muchas operaciones con el mismo:"
      ]
    },
    {
      "cell_type": "code",
      "metadata": {
        "id": "WG6J_tN2_loc",
        "outputId": "a5bed194-6697-4015-eda0-a1a11aa9cb3b",
        "colab": {
          "base_uri": "https://localhost:8080/"
        }
      },
      "source": [
        "# defino my_set\n",
        "my_set = {1, 3}\n",
        "print(my_set)\n",
        "\n",
        "# si descomentas la linea 9,\n",
        "# obtendrás el siguiente error:\n",
        "# TypeError: 'set' object does not support indexing\n",
        "# recuerda que los sets son desordenados y no soportan un índice\n",
        "\n",
        "# my_set[0] #esta es la linea 9 que si la descomentas te da error\n",
        "\n",
        "# añadir un elemento\n",
        "# Output: {1, 2, 3}\n",
        "my_set.add(2)\n",
        "print(my_set)\n",
        "\n",
        "# añadir múltiples elementos\n",
        "# Output: {1, 2, 3, 4}\n",
        "my_set.update([2, 3, 4])\n",
        "print(my_set) # solo se va a añadir el elemonto 4 pq los sets no pueden tener elementos repetidos\n",
        "\n",
        "# añadir una lista y otro conjunto:\n",
        "# Output: {1, 2, 3, 4, 5, 6, 8}\n",
        "my_set.update([4, 5], {1, 6, 8}) #solo se van a añadir los elementos 5, 6, 8 pq los sets no pueden tener elementos repetidos\n",
        "print(my_set)\n",
        "\n",
        "# eliminar un elemento\n",
        "# Output: {1, 2, 3, 4, 5, 8}\n",
        "my_set.remove(6)\n",
        "print(my_set)\n",
        "\n",
        "# eliminar un elemento al azar\n",
        "# Output: random element\n",
        "print(my_set.pop())\n",
        "print(my_set)"
      ],
      "execution_count": 34,
      "outputs": [
        {
          "output_type": "stream",
          "text": [
            "{1, 3}\n",
            "{1, 2, 3}\n",
            "{1, 2, 3, 4}\n",
            "{1, 2, 3, 4, 5, 6, 8}\n",
            "{1, 2, 3, 4, 5, 8}\n",
            "1\n",
            "{2, 3, 4, 5, 8}\n"
          ],
          "name": "stdout"
        }
      ]
    },
    {
      "cell_type": "markdown",
      "metadata": {
        "id": "IQM6AjCXAtHH"
      },
      "source": [
        "Con los conjuntos, podemos hacer operaciones de conjuntos, por ejemplo:\n",
        "\n",
        "#### Union:\n",
        "![union](https://i.imgur.com/HwnRGgz.png)\n"
      ]
    },
    {
      "cell_type": "code",
      "metadata": {
        "id": "sHVy4G6ZAzMF",
        "outputId": "369c38e8-2de6-4765-e2df-febdaccebd8a",
        "colab": {
          "base_uri": "https://localhost:8080/"
        }
      },
      "source": [
        "# Inicializar A y B\n",
        "A = {1, 2, 3, 4, 5}\n",
        "B = {4, 5, 6, 7, 8}\n",
        "\n",
        "# usa el operador: |\n",
        "# Output: {1, 2, 3, 4, 5, 6, 7, 8}\n",
        "print(A | B)"
      ],
      "execution_count": 35,
      "outputs": [
        {
          "output_type": "stream",
          "text": [
            "{1, 2, 3, 4, 5, 6, 7, 8}\n"
          ],
          "name": "stdout"
        }
      ]
    },
    {
      "cell_type": "markdown",
      "metadata": {
        "id": "lwXv_4d7BEY0"
      },
      "source": [
        "#### Intersección:\n",
        "![interseccion](https://i.imgur.com/b4WASyF.png)"
      ]
    },
    {
      "cell_type": "code",
      "metadata": {
        "id": "qh-YhPFvBKv7",
        "outputId": "e4c82684-99ba-4046-d1a3-04008c0f214f",
        "colab": {
          "base_uri": "https://localhost:8080/"
        }
      },
      "source": [
        "# Inicializar A y B\n",
        "A = {1, 2, 3, 4, 5}\n",
        "B = {4, 5, 6, 7, 8}\n",
        "\n",
        "# usa el operador: &\n",
        "# Output: {4, 5}\n",
        "print(A & B)"
      ],
      "execution_count": 36,
      "outputs": [
        {
          "output_type": "stream",
          "text": [
            "{4, 5}\n"
          ],
          "name": "stdout"
        }
      ]
    },
    {
      "cell_type": "markdown",
      "metadata": {
        "id": "p9KLGStFBee9"
      },
      "source": [
        "#### Differencia sobre A:\n",
        "![differencia_A](https://i.imgur.com/E4LuU9H.png)"
      ]
    },
    {
      "cell_type": "code",
      "metadata": {
        "id": "TQlZKDwbBe3U",
        "outputId": "20f3b35b-df87-470c-c14d-3ad74dad1f7c",
        "colab": {
          "base_uri": "https://localhost:8080/"
        }
      },
      "source": [
        "# Inicializar A y B\n",
        "A = {1, 2, 3, 4, 5}\n",
        "B = {4, 5, 6, 7, 8}\n",
        "\n",
        "# usa el operador A -\n",
        "# alternativamente, puedes usar también: A.difference(B)\n",
        "# Output: {1, 2, 3}\n",
        "print(A - B)\n",
        "print(A.difference(B))"
      ],
      "execution_count": 37,
      "outputs": [
        {
          "output_type": "stream",
          "text": [
            "{1, 2, 3}\n",
            "{1, 2, 3}\n"
          ],
          "name": "stdout"
        }
      ]
    },
    {
      "cell_type": "markdown",
      "metadata": {
        "id": "Dd0INUSJBxJ7"
      },
      "source": [
        "Nota: la misma diferencia, la podemos calcular sobre B también."
      ]
    },
    {
      "cell_type": "code",
      "metadata": {
        "id": "I5Rz5a6HHF7u",
        "outputId": "7fef7430-4ddb-4566-c5ce-3971dd240b13",
        "colab": {
          "base_uri": "https://localhost:8080/"
        }
      },
      "source": [
        "print(B - A)\n",
        "print(B.difference(A))"
      ],
      "execution_count": 38,
      "outputs": [
        {
          "output_type": "stream",
          "text": [
            "{8, 6, 7}\n",
            "{8, 6, 7}\n"
          ],
          "name": "stdout"
        }
      ]
    },
    {
      "cell_type": "markdown",
      "metadata": {
        "id": "9UOW6KghCD3e"
      },
      "source": [
        "#### Diferencia simétrica:\n",
        "![dif_sim](https://i.imgur.com/ODGXb9Q.png)"
      ]
    },
    {
      "cell_type": "code",
      "metadata": {
        "id": "7QKDZy-zCJUl",
        "outputId": "0913a622-c349-4753-d126-6537508be8af",
        "colab": {
          "base_uri": "https://localhost:8080/"
        }
      },
      "source": [
        "#la diferencia simetrica te da aquellos elementos q o solo estan en A o solo estan en B\n",
        "\n",
        "# Inicializar A y B\n",
        "A = {1, 2, 3, 4, 5}\n",
        "B = {4, 5, 6, 7, 8}\n",
        "\n",
        "# usa el operador ^\n",
        "# Output: {1, 2, 3, 6, 7, 8}\n",
        "print(A ^ B)"
      ],
      "execution_count": 40,
      "outputs": [
        {
          "output_type": "stream",
          "text": [
            "{1, 2, 3, 6, 7, 8}\n"
          ],
          "name": "stdout"
        }
      ]
    },
    {
      "cell_type": "markdown",
      "metadata": {
        "id": "1p3XXrJkCZ_C"
      },
      "source": [
        "Por último, usando la función `set()` puedes construir conjuntos a partir de listas o textos, por ejemplo:\n"
      ]
    },
    {
      "cell_type": "code",
      "metadata": {
        "id": "mhFqLVXdCiuN",
        "outputId": "e4c89441-4ba0-4a3a-c216-d16382843ec6",
        "colab": {
          "base_uri": "https://localhost:8080/"
        }
      },
      "source": [
        "# defino una lista y un string:\n",
        "coches = ['mercedes', 'ford', 'mercedes']\n",
        "desierto = 'sahara'\n",
        "\n",
        "print(f\"Crear un conjunto a partir de una lista: {set(coches)}\")\n",
        "print(f\"Crear un conjunto a partir de un texto: {set(desierto)}\")"
      ],
      "execution_count": 41,
      "outputs": [
        {
          "output_type": "stream",
          "text": [
            "Crear un conjunto a partir de una lista: {'mercedes', 'ford'}\n",
            "Crear un conjunto a partir de un texto: {'h', 's', 'a', 'r'}\n"
          ],
          "name": "stdout"
        }
      ]
    },
    {
      "cell_type": "markdown",
      "metadata": {
        "id": "DN-rVge-C60N"
      },
      "source": [
        "¿Te has dado cuenta de algo importante? **Los conjuntos nunca tienen objetos repetidos!**"
      ]
    },
    {
      "cell_type": "markdown",
      "metadata": {
        "id": "2ofzqsOJxK6I"
      },
      "source": [
        "Venga, ahora te toca practicar. \n",
        "\n",
        "¿podrías crear un par de conjuntos a partir del:\n",
        "\n",
        " * string `'djaldedeifo'` \n",
        " * y de la lista `['f', 'r', 'e', 'o', 'p', 'g', 'j', 'r', '0', 'i', 'q']`?\n",
        "\n",
        "A partir del string, crea un conjunto que se llame `A`.\n",
        "A partir de la lista, crea un conjunto que se llame `B`\n",
        "\n",
        "y puedes imprimir los elementos que están en `A` pero que NO están en `B`?"
      ]
    },
    {
      "cell_type": "code",
      "metadata": {
        "id": "XtZ-RpxyxK6J",
        "outputId": "dedb2b2b-14ac-4019-9999-783f6147e0c5",
        "colab": {
          "base_uri": "https://localhost:8080/"
        }
      },
      "source": [
        "# TODO: introduce tu código a continuación:\n",
        "A = set('djaldedeifo')\n",
        "B = set(['f', 'r', 'e', 'o', 'p', 'g', 'j', 'r', '0', 'i', 'q'])\n",
        "\n",
        "# imprime los valores que están en A y no en B:\n",
        "print(A-B)\n",
        "\n",
        "# crea una variable C que sea el conjunto de valores que están en A y no en B:\n",
        "C = A.difference(B)\n",
        "\n",
        "# este código que incluyo a continuación es para verifica que lo has hecho bien:\n",
        "# si al ejecutar esta celda sale algún error, entonces es que lo has hecho mal\n",
        "assert A == {'d', 'a', 'j', 'o', 'l', 'f', 'i', 'e'}\n",
        "assert B == {'r', 'p', 'j', 'o', 'f', '0', 'i', 'g', 'q', 'e'}\n",
        "assert C == {'d', 'l', 'a'}"
      ],
      "execution_count": 42,
      "outputs": [
        {
          "output_type": "stream",
          "text": [
            "{'d', 'a', 'l'}\n"
          ],
          "name": "stdout"
        }
      ]
    },
    {
      "cell_type": "code",
      "metadata": {
        "id": "QWb-XoD8ICe_"
      },
      "source": [
        ""
      ],
      "execution_count": null,
      "outputs": []
    }
  ]
}