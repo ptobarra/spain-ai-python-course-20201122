{
  "nbformat": 4,
  "nbformat_minor": 0,
  "metadata": {
    "colab": {
      "name": "Ejercicios Bloque V.ipynb",
      "provenance": [],
      "collapsed_sections": []
    },
    "kernelspec": {
      "name": "python3",
      "display_name": "Python 3"
    }
  },
  "cells": [
    {
      "cell_type": "markdown",
      "metadata": {
        "id": "JclU3uF8YoRV"
      },
      "source": [
        "# Ejercicio de bloque\n",
        "\n",
        "## Datos de Lluvia\n",
        "\n",
        "### Ejercicio 1\n",
        "\n",
        "Descarga los datos de lluvia (lloverá, o no lloverá) en la ciudad de Vigo, durante los próximos 15 días, para lo que se usará un scraper sobre la web https://weather.com/es-ES/tiempo/10dias/l/00ccd4421ffb1e3dc4099c5ca8e692f62fc49bac107a6eec4f1cefc008ac50d8\n",
        "\n",
        "\n"
      ]
    },
    {
      "cell_type": "code",
      "metadata": {
        "id": "DvceX42IChNg"
      },
      "source": [
        "import requests\n",
        "from bs4 import BeautifulSoup\n",
        "url = 'https://weather.com/es-ES/tiempo/10dias/l/00ccd4421ffb1e3dc4099c5ca8e692f62fc49bac107a6eec4f1cefc008ac50d8'\n",
        "\n",
        "# Tenemos que obtener la página con requests\n",
        "\n",
        "# Imprimimos el código HTTP de request para ver si obtuve la página\n",
        "# El código obtenido debe ser 200\n",
        "\n",
        "\n",
        "# Usamos beautifulsoup para procesar la información obtenida de requests\n",
        "\n",
        "# Obtengo los días\n",
        "# Posible solución: obtener elementos de tipo \"div\" con clase \"_2ARnx\"\n",
        "\n",
        "# Bucle \"for\" para ir procesando cada uno de los días obtenidos\n",
        "\n",
        "\n",
        "# Para cada día, identificar si llueve o no llueve\n",
        "# Posible solución en 3 pasos: \n",
        "#   a) obtener el texto usando \"getText()\" sobre cada elemento\n",
        "#   b) Eliminar el último caracter (el signo de \"%\") de la cadena de texto obtenida \n",
        "#   c) Ver si el número que queda es mayor que cero (lo que indica que lloverá), y en caso de lluvia imprimir el resultado.\n",
        "\n",
        "\n",
        "\n"
      ],
      "execution_count": null,
      "outputs": []
    },
    {
      "cell_type": "markdown",
      "metadata": {
        "id": "Ne1KZeZuFGDL"
      },
      "source": [
        "## Ejercicio 2\n",
        "\n",
        "Vete a la web https://www.eltiempo.es/\n",
        "\n",
        "Usando selenium, rellena la caja de búsqueda para coger el listado de ciudades que sale al hacer la búsqueda con la cadena de texto \"vigo\"\n"
      ]
    },
    {
      "cell_type": "code",
      "metadata": {
        "id": "rKArycdgFSRa"
      },
      "source": [
        "from selenium import webdriver\n",
        "from selenium.webdriver.common.keys import Keys\n",
        "\n",
        "# Para poder esperar cuando crea conveniente\n",
        "import time\n",
        "\n",
        "URL = \"https://www.eltiempo.es\"\n",
        "\n",
        "# Carga el driver correspondiente (Chrome, Firefox,...)\n",
        "\n",
        "# El método “driver.get” navega a la página indicada\n",
        "\n",
        "# Simulo una espera de 3 segundos\n",
        "\n",
        "# Elegimos el botón de \"ACEPTAR\" la información de cookies\n",
        "\n",
        "# Enviamos la tecla, como su pulsásemos \"Return\"\n",
        "\n",
        "# Obtén la caja de búsqueda\n",
        "\n",
        "# Borra el texto de la caja de búsqueda\n",
        "\n",
        "# Introducimos texto como si lo hiciésemos con el teclado\n",
        "\n",
        "# “Pulsamos” enter\n",
        "\n",
        "# Usamos el método \"close\" para cerrar la página actual"
      ],
      "execution_count": null,
      "outputs": []
    },
    {
      "cell_type": "markdown",
      "metadata": {
        "id": "yaBu7iv8Ef7B"
      },
      "source": [
        "### Ejercicio 3\n",
        "Usando la página web https://www.eltiempo.es/vigo.html?q=vigo\n",
        "\n",
        "Obtén la información de lluvia para Vigo"
      ]
    },
    {
      "cell_type": "code",
      "metadata": {
        "id": "m_CqYjIuExWz"
      },
      "source": [
        "import requests\n",
        "from bs4 import BeautifulSoup\n",
        "url = 'https://www.eltiempo.es/vigo.html?q=vigo'\n",
        "\n",
        "# Tenemos que obtener la página con requests\n",
        "\n",
        "# Imprimimos el código HTTP de request para ver si obtuve la página\n",
        "# El código obtenido debe ser 200\n",
        "\n",
        "\n",
        "# Usamos beautifulsoup para procesar la información obtenida de requests\n",
        "\n",
        "# Obtengo los días\n",
        "\n",
        "# Bucle \"for\" para ir procesando cada uno de los días obtenidos\n",
        "\n",
        "\n",
        "# Para cada día, identificar si llueve o no llueve"
      ],
      "execution_count": null,
      "outputs": []
    }
  ]
}