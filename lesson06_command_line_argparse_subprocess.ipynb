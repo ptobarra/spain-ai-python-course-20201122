{
  "nbformat": 4,
  "nbformat_minor": 0,
  "metadata": {
    "colab": {
      "name": "lesson06_command_line_argparse_subprocess.ipynb",
      "provenance": [],
      "collapsed_sections": [],
      "toc_visible": true,
      "include_colab_link": true
    },
    "kernelspec": {
      "name": "python3",
      "display_name": "Python 3"
    }
  },
  "cells": [
    {
      "cell_type": "markdown",
      "metadata": {
        "id": "view-in-github",
        "colab_type": "text"
      },
      "source": [
        "<a href=\"https://colab.research.google.com/github/ptobarra/spain-ai-python-course-20201122/blob/main/lesson06_command_line_argparse_subprocess.ipynb\" target=\"_parent\"><img src=\"https://colab.research.google.com/assets/colab-badge.svg\" alt=\"Open In Colab\"/></a>"
      ]
    },
    {
      "cell_type": "markdown",
      "metadata": {
        "id": "QE8KyEr4oUg-"
      },
      "source": [
        "# Introducción\n",
        "\n",
        "En este notebooks trabajaremos la ejecución de scripts de Python desde la linea de comandos.\n",
        "\n",
        "Para ello, primero haremos una pequeña introducción a la ventana de comandos en Linux que es una de las herramientas con las que vamos a trabajar en esta sección. A posteriori, se mostrarán los comandos más importantes para introducir argumentos dentro de nuestro script. Mostraremos las siguientes cauísticas:\n",
        "- Pasar argumentos a un script de Python\n",
        "- Realizar acciones (conteos,sumas,...) sobre los argumentos\n",
        "- Pasar argumentos excluyentes\n",
        "\n",
        "A posteriori, trabajaremos la librería subprocess, que nos permitirá ejecutar desde el propio python comandos de la Terminal y trabajar con su output.\n",
        "\n",
        "## Ventana de comandos\n",
        "\n",
        "La ventana de comandos (llamada también Terminal) es una herramienta que permite navegar, acceder, ejecutar scripts e interacturar de otras maneras con el ordenador, sin necesidad de utilizar una interfaz gráfica.\n",
        "\n",
        "La Terminal permite realizar acciones complejas y ejecuciones de comandos que desde las aplicaciones no siempre es posible. \n",
        "\n",
        "Un ejemplo puede ser la búsqueda de ficheros dentro de una estructura de carpetas que siguen un determinado patrón, como puede ser que finalicen con los números 2-3 en su nombre (ese comando desde la terminal sería el siguiente: ``` find * -name '*.[2-3]'```).\n",
        "\n",
        "Las ventanas de comandos de entornos Linux y Windows contienen comandos diferentes. Nos encontraremos entornos Linux en sistemas operativos como Ubuntu y generalmente los veremos cuando trabajemos con máquinas virtuales en entornos cloud. Cuando trabajamos en windos, los comandos tienen unas ligeras diferencias, aunque actualmente Windows ya cuenta con un subsistema integrado que permite usar una Terminal similar a la de Linux.\n",
        "\n",
        "En nuestro caso, nos centraremos en los comandos básicos de esta herramienta que nos permitan movernos a nuestra carpeta de trabajo y ejecutar scripts de python con argumentos.\n",
        "\n",
        "\n",
        "\n",
        "### Linux\n",
        "La mayoría de comandos que podemos ejecutar, se pueden ejecutar con diferentes argumentos. \n",
        "\n",
        "\n",
        "```\n",
        "- ls <path>: listar los ficheros y directorios dentro de una carpeta (list) no ocultos (comienzan por .<nombre-fichero>). Se suele utilizar ls <path>/* para mostrar todos los ficheros del directorio\n",
        "- cd <path>: permite cambiar de directorio (change directory).\n",
        "- pwd: Mostrar la ruta del directorio actual donde nos encontramos (print working directory).\n",
        "- mkdir <path>: Crear una carpeta (make directory).\n",
        "- rm <path>: Eliminar un fichero (remove). Si se introduce el flag -r (de recursive), permite eliminar un directorio.\n",
        "- echo \"text\": Print de un texto\n",
        "- # <texto libre>: la almohadilla permite tener una línea de comentarios.\n",
        "- sudo <command>:  Ejecución de un comando como administrador.\n",
        "- cat <file>: leer un fichero de lectura.\n",
        "```\n"
      ]
    },
    {
      "cell_type": "markdown",
      "metadata": {
        "id": "05zyrnIhIT50"
      },
      "source": [
        "### Ejecución de comandos Linux y creación de ficheros dentro de notebooks\n",
        "Podemos ejecutar comandos de Linux dentro de un notebook, dentro de una celda tipo código poniendo al inicio de todo el comando mágico:\n",
        "```%%sh```. Lo veremos a continuación.\n",
        "\n",
        "Por otro lado, con el comando mágico `%%writefile <file>` al inicio del notebook, podemos crear un fichero que se guardará con el nombre file. \n",
        "\n",
        "Durante todo el ejercicio trabajaremos con estos dos comandos."
      ]
    },
    {
      "cell_type": "markdown",
      "metadata": {
        "id": "hkQBSp_QHuOb"
      },
      "source": [
        "*** Ejemplos prácticos con linux ***\n",
        "En este caso, este Notebook que estamos trabajando corre sobre un sistema operativo Ubuntu. Eso lo podemos ver con el siguiente comando:"
      ]
    },
    {
      "cell_type": "code",
      "metadata": {
        "id": "yUnHlpToHWR4",
        "colab": {
          "base_uri": "https://localhost:8080/"
        },
        "outputId": "5047f2d2-82c8-4ca0-907b-00663f54f81b"
      },
      "source": [
        "%%sh\n",
        " cat /etc/os-release"
      ],
      "execution_count": 58,
      "outputs": [
        {
          "output_type": "stream",
          "text": [
            "NAME=\"Ubuntu\"\n",
            "VERSION=\"18.04.5 LTS (Bionic Beaver)\"\n",
            "ID=ubuntu\n",
            "ID_LIKE=debian\n",
            "PRETTY_NAME=\"Ubuntu 18.04.5 LTS\"\n",
            "VERSION_ID=\"18.04\"\n",
            "HOME_URL=\"https://www.ubuntu.com/\"\n",
            "SUPPORT_URL=\"https://help.ubuntu.com/\"\n",
            "BUG_REPORT_URL=\"https://bugs.launchpad.net/ubuntu/\"\n",
            "PRIVACY_POLICY_URL=\"https://www.ubuntu.com/legal/terms-and-policies/privacy-policy\"\n",
            "VERSION_CODENAME=bionic\n",
            "UBUNTU_CODENAME=bionic\n"
          ],
          "name": "stdout"
        }
      ]
    },
    {
      "cell_type": "code",
      "metadata": {
        "id": "ea2KSaidI9Xw",
        "colab": {
          "base_uri": "https://localhost:8080/"
        },
        "outputId": "ff4d3722-2025-499f-9f97-b673c1d07b50"
      },
      "source": [
        " %%sh\n",
        "## mostramos primero el directorio sobre el que estamos trabajando con pwd\n",
        "echo \"\\n Print working directory...\"\n",
        "pwd \n",
        "\n",
        "## mostramos los ficheros que existen dentro de este directorio\n",
        "echo \"\\nlist files...\"\n",
        "ls \n",
        "\n",
        "## mostramos los ficheros que existen dentro del directorio content\n",
        "echo \"\\nlist files content...\"\n",
        "ls /content/*\n",
        "\n"
      ],
      "execution_count": 59,
      "outputs": [
        {
          "output_type": "stream",
          "text": [
            "\n",
            " Print working directory...\n",
            "/content\n",
            "\n",
            "list files...\n",
            "sample_data\n",
            "script_examples\n",
            "\n",
            "list files content...\n",
            "/content/sample_data:\n",
            "anscombe.json\n",
            "california_housing_test.csv\n",
            "california_housing_train.csv\n",
            "mnist_test.csv\n",
            "mnist_train_small.csv\n",
            "README.md\n",
            "\n",
            "/content/script_examples:\n",
            "1_arg_parse_empty.py\n",
            "2_arg_parse_initialization_help.py\n",
            "2_arg_parse_initialization.py\n",
            "3_arg_parse_trainpath_arg.py\n"
          ],
          "name": "stdout"
        }
      ]
    },
    {
      "cell_type": "code",
      "metadata": {
        "id": "sYCtgjv4K16e",
        "colab": {
          "base_uri": "https://localhost:8080/"
        },
        "outputId": "a71d87f6-e025-4d34-a5e7-022337949dc1"
      },
      "source": [
        "%%sh\n",
        "## creamos una carpeta llamada modelos\n",
        "echo \"\\n mkdir models...\"\n",
        "mkdir -p models # -p fuerza a sobrescribir la carpeta si existe actualmente\n",
        "\n",
        "#refresca las carpetas y mira si se ha creado models.\n"
      ],
      "execution_count": 60,
      "outputs": [
        {
          "output_type": "stream",
          "text": [
            "\n",
            " mkdir models...\n"
          ],
          "name": "stdout"
        }
      ]
    },
    {
      "cell_type": "code",
      "metadata": {
        "id": "IfFvTLyjevay",
        "colab": {
          "base_uri": "https://localhost:8080/"
        },
        "outputId": "ff6c6882-71bd-49eb-c406-7c69f6a9e52a"
      },
      "source": [
        "%%sh\r\n",
        "# descomenta los siguientes comandos para eliminar la carpeta\r\n",
        "\r\n",
        "echo \"\\n remove models directory...\"\r\n",
        "rm -r models # r significa recursive y es para eliminar la carpeta entera"
      ],
      "execution_count": 61,
      "outputs": [
        {
          "output_type": "stream",
          "text": [
            "\n",
            " remove models directory...\n"
          ],
          "name": "stdout"
        }
      ]
    },
    {
      "cell_type": "markdown",
      "metadata": {
        "id": "8qiEm5akHVBO"
      },
      "source": [
        "\n",
        "#### Ejecución de scripts de python desde la ventana de comandos\n",
        "Los scripts de python son generalmente guardados con la extensión .py.\n",
        "\n",
        "\n",
        "Para la ejecución de scripts de Python dentro de la ventana de comandos, podemos hacerlo de dos maneras:\n",
        "- ejecutando `python script.py`\n",
        "- Introduciendo en la primera línea del script `#!/usr/bin/env python` y haciendo el script un ejecutable (chmod +x script.py). Esto nos permite ejecutar el script de python simplemente haciendo `./script.py`. La primera línea define donde está el ejecutable de python, de manera que si utilizaremos otro ejecutable de python (por ejemplo por diferente versión, que fuese con anaconda o con la librería del sistema), podríamos cambiar el comando y poner la ruta del ejecutable (p.e. `#!/usr/bin/python`)\n",
        "\n",
        "\n",
        "\n",
        "\n",
        "\n",
        "\n"
      ]
    },
    {
      "cell_type": "code",
      "metadata": {
        "id": "PRq8vYEKOqpP",
        "colab": {
          "base_uri": "https://localhost:8080/"
        },
        "outputId": "aa09035b-c8db-49f4-919f-8d61d2952c69"
      },
      "source": [
        "%%writefile example.py\n",
        "#!/usr/bin/env python\n",
        "print(\"Hello, World!\")"
      ],
      "execution_count": 62,
      "outputs": [
        {
          "output_type": "stream",
          "text": [
            "Writing example.py\n"
          ],
          "name": "stdout"
        }
      ]
    },
    {
      "cell_type": "code",
      "metadata": {
        "id": "eNth6RUdPk-J",
        "colab": {
          "base_uri": "https://localhost:8080/"
        },
        "outputId": "bd6ebc40-0f38-40ed-836f-696f2f0dc7b3"
      },
      "source": [
        "%%sh\n",
        "## ejecución poniendo python antes del nombre del script\n",
        "echo \"example con python\\n\"\n",
        "\n",
        "python example.py\n",
        "\n",
        "#Probemos con ./example.py\n",
        "echo \"example sin ser un ejecutable\\n\"\n",
        "./example.py\n",
        "\n"
      ],
      "execution_count": 63,
      "outputs": [
        {
          "output_type": "stream",
          "text": [
            "example con python\n",
            "\n",
            "Hello, World!\n",
            "example sin ser un ejecutable\n",
            "\n"
          ],
          "name": "stdout"
        },
        {
          "output_type": "stream",
          "text": [
            "sh: 8: ./example.py: Permission denied\n"
          ],
          "name": "stderr"
        }
      ]
    },
    {
      "cell_type": "code",
      "metadata": {
        "id": "Zz5mEb4GQ7vq",
        "colab": {
          "base_uri": "https://localhost:8080/"
        },
        "outputId": "e8bb2a18-686d-4257-854d-006abbff0fdd"
      },
      "source": [
        "%%sh\n",
        "## ejecución, haciendolo un fichero ejecutable (Ojo! tiene que contener #!/usr/bin/env python en la primera línea)\n",
        "echo \"example como ejecutable\\n\"\n",
        "chmod +x example.py\n"
      ],
      "execution_count": 64,
      "outputs": [
        {
          "output_type": "stream",
          "text": [
            "example como ejecutable\n",
            "\n"
          ],
          "name": "stdout"
        }
      ]
    },
    {
      "cell_type": "code",
      "metadata": {
        "id": "jBv5XOjyQ9T7",
        "colab": {
          "base_uri": "https://localhost:8080/"
        },
        "outputId": "186da01e-f69b-4ec3-a4f1-4fa335a1b1f9"
      },
      "source": [
        "%%sh\n",
        "./example.py\n"
      ],
      "execution_count": 65,
      "outputs": [
        {
          "output_type": "stream",
          "text": [
            "Hello, World!\n"
          ],
          "name": "stdout"
        }
      ]
    },
    {
      "cell_type": "code",
      "metadata": {
        "id": "3dZVSWn6Q-SU"
      },
      "source": [
        "%%sh\n",
        "## eliminamos el script\n",
        "rm example.py"
      ],
      "execution_count": 66,
      "outputs": []
    },
    {
      "cell_type": "markdown",
      "metadata": {
        "id": "lA092TcvLX-t"
      },
      "source": [
        "Conocer estas herramientas es muy importante para el trabajo del día a día de un desarrollador en Python, si queréis seguir aprendiendo Shell Scripting recomiendo:\n",
        "- https://www.learnshell.org/\n",
        "\n",
        "### Windows\n",
        "La ventana de comandos **cmd** de Windows no es igual que la de sistemas operativos sobre Linux,  actualmente Windows ya cuenta con un subsistema integrado que permite usar una Terminal similar a la de Linux.\n",
        "- Si queréis instalar esto: https://docs.microsoft.com/es-es/windows/wsl/install-win10\n",
        "- Por otro lado, si preferís usar la ventana de comandos, os mostramos los principales comandos: http://www.dba-oracle.com/t_windows_dos_unix_linux_commands.htm\n",
        "#### Diferente nombrado de ficheros en Windows\n",
        "\n",
        "Algo a tener en cuenta importante es que en Windows separa rutas de ficheros por backslash `\\` mientras que en Linux es con slash `/`, así, para acceder a una ruta es:\n",
        "- Windows: \"G:\\Engineering\\Software_Development\\python\\Tool\"\n",
        "- Ubuntu: \"/Engineering/Software_Development/python/Tool\"\n"
      ]
    },
    {
      "cell_type": "code",
      "metadata": {
        "id": "8kmQS3O7LalG"
      },
      "source": [
        ""
      ],
      "execution_count": 66,
      "outputs": []
    },
    {
      "cell_type": "markdown",
      "metadata": {
        "id": "0AUwXPSe4mq7"
      },
      "source": [
        "## Preparación del entorno\n",
        "A continuación preparamos el entorno para la sesión de hoy:\n",
        "1. Creamos la carpeta script_examples donde guardaremos los ejercicios realizados durante esta sesión.\n",
        "2. Verificamos que tenemos la carpeta sample_data con el fichero california_housing_train.csv\n"
      ]
    },
    {
      "cell_type": "code",
      "metadata": {
        "id": "f9Rgu0nloZMd"
      },
      "source": [
        "%%sh\n",
        "mkdir -p script_examples\n"
      ],
      "execution_count": 67,
      "outputs": []
    },
    {
      "cell_type": "code",
      "metadata": {
        "id": "v9a5u_6tdRAc",
        "colab": {
          "base_uri": "https://localhost:8080/"
        },
        "outputId": "f8b036d2-4b04-4c2a-d405-20d496354451"
      },
      "source": [
        "import os\n",
        "import subprocess\n",
        "path = \"sample_data/california_housing_train.csv\"\n",
        "url = \"https://dl.google.com/mlcc/mledu-datasets/california_housing_train.csv\"\n",
        "# veo si extiste la ruta path\n",
        "if os.path.exists(path):\n",
        "  print(f\"El fichero {path} existe\")\n",
        "else:\n",
        "  print(f\"El fichero {path} no existe\")\n",
        "  # si tampoco existe el directorio sample_data lo creas\n",
        "  if not os.path.exists(\"sample_data\"): os.mkdir(\"sample_data\")\n",
        "  args = ['wget', url,\"-O\",path]\n",
        "  # voy a usar el subprocess para ejecutar el comando ['wget', url,\"-O\",path]\n",
        "  output = subprocess.Popen(args, stdout=subprocess.PIPE)\n"
      ],
      "execution_count": 68,
      "outputs": [
        {
          "output_type": "stream",
          "text": [
            "El fichero sample_data/california_housing_train.csv existe\n"
          ],
          "name": "stdout"
        }
      ]
    },
    {
      "cell_type": "code",
      "metadata": {
        "id": "75Sh8z6NyVzh",
        "colab": {
          "base_uri": "https://localhost:8080/"
        },
        "outputId": "903144cb-9dfa-4017-a134-d0227844ce4e"
      },
      "source": [
        "%%sh\n",
        "wget"
      ],
      "execution_count": 69,
      "outputs": [
        {
          "output_type": "stream",
          "text": [
            "wget: missing URL\n",
            "Usage: wget [OPTION]... [URL]...\n",
            "\n",
            "Try `wget --help' for more options.\n"
          ],
          "name": "stderr"
        }
      ]
    },
    {
      "cell_type": "code",
      "metadata": {
        "colab": {
          "base_uri": "https://localhost:8080/"
        },
        "id": "H6tw3ZuyqdTf",
        "outputId": "64ab3d33-a8bf-4e24-c0e6-04b0f0c696d7"
      },
      "source": [
        "# si a wget le paso la url del fichero q quiero descargar y luego le paso el argumento '-O' y le meto la ruta sample_data/california_housing_train.csv\r\n",
        "\r\n",
        "%%sh\r\n",
        "wget \"https://dl.google.com/mlcc/mledu-datasets/california_housing_train.csv\" -O sample_data/california_housing_train.csv"
      ],
      "execution_count": 70,
      "outputs": [
        {
          "output_type": "stream",
          "text": [
            "--2020-12-12 15:43:51--  https://dl.google.com/mlcc/mledu-datasets/california_housing_train.csv\n",
            "Resolving dl.google.com (dl.google.com)... 173.194.214.136, 173.194.214.93, 173.194.214.91, ...\n",
            "Connecting to dl.google.com (dl.google.com)|173.194.214.136|:443... connected.\n",
            "HTTP request sent, awaiting response... 200 OK\n",
            "Length: 1706430 (1.6M) [text/csv]\n",
            "Saving to: ‘sample_data/california_housing_train.csv’\n",
            "\n",
            "     0K .......... .......... .......... .......... ..........  3% 44.5M 0s\n",
            "    50K .......... .......... .......... .......... ..........  6% 44.1M 0s\n",
            "   100K .......... .......... .......... .......... ..........  9% 50.3M 0s\n",
            "   150K .......... .......... .......... .......... .......... 12% 40.6M 0s\n",
            "   200K .......... .......... .......... .......... .......... 15% 39.3M 0s\n",
            "   250K .......... .......... .......... .......... .......... 18% 47.3M 0s\n",
            "   300K .......... .......... .......... .......... .......... 21% 56.1M 0s\n",
            "   350K .......... .......... .......... .......... .......... 24% 59.6M 0s\n",
            "   400K .......... .......... .......... .......... .......... 27% 55.7M 0s\n",
            "   450K .......... .......... .......... .......... .......... 30% 53.8M 0s\n",
            "   500K .......... .......... .......... .......... .......... 33% 54.5M 0s\n",
            "   550K .......... .......... .......... .......... .......... 36% 50.9M 0s\n",
            "   600K .......... .......... .......... .......... .......... 39% 79.9M 0s\n",
            "   650K .......... .......... .......... .......... .......... 42% 71.9M 0s\n",
            "   700K .......... .......... .......... .......... .......... 45% 77.1M 0s\n",
            "   750K .......... .......... .......... .......... .......... 48% 77.6M 0s\n",
            "   800K .......... .......... .......... .......... .......... 51% 76.6M 0s\n",
            "   850K .......... .......... .......... .......... .......... 54% 76.5M 0s\n",
            "   900K .......... .......... .......... .......... .......... 57% 72.3M 0s\n",
            "   950K .......... .......... .......... .......... .......... 60% 78.6M 0s\n",
            "  1000K .......... .......... .......... .......... .......... 63%  115M 0s\n",
            "  1050K .......... .......... .......... .......... .......... 66%  250M 0s\n",
            "  1100K .......... .......... .......... .......... .......... 69%  239M 0s\n",
            "  1150K .......... .......... .......... .......... .......... 72%  248M 0s\n",
            "  1200K .......... .......... .......... .......... .......... 75%  177M 0s\n",
            "  1250K .......... .......... .......... .......... .......... 78%  375M 0s\n",
            "  1300K .......... .......... .......... .......... .......... 81%  429M 0s\n",
            "  1350K .......... .......... .......... .......... .......... 84%  412M 0s\n",
            "  1400K .......... .......... .......... .......... .......... 87%  308M 0s\n",
            "  1450K .......... .......... .......... .......... .......... 90%  410M 0s\n",
            "  1500K .......... .......... .......... .......... .......... 93%  429M 0s\n",
            "  1550K .......... .......... .......... .......... .......... 96%  445M 0s\n",
            "  1600K .......... .......... .......... .......... .......... 99%  340M 0s\n",
            "  1650K .......... ......                                     100%  398M=0.02s\n",
            "\n",
            "2020-12-12 15:43:51 (83.7 MB/s) - ‘sample_data/california_housing_train.csv’ saved [1706430/1706430]\n",
            "\n"
          ],
          "name": "stderr"
        }
      ]
    },
    {
      "cell_type": "code",
      "metadata": {
        "id": "6QtqLa5CrZjs"
      },
      "source": [
        "# el output que me da en la celda anterior es lo q se almacena en la variable 'output' de la celda 10 y podria trabajar con ello si me interesara.\r\n",
        "# no me interesa pq solo me indica el % de dasrcaga q lleva ese archivo\r\n",
        "\r\n",
        "# dos celdas anteriores he usado la libreria subprocess para hacer algo q yo podria hacer desde la terminal\r\n",
        "\r\n",
        "# por tanto en:\r\n",
        "  # args = ['wget', url,\"-O\",path]  \r\n",
        "  # output = subprocess.Popen(args, stdout=subprocess.PIPE)\r\n",
        "# he usado la libreria subprocess para hacer lo equivalente a la celda anterior sin necesidad de usar el terminal "
      ],
      "execution_count": 71,
      "outputs": []
    },
    {
      "cell_type": "markdown",
      "metadata": {
        "id": "TD3bMfVy8rxn"
      },
      "source": [
        "# Introducción a Argparse\n",
        "En esta introducción veremos varios ejemplos de como trabajar con argparse. Esta librería nos permite pasar argumentos a los scripts de python para ejecutarlos.\n",
        "\n",
        "- Pasar argumentos con valores por defecto\n",
        "- Realizar acciones sobre los argumentos\n",
        "- Pasar argumentos excluyentes\n",
        "\n"
      ]
    },
    {
      "cell_type": "markdown",
      "metadata": {
        "id": "g4qumDdgqycw"
      },
      "source": [
        "Para demostrar como trabaja Python con argparse, lo primero que vamos a hacer es crear un fichero que no use estos comandos y ver que sucede cuando lo llamamos desde la terminal introduciendole diferentes argumentos:"
      ]
    },
    {
      "cell_type": "code",
      "metadata": {
        "id": "8LcN6Fd6qoTx",
        "colab": {
          "base_uri": "https://localhost:8080/"
        },
        "outputId": "8395d490-4ca4-4dd1-b0b8-b53c52e84eee"
      },
      "source": [
        "%%writefile script_examples/1_arg_parse_empty.py\n",
        "#! /usr/bin/env python \n",
        "# Este script no contiene argparse\n",
        "print(\"Hello, World!\")"
      ],
      "execution_count": 72,
      "outputs": [
        {
          "output_type": "stream",
          "text": [
            "Overwriting script_examples/1_arg_parse_empty.py\n"
          ],
          "name": "stdout"
        }
      ]
    },
    {
      "cell_type": "code",
      "metadata": {
        "id": "r4rnzs9guwh1"
      },
      "source": [
        "# hacemos 1o un ej sin argsparse y luego otro ejemplo con argsparse"
      ],
      "execution_count": 73,
      "outputs": []
    },
    {
      "cell_type": "code",
      "metadata": {
        "id": "pgUqKAl8qtYH",
        "colab": {
          "base_uri": "https://localhost:8080/"
        },
        "outputId": "0de66100-97e3-4aec-c804-7b5bcbabebbd"
      },
      "source": [
        "%%sh\n",
        "python script_examples/1_arg_parse_empty.py --help"
      ],
      "execution_count": 74,
      "outputs": [
        {
          "output_type": "stream",
          "text": [
            "Hello, World!\n"
          ],
          "name": "stdout"
        }
      ]
    },
    {
      "cell_type": "markdown",
      "metadata": {
        "id": "p5YQO2Zdq7Ep"
      },
      "source": [
        "Vemos que no sucede absolutamente nada debido a que los argumentos que hemos pasado por la terminal, no son tratados interiormente en el script.\n"
      ]
    },
    {
      "cell_type": "code",
      "metadata": {
        "colab": {
          "base_uri": "https://localhost:8080/"
        },
        "id": "kSNxCL3Jvbnl",
        "outputId": "bd9b4ea0-b6f0-4aac-dbdc-02286f8d8d63"
      },
      "source": [
        "# incluso le puedo meter todos los argumentos q quiera\r\n",
        "%%sh\r\n",
        "python script_examples/1_arg_parse_empty.py --help --dghgfjkdsfhdaskj --fdhjfkdhsklj sdjksldña"
      ],
      "execution_count": 75,
      "outputs": [
        {
          "output_type": "stream",
          "text": [
            "Hello, World!\n"
          ],
          "name": "stdout"
        }
      ]
    },
    {
      "cell_type": "code",
      "metadata": {
        "id": "yYvQgnXNvuo7"
      },
      "source": [
        "# en celda anterior la info q yo meto en el script no esta siendo ni interpretada ni usada por el script"
      ],
      "execution_count": 76,
      "outputs": []
    },
    {
      "cell_type": "markdown",
      "metadata": {
        "id": "tIXyfshqrwTC"
      },
      "source": [
        "Sin embargo, ahora probamos a introducir dentro del script la librería argparse."
      ]
    },
    {
      "cell_type": "code",
      "metadata": {
        "id": "lKRuTVHTv3Cn"
      },
      "source": [
        "# ahora con 3 lineas la cosa cambia completamente"
      ],
      "execution_count": 77,
      "outputs": []
    },
    {
      "cell_type": "code",
      "metadata": {
        "id": "9kewpuvd_Ghm",
        "colab": {
          "base_uri": "https://localhost:8080/"
        },
        "outputId": "4ae49c79-e434-4b67-b639-19a4435a53e7"
      },
      "source": [
        "%%writefile script_examples/2_arg_parse_initialization.py\n",
        "#! /usr/bin/env python \n",
        "import argparse # importo la libreria\n",
        "parser = argparse.ArgumentParser() # creo el objeto parser a partir de ArgumentParser\n",
        "parser.parse_args() # ejecuto el metodo parse_args()\n",
        "print(\"Hello, World!\")"
      ],
      "execution_count": 78,
      "outputs": [
        {
          "output_type": "stream",
          "text": [
            "Overwriting script_examples/2_arg_parse_initialization.py\n"
          ],
          "name": "stdout"
        }
      ]
    },
    {
      "cell_type": "code",
      "metadata": {
        "colab": {
          "base_uri": "https://localhost:8080/"
        },
        "id": "z1C0IPNcwXqx",
        "outputId": "1ede7487-cbb9-441a-c556-7681cc6ca305"
      },
      "source": [
        "%%sh\r\n",
        "python script_examples/2_arg_parse_initialization.py --help"
      ],
      "execution_count": 79,
      "outputs": [
        {
          "output_type": "stream",
          "text": [
            "usage: 2_arg_parse_initialization.py [-h]\n",
            "\n",
            "optional arguments:\n",
            "  -h, --help  show this help message and exit\n"
          ],
          "name": "stdout"
        }
      ]
    },
    {
      "cell_type": "code",
      "metadata": {
        "id": "mR5BVrMdwg-_"
      },
      "source": [
        "# en respuesta celda anterior me da una info de ayuda para ejecutar el script desde la ventana de comandos\r\n",
        "# me da la info anterior pq por defecto argsparse contiene el argumento --help\r\n",
        "# ese argumento lo puedo convocar como --help o -h"
      ],
      "execution_count": 80,
      "outputs": []
    },
    {
      "cell_type": "code",
      "metadata": {
        "id": "PNkDyFQX_IBE",
        "colab": {
          "base_uri": "https://localhost:8080/"
        },
        "outputId": "75ceb415-c143-416d-8d50-806551b50dde"
      },
      "source": [
        "%%sh\n",
        "python script_examples/2_arg_parse_initialization.py -h"
      ],
      "execution_count": 81,
      "outputs": [
        {
          "output_type": "stream",
          "text": [
            "usage: 2_arg_parse_initialization.py [-h]\n",
            "\n",
            "optional arguments:\n",
            "  -h, --help  show this help message and exit\n"
          ],
          "name": "stdout"
        }
      ]
    },
    {
      "cell_type": "code",
      "metadata": {
        "colab": {
          "base_uri": "https://localhost:8080/"
        },
        "id": "xK25H_L6xL_N",
        "outputId": "386a2d40-c11f-4fb7-8486-45f1ceced3b4"
      },
      "source": [
        "%%sh\r\n",
        "python script_examples/2_arg_parse_initialization.py -dhfgdkjghdfkljsh"
      ],
      "execution_count": 82,
      "outputs": [
        {
          "output_type": "stream",
          "text": [
            "usage: 2_arg_parse_initialization.py [-h]\n",
            "2_arg_parse_initialization.py: error: unrecognized arguments: -dhfgdkjghdfkljsh\n"
          ],
          "name": "stderr"
        }
      ]
    },
    {
      "cell_type": "code",
      "metadata": {
        "id": "SKe0QCV5xQkC"
      },
      "source": [
        "# en celda anterior he invocado un argumento no definido dentro del scrip y entonces da error"
      ],
      "execution_count": 83,
      "outputs": []
    },
    {
      "cell_type": "markdown",
      "metadata": {
        "id": "iwoh_vGAAPXN"
      },
      "source": [
        "**¿Qué vemos aquí?**\n",
        "- Simplemente con introducir esta librería, inicializarla con el ArgumentParser y utizar el método parse_args, python ya interpreta que va a tener unos argumentos.\n",
        "- Al pasar --help nos devuelve el único argumento definido dentro de esta librería por defecto. \n",
        "- Esta opción help, nos muestra en los comandos que también puede ser ejecutada con el argumento -h. \n",
        "- Si introducimos otro argumento como -b, que no esté definido dentro del script, nos llevará igualmente a este output de ayuda.\n",
        "- Es importante ver que el interior del script no se ha ejecutado y no ha mostrado el texto Hello, World!"
      ]
    },
    {
      "cell_type": "markdown",
      "metadata": {
        "id": "A7GBzl_6A-Zg"
      },
      "source": [
        "**Ejercicio práctico**\n",
        "\n",
        "¿ Qué sucede si ejecutamos el script `script_examples/2_arg_parse_initialization.py` sin ningún argumento?\n",
        "1. Se ejecutará, mostrando Hello, Word y luego mostrará los argumentos opcionales.\n",
        "2. Ejecutará el script, mostrando Hello, World!.\n",
        "3. No se ejecutará y mostrará los argumentos opcionales."
      ]
    },
    {
      "cell_type": "code",
      "metadata": {
        "id": "--O9hzuJGK5z",
        "colab": {
          "base_uri": "https://localhost:8080/"
        },
        "outputId": "40974df4-e0c0-4db0-c58a-3ba1fc71de5c"
      },
      "source": [
        "%%sh\n",
        "### EJERCICIO\n",
        "python script_examples/2_arg_parse_initialization.py"
      ],
      "execution_count": 84,
      "outputs": [
        {
          "output_type": "stream",
          "text": [
            "Hello, World!\n"
          ],
          "name": "stdout"
        }
      ]
    },
    {
      "cell_type": "code",
      "metadata": {
        "id": "B2cWq7irxuKa"
      },
      "source": [
        "# en la celda anterior ejecutamos el scrip sin argumentos y entonces se ejecuta el script por defecto --> se ejecuta la solucion '2'"
      ],
      "execution_count": 85,
      "outputs": []
    },
    {
      "cell_type": "markdown",
      "metadata": {
        "id": "ShF1-0mIWDOc"
      },
      "source": [
        "Hemos visto como el comando help nos devuelve una descripción de uso por defecto. En caso de escribir mal los argumentos, también nos saldrá esta ventana. Podemos modificar el output que mostramos en la ventana. Veamos unos ejemplos"
      ]
    },
    {
      "cell_type": "code",
      "metadata": {
        "id": "z9yWCcLGWa6Y",
        "colab": {
          "base_uri": "https://localhost:8080/"
        },
        "outputId": "953c0525-58fb-4ec2-9013-b998ac2a5468"
      },
      "source": [
        "%%writefile script_examples/2_arg_parse_initialization_help.py\n",
        "#! /usr/bin/env python \n",
        "import argparse\n",
        "parser = argparse.ArgumentParser(prog=\"program.py\",description=\"Script that prints Hello World.\")\n",
        "parser.parse_args()\n",
        "print(\"Hello, World!\")\n",
        "\n"
      ],
      "execution_count": 86,
      "outputs": [
        {
          "output_type": "stream",
          "text": [
            "Overwriting script_examples/2_arg_parse_initialization_help.py\n"
          ],
          "name": "stdout"
        }
      ]
    },
    {
      "cell_type": "code",
      "metadata": {
        "id": "8CzzpQ09HOUp"
      },
      "source": [
        "# profe nos va a enseñar un poquito como configurar lo que se muestra en la ventana de help"
      ],
      "execution_count": 87,
      "outputs": []
    },
    {
      "cell_type": "code",
      "metadata": {
        "colab": {
          "base_uri": "https://localhost:8080/"
        },
        "id": "CS8yY3GUHhGB",
        "outputId": "7e6298d9-61c5-4f87-88ce-48dd61f5db29"
      },
      "source": [
        "%%sh\r\n",
        "python script_examples/2_arg_parse_initialization.py -h"
      ],
      "execution_count": 88,
      "outputs": [
        {
          "output_type": "stream",
          "text": [
            "usage: 2_arg_parse_initialization.py [-h]\n",
            "\n",
            "optional arguments:\n",
            "  -h, --help  show this help message and exit\n"
          ],
          "name": "stdout"
        }
      ]
    },
    {
      "cell_type": "code",
      "metadata": {
        "id": "EF-rTRnkHqu4"
      },
      "source": [
        "# en 'usage: 2_arg_parse_initialization.py [-h]' te dice como se usa este script pasándole argumentos\r\n",
        "# como vemos pone argumentos opcionales y entre ellos '-h'\r\n",
        "# y en 'usage:' te muestra el nombre del script: '2_arg_parse_initialization'"
      ],
      "execution_count": 89,
      "outputs": []
    },
    {
      "cell_type": "code",
      "metadata": {
        "id": "6_GRyfYFWdH8",
        "colab": {
          "base_uri": "https://localhost:8080/"
        },
        "outputId": "457fb4d3-2411-4435-a62e-8fbb4aa52d5b"
      },
      "source": [
        "%%sh\n",
        "./script_examples/2_arg_parse_initialization_help.py --help "
      ],
      "execution_count": 90,
      "outputs": [
        {
          "output_type": "stream",
          "text": [
            "sh: 1: ./script_examples/2_arg_parse_initialization_help.py: Permission denied\n"
          ],
          "name": "stderr"
        }
      ]
    },
    {
      "cell_type": "markdown",
      "metadata": {
        "id": "E6bVyjw-WvSu"
      },
      "source": [
        "* El argumento prog por defecto muestra el nombre del script, pero podemos modificarlo.\n",
        "* Podemos (y deberíamos) mostrar una descripción de lo que hace el programa."
      ]
    },
    {
      "cell_type": "code",
      "metadata": {
        "id": "FqIje5HqIQpB"
      },
      "source": [
        "# con el prog en celda de abajo yo puedo cambiar q se muestre el nombre del script por otra cosa\r\n",
        "# con el prog yo le paso el argumento \"program.py\" al ArgumentParser y pongo, por ejemplo, el program.py ; y luego incluso le puedo añadir una description a esa ventana de help."
      ],
      "execution_count": 91,
      "outputs": []
    },
    {
      "cell_type": "markdown",
      "metadata": {
        "id": "wq6BIsXUoohF"
      },
      "source": [
        "Por otro lado, podemos probar dentro del propio script el paso de los argumentos"
      ]
    },
    {
      "cell_type": "code",
      "metadata": {
        "id": "FqJXVyAUosb9",
        "colab": {
          "base_uri": "https://localhost:8080/"
        },
        "outputId": "c43ae89f-702f-4cb7-9db0-f045fdb0784a"
      },
      "source": [
        "%%writefile script_examples/2_arg_parse_initialization_help.py\n",
        "#! /usr/bin/env python \n",
        "import argparse\n",
        "parser = argparse.ArgumentParser(prog=\"program.py\",description=\"Script that prints Hello World.\")\n",
        "parser.parse_args()\n",
        "print(\"Hello, World!\")\n",
        "\n",
        "print(parser.parse_args([\"-h\"]))\n",
        "\n"
      ],
      "execution_count": 92,
      "outputs": [
        {
          "output_type": "stream",
          "text": [
            "Overwriting script_examples/2_arg_parse_initialization_help.py\n"
          ],
          "name": "stdout"
        }
      ]
    },
    {
      "cell_type": "code",
      "metadata": {
        "id": "nW2v8KwqoyVO",
        "colab": {
          "base_uri": "https://localhost:8080/"
        },
        "outputId": "a818c01f-ddee-4b14-a418-f12be4b8f917"
      },
      "source": [
        "%%sh\n",
        "python script_examples/2_arg_parse_initialization_help.py --help"
      ],
      "execution_count": 93,
      "outputs": [
        {
          "output_type": "stream",
          "text": [
            "usage: program.py [-h]\n",
            "\n",
            "Script that prints Hello World.\n",
            "\n",
            "optional arguments:\n",
            "  -h, --help  show this help message and exit\n"
          ],
          "name": "stdout"
        }
      ]
    },
    {
      "cell_type": "code",
      "metadata": {
        "id": "-5ko6etuJVtr"
      },
      "source": [
        "# vemos q hemos cambiado el program.py ya que antes loq aparecia era el nombre del script.\r\n",
        "\r\n",
        "# en la siguiente celda voy a ejecutar los dos bloques de codigo anterior pero quitando el prog=\"program.py\""
      ],
      "execution_count": 94,
      "outputs": []
    },
    {
      "cell_type": "code",
      "metadata": {
        "colab": {
          "base_uri": "https://localhost:8080/"
        },
        "id": "2D5galCRJmKF",
        "outputId": "982ffae3-cb1f-4fe0-d37a-bae06d902335"
      },
      "source": [
        "%%writefile script_examples/2_arg_parse_initialization_help.py\r\n",
        "#! /usr/bin/env python \r\n",
        "import argparse\r\n",
        "parser = argparse.ArgumentParser(description=\"Script that prints Hello World.\")\r\n",
        "parser.parse_args()\r\n",
        "print(\"Hello, World!\")\r\n",
        "\r\n",
        "print(parser.parse_args([\"-h\"]))"
      ],
      "execution_count": 95,
      "outputs": [
        {
          "output_type": "stream",
          "text": [
            "Overwriting script_examples/2_arg_parse_initialization_help.py\n"
          ],
          "name": "stdout"
        }
      ]
    },
    {
      "cell_type": "code",
      "metadata": {
        "colab": {
          "base_uri": "https://localhost:8080/"
        },
        "id": "XHR1nRhnJywO",
        "outputId": "0426a4f0-80d7-4646-c600-d8fb212e4b6f"
      },
      "source": [
        "%%sh\r\n",
        "python script_examples/2_arg_parse_initialization_help.py --help"
      ],
      "execution_count": 96,
      "outputs": [
        {
          "output_type": "stream",
          "text": [
            "usage: 2_arg_parse_initialization_help.py [-h]\n",
            "\n",
            "Script that prints Hello World.\n",
            "\n",
            "optional arguments:\n",
            "  -h, --help  show this help message and exit\n"
          ],
          "name": "stdout"
        }
      ]
    },
    {
      "cell_type": "code",
      "metadata": {
        "colab": {
          "base_uri": "https://localhost:8080/"
        },
        "id": "glUtzfn0MqCF",
        "outputId": "47d6406e-11fc-4d54-8c20-d57b403f76e3"
      },
      "source": [
        "%%sh\r\n",
        "python script_examples/2_arg_parse_initialization_help.py -h"
      ],
      "execution_count": 97,
      "outputs": [
        {
          "output_type": "stream",
          "text": [
            "usage: 2_arg_parse_initialization_help.py [-h]\n",
            "\n",
            "Script that prints Hello World.\n",
            "\n",
            "optional arguments:\n",
            "  -h, --help  show this help message and exit\n"
          ],
          "name": "stdout"
        }
      ]
    },
    {
      "cell_type": "code",
      "metadata": {
        "id": "gpGaM4eqJ7gq"
      },
      "source": [
        "# y vemos que tras haber quitado el prog en usage: me sale el nombre del script '2_arg_parse_initialization_help.py'\r\n",
        "\r\n",
        "# lo de cambiar la 'description' es muy importante para una persona que coja por 1a vez el script q sepa como ejecutarlo.\r\n",
        "\r\n",
        "# en el caso anteior la description q le hemos metido es \"Script that prints Hello World.\"\r\n",
        "\r\n",
        "# y si lo ejecuto sin -h ni --help me sigue mostranso el \"Hello, World!\" y lo demás lo mismo."
      ],
      "execution_count": 98,
      "outputs": []
    },
    {
      "cell_type": "code",
      "metadata": {
        "colab": {
          "base_uri": "https://localhost:8080/"
        },
        "id": "K3qUjRv0MKCE",
        "outputId": "d29b35ba-4c3e-4a7c-88f1-b956ab62dafe"
      },
      "source": [
        "%%sh\r\n",
        "python script_examples/2_arg_parse_initialization_help.py"
      ],
      "execution_count": 99,
      "outputs": [
        {
          "output_type": "stream",
          "text": [
            "Hello, World!\n",
            "usage: 2_arg_parse_initialization_help.py [-h]\n",
            "\n",
            "Script that prints Hello World.\n",
            "\n",
            "optional arguments:\n",
            "  -h, --help  show this help message and exit\n"
          ],
          "name": "stdout"
        }
      ]
    },
    {
      "cell_type": "code",
      "metadata": {
        "colab": {
          "base_uri": "https://localhost:8080/",
          "height": 36
        },
        "id": "ydPMgj4_M2-q",
        "outputId": "f70e3c87-97b2-416d-fed2-73c3315ae75e"
      },
      "source": [
        "# vamos a ver ahora como yo puedo sin necesidad de ir a la ventana, a la terminal, hacer pruebas de q es loq pasaria si yo le meto argumentos a mi script\r\n",
        "\r\n",
        "# lo q quiere decir profe esq siempre tiene q trabajar con 2 celdas: la 1a celda donde defino el script, la 2a celda donde ejecuto el script\r\n",
        "\r\n",
        "\"\"\"\r\n",
        "%%writefile script_examples/2_arg_parse_initialization_help.py\r\n",
        "#! /usr/bin/env python \r\n",
        "import argparse\r\n",
        "parser = argparse.ArgumentParser(prog=\"program.py\",description=\"Script that prints Hello World.\")\r\n",
        "parser.parse_args()\r\n",
        "print(\"Hello, World!\")\r\n",
        "\r\n",
        "print(parser.parse_args([\"-h\"]))\r\n",
        "\"\"\"\r\n",
        "\r\n",
        "\"\"\"\r\n",
        "%%sh\r\n",
        "python script_examples/2_arg_parse_initialization_help.py --help\r\n",
        "\"\"\"\r\n",
        "\r\n",
        "# con el argumento parse_args y con 'print(parser.parse_args([\"-h\"]))' me muestra lo mismo q si yo le pasara el argumento \"-h\" \r\n",
        "# i.e. \"python script_examples/2_arg_parse_initialization_help.py --h\"\r\n",
        "\r\n",
        "#loq pasa esq como en celda de abajo 'print(parser.parse_args([\"-h\"]))' me lo está ejecutando dentro de la parte del script"
      ],
      "execution_count": 100,
      "outputs": [
        {
          "output_type": "execute_result",
          "data": {
            "application/vnd.google.colaboratory.intrinsic+json": {
              "type": "string"
            },
            "text/plain": [
              "'\\n%%sh\\npython script_examples/2_arg_parse_initialization_help.py --help\\n'"
            ]
          },
          "metadata": {
            "tags": []
          },
          "execution_count": 100
        }
      ]
    },
    {
      "cell_type": "code",
      "metadata": {
        "colab": {
          "base_uri": "https://localhost:8080/"
        },
        "id": "wgsZwIceOynQ",
        "outputId": "b1e97586-c651-43c4-c0ef-648c524d28fe"
      },
      "source": [
        "%%writefile script_examples/2_arg_parse_initialization_help.py\r\n",
        "#! /usr/bin/env python \r\n",
        "import argparse\r\n",
        "parser = argparse.ArgumentParser(description=\"Script that prints Hello World.\")\r\n",
        "parser.parse_args()\r\n",
        "print(\"Hello, World!\")\r\n",
        "\r\n",
        "print(parser.parse_args([\"-h\"]))"
      ],
      "execution_count": 101,
      "outputs": [
        {
          "output_type": "stream",
          "text": [
            "Overwriting script_examples/2_arg_parse_initialization_help.py\n"
          ],
          "name": "stdout"
        }
      ]
    },
    {
      "cell_type": "code",
      "metadata": {
        "id": "eoqsuB1aPPyA"
      },
      "source": [
        "# ahora vamos a ver como podemos pasarle argumentos a nuestro script.\r\n",
        "# pq hasta ahora solo hemos visto el argumento q tenia por defecto q es el 'help'\r\n",
        "# pero yo a veces querré pasarle argumentos mas complicados y q me los interprete"
      ],
      "execution_count": 102,
      "outputs": []
    },
    {
      "cell_type": "markdown",
      "metadata": {
        "id": "y7gmxLXiDbl1"
      },
      "source": [
        "## Pasar argumentos con valores por defecto\n",
        "Consideraremos ahora el caso en el que queremos pasar la ruta de un fichero a un script en Python con el que entrenaremos nuestros datos de un modelo de machine learning. \n",
        "Para acceder a los argumentos introducidos mediante la ventana de comandos, realizamos los siguientes pasos:\n",
        "\n",
        "1. Identifica que argumentos vas a pasar por la ventana de comandos\n",
        "2. Crea el objeto parser a partir del argparse.ArgumentParser() y de manera opcional aunque recomendable, añade una descripción del script.\n",
        "3. utilizar el método add_argument para añadir los argumentos identificados en el paso uso.\n",
        "  - Añade el argumento y su abreviación, el tipo de variable, una descripción de ayuda y un parámetro por defecto (sino por defecto es None).\n",
        "  - accede a ese argumento mediante `args.<argumento>`.\n",
        "\n"
      ]
    },
    {
      "cell_type": "code",
      "metadata": {
        "id": "6w67e4H9XT8q",
        "colab": {
          "base_uri": "https://localhost:8080/"
        },
        "outputId": "204cc050-1889-4775-844b-dab3690539f8"
      },
      "source": [
        "%%writefile script_examples/3_arg_parse_trainpath_arg.py\n",
        "#! /usr/bin/env python \n",
        "import argparse\n",
        "# 1o - creamos el objeto parser\n",
        "parser = argparse.ArgumentParser(description=\"Script that prints a training path.\")\n",
        "# 2o - añadimos un argumento al objeto parser\n",
        "# por argumento le meto el \"--training_path\" que sera la ruta del fichero de un fichero de training para un modelo para un de ml q usemos.\n",
        "# -t es la abreviatura del argumento --training_path, el type es string str, con el help ponemos descripcion de paraq sirve este argumento.\n",
        "# si no le paso un --training_path el script va a ver q el default=None\n",
        "parser.add_argument(\"--training_path\",\"-t\", type=str,\n",
        "                    help=\"Path to training data\",\n",
        "                    default=None)\n",
        "\n",
        "# 3o - ejecuto el metodo parse_args() sobre el objeto parser --> pero ahora me quedo con loq estoy metiendo q se queda en args\n",
        "args = parser.parse_args()\n",
        "# 4o - accedo al argumento q le he pasado con args.nombre_abreviado_del_argumento\n",
        "training_path = args.training_path\n",
        "print(training_path)"
      ],
      "execution_count": 103,
      "outputs": [
        {
          "output_type": "stream",
          "text": [
            "Overwriting script_examples/3_arg_parse_trainpath_arg.py\n"
          ],
          "name": "stdout"
        }
      ]
    },
    {
      "cell_type": "code",
      "metadata": {
        "id": "bHkldeNDKT1W"
      },
      "source": [
        "# al ejecutar la celda anterior creamos el fichero script_examples/3_arg_parse_trainpath_arg.py"
      ],
      "execution_count": 104,
      "outputs": []
    },
    {
      "cell_type": "code",
      "metadata": {
        "id": "UlQqprY1cz9b",
        "colab": {
          "base_uri": "https://localhost:8080/"
        },
        "outputId": "c39ebb69-557b-440c-c6a8-dccd66e0fd20"
      },
      "source": [
        "%%sh\n",
        "# primero lo probamos con el comando --help y luego lo probamos con el --training_path\n",
        "python script_examples/3_arg_parse_trainpath_arg.py --help "
      ],
      "execution_count": 105,
      "outputs": [
        {
          "output_type": "stream",
          "text": [
            "usage: 3_arg_parse_trainpath_arg.py [-h] [--training_path TRAINING_PATH]\n",
            "\n",
            "Script that prints a training path.\n",
            "\n",
            "optional arguments:\n",
            "  -h, --help            show this help message and exit\n",
            "  --training_path TRAINING_PATH, -t TRAINING_PATH\n",
            "                        Path to training data\n"
          ],
          "name": "stdout"
        }
      ]
    },
    {
      "cell_type": "code",
      "metadata": {
        "id": "xQCFXWrkMQtl"
      },
      "source": [
        "# vemos q en help nos aparece el nuevo argumento q le hemos metido '--training_path TRAINING_PATH,'\r\n",
        "# y el TRAINING_PATH significará la variable de --training_path q le vamos a meter, q es la ruta del fichero q vamos a usar.\r\n",
        "# 'Path to training data' es la ruta q le hemos metido dentro del help"
      ],
      "execution_count": 106,
      "outputs": []
    },
    {
      "cell_type": "code",
      "metadata": {
        "colab": {
          "base_uri": "https://localhost:8080/"
        },
        "id": "rANs9kEUNB5O",
        "outputId": "b669192c-90a2-47b8-f1bf-202bb727f836"
      },
      "source": [
        "%%sh\r\n",
        "# primero lo probamos con el comando --help y luego lo probamos con el --training_path\r\n",
        "# python script_examples/3_arg_parse_trainpath_arg.py --help \r\n",
        "echo \"\\n\"\r\n",
        "echo \"Running with path argument...\"\r\n",
        "echo \"\\n\"\r\n",
        "python script_examples/3_arg_parse_trainpath_arg.py --training_path \"sample_data/mnist_test.csv\""
      ],
      "execution_count": 107,
      "outputs": [
        {
          "output_type": "stream",
          "text": [
            "\n",
            "\n",
            "Running with path argument...\n",
            "\n",
            "\n",
            "sample_data/mnist_test.csv\n"
          ],
          "name": "stdout"
        }
      ]
    },
    {
      "cell_type": "code",
      "metadata": {
        "colab": {
          "base_uri": "https://localhost:8080/",
          "height": 36
        },
        "id": "O9NM88MaNWFK",
        "outputId": "a1147cd8-6fe6-4245-f8e4-849fab8e537b"
      },
      "source": [
        "# en la celda anterior he pasado el argumento:\r\n",
        "\"\"\"\r\n",
        "parser.add_argument(\"--training_path\",\"-t\", type=str,\r\n",
        "                    help=\"Path to training data\",\r\n",
        "                    default=None)\r\n",
        "\"\"\"\r\n",
        "# lo he guardado en 'args = parser.parse_args()'\r\n",
        "# he entrado en 'training_path = args.training_path'\r\n",
        "# y he hecho un print 'print(training_path)' y nos muestra justamente el argumento q le hemos metido \"sample_data/mnist_test.csv\""
      ],
      "execution_count": 108,
      "outputs": [
        {
          "output_type": "execute_result",
          "data": {
            "application/vnd.google.colaboratory.intrinsic+json": {
              "type": "string"
            },
            "text/plain": [
              "'\\nparser.add_argument(\"--training_path\",\"-t\", type=str,\\n                    help=\"Path to training data\",\\n                    default=None)\\n'"
            ]
          },
          "metadata": {
            "tags": []
          },
          "execution_count": 108
        }
      ]
    },
    {
      "cell_type": "code",
      "metadata": {
        "colab": {
          "base_uri": "https://localhost:8080/"
        },
        "id": "kLcHG1-1OnQe",
        "outputId": "a3015737-5fd7-4fe3-8b1b-351d52f53360"
      },
      "source": [
        "%%sh\r\n",
        "# pero tb le puedo pasar una ruta erronea\r\n",
        "echo \"\\n\"\r\n",
        "echo \"Running with path argument...\"\r\n",
        "echo \"\\n\"\r\n",
        "python script_examples/3_arg_parse_trainpath_arg.py --training_path \"sample_data/mnist_test.csvHJGKLFHJGFHÑLJGL\""
      ],
      "execution_count": 109,
      "outputs": [
        {
          "output_type": "stream",
          "text": [
            "\n",
            "\n",
            "Running with path argument...\n",
            "\n",
            "\n",
            "sample_data/mnist_test.csvHJGKLFHJGFHÑLJGL\n"
          ],
          "name": "stdout"
        }
      ]
    },
    {
      "cell_type": "code",
      "metadata": {
        "colab": {
          "base_uri": "https://localhost:8080/",
          "height": 91
        },
        "id": "6EPhla_qOzAJ",
        "outputId": "2c795b9e-d188-4636-e01f-1b1066fe9125"
      },
      "source": [
        "# por ello cuando le pasamos una ruta hemos de ver si existe con la libreria os y la funcion de arriba\r\n",
        "\"\"\"\r\n",
        "import os\r\n",
        "import subprocess\r\n",
        "path = \"sample_data/california_housing_train.csv\"\r\n",
        "url = \"https://dl.google.com/mlcc/mledu-datasets/california_housing_train.csv\"\r\n",
        "# veo si extiste la ruta path\r\n",
        "if os.path.exists(path):\r\n",
        "  print(f\"El fichero {path} existe\")\r\n",
        "else:\r\n",
        "  print(f\"El fichero {path} no existe\")\r\n",
        "  # si tampoco existe el directorio sample_data lo creas\r\n",
        "  if not os.path.exists(\"sample_data\"): os.mkdir(\"sample_data\")\r\n",
        "  args = ['wget', url,\"-O\",path]\r\n",
        "  # voy a usar el subprocess para ejecutar el comando ['wget', url,\"-O\",path]\r\n",
        "  output = subprocess.Popen(args, stdout=subprocess.PIPE)\r\n",
        "\"\"\"\r\n",
        "\r\n",
        "# pq claramente si la ruta no existe luego nos va a dar error pero para este ejemplo no hace falta"
      ],
      "execution_count": 110,
      "outputs": [
        {
          "output_type": "execute_result",
          "data": {
            "application/vnd.google.colaboratory.intrinsic+json": {
              "type": "string"
            },
            "text/plain": [
              "'\\nimport os\\nimport subprocess\\npath = \"sample_data/california_housing_train.csv\"\\nurl = \"https://dl.google.com/mlcc/mledu-datasets/california_housing_train.csv\"\\n# veo si extiste la ruta path\\nif os.path.exists(path):\\n  print(f\"El fichero {path} existe\")\\nelse:\\n  print(f\"El fichero {path} no existe\")\\n  # si tampoco existe el directorio sample_data lo creas\\n  if not os.path.exists(\"sample_data\"): os.mkdir(\"sample_data\")\\n  args = [\\'wget\\', url,\"-O\",path]\\n  # voy a usar el subprocess para ejecutar el comando [\\'wget\\', url,\"-O\",path]\\n  output = subprocess.Popen(args, stdout=subprocess.PIPE)\\n'"
            ]
          },
          "metadata": {
            "tags": []
          },
          "execution_count": 110
        }
      ]
    },
    {
      "cell_type": "markdown",
      "metadata": {
        "id": "JKlpX_XZGxze"
      },
      "source": [
        "- Vemos ahora que el comando --training_path aparece dentro de la ventana de ayuda y que contiene una descripción.\n"
      ]
    },
    {
      "cell_type": "markdown",
      "metadata": {
        "id": "M0Sb8gGByaIu"
      },
      "source": [
        "A continuación veamos un ejemplo con múltiples argumentos de diferentes tipos donde veremos:\n",
        "- como introducir una lista como argumento (nargs='+')\n",
        "- cambiar el valor por defecto de un argumento (default=1000, si no se cambia está en None).\n",
        "- cambiar el type del argumento a entero (type=int)\n",
        "- definir solo un conjunto de opciones posibles para pasar como argumento (choices=[10,100,500,1000]).\n",
        "\n",
        "\n"
      ]
    },
    {
      "cell_type": "code",
      "metadata": {
        "id": "fAC3Rmogzjtj",
        "colab": {
          "base_uri": "https://localhost:8080/"
        },
        "outputId": "eabd44f4-e5e7-4783-d4d4-b5ba0e76ee1e"
      },
      "source": [
        "# vamos a ver q pasa si le queremos meter otra serie de argumentos aqui\n",
        "\n",
        "%%writefile script_examples/4_arg_parse_trainpath_arg.py\n",
        "#! /usr/bin/env python \n",
        "import argparse\n",
        "import pandas as pd\n",
        "parser = argparse.ArgumentParser()\n",
        "# 1o mantenemos el argumento delq habiamos hablado antes q es el --training_path pero añadiendole 'required=True' q significa q si yo no le meto el\n",
        "# training_path el script no se va a ejecutar\n",
        "parser.add_argument(\"--training_path\",\"-t\", type=str,\n",
        "                    help=\"Path to training data\",\n",
        "                    default=None,required=True)\n",
        "# las features son las columnas q voy a usar para entrenar los datos.\n",
        "# van a ser multiples columnas q le voy a meter. entonces yo tengo q tener una funcion nargs='+' qw loq hace es ir concatenando las features para al\n",
        "# final tener una lista de todas las columnas q se han introducido.\n",
        "# pero con nargs='+' yo le meto multiples columnas -f \"median_income\" \"total_rooms\" \"housing_median_age\" \"total_bedrooms\" y, a posteriori, se guardaran\n",
        "# en features = args.features como una lista. y tb en df.columns\n",
        "parser.add_argument(\"--features\",\"-f\", type=str,\n",
        "                    help=\"cols used to train data\",\n",
        "                    default=None,nargs='+')\n",
        "# el argumento target es la columna q nos sirve de target dentro de nuestro dataset q tb es un str y default=None \n",
        "# target es la columna predictiva y sobre la cual luego vamos a tener predicciones\n",
        "parser.add_argument(\"--target\",\"-y\", type=str,\n",
        "                    help=\"target column\",\n",
        "                    default=None)\n",
        "# por ultimo le metemos el numero de filas q vamos a coger dentro de nuevo dataset.\n",
        "# el numero de ejemplos q usaremos dentro del fichero q hemos pasado.\n",
        "# choices se usa paraq cuando introducimos un argumento solo queremos q tenga unos valores definidos. por ej quiero q el numero de filas sean 10, 100,\n",
        "# 500 o 1000 pero no 299\n",
        "parser.add_argument(\"--nrows\",\"-n\", type=int,\n",
        "                    help=\"target column\",\n",
        "                    choices=[10, 100, 500, 1000],\n",
        "                    default=1000)\n",
        "\n",
        "# vamos a usar el california_housing_train.csv y por ello es por loq profe en celda anterior verificaba q tuvieramos estos datos\n",
        "\n",
        "\n",
        "args = parser.parse_args()\n",
        "# de la misma manera q hemos hablado antes cogemos las 4 variables con args.training_path, args.features, args.target, args.nrows y las\n",
        "# asignamos a training_path, features, target, nrows\n",
        "training_path = args.training_path\n",
        "features = args.features\n",
        "target = args.target\n",
        "nrows = args.nrows\n",
        "\n",
        "# a continuacion usamos la libreria pandas para leer el csv donde yo le estoy indicando el fichero de entrada training_path, el usecols q van a ser\n",
        "# las columnas q yo voy a cargar dentro de la tabla con laq voy a trabajar q en este caso van a ser las features mas el target [*features, target].\n",
        "# y luego por otro lado voy a introducir el numero de filas q voy a leer nrows=nrows dentro de todo el fichero training_path.\n",
        "# si clicamos a la izquierda en california_housing_train.csv, a la derecha nos saldra la tabla q estamos cargando.\n",
        "df = pd.read_csv(training_path,usecols=[*features, target],nrows=nrows)\n",
        "# a continuacion mostramos las columnas q contiene\n",
        "print(\"columns loaded:\")\n",
        "print(df.columns)\n",
        "# mostramos el numero de rows\n",
        "print(\"number of rows: \",len(df))\n",
        "# mostramos las 3 1as filas\n",
        "print(\"first 3 rows of the dataframe:\")\n",
        "print(df.head(3))"
      ],
      "execution_count": 112,
      "outputs": [
        {
          "output_type": "stream",
          "text": [
            "Overwriting script_examples/4_arg_parse_trainpath_arg.py\n"
          ],
          "name": "stdout"
        }
      ]
    },
    {
      "cell_type": "code",
      "metadata": {
        "id": "qPq2e9MT0Zeu",
        "colab": {
          "base_uri": "https://localhost:8080/"
        },
        "outputId": "68f64a2c-5b07-420a-df4c-29180b060e9e"
      },
      "source": [
        "%%sh\n",
        "# en este ejemplo le paso el fichero california_housing_train.csv, el target es \"median_house_value\", y luego le voy a meter todas las demas \n",
        "# columnas q van a ser mis features con lasq entrenamos el modelo: -f  \"median_income\" \"total_rooms\" \"housing_median_age\" \"total_bedrooms\".\n",
        "# las 4 anteriores van a ser las variables con lasq yo prediga la variable target y por eso profe las diferencia\n",
        "python script_examples/4_arg_parse_trainpath_arg.py -t sample_data/california_housing_train.csv\\\n",
        "        -y \"median_house_value\" -f  \"median_income\" \"total_rooms\" \"housing_median_age\" \"total_bedrooms\" \\\n",
        "        -n 100      "
      ],
      "execution_count": 115,
      "outputs": [
        {
          "output_type": "stream",
          "text": [
            "columns loaded:\n",
            "Index(['housing_median_age', 'total_rooms', 'total_bedrooms', 'median_income',\n",
            "       'median_house_value'],\n",
            "      dtype='object')\n",
            "number of rows:  100\n",
            "first 3 rows of the dataframe:\n",
            "   housing_median_age  total_rooms  ...  median_income  median_house_value\n",
            "0                15.0       5612.0  ...         1.4936             66900.0\n",
            "1                19.0       7650.0  ...         1.8200             80100.0\n",
            "2                17.0        720.0  ...         1.6509             85700.0\n",
            "\n",
            "[3 rows x 5 columns]\n"
          ],
          "name": "stdout"
        }
      ]
    },
    {
      "cell_type": "markdown",
      "metadata": {
        "id": "SvQRROuxXiYh"
      },
      "source": [
        "Usando aquí la librería pandas adicionalmente (muy usada en proyectos de Data Science), vemos como hemos sido capaces de acceder al fichero `sample_data/california_housing_train.csv`, seleccionar el target y elegir las variables \"median_income\",\"total_rooms,\"housing_median_age\" y \"total_bedrooms.\n",
        "Esto es un buen ejemplo de como podríamos ejecutar un modelo de machine Learning pasando un fichero diferente, con diferentes nombres de variables!\n"
      ]
    },
    {
      "cell_type": "code",
      "metadata": {
        "colab": {
          "base_uri": "https://localhost:8080/"
        },
        "id": "PVAnaLmVyF5i",
        "outputId": "e2557335-3154-4e5e-eed3-843bfa5981e7"
      },
      "source": [
        "# imaginemos q quiero usar el modelo anterior pero en vez de usar las 4 variables anteriores solo quiero usar \"median_income\" y \"total_rooms\" pq \r\n",
        "# quiero probar el poder predictivo solo con las dos con las q me quedo.\r\n",
        "# entonces podría hacer un modelo q solo tuviera esas variables.\r\n",
        "# y no tenemos q entrar ni cambiar nada en codigo. solo pasando diferentes argumentos yo podria hacerlo.\r\n",
        "# y tambien podria trabajar con nrows\r\n",
        "%%sh\r\n",
        "\r\n",
        "python script_examples/4_arg_parse_trainpath_arg.py -t sample_data/california_housing_train.csv\\\r\n",
        "        -y \"median_house_value\" -f  \"median_income\" \"total_rooms\" \\\r\n",
        "        -n 100 "
      ],
      "execution_count": 116,
      "outputs": [
        {
          "output_type": "stream",
          "text": [
            "columns loaded:\n",
            "Index(['total_rooms', 'median_income', 'median_house_value'], dtype='object')\n",
            "number of rows:  100\n",
            "first 3 rows of the dataframe:\n",
            "   total_rooms  median_income  median_house_value\n",
            "0       5612.0         1.4936             66900.0\n",
            "1       7650.0         1.8200             80100.0\n",
            "2        720.0         1.6509             85700.0\n"
          ],
          "name": "stdout"
        }
      ]
    },
    {
      "cell_type": "markdown",
      "metadata": {
        "id": "U8lnUaj7Zffz"
      },
      "source": [
        "Veamos ahora como ejemplo un modelo de Machine Learning.\n",
        "**Esto es meramente como ejemplo, no os preocupais no entendeis el código!**"
      ]
    },
    {
      "cell_type": "code",
      "metadata": {
        "colab": {
          "base_uri": "https://localhost:8080/"
        },
        "id": "bQY5bEc84WzT",
        "outputId": "f071103b-5aa6-4da2-f798-a3262e7e8ddc"
      },
      "source": [
        "# para q me salgan 10 rows pongo -n 10\r\n",
        "%%sh\r\n",
        "python script_examples/4_arg_parse_trainpath_arg.py -t sample_data/california_housing_train.csv\\\r\n",
        "        -y \"median_house_value\" -f  \"median_income\" \"total_rooms\" \\\r\n",
        "        -n 10"
      ],
      "execution_count": 117,
      "outputs": [
        {
          "output_type": "stream",
          "text": [
            "columns loaded:\n",
            "Index(['total_rooms', 'median_income', 'median_house_value'], dtype='object')\n",
            "number of rows:  10\n",
            "first 3 rows of the dataframe:\n",
            "   total_rooms  median_income  median_house_value\n",
            "0       5612.0         1.4936             66900.0\n",
            "1       7650.0         1.8200             80100.0\n",
            "2        720.0         1.6509             85700.0\n"
          ],
          "name": "stdout"
        }
      ]
    },
    {
      "cell_type": "code",
      "metadata": {
        "colab": {
          "base_uri": "https://localhost:8080/"
        },
        "id": "XfMyxIEy4k4N",
        "outputId": "6d13c15f-2902-4397-b5e2-5498c0b027fb"
      },
      "source": [
        "# si le pongo 99 rows me dara error\r\n",
        "%%sh\r\n",
        "python script_examples/4_arg_parse_trainpath_arg.py -t sample_data/california_housing_train.csv\\\r\n",
        "        -y \"median_house_value\" -f  \"median_income\" \"total_rooms\" \\\r\n",
        "        -n 99"
      ],
      "execution_count": 118,
      "outputs": [
        {
          "output_type": "stream",
          "text": [
            "usage: 4_arg_parse_trainpath_arg.py [-h] --training_path TRAINING_PATH\n",
            "                                    [--features FEATURES [FEATURES ...]]\n",
            "                                    [--target TARGET]\n",
            "                                    [--nrows {10,100,500,1000}]\n",
            "4_arg_parse_trainpath_arg.py: error: argument --nrows/-n: invalid choice: 99 (choose from 10, 100, 500, 1000)\n"
          ],
          "name": "stderr"
        }
      ]
    },
    {
      "cell_type": "code",
      "metadata": {
        "id": "5CtN9Uv-YPk_",
        "colab": {
          "base_uri": "https://localhost:8080/"
        },
        "outputId": "5db217c1-fb8e-4081-9c5b-2a7247d3d6cd"
      },
      "source": [
        "# a continuacion un ej real de como podriamos usar esta libreria para ejecutar un modelo de data science\n",
        "\n",
        "# en este caso al script anterior lo unico q hemos hecho es añadirle un modelo predictivo sobre la variable target y en base a las columnas q habiamos\n",
        "# definido como features.\n",
        "\n",
        "# profe nos va a enseñar como realizar un modelo predictivo con argparse\n",
        "\n",
        "%%writefile script_examples/4_arg_parse_trainpath_arg.py\n",
        "#! /usr/bin/env python \n",
        "import argparse\n",
        "import pandas as pd\n",
        "import xgboost as xgb\n",
        "from sklearn.model_selection import train_test_split\n",
        "from sklearn.metrics import mean_squared_error\n",
        "import numpy as np\n",
        "\n",
        "parser = argparse.ArgumentParser()\n",
        "parser.add_argument(\"--training_path\",\"-t\", type=str,\n",
        "                    help=\"Path to training data\",\n",
        "                    default=None,required=True)\n",
        "# si --features None entonces le digo q me coja todas las columnas del dataset\n",
        "parser.add_argument(\"--features\",\"-f\", type=str,\n",
        "                    help=\"cols used to train data\",\n",
        "                    default=None,nargs='+')\n",
        "parser.add_argument(\"--target\",\"-y\", type=str,\n",
        "                    help=\"target column\",\n",
        "                    default=None)\n",
        "parser.add_argument(\"--nrows\",\"-n\", type=int,\n",
        "                    help=\"target column\",\n",
        "                    choices=[10, 100,500, 1000],\n",
        "                    default=None)\n",
        "\n",
        "\n",
        "\n",
        "\n",
        "args = parser.parse_args()\n",
        "training_path = args.training_path\n",
        "features = args.features\n",
        "target = args.target\n",
        "nrows = args.nrows\n",
        "# en caso de que no se pasen las variables, que coja todas las columns\n",
        "df_cols = [*features, target] if features!=None else None\n",
        "df = pd.read_csv(training_path,usecols=df_cols,nrows=nrows)\n",
        "# si features=None entonces en siguiente linea le digo q me coja todas las variables del dataset excepto el target pq es loq queremos predecir.\n",
        "features = features if features!=None else [col for col in df.columns if col!=target]\n",
        "X = df[features]\n",
        "y = df[target]\n",
        "X_train, X_test, y_train, y_test = train_test_split(X, y, test_size=0.2, random_state=42)\n",
        "# inicializa y entrena el modelo\n",
        "model = xgb.XGBRegressor()\n",
        "model.fit(X_train, y_train)\n",
        "# hacemos predicciones sobre Y\n",
        "y_pred = model.predict(X_test)\n",
        "# evaluamos predicciones\n",
        "rmse = np.sqrt(mean_squared_error(y_test, y_pred))\n",
        "print(\"RMSE: %.2f\" % (rmse))\n",
        "print(model)"
      ],
      "execution_count": 119,
      "outputs": [
        {
          "output_type": "stream",
          "text": [
            "Overwriting script_examples/4_arg_parse_trainpath_arg.py\n"
          ],
          "name": "stdout"
        }
      ]
    },
    {
      "cell_type": "code",
      "metadata": {
        "id": "16H8hhsKZNA3",
        "colab": {
          "base_uri": "https://localhost:8080/"
        },
        "outputId": "20181297-b655-4447-e7a9-dd6a93758197"
      },
      "source": [
        "%%sh\n",
        "python script_examples/4_arg_parse_trainpath_arg.py -t sample_data/california_housing_train.csv\\\n",
        "        -y \"median_house_value\" -f  \"median_income\" \"total_rooms\" \"housing_median_age\" \"total_bedrooms\"\n",
        "      "
      ],
      "execution_count": 120,
      "outputs": [
        {
          "output_type": "stream",
          "text": [
            "[17:04:37] WARNING: /workspace/src/objective/regression_obj.cu:152: reg:linear is now deprecated in favor of reg:squarederror.\n",
            "RMSE: 71830.61\n",
            "XGBRegressor(base_score=0.5, booster='gbtree', colsample_bylevel=1,\n",
            "             colsample_bynode=1, colsample_bytree=1, gamma=0,\n",
            "             importance_type='gain', learning_rate=0.1, max_delta_step=0,\n",
            "             max_depth=3, min_child_weight=1, missing=None, n_estimators=100,\n",
            "             n_jobs=1, nthread=None, objective='reg:linear', random_state=0,\n",
            "             reg_alpha=0, reg_lambda=1, scale_pos_weight=1, seed=None,\n",
            "             silent=None, subsample=1, verbosity=1)\n"
          ],
          "name": "stdout"
        }
      ]
    },
    {
      "cell_type": "code",
      "metadata": {
        "id": "0MxwFtfr6a6w"
      },
      "source": [
        "# por RMSE: 71830.61 vemos q no es el mejor q existe pero sirve como ejemplo para quedarnos con la idea de pq es importante trabajar con esta\r\n",
        "# libreria."
      ],
      "execution_count": null,
      "outputs": []
    },
    {
      "cell_type": "markdown",
      "metadata": {
        "id": "4_kdXeBTZw0E"
      },
      "source": [
        "Ahora probamos con todas las demás variables."
      ]
    },
    {
      "cell_type": "code",
      "metadata": {
        "id": "hP7BstadhD8R",
        "colab": {
          "base_uri": "https://localhost:8080/",
          "height": 179
        },
        "outputId": "2b17d19a-0c5c-4125-b93d-8fab9f34babd"
      },
      "source": [
        "%%sh\n",
        "python script_examples/4_arg_parse_trainpath_arg.py -t sample_data/california_housing_train.csv\\\n",
        "        -y \"median_house_value\""
      ],
      "execution_count": null,
      "outputs": [
        {
          "output_type": "stream",
          "text": [
            "[19:49:46] WARNING: /workspace/src/objective/regression_obj.cu:152: reg:linear is now deprecated in favor of reg:squarederror.\n",
            "RMSE: 55030.18\n",
            "XGBRegressor(base_score=0.5, booster='gbtree', colsample_bylevel=1,\n",
            "             colsample_bynode=1, colsample_bytree=1, gamma=0,\n",
            "             importance_type='gain', learning_rate=0.1, max_delta_step=0,\n",
            "             max_depth=3, min_child_weight=1, missing=None, n_estimators=100,\n",
            "             n_jobs=1, nthread=None, objective='reg:linear', random_state=0,\n",
            "             reg_alpha=0, reg_lambda=1, scale_pos_weight=1, seed=None,\n",
            "             silent=None, subsample=1, verbosity=1)\n"
          ],
          "name": "stdout"
        }
      ]
    },
    {
      "cell_type": "code",
      "metadata": {
        "id": "wAAC86_V7Zcd"
      },
      "source": [
        "# loq nos acaba de comentar profe se usa mucho dentro de proyectos de data science y por ello q veamos el potencial.\r\n",
        "\r\n",
        "# profe a continuacion nos deja un pequeño ejercicio practico. profe nos recomienda que intentemos meter los parametros de la celda siguiente como\r\n",
        "# nuevos parametros."
      ],
      "execution_count": null,
      "outputs": []
    },
    {
      "cell_type": "markdown",
      "metadata": {
        "id": "A-rvxm9ua7xd"
      },
      "source": [
        "**Ejercicio práctico**\n",
        "\n",
        "En el script anterior, permite que se introduzcan los siguientes parámetros para el modelo:\n",
        "- learning_rate: con un valor por defecto de 0.1\n",
        "- max_depth: con unos valores posibles de [3,5,8,10]\n",
        "- reg_alpha: Parámetro de regularización que por defecto sea 0.1\n",
        "\n"
      ]
    },
    {
      "cell_type": "code",
      "metadata": {
        "colab": {
          "base_uri": "https://localhost:8080/",
          "height": 72
        },
        "id": "REw_Cgbi-W_u",
        "outputId": "a328accd-10f8-43ac-b31c-879272f5f332"
      },
      "source": [
        "\"\"\"\r\n",
        "los 3 parametros anteriores estan dentro del modelo:\r\n",
        "\r\n",
        "XGBRegressor(base_score=0.5, booster='gbtree', colsample_bylevel=1,\r\n",
        "             colsample_bynode=1, colsample_bytree=1, gamma=0,\r\n",
        "             importance_type='gain', learning_rate=0.1, max_delta_step=0,\r\n",
        "             max_depth=3, min_child_weight=1, missing=None, n_estimators=100,\r\n",
        "             n_jobs=1, nthread=None, objective='reg:linear', random_state=0,\r\n",
        "             reg_alpha=0, reg_lambda=1, scale_pos_weight=1, seed=None,\r\n",
        "             silent=None, subsample=1, verbosity=1)\r\n",
        "\"\"\""
      ],
      "execution_count": 121,
      "outputs": [
        {
          "output_type": "execute_result",
          "data": {
            "application/vnd.google.colaboratory.intrinsic+json": {
              "type": "string"
            },
            "text/plain": [
              "\"\\nlos 3 parametros anteriores estan dentro del modelo:\\n\\nXGBRegressor(base_score=0.5, booster='gbtree', colsample_bylevel=1,\\n             colsample_bynode=1, colsample_bytree=1, gamma=0,\\n             importance_type='gain', learning_rate=0.1, max_delta_step=0,\\n             max_depth=3, min_child_weight=1, missing=None, n_estimators=100,\\n             n_jobs=1, nthread=None, objective='reg:linear', random_state=0,\\n             reg_alpha=0, reg_lambda=1, scale_pos_weight=1, seed=None,\\n             silent=None, subsample=1, verbosity=1)\\n\""
            ]
          },
          "metadata": {
            "tags": []
          },
          "execution_count": 121
        }
      ]
    },
    {
      "cell_type": "code",
      "metadata": {
        "id": "NIzfakLzLlnQ",
        "colab": {
          "base_uri": "https://localhost:8080/"
        },
        "outputId": "88ee9f8b-c2bf-45a1-d3b5-953220a8d29b"
      },
      "source": [
        "### EJERCICIO\r\n",
        "\r\n",
        "%%writefile script_examples/4_arg_parse_trainpath_arg.py\r\n",
        "#! /usr/bin/env python \r\n",
        "import argparse\r\n",
        "import pandas as pd\r\n",
        "import xgboost as xgb\r\n",
        "from sklearn.model_selection import train_test_split\r\n",
        "from sklearn.metrics import mean_squared_error\r\n",
        "import numpy as np\r\n",
        "\r\n",
        "parser = argparse.ArgumentParser()\r\n",
        "parser.add_argument(\"--training_path\",\"-t\", type=str,\r\n",
        "                    help=\"Path to training data\",\r\n",
        "                    default=None,required=True)\r\n",
        "parser.add_argument(\"--features\",\"-f\", type=str,\r\n",
        "                    help=\"cols used to train data\",\r\n",
        "                    default=None,nargs='+')\r\n",
        "parser.add_argument(\"--target\",\"-y\", type=str,\r\n",
        "                    help=\"target column\",\r\n",
        "                    default=None)\r\n",
        "parser.add_argument(\"--nrows\",\"-n\", type=int,\r\n",
        "                    help=\"n rows\",\r\n",
        "                    choices=[10, 100,500, 1000],\r\n",
        "                    default=None)\r\n",
        "parser.add_argument(\"--learning_rate\",\"-lr\", type=float,\r\n",
        "                    help=\"learning_rate\",                    \r\n",
        "                    default=0.1)\r\n",
        "parser.add_argument(\"--max_depth\",\"-md\", type=int,\r\n",
        "                    help=\"max_depth\",\r\n",
        "                    choices=[3,5,8,10],\r\n",
        "                    default=3)\r\n",
        "parser.add_argument(\"--reg_alpha\",\"-rg\", type=float,\r\n",
        "                    help=\"reg_alpha\",                    \r\n",
        "                    default=0.1)\r\n",
        "\r\n",
        "\r\n",
        "args = parser.parse_args()\r\n",
        "training_path = args.training_path\r\n",
        "features = args.features\r\n",
        "target = args.target\r\n",
        "nrows = args.nrows\r\n",
        "learning_rate = args.learning_rate\r\n",
        "max_depth=args.max_depth\r\n",
        "reg_alpha=args.reg_alpha\r\n",
        "\r\n",
        "# en caso de que no se pasen las variables, que coja todas las columans\r\n",
        "df_cols = [*features, target] if features!=None else None\r\n",
        "df = pd.read_csv(training_path,usecols=df_cols,nrows=nrows)\r\n",
        "features = features if features!=None else [col for col in df.columns if col!=target]\r\n",
        "X = df[features]\r\n",
        "y = df[target]\r\n",
        "X_train, X_test, y_train, y_test = train_test_split(X, y, test_size=0.2, random_state=42)\r\n",
        "# inicializa y entrena el modelo\r\n",
        "model = xgb.XGBRegressor(learning_rate=learning_rate, max_depth=max_depth, reg_alpha=reg_alpha)\r\n",
        "model.fit(X_train, y_train)\r\n",
        "# hacemos predicciones sobre Y\r\n",
        "y_pred = model.predict(X_test)\r\n",
        "# evaluamos predicciones\r\n",
        "rmse = np.sqrt(mean_squared_error(y_test, y_pred))\r\n",
        "print(\"RMSE: %.2f\" % (rmse))\r\n",
        "print(model)"
      ],
      "execution_count": 122,
      "outputs": [
        {
          "output_type": "stream",
          "text": [
            "Overwriting script_examples/4_arg_parse_trainpath_arg.py\n"
          ],
          "name": "stdout"
        }
      ]
    },
    {
      "cell_type": "code",
      "metadata": {
        "colab": {
          "base_uri": "https://localhost:8080/"
        },
        "id": "BejRJpxw_ek8",
        "outputId": "a43326a9-4c6b-41a3-d7fc-1dce5b22cfe8"
      },
      "source": [
        "%%sh\r\n",
        "python script_examples/4_arg_parse_trainpath_arg.py -t sample_data/california_housing_train.csv\\\r\n",
        "        -y \"median_house_value\" -f  \"median_income\" \"total_rooms\" \"housing_median_age\" \"total_bedrooms\""
      ],
      "execution_count": 123,
      "outputs": [
        {
          "output_type": "stream",
          "text": [
            "[17:27:44] WARNING: /workspace/src/objective/regression_obj.cu:152: reg:linear is now deprecated in favor of reg:squarederror.\n",
            "RMSE: 71830.61\n",
            "XGBRegressor(base_score=0.5, booster='gbtree', colsample_bylevel=1,\n",
            "             colsample_bynode=1, colsample_bytree=1, gamma=0,\n",
            "             importance_type='gain', learning_rate=0.1, max_delta_step=0,\n",
            "             max_depth=3, min_child_weight=1, missing=None, n_estimators=100,\n",
            "             n_jobs=1, nthread=None, objective='reg:linear', random_state=0,\n",
            "             reg_alpha=0.1, reg_lambda=1, scale_pos_weight=1, seed=None,\n",
            "             silent=None, subsample=1, verbosity=1)\n"
          ],
          "name": "stdout"
        }
      ]
    },
    {
      "cell_type": "code",
      "metadata": {
        "id": "WeSJcDY4_mXM"
      },
      "source": [
        "# loq quiere profe esq aprendamos a buscar y q empecemos a adentrarnos en este mundo para cuando hagamos nuestro 1er modelo de data science"
      ],
      "execution_count": 124,
      "outputs": []
    },
    {
      "cell_type": "markdown",
      "metadata": {
        "id": "YyH_QnzRa8CL"
      },
      "source": [
        "## (OPCIONAL) Realizar acciones sobre los argumentos\n",
        "A continuación, veremos que es posible también realizar acciones sobre los argumentos. Por ejemplo, si introducimos múltiples argumentos -v, juntar los resultados, contar el número de veces que aparecen o mostrar por ejemplo la versión."
      ]
    },
    {
      "cell_type": "code",
      "metadata": {
        "id": "2ULVYOI0_Lds",
        "colab": {
          "base_uri": "https://localhost:8080/",
          "height": 35
        },
        "outputId": "5aaf58f6-e46f-4132-a7dc-ad313796f5e3"
      },
      "source": [
        "%%writefile script_examples/5_arg_parse_trainpath_arg_action.py\n",
        "#! /usr/bin/env python \n",
        "import argparse\n",
        "import pandas as pd\n",
        "parser = argparse.ArgumentParser(description=\"Script to count number of -v\") \n",
        "parser.add_argument('--verbose', '-v', action='count', default=0) # \n",
        "parser.add_argument('--version', action='version', version='%(prog)s 2.0')\n",
        "args = parser.parse_args()\n",
        "verbose = args.verbose\n",
        "version = args.version\n",
        "print(\"number of v: \",verbose)\n",
        "print(\"version: \",version)\n"
      ],
      "execution_count": null,
      "outputs": [
        {
          "output_type": "stream",
          "text": [
            "Overwriting script_examples/5_arg_parse_trainpath_arg_action.py\n"
          ],
          "name": "stdout"
        }
      ]
    },
    {
      "cell_type": "code",
      "metadata": {
        "id": "z2iYh9maDPxl",
        "colab": {
          "base_uri": "https://localhost:8080/",
          "height": 35
        },
        "outputId": "63c6f001-49dd-4fda-ce9d-9039fcadd45b"
      },
      "source": [
        "%%sh\n",
        "python script_examples/5_arg_parse_trainpath_arg_action.py -v -v --version\n",
        "      "
      ],
      "execution_count": null,
      "outputs": [
        {
          "output_type": "stream",
          "text": [
            "myscript.py 2.0\n"
          ],
          "name": "stdout"
        }
      ]
    },
    {
      "cell_type": "markdown",
      "metadata": {
        "id": "21-344YZpHCe"
      },
      "source": [
        "Por otro lado, podemos hacer sumas sobre argumentos que pasemos al script.\n",
        "\n"
      ]
    },
    {
      "cell_type": "code",
      "metadata": {
        "id": "zkOyzq9NpJbP",
        "colab": {
          "base_uri": "https://localhost:8080/",
          "height": 35
        },
        "outputId": "96f47e1c-726c-417e-9dda-6d08f8c60083"
      },
      "source": [
        "%%writefile script_examples/6_arg_parse_trainpath_arg_action.py\n",
        "#! /usr/bin/env python \n",
        "import argparse\n",
        "import pandas as pd\n",
        "parser = argparse.ArgumentParser(description=\"Script to show different actions on arguments\") \n",
        "parser.add_argument('integers', metavar='N', type=int, nargs='+',\n",
        "                    help='enteros para el acumulador')\n",
        "parser.add_argument('--sum', dest='accumulate', action='store_const',\n",
        "                    const=sum, default=max,\n",
        "                    help='suma (default:encuentra el max)')\n",
        "parser.add_argument('--version', action='version', version='%(prog)s 2.0',default=\"1.0.0\")\n",
        "args = parser.parse_args()\n",
        "print(args.accumulate(args.integers))\n"
      ],
      "execution_count": null,
      "outputs": [
        {
          "output_type": "stream",
          "text": [
            "Overwriting script_examples/6_arg_parse_trainpath_arg_action.py\n"
          ],
          "name": "stdout"
        }
      ]
    },
    {
      "cell_type": "code",
      "metadata": {
        "id": "_HsKfGRPpFqY",
        "colab": {
          "base_uri": "https://localhost:8080/",
          "height": 89
        },
        "outputId": "210c30ba-8cc6-4556-ceaf-76a17395d1c2"
      },
      "source": [
        "%%sh\n",
        "## por defecto sale el máximo\n",
        "python script_examples/6_arg_parse_trainpath_arg_action.py 1 2 3 4 5\n",
        "## \n",
        "echo \"\\nwith sum...\"\n",
        "python script_examples/6_arg_parse_trainpath_arg_action.py 1 2 3 4 5 --sum"
      ],
      "execution_count": null,
      "outputs": [
        {
          "output_type": "stream",
          "text": [
            "1\n",
            "\n",
            "with sum...\n",
            "15\n"
          ],
          "name": "stdout"
        }
      ]
    },
    {
      "cell_type": "markdown",
      "metadata": {
        "id": "YYVaMsgqsZrS"
      },
      "source": [
        "Por otro lado, podemos hacer "
      ]
    },
    {
      "cell_type": "code",
      "metadata": {
        "id": "vgSOnMewsYyn",
        "colab": {
          "base_uri": "https://localhost:8080/",
          "height": 35
        },
        "outputId": "2994c34d-8f59-430d-ed9a-35952fd7e372"
      },
      "source": [
        "%%writefile script_examples/7_arg_parse_trainpath_arg_action.py\n",
        "#! /usr/bin/env python \n",
        "import argparse\n",
        "\n",
        "parser = argparse.ArgumentParser()\n",
        "\n",
        "parser.add_argument('-s', action='store', dest='simple_value',\n",
        "                    help='Guardar un valor simple')\n",
        "\n",
        "parser.add_argument('-c', action='store_const', dest='constant_value',\n",
        "                    const='value-to-store',\n",
        "                    help='Guardar una constante')\n",
        "\n",
        "parser.add_argument('-t', action='store_true', default=False,\n",
        "                    dest='boolean_switch',\n",
        "                    help='Poner un switch a true')\n",
        "parser.add_argument('-f', action='store_false', default=False,\n",
        "                    dest='boolean_switch',\n",
        "                    help='Poner switch a false')\n",
        "\n",
        "parser.add_argument('-a', action='append', dest='collection',\n",
        "                    default=[],\n",
        "                    help='Añadir valores repetidos a una lista',\n",
        "                    )\n",
        "\n",
        "parser.add_argument('-A', action='append_const', dest='const_collection',\n",
        "                    const='value-1-to-append',\n",
        "                    default=[],\n",
        "                    help='Añadir valores diferentes a una lista')\n",
        "parser.add_argument('-B', action='append_const', dest='const_collection',\n",
        "                    const='value-2-to-append',\n",
        "                    help='Añadir valores diferentes a una lista')\n",
        "\n",
        "parser.add_argument('--version', action='version', version='%(prog)s 1.0')\n",
        "\n",
        "results = parser.parse_args()\n",
        "print ('simple_value     =', results.simple_value)\n",
        "print ('constant_value   =', results.constant_value)\n",
        "print ('boolean_switch   =', results.boolean_switch)\n",
        "print ('collection       =', results.collection)\n",
        "print ('const_collection =', results.const_collection)"
      ],
      "execution_count": null,
      "outputs": [
        {
          "output_type": "stream",
          "text": [
            "Writing script_examples/7_arg_parse_trainpath_arg_action.py\n"
          ],
          "name": "stdout"
        }
      ]
    },
    {
      "cell_type": "code",
      "metadata": {
        "id": "cSWfFWfotCQh",
        "colab": {
          "base_uri": "https://localhost:8080/",
          "height": 1000
        },
        "outputId": "d623d589-ca13-4008-f3b7-8dc382c6e3b1"
      },
      "source": [
        "%%sh\n",
        "script_path=\"script_examples/7_arg_parse_trainpath_arg_action.py\"\n",
        "echo \"\\nhelp\\n\"\n",
        "python $script_path -h\n",
        "echo \"\\n-s value \\n\"\n",
        "\n",
        "python $script_path -s value\n",
        "echo \"\\n-c \\n\"\n",
        "\n",
        "python $script_path -c\n",
        "\n",
        "\n",
        "echo \"\\n-t \\n\"\n",
        "python $script_path -t\n",
        "echo \"\\n-f \\n\"\n",
        "\n",
        "python $script_path -f\n",
        "echo \" \\n-a one -a two -a three \\n\"\n",
        "\n",
        "python $script_path -a one -a two -a three\n",
        "\n",
        "echo \"\\n -B -A \\n\"\n",
        "\n",
        "python $script_path -B -A\n",
        "\n"
      ],
      "execution_count": null,
      "outputs": [
        {
          "output_type": "stream",
          "text": [
            "\n",
            "help\n",
            "\n",
            "usage: 7_arg_parse_trainpath_arg_action.py [-h] [-s SIMPLE_VALUE] [-c] [-t]\n",
            "                                           [-f] [-a COLLECTION] [-A] [-B]\n",
            "                                           [--version]\n",
            "\n",
            "optional arguments:\n",
            "  -h, --help       show this help message and exit\n",
            "  -s SIMPLE_VALUE  Guardar un valor simple\n",
            "  -c               Guardar una constante\n",
            "  -t               Poner un switch a true\n",
            "  -f               Poner switch a false\n",
            "  -a COLLECTION    Añadir valores repetidos a una lista\n",
            "  -A               Añadir valores diferentes a una lista\n",
            "  -B               Añadir valores diferentes a una lista\n",
            "  --version        show program's version number and exit\n",
            "\n",
            "-s value \n",
            "\n",
            "simple_value     = value\n",
            "constant_value   = None\n",
            "boolean_switch   = False\n",
            "collection       = []\n",
            "const_collection = []\n",
            "\n",
            "-c \n",
            "\n",
            "simple_value     = None\n",
            "constant_value   = value-to-store\n",
            "boolean_switch   = False\n",
            "collection       = []\n",
            "const_collection = []\n",
            "\n",
            "-t \n",
            "\n",
            "simple_value     = None\n",
            "constant_value   = None\n",
            "boolean_switch   = True\n",
            "collection       = []\n",
            "const_collection = []\n",
            "\n",
            "-f \n",
            "\n",
            "simple_value     = None\n",
            "constant_value   = None\n",
            "boolean_switch   = False\n",
            "collection       = []\n",
            "const_collection = []\n",
            " \n",
            "-a one -a two -a three \n",
            "\n",
            "simple_value     = None\n",
            "constant_value   = None\n",
            "boolean_switch   = False\n",
            "collection       = ['one', 'two', 'three']\n",
            "const_collection = []\n",
            "\n",
            " -B -A \n",
            "\n",
            "simple_value     = None\n",
            "constant_value   = None\n",
            "boolean_switch   = False\n",
            "collection       = []\n",
            "const_collection = ['value-2-to-append', 'value-1-to-append']\n"
          ],
          "name": "stdout"
        }
      ]
    },
    {
      "cell_type": "markdown",
      "metadata": {
        "id": "Z98PKotZ3aOy"
      },
      "source": [
        "## (OPCIONAL) Pasar argumentos excluyentes\n",
        "A veces, sucede que dos argumentos no pueden producirse en la misma ejecución, es por ello que utilizamos los argumentos excluyentes."
      ]
    },
    {
      "cell_type": "code",
      "metadata": {
        "id": "tAnr5DoZErXf",
        "colab": {
          "base_uri": "https://localhost:8080/",
          "height": 35
        },
        "outputId": "7d1a7da2-e4bc-403b-cf98-452f1a2474c5"
      },
      "source": [
        "%%writefile script_examples/8_arg_parse_trainpath_arg_exclusive.py\n",
        "#! /usr/bin/env python \n",
        "import argparse\n",
        "\n",
        "parser = argparse.ArgumentParser()\n",
        "group = parser.add_mutually_exclusive_group()\n",
        "group.add_argument(\"-v\", \"--verbose\", action=\"store_true\")\n",
        "group.add_argument(\"-q\", \"--quiet\", action=\"store_true\")\n",
        "parser.add_argument(\"x\", type=int, help=\"the base\")\n",
        "parser.add_argument(\"y\", type=int, help=\"the exponent\")\n",
        "args = parser.parse_args()\n",
        "answer = args.x**args.y\n",
        "\n",
        "if args.quiet:\n",
        "    print(answer)\n",
        "elif args.verbose:\n",
        "    print(\"{} to the power {} equals {}\".format(args.x, args.y, answer))\n",
        "else:\n",
        "    print(\"{}^{} == {}\".format(args.x, args.y, answer))"
      ],
      "execution_count": null,
      "outputs": [
        {
          "output_type": "stream",
          "text": [
            "Writing script_examples/8_arg_parse_trainpath_arg_exclusive.py\n"
          ],
          "name": "stdout"
        }
      ]
    },
    {
      "cell_type": "code",
      "metadata": {
        "id": "GxwH2l1uExI1",
        "colab": {
          "base_uri": "https://localhost:8080/",
          "height": 251
        },
        "outputId": "fedf6a14-c5e1-4f53-b4e2-7dc6da7e1f78"
      },
      "source": [
        "%%sh\n",
        "\n",
        "echo \"\\n-v\\n\"\n",
        "python script_examples/8_arg_parse_trainpath_arg_exclusive.py  2  3 -v \n",
        "\n",
        "echo \"\\n-q\\n\"\n",
        "\n",
        "python script_examples/8_arg_parse_trainpath_arg_exclusive.py  2  3 -q\n",
        "\n",
        "echo \"\\n-v -q\\n\"\n",
        "\n",
        "python script_examples/8_arg_parse_trainpath_arg_exclusive.py  2  3 -v -q\n"
      ],
      "execution_count": null,
      "outputs": [
        {
          "output_type": "stream",
          "text": [
            "\n",
            "-v\n",
            "\n",
            "2 to the power 3 equals 8\n",
            "\n",
            "-q\n",
            "\n",
            "8\n",
            "\n",
            "-v -q\n",
            "\n"
          ],
          "name": "stdout"
        },
        {
          "output_type": "stream",
          "text": [
            "usage: 8_arg_parse_trainpath_arg_exclusive.py [-h] [-v | -q] x y\n",
            "8_arg_parse_trainpath_arg_exclusive.py: error: argument -q/--quiet: not allowed with argument -v/--verbose\n"
          ],
          "name": "stderr"
        }
      ]
    },
    {
      "cell_type": "markdown",
      "metadata": {
        "id": "zHRA9tWv_MTM"
      },
      "source": [
        "\n",
        "## Subprocess\n",
        "Subprocess es una librería que nos permite ejecutar procesos de la Terminal, dentro de un script de Python. Esto puede resultar interesante en casos como los siguientes:\n",
        "- Queremos ejecutar un script de R desde un script de Python\n",
        "- Queremos ejecutar algún comando de la Terminal como puede ser [ImageMagick](http://www.imagemagick.org/script/index.php) que no tenemos una librería directa desde Python para hacerlo.\n",
        "\n",
        "A continuación vamos a ver cómo utilizar esta librería.\n"
      ]
    },
    {
      "cell_type": "code",
      "metadata": {
        "id": "8cBdoZsi_WKj"
      },
      "source": [
        "import subprocess"
      ],
      "execution_count": null,
      "outputs": []
    },
    {
      "cell_type": "markdown",
      "metadata": {
        "id": "OO4D7v5MvSOT"
      },
      "source": [
        "A continuación vamos a ejecutar un script en python que muestre lo mismo que el comando ls y muestra el resultado dentro de la pantalla de python. \n",
        "\n",
        "Puntos a tener en cuenta:\n",
        "* Para ejecutar un comando de la terminal con subprocess, usaremos el comando POpen o run.\n",
        "* El método run, espera a que el comando introducido finalice (si estamos realizando una descarga, espera a que esta finalice). Por otro lado el método POpen, permite que mientras el comando está corriendo, sigan ejecutándose otros procesos.\n",
        "* Cuando invocamos un comando que contiene espacios (especialmente en distribuciones de Linux) es recomendable en vez de pasar un string con el comando (e.j. \"echo Hello,World!\") pasar una lista a este método en lugar de una cadena para evitar que sea interpretado erróneamente ([\"echo\",\"Hello,World!\"])\n",
        "* el argumento stdout=subprocess.PIPE permite guardar los resultados que saldrían dentro de la ventana de comandos como una variable tipo string en python.\n"
      ]
    },
    {
      "cell_type": "code",
      "metadata": {
        "id": "P-mtl4WKxleU",
        "colab": {
          "base_uri": "https://localhost:8080/",
          "height": 53
        },
        "outputId": "a89d8362-f7a2-4639-ca64-63ca3eb5fe13"
      },
      "source": [
        "%%sh\n",
        "ls"
      ],
      "execution_count": null,
      "outputs": [
        {
          "output_type": "stream",
          "text": [
            "sample_data\n",
            "script_examples\n"
          ],
          "name": "stdout"
        }
      ]
    },
    {
      "cell_type": "code",
      "metadata": {
        "id": "0kQepk88yL6r",
        "colab": {
          "base_uri": "https://localhost:8080/",
          "height": 35
        },
        "outputId": "2729dc50-e6c0-49c4-d07d-319525cc541f"
      },
      "source": [
        "%%writefile script_examples/10_subprocess_ls.py\n",
        "import subprocess\n",
        "completed = subprocess.run(['ls'],stdout=subprocess.PIPE)\n",
        "print('returncode:', completed.returncode)\n",
        "print(completed)"
      ],
      "execution_count": null,
      "outputs": [
        {
          "output_type": "stream",
          "text": [
            "Overwriting script_examples/10_subprocess_ls.py\n"
          ],
          "name": "stdout"
        }
      ]
    },
    {
      "cell_type": "code",
      "metadata": {
        "id": "kt2c1LXvyb90",
        "colab": {
          "base_uri": "https://localhost:8080/",
          "height": 53
        },
        "outputId": "3bd5ec07-f655-4c8b-eac9-66bd74039ac3"
      },
      "source": [
        "%%sh\n",
        "python script_examples/10_subprocess_ls.py"
      ],
      "execution_count": null,
      "outputs": [
        {
          "output_type": "stream",
          "text": [
            "returncode: 0\n",
            "CompletedProcess(args=['ls'], returncode=0, stdout=b'sample_data\\nscript_examples\\n')\n"
          ],
          "name": "stdout"
        }
      ]
    },
    {
      "cell_type": "markdown",
      "metadata": {
        "id": "EgZRJN7ezVIS"
      },
      "source": [
        "Observamos que hemos obtenido el mismo resultado con ls que dentro de python pero aquí, podemos capturar este resultado y trabajarlo."
      ]
    },
    {
      "cell_type": "markdown",
      "metadata": {
        "id": "hcuo_rTW1H23"
      },
      "source": [
        "Veamos un ejemplo similar para capturar el resultado. Esto se realiza con el comando Popen.\n"
      ]
    },
    {
      "cell_type": "code",
      "metadata": {
        "id": "FgI2cGiCziN3",
        "colab": {
          "base_uri": "https://localhost:8080/",
          "height": 35
        },
        "outputId": "600d03a0-ae76-4c86-c140-b3410f3a9092"
      },
      "source": [
        "%%sh\n",
        "echo \"se guarda como stdout\" "
      ],
      "execution_count": null,
      "outputs": [
        {
          "output_type": "stream",
          "text": [
            "se guarda como stdout\n"
          ],
          "name": "stdout"
        }
      ]
    },
    {
      "cell_type": "code",
      "metadata": {
        "id": "Nm4HsP13vdNy",
        "colab": {
          "base_uri": "https://localhost:8080/",
          "height": 35
        },
        "outputId": "5c6b8c8a-1f42-47aa-b8f1-49e07dc2e780"
      },
      "source": [
        "%%writefile script_examples/12_subprocess_save_std.py\n",
        "import subprocess\n",
        "\n",
        "print('read:')\n",
        "proc = subprocess.Popen(\n",
        "    ['echo', '\"se guarda como stdout\"'],\n",
        "    stdout=subprocess.PIPE,\n",
        ")\n",
        "print(proc)\n",
        "stdout_value = proc.communicate()[0].decode('utf-8')\n",
        "print('stdout:', repr(stdout_value))\n"
      ],
      "execution_count": null,
      "outputs": [
        {
          "output_type": "stream",
          "text": [
            "Overwriting script_examples/12_subprocess_save_std.py\n"
          ],
          "name": "stdout"
        }
      ]
    },
    {
      "cell_type": "code",
      "metadata": {
        "id": "I5dfC8N-yskn",
        "colab": {
          "base_uri": "https://localhost:8080/",
          "height": 71
        },
        "outputId": "40709326-a5f2-4498-d346-ca9ff812bd50"
      },
      "source": [
        "%%sh\n",
        "python script_examples/12_subprocess_save_std.py"
      ],
      "execution_count": null,
      "outputs": [
        {
          "output_type": "stream",
          "text": [
            "read:\n",
            "<subprocess.Popen object at 0x7f05723b60f0>\n",
            "stdout: '\"se guarda como stdout\"\\n'\n"
          ],
          "name": "stdout"
        }
      ]
    },
    {
      "cell_type": "markdown",
      "metadata": {
        "id": "q-LRYkv31Vwa"
      },
      "source": [
        "**Ejercicio**\n",
        "-Guarda el Standard Output de el comando ls."
      ]
    },
    {
      "cell_type": "code",
      "metadata": {
        "id": "eF7rB0AaE2mJ"
      },
      "source": [
        "### EJERCICIO"
      ],
      "execution_count": null,
      "outputs": []
    },
    {
      "cell_type": "markdown",
      "metadata": {
        "id": "zomILXPSc1Zd"
      },
      "source": [
        ""
      ]
    },
    {
      "cell_type": "code",
      "metadata": {
        "id": "6T94PG7Zc0oH"
      },
      "source": [
        ""
      ],
      "execution_count": null,
      "outputs": []
    },
    {
      "cell_type": "markdown",
      "metadata": {
        "id": "79VRImYJFlN_"
      },
      "source": [
        "(Opcional) Para finalizar, vamos a hacer un ejemplo un poco mas complicado. Esto es más avanzado y require de un mayor conocimiento en Linux. Para entender el siguiente script, recomiendo la siguiente lectura: \n",
        "- https://www.howtogeek.com/435903/what-are-stdin-stdout-and-stderr-on-linux/\n"
      ]
    },
    {
      "cell_type": "code",
      "metadata": {
        "id": "bfZiOTCuFlbi",
        "colab": {
          "base_uri": "https://localhost:8080/",
          "height": 35
        },
        "outputId": "eb49986b-de50-44cb-fade-29c3cf97a591"
      },
      "source": [
        "%%writefile script_examples/13_subprocess_pipe.py\n",
        "import subprocess\n",
        "\n",
        "print('popen3:')\n",
        "proc = subprocess.Popen(\n",
        "    'cat -; echo \"to stderr\" 1>&2',\n",
        "    shell=True,\n",
        "    stdin=subprocess.PIPE,\n",
        "    stdout=subprocess.PIPE,\n",
        "    stderr=subprocess.PIPE,\n",
        ")\n",
        "msg = 'through stdin to stdout'.encode('utf-8')\n",
        "stdout_value, stderr_value = proc.communicate(msg)\n",
        "print('pass through:', repr(stdout_value.decode('utf-8')))\n",
        "print('stderr      :', repr(stderr_value.decode('utf-8')))"
      ],
      "execution_count": null,
      "outputs": [
        {
          "output_type": "stream",
          "text": [
            "Overwriting script_examples/13_subprocess_pipe.py\n"
          ],
          "name": "stdout"
        }
      ]
    },
    {
      "cell_type": "code",
      "metadata": {
        "id": "CczUBpck1qJ-",
        "colab": {
          "base_uri": "https://localhost:8080/",
          "height": 71
        },
        "outputId": "4e4f7537-5067-4041-c4e4-d290ab788769"
      },
      "source": [
        "\n",
        "%%sh\n",
        "python script_examples/13_subprocess_pipe.py"
      ],
      "execution_count": null,
      "outputs": [
        {
          "output_type": "stream",
          "text": [
            "popen3:\n",
            "pass through: 'through stdin to stdout'\n",
            "stderr      : 'to stderr\\n'\n"
          ],
          "name": "stdout"
        }
      ]
    },
    {
      "cell_type": "markdown",
      "metadata": {
        "id": "inTrgYT93YHd"
      },
      "source": [
        "# Más información\n",
        "\n",
        "- Argparse\n",
        "    - https://pymotw.com/2/argparse/\n",
        "    - https://sciprolab1.readthedocs.io/en/latest/practical7.html\n",
        "- Subprocess\n",
        "    - https://rico-schmidt.name/pymotw-3/subprocess/\n"
      ]
    },
    {
      "cell_type": "code",
      "metadata": {
        "id": "pBC1Jmaq3dBw"
      },
      "source": [
        ""
      ],
      "execution_count": null,
      "outputs": []
    },
    {
      "cell_type": "code",
      "metadata": {
        "id": "vKx1Rp7ODPuk"
      },
      "source": [
        ""
      ],
      "execution_count": null,
      "outputs": []
    },
    {
      "cell_type": "markdown",
      "metadata": {
        "id": "Uhf51FU06jPi"
      },
      "source": [
        "# Introducción al ejercicio práctico de la actividad\n",
        "El ejercicio completo y sobre el que tenéis que trabajar está en el siguiente Colab: [Bloque IV ejercicio práctico](https://colab.research.google.com/drive/1Ozi3Uh2D7U9OBHDDOfwyBcokop41o2bz?usp=sharing)\n",
        "En él tendreis un script como el que se presenta a continuación y donde tendréis que añadir los siguientes argumentos\n",
        "- RANDOM_STATE: Con valor por defecto None, tiene que ser entero.\n",
        "- TEST_SIZE: Puede ser valores tipo float de 0 a 1 de 0.1 en 0.1. Por defecto 0.3\n",
        "- N_NEIGHBORS: Por defecto 3, Tiene que ser entero y mayor que 0.\n",
        "\n",
        "Y a posteriori: Crea otro script desde el que ejecutes el siguiente modelo con subprocess y extraigas el accuracy del modelo.\n"
      ]
    },
    {
      "cell_type": "code",
      "metadata": {
        "id": "QEKbAHKk6ldc"
      },
      "source": [
        "%%sh\n",
        "mkdir -p exercise\n"
      ],
      "execution_count": null,
      "outputs": []
    },
    {
      "cell_type": "code",
      "metadata": {
        "id": "Q70JPV7u6q8c",
        "colab": {
          "base_uri": "https://localhost:8080/",
          "height": 35
        },
        "outputId": "8403749e-83af-421f-bc78-7ee95174dc1f"
      },
      "source": [
        "%%writefile exercise/model.py\n",
        "\n",
        "from sklearn.datasets import load_iris \n",
        "from sklearn.model_selection import train_test_split \n",
        "from sklearn.neighbors import KNeighborsClassifier \n",
        "from sklearn import metrics \n",
        "\n",
        "\n",
        "RANDOM_STATE=1\n",
        "TEST_SIZE=0.4\n",
        "N_NEIGHBORS=3\n",
        "\n",
        "\n",
        "# load the iris dataset as an example \n",
        "iris = load_iris() \n",
        "  \n",
        "# store the feature matrix (X) and response vector (y) \n",
        "X = iris.data \n",
        "y = iris.target \n",
        "  \n",
        "# splitting X and y into training and testing sets \n",
        "X_train, X_test, y_train, y_test = train_test_split(X, y, test_size=TEST_SIZE, \n",
        "                                                    random_state=RANDOM_STATE) \n",
        "  \n",
        "# training the model on training set \n",
        "knn = KNeighborsClassifier(n_neighbors=N_NEIGHBORS) \n",
        "knn.fit(X_train, y_train) \n",
        "  \n",
        "# making predictions on the testing set \n",
        "y_pred = knn.predict(X_test) \n",
        "  \n",
        "# comparing actual response values (y_test) with predicted response values (y_pred) \n",
        "print(\"model accuracy:\", metrics.accuracy_score(y_test, y_pred)) \n",
        "  \n",
        "# making prediction for out of sample data \n",
        "#sample = [[3, 5, 4, 2], [2, 3, 5, 4]] \n",
        "#preds = knn.predict(sample) \n",
        "#pred_species = [iris.target_names[p] for p in preds] \n",
        "#print(\"Predictions:\", pred_species) \n"
      ],
      "execution_count": null,
      "outputs": [
        {
          "output_type": "stream",
          "text": [
            "Writing exercise/model.py\n"
          ],
          "name": "stdout"
        }
      ]
    },
    {
      "cell_type": "code",
      "metadata": {
        "id": "VAsEESv07tyh",
        "colab": {
          "base_uri": "https://localhost:8080/",
          "height": 35
        },
        "outputId": "5644726b-40bf-4287-ee7c-46e0864462c7"
      },
      "source": [
        "%%sh\n",
        "python exercise/model.py \n"
      ],
      "execution_count": null,
      "outputs": [
        {
          "output_type": "stream",
          "text": [
            "model accuracy: 0.9666666666666667\n"
          ],
          "name": "stdout"
        }
      ]
    },
    {
      "cell_type": "code",
      "metadata": {
        "id": "d5c_byYT_loG"
      },
      "source": [
        ""
      ],
      "execution_count": null,
      "outputs": []
    },
    {
      "cell_type": "code",
      "metadata": {
        "id": "THpCHoWdFpMF"
      },
      "source": [
        ""
      ],
      "execution_count": null,
      "outputs": []
    }
  ]
}